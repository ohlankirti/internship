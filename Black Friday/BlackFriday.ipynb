{
 "cells": [
  {
   "cell_type": "markdown",
   "id": "028f9a23",
   "metadata": {},
   "source": [
    "## Analysis and Prediction of Black Friday Sales using Machine Learning Algorithms :\n",
    "\n",
    "Black Friday is an informal name used to describe the day after Thanksgiving. It's often the busiest shopping day of the year because it kicks off the holiday season. This season is crucial for the economy, especially for some retailers, such as jewelers.\n",
    "According to the National Retail Federation (NRF), 84.2 million people shopped in stores on Black Friday in 2019, and 37.8 million people shopped in stores on Thanksgiving Day. A total of 189.6 million people shopped over the four-day Black Friday weekend in 2019, a 14% increase over 2018.1 Black Friday wasn't the biggest shopping day of the year in 2019, though. That honor went to Super Saturday, which is the Saturday before Christmas.\n",
    "Black Friday is part of the holiday shopping season. Having a profitable Black Friday is essential for many retailers, especially toy and game stores. The holiday season amounts to almost 20% or more of annual sales for many retailers, according to the NRF.\n",
    "Some retailers start their Black Friday sales on Thanksgiving Day, and deals typically run throughout the weekend. In 2019, shoppers spent an average of 361.90 dollars from Thanksgiving through Cyber Monday (the first Monday after Thanksgiving). To put that into perspective, shoppers were expected to spend about 1,007 dollars each during the entire holiday season in 2018.\n",
    "In 2020, shoppers plan to spend about a Thousand Dollars on gifts, decorations, food, and other purchases for themselves and their families.\n"
   ]
  },
  {
   "cell_type": "markdown",
   "id": "ec36c3e7",
   "metadata": {},
   "source": [
    "## Importing Libraries\n"
   ]
  },
  {
   "cell_type": "code",
   "execution_count": 1,
   "id": "a894e3c0",
   "metadata": {},
   "outputs": [],
   "source": [
    "import pandas as pd\n",
    "import numpy as np\n",
    "import seaborn as sns\n",
    "import matplotlib.pyplot as plt\n",
    "%matplotlib inline\n",
    "import warnings\n",
    "warnings.filterwarnings('ignore')"
   ]
  },
  {
   "cell_type": "markdown",
   "id": "c5a19626",
   "metadata": {},
   "source": [
    "## Import dataset\n"
   ]
  },
  {
   "cell_type": "code",
   "execution_count": 2,
   "id": "f12ef025",
   "metadata": {},
   "outputs": [
    {
     "data": {
      "text/html": [
       "<div>\n",
       "<style scoped>\n",
       "    .dataframe tbody tr th:only-of-type {\n",
       "        vertical-align: middle;\n",
       "    }\n",
       "\n",
       "    .dataframe tbody tr th {\n",
       "        vertical-align: top;\n",
       "    }\n",
       "\n",
       "    .dataframe thead th {\n",
       "        text-align: right;\n",
       "    }\n",
       "</style>\n",
       "<table border=\"1\" class=\"dataframe\">\n",
       "  <thead>\n",
       "    <tr style=\"text-align: right;\">\n",
       "      <th></th>\n",
       "      <th>User_ID</th>\n",
       "      <th>Product_ID</th>\n",
       "      <th>Gender</th>\n",
       "      <th>Age</th>\n",
       "      <th>Occupation</th>\n",
       "      <th>City_Category</th>\n",
       "      <th>Stay_In_Current_City_Years</th>\n",
       "      <th>Marital_Status</th>\n",
       "      <th>Product_Category_1</th>\n",
       "      <th>Product_Category_2</th>\n",
       "      <th>Product_Category_3</th>\n",
       "      <th>Purchase</th>\n",
       "    </tr>\n",
       "  </thead>\n",
       "  <tbody>\n",
       "    <tr>\n",
       "      <th>0</th>\n",
       "      <td>1000001</td>\n",
       "      <td>P00069042</td>\n",
       "      <td>F</td>\n",
       "      <td>0-17</td>\n",
       "      <td>10</td>\n",
       "      <td>A</td>\n",
       "      <td>2</td>\n",
       "      <td>0</td>\n",
       "      <td>3</td>\n",
       "      <td>NaN</td>\n",
       "      <td>NaN</td>\n",
       "      <td>8370</td>\n",
       "    </tr>\n",
       "    <tr>\n",
       "      <th>1</th>\n",
       "      <td>1000001</td>\n",
       "      <td>P00248942</td>\n",
       "      <td>F</td>\n",
       "      <td>0-17</td>\n",
       "      <td>10</td>\n",
       "      <td>A</td>\n",
       "      <td>2</td>\n",
       "      <td>0</td>\n",
       "      <td>1</td>\n",
       "      <td>6.0</td>\n",
       "      <td>14.0</td>\n",
       "      <td>15200</td>\n",
       "    </tr>\n",
       "    <tr>\n",
       "      <th>2</th>\n",
       "      <td>1000001</td>\n",
       "      <td>P00087842</td>\n",
       "      <td>F</td>\n",
       "      <td>0-17</td>\n",
       "      <td>10</td>\n",
       "      <td>A</td>\n",
       "      <td>2</td>\n",
       "      <td>0</td>\n",
       "      <td>12</td>\n",
       "      <td>NaN</td>\n",
       "      <td>NaN</td>\n",
       "      <td>1422</td>\n",
       "    </tr>\n",
       "    <tr>\n",
       "      <th>3</th>\n",
       "      <td>1000001</td>\n",
       "      <td>P00085442</td>\n",
       "      <td>F</td>\n",
       "      <td>0-17</td>\n",
       "      <td>10</td>\n",
       "      <td>A</td>\n",
       "      <td>2</td>\n",
       "      <td>0</td>\n",
       "      <td>12</td>\n",
       "      <td>14.0</td>\n",
       "      <td>NaN</td>\n",
       "      <td>1057</td>\n",
       "    </tr>\n",
       "    <tr>\n",
       "      <th>4</th>\n",
       "      <td>1000002</td>\n",
       "      <td>P00285442</td>\n",
       "      <td>M</td>\n",
       "      <td>55+</td>\n",
       "      <td>16</td>\n",
       "      <td>C</td>\n",
       "      <td>4+</td>\n",
       "      <td>0</td>\n",
       "      <td>8</td>\n",
       "      <td>NaN</td>\n",
       "      <td>NaN</td>\n",
       "      <td>7969</td>\n",
       "    </tr>\n",
       "  </tbody>\n",
       "</table>\n",
       "</div>"
      ],
      "text/plain": [
       "   User_ID Product_ID Gender   Age  Occupation City_Category  \\\n",
       "0  1000001  P00069042      F  0-17          10             A   \n",
       "1  1000001  P00248942      F  0-17          10             A   \n",
       "2  1000001  P00087842      F  0-17          10             A   \n",
       "3  1000001  P00085442      F  0-17          10             A   \n",
       "4  1000002  P00285442      M   55+          16             C   \n",
       "\n",
       "  Stay_In_Current_City_Years  Marital_Status  Product_Category_1  \\\n",
       "0                          2               0                   3   \n",
       "1                          2               0                   1   \n",
       "2                          2               0                  12   \n",
       "3                          2               0                  12   \n",
       "4                         4+               0                   8   \n",
       "\n",
       "   Product_Category_2  Product_Category_3  Purchase  \n",
       "0                 NaN                 NaN      8370  \n",
       "1                 6.0                14.0     15200  \n",
       "2                 NaN                 NaN      1422  \n",
       "3                14.0                 NaN      1057  \n",
       "4                 NaN                 NaN      7969  "
      ]
     },
     "execution_count": 2,
     "metadata": {},
     "output_type": "execute_result"
    }
   ],
   "source": [
    "sales = pd.read_csv(\"blackFriday_train.csv\")\n",
    "test = pd.read_csv('blackFriday_test.csv')\n",
    "sales.head()\n"
   ]
  },
  {
   "cell_type": "markdown",
   "id": "f7ed3fe1",
   "metadata": {},
   "source": [
    "## Observations:-\n",
    "Firstly, we explore the dataset.\n",
    "#### Features of dataset\n",
    "\n",
    "- User_ID : User ID\n",
    "\n",
    "- Product_ID : Product ID\n",
    "\n",
    "- Gender : Sex of User\n",
    "\n",
    "- Age : Age in bins\n",
    "\n",
    "- Occupation : Occupation (Masked)\n",
    "\n",
    "- City_Category : Category of the City (A,B,C)\n",
    "\n",
    "- Stay_In_Current_City_Years: Number of years stay in current city\n",
    "\n",
    "- Marital_Status: Marital Status\n",
    "\n",
    "- Product_Category_1: Product Category (Masked)\n",
    "\n",
    "- Product_Category_2 : Product may belongs to other category also (Masked)\n",
    "\n",
    "- Product_Category_3: Product may belongs to other category also (Masked)\n",
    "\n",
    "- Purchase : Purchase Amount (Target Variable)"
   ]
  },
  {
   "cell_type": "code",
   "execution_count": 3,
   "id": "2e8a8bff",
   "metadata": {},
   "outputs": [
    {
     "data": {
      "text/html": [
       "<div>\n",
       "<style scoped>\n",
       "    .dataframe tbody tr th:only-of-type {\n",
       "        vertical-align: middle;\n",
       "    }\n",
       "\n",
       "    .dataframe tbody tr th {\n",
       "        vertical-align: top;\n",
       "    }\n",
       "\n",
       "    .dataframe thead th {\n",
       "        text-align: right;\n",
       "    }\n",
       "</style>\n",
       "<table border=\"1\" class=\"dataframe\">\n",
       "  <thead>\n",
       "    <tr style=\"text-align: right;\">\n",
       "      <th></th>\n",
       "      <th>User_ID</th>\n",
       "      <th>Product_ID</th>\n",
       "      <th>Gender</th>\n",
       "      <th>Age</th>\n",
       "      <th>Occupation</th>\n",
       "      <th>City_Category</th>\n",
       "      <th>Stay_In_Current_City_Years</th>\n",
       "      <th>Marital_Status</th>\n",
       "      <th>Product_Category_1</th>\n",
       "      <th>Product_Category_2</th>\n",
       "      <th>Product_Category_3</th>\n",
       "    </tr>\n",
       "  </thead>\n",
       "  <tbody>\n",
       "    <tr>\n",
       "      <th>0</th>\n",
       "      <td>1000004</td>\n",
       "      <td>P00128942</td>\n",
       "      <td>M</td>\n",
       "      <td>46-50</td>\n",
       "      <td>7</td>\n",
       "      <td>B</td>\n",
       "      <td>2</td>\n",
       "      <td>1</td>\n",
       "      <td>1</td>\n",
       "      <td>11.0</td>\n",
       "      <td>NaN</td>\n",
       "    </tr>\n",
       "    <tr>\n",
       "      <th>1</th>\n",
       "      <td>1000009</td>\n",
       "      <td>P00113442</td>\n",
       "      <td>M</td>\n",
       "      <td>26-35</td>\n",
       "      <td>17</td>\n",
       "      <td>C</td>\n",
       "      <td>0</td>\n",
       "      <td>0</td>\n",
       "      <td>3</td>\n",
       "      <td>5.0</td>\n",
       "      <td>NaN</td>\n",
       "    </tr>\n",
       "    <tr>\n",
       "      <th>2</th>\n",
       "      <td>1000010</td>\n",
       "      <td>P00288442</td>\n",
       "      <td>F</td>\n",
       "      <td>36-45</td>\n",
       "      <td>1</td>\n",
       "      <td>B</td>\n",
       "      <td>4+</td>\n",
       "      <td>1</td>\n",
       "      <td>5</td>\n",
       "      <td>14.0</td>\n",
       "      <td>NaN</td>\n",
       "    </tr>\n",
       "    <tr>\n",
       "      <th>3</th>\n",
       "      <td>1000010</td>\n",
       "      <td>P00145342</td>\n",
       "      <td>F</td>\n",
       "      <td>36-45</td>\n",
       "      <td>1</td>\n",
       "      <td>B</td>\n",
       "      <td>4+</td>\n",
       "      <td>1</td>\n",
       "      <td>4</td>\n",
       "      <td>9.0</td>\n",
       "      <td>NaN</td>\n",
       "    </tr>\n",
       "    <tr>\n",
       "      <th>4</th>\n",
       "      <td>1000011</td>\n",
       "      <td>P00053842</td>\n",
       "      <td>F</td>\n",
       "      <td>26-35</td>\n",
       "      <td>1</td>\n",
       "      <td>C</td>\n",
       "      <td>1</td>\n",
       "      <td>0</td>\n",
       "      <td>4</td>\n",
       "      <td>5.0</td>\n",
       "      <td>12.0</td>\n",
       "    </tr>\n",
       "  </tbody>\n",
       "</table>\n",
       "</div>"
      ],
      "text/plain": [
       "   User_ID Product_ID Gender    Age  Occupation City_Category  \\\n",
       "0  1000004  P00128942      M  46-50           7             B   \n",
       "1  1000009  P00113442      M  26-35          17             C   \n",
       "2  1000010  P00288442      F  36-45           1             B   \n",
       "3  1000010  P00145342      F  36-45           1             B   \n",
       "4  1000011  P00053842      F  26-35           1             C   \n",
       "\n",
       "  Stay_In_Current_City_Years  Marital_Status  Product_Category_1  \\\n",
       "0                          2               1                   1   \n",
       "1                          0               0                   3   \n",
       "2                         4+               1                   5   \n",
       "3                         4+               1                   4   \n",
       "4                          1               0                   4   \n",
       "\n",
       "   Product_Category_2  Product_Category_3  \n",
       "0                11.0                 NaN  \n",
       "1                 5.0                 NaN  \n",
       "2                14.0                 NaN  \n",
       "3                 9.0                 NaN  \n",
       "4                 5.0                12.0  "
      ]
     },
     "execution_count": 3,
     "metadata": {},
     "output_type": "execute_result"
    }
   ],
   "source": [
    "test.head()\n"
   ]
  },
  {
   "cell_type": "code",
   "execution_count": 4,
   "id": "df36507d",
   "metadata": {},
   "outputs": [],
   "source": [
    "#for submission\n",
    "\n",
    "submission = pd.DataFrame()\n",
    "\n",
    "submission['User_ID'] = test['User_ID']\n",
    "submission['Product_ID'] = test['Product_ID']\n",
    "submission['Purchase'] = np.nan"
   ]
  },
  {
   "cell_type": "code",
   "execution_count": 5,
   "id": "15679be2",
   "metadata": {},
   "outputs": [
    {
     "data": {
      "text/html": [
       "<div>\n",
       "<style scoped>\n",
       "    .dataframe tbody tr th:only-of-type {\n",
       "        vertical-align: middle;\n",
       "    }\n",
       "\n",
       "    .dataframe tbody tr th {\n",
       "        vertical-align: top;\n",
       "    }\n",
       "\n",
       "    .dataframe thead th {\n",
       "        text-align: right;\n",
       "    }\n",
       "</style>\n",
       "<table border=\"1\" class=\"dataframe\">\n",
       "  <thead>\n",
       "    <tr style=\"text-align: right;\">\n",
       "      <th></th>\n",
       "      <th>User_ID</th>\n",
       "      <th>Product_ID</th>\n",
       "      <th>Purchase</th>\n",
       "    </tr>\n",
       "  </thead>\n",
       "  <tbody>\n",
       "    <tr>\n",
       "      <th>0</th>\n",
       "      <td>1000004</td>\n",
       "      <td>P00128942</td>\n",
       "      <td>NaN</td>\n",
       "    </tr>\n",
       "    <tr>\n",
       "      <th>1</th>\n",
       "      <td>1000009</td>\n",
       "      <td>P00113442</td>\n",
       "      <td>NaN</td>\n",
       "    </tr>\n",
       "    <tr>\n",
       "      <th>2</th>\n",
       "      <td>1000010</td>\n",
       "      <td>P00288442</td>\n",
       "      <td>NaN</td>\n",
       "    </tr>\n",
       "    <tr>\n",
       "      <th>3</th>\n",
       "      <td>1000010</td>\n",
       "      <td>P00145342</td>\n",
       "      <td>NaN</td>\n",
       "    </tr>\n",
       "    <tr>\n",
       "      <th>4</th>\n",
       "      <td>1000011</td>\n",
       "      <td>P00053842</td>\n",
       "      <td>NaN</td>\n",
       "    </tr>\n",
       "    <tr>\n",
       "      <th>...</th>\n",
       "      <td>...</td>\n",
       "      <td>...</td>\n",
       "      <td>...</td>\n",
       "    </tr>\n",
       "    <tr>\n",
       "      <th>233594</th>\n",
       "      <td>1006036</td>\n",
       "      <td>P00118942</td>\n",
       "      <td>NaN</td>\n",
       "    </tr>\n",
       "    <tr>\n",
       "      <th>233595</th>\n",
       "      <td>1006036</td>\n",
       "      <td>P00254642</td>\n",
       "      <td>NaN</td>\n",
       "    </tr>\n",
       "    <tr>\n",
       "      <th>233596</th>\n",
       "      <td>1006036</td>\n",
       "      <td>P00031842</td>\n",
       "      <td>NaN</td>\n",
       "    </tr>\n",
       "    <tr>\n",
       "      <th>233597</th>\n",
       "      <td>1006037</td>\n",
       "      <td>P00124742</td>\n",
       "      <td>NaN</td>\n",
       "    </tr>\n",
       "    <tr>\n",
       "      <th>233598</th>\n",
       "      <td>1006039</td>\n",
       "      <td>P00316642</td>\n",
       "      <td>NaN</td>\n",
       "    </tr>\n",
       "  </tbody>\n",
       "</table>\n",
       "<p>233599 rows × 3 columns</p>\n",
       "</div>"
      ],
      "text/plain": [
       "        User_ID Product_ID  Purchase\n",
       "0       1000004  P00128942       NaN\n",
       "1       1000009  P00113442       NaN\n",
       "2       1000010  P00288442       NaN\n",
       "3       1000010  P00145342       NaN\n",
       "4       1000011  P00053842       NaN\n",
       "...         ...        ...       ...\n",
       "233594  1006036  P00118942       NaN\n",
       "233595  1006036  P00254642       NaN\n",
       "233596  1006036  P00031842       NaN\n",
       "233597  1006037  P00124742       NaN\n",
       "233598  1006039  P00316642       NaN\n",
       "\n",
       "[233599 rows x 3 columns]"
      ]
     },
     "execution_count": 5,
     "metadata": {},
     "output_type": "execute_result"
    }
   ],
   "source": [
    "submission\n"
   ]
  },
  {
   "cell_type": "markdown",
   "id": "677632f7",
   "metadata": {},
   "source": [
    "## Data exploration\n"
   ]
  },
  {
   "cell_type": "code",
   "execution_count": 6,
   "id": "0e4aa760",
   "metadata": {},
   "outputs": [
    {
     "data": {
      "text/plain": [
       "(550068, 12)"
      ]
     },
     "execution_count": 6,
     "metadata": {},
     "output_type": "execute_result"
    }
   ],
   "source": [
    "sales.shape\n"
   ]
  },
  {
   "cell_type": "code",
   "execution_count": 7,
   "id": "1bfbb897",
   "metadata": {},
   "outputs": [
    {
     "name": "stdout",
     "output_type": "stream",
     "text": [
      "<class 'pandas.core.frame.DataFrame'>\n",
      "RangeIndex: 550068 entries, 0 to 550067\n",
      "Data columns (total 12 columns):\n",
      " #   Column                      Non-Null Count   Dtype  \n",
      "---  ------                      --------------   -----  \n",
      " 0   User_ID                     550068 non-null  int64  \n",
      " 1   Product_ID                  550068 non-null  object \n",
      " 2   Gender                      550068 non-null  object \n",
      " 3   Age                         550068 non-null  object \n",
      " 4   Occupation                  550068 non-null  int64  \n",
      " 5   City_Category               550068 non-null  object \n",
      " 6   Stay_In_Current_City_Years  550068 non-null  object \n",
      " 7   Marital_Status              550068 non-null  int64  \n",
      " 8   Product_Category_1          550068 non-null  int64  \n",
      " 9   Product_Category_2          376430 non-null  float64\n",
      " 10  Product_Category_3          166821 non-null  float64\n",
      " 11  Purchase                    550068 non-null  int64  \n",
      "dtypes: float64(2), int64(5), object(5)\n",
      "memory usage: 50.4+ MB\n"
     ]
    }
   ],
   "source": [
    "sales.info()"
   ]
  },
  {
   "cell_type": "markdown",
   "id": "5ed9be0f",
   "metadata": {},
   "source": [
    "### Looking at the data, we can conclude that our set possesses 12 different parameters: 7 numerical (integer and float) and 5 object variables."
   ]
  },
  {
   "cell_type": "code",
   "execution_count": 8,
   "id": "344e6f18",
   "metadata": {},
   "outputs": [
    {
     "data": {
      "text/html": [
       "<div>\n",
       "<style scoped>\n",
       "    .dataframe tbody tr th:only-of-type {\n",
       "        vertical-align: middle;\n",
       "    }\n",
       "\n",
       "    .dataframe tbody tr th {\n",
       "        vertical-align: top;\n",
       "    }\n",
       "\n",
       "    .dataframe thead th {\n",
       "        text-align: right;\n",
       "    }\n",
       "</style>\n",
       "<table border=\"1\" class=\"dataframe\">\n",
       "  <thead>\n",
       "    <tr style=\"text-align: right;\">\n",
       "      <th></th>\n",
       "      <th>User_ID</th>\n",
       "      <th>Occupation</th>\n",
       "      <th>Marital_Status</th>\n",
       "      <th>Product_Category_1</th>\n",
       "      <th>Product_Category_2</th>\n",
       "      <th>Product_Category_3</th>\n",
       "      <th>Purchase</th>\n",
       "    </tr>\n",
       "  </thead>\n",
       "  <tbody>\n",
       "    <tr>\n",
       "      <th>count</th>\n",
       "      <td>5.500680e+05</td>\n",
       "      <td>550068.000000</td>\n",
       "      <td>550068.000000</td>\n",
       "      <td>550068.000000</td>\n",
       "      <td>376430.000000</td>\n",
       "      <td>166821.000000</td>\n",
       "      <td>550068.000000</td>\n",
       "    </tr>\n",
       "    <tr>\n",
       "      <th>mean</th>\n",
       "      <td>1.003029e+06</td>\n",
       "      <td>8.076707</td>\n",
       "      <td>0.409653</td>\n",
       "      <td>5.404270</td>\n",
       "      <td>9.842329</td>\n",
       "      <td>12.668243</td>\n",
       "      <td>9263.968713</td>\n",
       "    </tr>\n",
       "    <tr>\n",
       "      <th>std</th>\n",
       "      <td>1.727592e+03</td>\n",
       "      <td>6.522660</td>\n",
       "      <td>0.491770</td>\n",
       "      <td>3.936211</td>\n",
       "      <td>5.086590</td>\n",
       "      <td>4.125338</td>\n",
       "      <td>5023.065394</td>\n",
       "    </tr>\n",
       "    <tr>\n",
       "      <th>min</th>\n",
       "      <td>1.000001e+06</td>\n",
       "      <td>0.000000</td>\n",
       "      <td>0.000000</td>\n",
       "      <td>1.000000</td>\n",
       "      <td>2.000000</td>\n",
       "      <td>3.000000</td>\n",
       "      <td>12.000000</td>\n",
       "    </tr>\n",
       "    <tr>\n",
       "      <th>25%</th>\n",
       "      <td>1.001516e+06</td>\n",
       "      <td>2.000000</td>\n",
       "      <td>0.000000</td>\n",
       "      <td>1.000000</td>\n",
       "      <td>5.000000</td>\n",
       "      <td>9.000000</td>\n",
       "      <td>5823.000000</td>\n",
       "    </tr>\n",
       "    <tr>\n",
       "      <th>50%</th>\n",
       "      <td>1.003077e+06</td>\n",
       "      <td>7.000000</td>\n",
       "      <td>0.000000</td>\n",
       "      <td>5.000000</td>\n",
       "      <td>9.000000</td>\n",
       "      <td>14.000000</td>\n",
       "      <td>8047.000000</td>\n",
       "    </tr>\n",
       "    <tr>\n",
       "      <th>75%</th>\n",
       "      <td>1.004478e+06</td>\n",
       "      <td>14.000000</td>\n",
       "      <td>1.000000</td>\n",
       "      <td>8.000000</td>\n",
       "      <td>15.000000</td>\n",
       "      <td>16.000000</td>\n",
       "      <td>12054.000000</td>\n",
       "    </tr>\n",
       "    <tr>\n",
       "      <th>max</th>\n",
       "      <td>1.006040e+06</td>\n",
       "      <td>20.000000</td>\n",
       "      <td>1.000000</td>\n",
       "      <td>20.000000</td>\n",
       "      <td>18.000000</td>\n",
       "      <td>18.000000</td>\n",
       "      <td>23961.000000</td>\n",
       "    </tr>\n",
       "  </tbody>\n",
       "</table>\n",
       "</div>"
      ],
      "text/plain": [
       "            User_ID     Occupation  Marital_Status  Product_Category_1  \\\n",
       "count  5.500680e+05  550068.000000   550068.000000       550068.000000   \n",
       "mean   1.003029e+06       8.076707        0.409653            5.404270   \n",
       "std    1.727592e+03       6.522660        0.491770            3.936211   \n",
       "min    1.000001e+06       0.000000        0.000000            1.000000   \n",
       "25%    1.001516e+06       2.000000        0.000000            1.000000   \n",
       "50%    1.003077e+06       7.000000        0.000000            5.000000   \n",
       "75%    1.004478e+06      14.000000        1.000000            8.000000   \n",
       "max    1.006040e+06      20.000000        1.000000           20.000000   \n",
       "\n",
       "       Product_Category_2  Product_Category_3       Purchase  \n",
       "count       376430.000000       166821.000000  550068.000000  \n",
       "mean             9.842329           12.668243    9263.968713  \n",
       "std              5.086590            4.125338    5023.065394  \n",
       "min              2.000000            3.000000      12.000000  \n",
       "25%              5.000000            9.000000    5823.000000  \n",
       "50%              9.000000           14.000000    8047.000000  \n",
       "75%             15.000000           16.000000   12054.000000  \n",
       "max             18.000000           18.000000   23961.000000  "
      ]
     },
     "execution_count": 8,
     "metadata": {},
     "output_type": "execute_result"
    }
   ],
   "source": [
    "sales.describe()"
   ]
  },
  {
   "cell_type": "markdown",
   "id": "5f1ad388",
   "metadata": {},
   "source": [
    "## There are 12 features, looking into each of these features:"
   ]
  },
  {
   "cell_type": "markdown",
   "id": "ca1be75f",
   "metadata": {},
   "source": [
    "### 1. User ID: Each user has been provided a unique ID. Lets see how many unique users we have in our dataset\n"
   ]
  },
  {
   "cell_type": "code",
   "execution_count": 9,
   "id": "8b9e88e1",
   "metadata": {},
   "outputs": [
    {
     "data": {
      "text/plain": [
       "5891"
      ]
     },
     "execution_count": 9,
     "metadata": {},
     "output_type": "execute_result"
    }
   ],
   "source": [
    "sales.User_ID.nunique()\n"
   ]
  },
  {
   "cell_type": "markdown",
   "id": "ca03395c",
   "metadata": {},
   "source": [
    "### There are 5891 unique users in our dataset and none of the value in this feature is null"
   ]
  },
  {
   "cell_type": "markdown",
   "id": "113b1ac5",
   "metadata": {},
   "source": [
    "### 2. Product_ID: Each product that is available for sales has a specific/ unique product id associated with it. Lets look into the number of unique products available for sale.\n"
   ]
  },
  {
   "cell_type": "code",
   "execution_count": 10,
   "id": "38fdd955",
   "metadata": {},
   "outputs": [
    {
     "data": {
      "text/plain": [
       "3631"
      ]
     },
     "execution_count": 10,
     "metadata": {},
     "output_type": "execute_result"
    }
   ],
   "source": [
    "sales.Product_ID.nunique()\n"
   ]
  },
  {
   "cell_type": "markdown",
   "id": "00c9ef85",
   "metadata": {},
   "source": [
    "### So there are a total of 3631 products available for sales.\n",
    "\n"
   ]
  },
  {
   "cell_type": "markdown",
   "id": "a27226d5",
   "metadata": {},
   "source": [
    "### 3.Gender: Gender is a categorical variables with 2 categries: Male(M) and Female(F).\n"
   ]
  },
  {
   "cell_type": "code",
   "execution_count": 11,
   "id": "d3196e2f",
   "metadata": {},
   "outputs": [
    {
     "data": {
      "text/plain": [
       "M    75.310507\n",
       "F    24.689493\n",
       "Name: Gender, dtype: float64"
      ]
     },
     "execution_count": 11,
     "metadata": {},
     "output_type": "execute_result"
    }
   ],
   "source": [
    "sales.Gender.value_counts(normalize=True)*100\n"
   ]
  },
  {
   "cell_type": "markdown",
   "id": "4a153323",
   "metadata": {},
   "source": [
    "### There are no null values in this feature and Males constitute 75% of the data."
   ]
  },
  {
   "cell_type": "markdown",
   "id": "09755669",
   "metadata": {},
   "source": [
    "### 4. Age: Age is again a categorical data with age divide in particular range.\n"
   ]
  },
  {
   "cell_type": "code",
   "execution_count": 12,
   "id": "e68ca0b4",
   "metadata": {},
   "outputs": [
    {
     "data": {
      "text/plain": [
       "26-35    219587\n",
       "36-45    110013\n",
       "18-25     99660\n",
       "46-50     45701\n",
       "51-55     38501\n",
       "55+       21504\n",
       "0-17      15102\n",
       "Name: Age, dtype: int64"
      ]
     },
     "execution_count": 12,
     "metadata": {},
     "output_type": "execute_result"
    }
   ],
   "source": [
    "sales.Age.value_counts()\n"
   ]
  },
  {
   "cell_type": "markdown",
   "id": "6bd1e1e6",
   "metadata": {},
   "source": [
    "### The age is divide in 7 categories i.e 0-17,18-25,26-35,36-45,46-50,51-55,55+ . The bins size here is varing."
   ]
  },
  {
   "cell_type": "markdown",
   "id": "a99ca2ea",
   "metadata": {},
   "source": [
    "### 5. Occupation: The Occupation number is the ID number of occupation type of each customer. We can see that around 21 different occupations exist.\n"
   ]
  },
  {
   "cell_type": "code",
   "execution_count": 13,
   "id": "0bfec1d1",
   "metadata": {},
   "outputs": [
    {
     "data": {
      "text/plain": [
       "21"
      ]
     },
     "execution_count": 13,
     "metadata": {},
     "output_type": "execute_result"
    }
   ],
   "source": [
    "sales.Occupation.nunique()\n"
   ]
  },
  {
   "cell_type": "markdown",
   "id": "6e7eb668",
   "metadata": {},
   "source": [
    "### 6.City_Category : The city has been categorised into 3 categories i.e A,B,C.\n"
   ]
  },
  {
   "cell_type": "code",
   "execution_count": 14,
   "id": "220f366f",
   "metadata": {},
   "outputs": [
    {
     "data": {
      "text/plain": [
       "B    231173\n",
       "C    171175\n",
       "A    147720\n",
       "Name: City_Category, dtype: int64"
      ]
     },
     "execution_count": 14,
     "metadata": {},
     "output_type": "execute_result"
    }
   ],
   "source": [
    "sales.City_Category.value_counts()"
   ]
  },
  {
   "cell_type": "markdown",
   "id": "ace29bad",
   "metadata": {},
   "source": [
    "### 7. Stay_In_Current_City_Years : This depects the numbers of year from which a person is residing in that particular city. It has been divided into 5 categories\n"
   ]
  },
  {
   "cell_type": "code",
   "execution_count": 15,
   "id": "8885c225",
   "metadata": {},
   "outputs": [
    {
     "data": {
      "text/plain": [
       "1     193821\n",
       "2     101838\n",
       "3      95285\n",
       "4+     84726\n",
       "0      74398\n",
       "Name: Stay_In_Current_City_Years, dtype: int64"
      ]
     },
     "execution_count": 15,
     "metadata": {},
     "output_type": "execute_result"
    }
   ],
   "source": [
    "sales.Stay_In_Current_City_Years.value_counts()\n"
   ]
  },
  {
   "cell_type": "markdown",
   "id": "175bb0b5",
   "metadata": {},
   "source": [
    "### 8.Marital_Status: This features shows if a person is married or not.\n"
   ]
  },
  {
   "cell_type": "code",
   "execution_count": 16,
   "id": "57596e5f",
   "metadata": {},
   "outputs": [
    {
     "data": {
      "text/plain": [
       "0    324731\n",
       "1    225337\n",
       "Name: Marital_Status, dtype: int64"
      ]
     },
     "execution_count": 16,
     "metadata": {},
     "output_type": "execute_result"
    }
   ],
   "source": [
    "sales.Marital_Status.value_counts()\n"
   ]
  },
  {
   "cell_type": "markdown",
   "id": "ea0378c5",
   "metadata": {},
   "source": [
    "### The products have been categorised into three categories with represent three different features:"
   ]
  },
  {
   "cell_type": "markdown",
   "id": "d0fea49f",
   "metadata": {},
   "source": [
    "### 9.Product_Category_1\n",
    "\n",
    "### 10.Product_Category_2\n",
    "\n",
    "### 11.Product_Category_3\n",
    "\n"
   ]
  },
  {
   "cell_type": "markdown",
   "id": "aa1df0f9",
   "metadata": {},
   "source": [
    "### 12. Purchase: This is our final feature which is our dependent variables whose value we want to predict, the purchase amount. It is a contionous variable so this makes it a regression problem.\n"
   ]
  },
  {
   "cell_type": "markdown",
   "id": "88f2a71c",
   "metadata": {},
   "source": [
    "## Missing data"
   ]
  },
  {
   "cell_type": "code",
   "execution_count": 17,
   "id": "12d15511",
   "metadata": {},
   "outputs": [],
   "source": [
    "# lets combine the data for data prep\n",
    "\n",
    "test['Purchase']=np.nan\n",
    "sales['data']='train'\n",
    "test['data']='test'\n",
    "test=test[sales.columns]\n",
    "combined=pd.concat([sales,test],axis=0)"
   ]
  },
  {
   "cell_type": "code",
   "execution_count": 18,
   "id": "736f4ceb",
   "metadata": {},
   "outputs": [
    {
     "data": {
      "text/html": [
       "<div>\n",
       "<style scoped>\n",
       "    .dataframe tbody tr th:only-of-type {\n",
       "        vertical-align: middle;\n",
       "    }\n",
       "\n",
       "    .dataframe tbody tr th {\n",
       "        vertical-align: top;\n",
       "    }\n",
       "\n",
       "    .dataframe thead th {\n",
       "        text-align: right;\n",
       "    }\n",
       "</style>\n",
       "<table border=\"1\" class=\"dataframe\">\n",
       "  <thead>\n",
       "    <tr style=\"text-align: right;\">\n",
       "      <th></th>\n",
       "      <th>User_ID</th>\n",
       "      <th>Product_ID</th>\n",
       "      <th>Gender</th>\n",
       "      <th>Age</th>\n",
       "      <th>Occupation</th>\n",
       "      <th>City_Category</th>\n",
       "      <th>Stay_In_Current_City_Years</th>\n",
       "      <th>Marital_Status</th>\n",
       "      <th>Product_Category_1</th>\n",
       "      <th>Product_Category_2</th>\n",
       "      <th>Product_Category_3</th>\n",
       "      <th>Purchase</th>\n",
       "      <th>data</th>\n",
       "    </tr>\n",
       "  </thead>\n",
       "  <tbody>\n",
       "    <tr>\n",
       "      <th>0</th>\n",
       "      <td>1000004</td>\n",
       "      <td>P00128942</td>\n",
       "      <td>M</td>\n",
       "      <td>46-50</td>\n",
       "      <td>7</td>\n",
       "      <td>B</td>\n",
       "      <td>2</td>\n",
       "      <td>1</td>\n",
       "      <td>1</td>\n",
       "      <td>11.0</td>\n",
       "      <td>NaN</td>\n",
       "      <td>NaN</td>\n",
       "      <td>test</td>\n",
       "    </tr>\n",
       "    <tr>\n",
       "      <th>1</th>\n",
       "      <td>1000009</td>\n",
       "      <td>P00113442</td>\n",
       "      <td>M</td>\n",
       "      <td>26-35</td>\n",
       "      <td>17</td>\n",
       "      <td>C</td>\n",
       "      <td>0</td>\n",
       "      <td>0</td>\n",
       "      <td>3</td>\n",
       "      <td>5.0</td>\n",
       "      <td>NaN</td>\n",
       "      <td>NaN</td>\n",
       "      <td>test</td>\n",
       "    </tr>\n",
       "    <tr>\n",
       "      <th>2</th>\n",
       "      <td>1000010</td>\n",
       "      <td>P00288442</td>\n",
       "      <td>F</td>\n",
       "      <td>36-45</td>\n",
       "      <td>1</td>\n",
       "      <td>B</td>\n",
       "      <td>4+</td>\n",
       "      <td>1</td>\n",
       "      <td>5</td>\n",
       "      <td>14.0</td>\n",
       "      <td>NaN</td>\n",
       "      <td>NaN</td>\n",
       "      <td>test</td>\n",
       "    </tr>\n",
       "    <tr>\n",
       "      <th>3</th>\n",
       "      <td>1000010</td>\n",
       "      <td>P00145342</td>\n",
       "      <td>F</td>\n",
       "      <td>36-45</td>\n",
       "      <td>1</td>\n",
       "      <td>B</td>\n",
       "      <td>4+</td>\n",
       "      <td>1</td>\n",
       "      <td>4</td>\n",
       "      <td>9.0</td>\n",
       "      <td>NaN</td>\n",
       "      <td>NaN</td>\n",
       "      <td>test</td>\n",
       "    </tr>\n",
       "    <tr>\n",
       "      <th>4</th>\n",
       "      <td>1000011</td>\n",
       "      <td>P00053842</td>\n",
       "      <td>F</td>\n",
       "      <td>26-35</td>\n",
       "      <td>1</td>\n",
       "      <td>C</td>\n",
       "      <td>1</td>\n",
       "      <td>0</td>\n",
       "      <td>4</td>\n",
       "      <td>5.0</td>\n",
       "      <td>12.0</td>\n",
       "      <td>NaN</td>\n",
       "      <td>test</td>\n",
       "    </tr>\n",
       "  </tbody>\n",
       "</table>\n",
       "</div>"
      ],
      "text/plain": [
       "   User_ID Product_ID Gender    Age  Occupation City_Category  \\\n",
       "0  1000004  P00128942      M  46-50           7             B   \n",
       "1  1000009  P00113442      M  26-35          17             C   \n",
       "2  1000010  P00288442      F  36-45           1             B   \n",
       "3  1000010  P00145342      F  36-45           1             B   \n",
       "4  1000011  P00053842      F  26-35           1             C   \n",
       "\n",
       "  Stay_In_Current_City_Years  Marital_Status  Product_Category_1  \\\n",
       "0                          2               1                   1   \n",
       "1                          0               0                   3   \n",
       "2                         4+               1                   5   \n",
       "3                         4+               1                   4   \n",
       "4                          1               0                   4   \n",
       "\n",
       "   Product_Category_2  Product_Category_3  Purchase  data  \n",
       "0                11.0                 NaN       NaN  test  \n",
       "1                 5.0                 NaN       NaN  test  \n",
       "2                14.0                 NaN       NaN  test  \n",
       "3                 9.0                 NaN       NaN  test  \n",
       "4                 5.0                12.0       NaN  test  "
      ]
     },
     "execution_count": 18,
     "metadata": {},
     "output_type": "execute_result"
    }
   ],
   "source": [
    "test.head()\n"
   ]
  },
  {
   "cell_type": "code",
   "execution_count": 19,
   "id": "e9f603bb",
   "metadata": {},
   "outputs": [
    {
     "data": {
      "text/html": [
       "<div>\n",
       "<style scoped>\n",
       "    .dataframe tbody tr th:only-of-type {\n",
       "        vertical-align: middle;\n",
       "    }\n",
       "\n",
       "    .dataframe tbody tr th {\n",
       "        vertical-align: top;\n",
       "    }\n",
       "\n",
       "    .dataframe thead th {\n",
       "        text-align: right;\n",
       "    }\n",
       "</style>\n",
       "<table border=\"1\" class=\"dataframe\">\n",
       "  <thead>\n",
       "    <tr style=\"text-align: right;\">\n",
       "      <th></th>\n",
       "      <th>User_ID</th>\n",
       "      <th>Product_ID</th>\n",
       "      <th>Gender</th>\n",
       "      <th>Age</th>\n",
       "      <th>Occupation</th>\n",
       "      <th>City_Category</th>\n",
       "      <th>Stay_In_Current_City_Years</th>\n",
       "      <th>Marital_Status</th>\n",
       "      <th>Product_Category_1</th>\n",
       "      <th>Product_Category_2</th>\n",
       "      <th>Product_Category_3</th>\n",
       "      <th>Purchase</th>\n",
       "      <th>data</th>\n",
       "    </tr>\n",
       "  </thead>\n",
       "  <tbody>\n",
       "    <tr>\n",
       "      <th>0</th>\n",
       "      <td>1000001</td>\n",
       "      <td>P00069042</td>\n",
       "      <td>F</td>\n",
       "      <td>0-17</td>\n",
       "      <td>10</td>\n",
       "      <td>A</td>\n",
       "      <td>2</td>\n",
       "      <td>0</td>\n",
       "      <td>3</td>\n",
       "      <td>NaN</td>\n",
       "      <td>NaN</td>\n",
       "      <td>8370.0</td>\n",
       "      <td>train</td>\n",
       "    </tr>\n",
       "    <tr>\n",
       "      <th>1</th>\n",
       "      <td>1000001</td>\n",
       "      <td>P00248942</td>\n",
       "      <td>F</td>\n",
       "      <td>0-17</td>\n",
       "      <td>10</td>\n",
       "      <td>A</td>\n",
       "      <td>2</td>\n",
       "      <td>0</td>\n",
       "      <td>1</td>\n",
       "      <td>6.0</td>\n",
       "      <td>14.0</td>\n",
       "      <td>15200.0</td>\n",
       "      <td>train</td>\n",
       "    </tr>\n",
       "    <tr>\n",
       "      <th>2</th>\n",
       "      <td>1000001</td>\n",
       "      <td>P00087842</td>\n",
       "      <td>F</td>\n",
       "      <td>0-17</td>\n",
       "      <td>10</td>\n",
       "      <td>A</td>\n",
       "      <td>2</td>\n",
       "      <td>0</td>\n",
       "      <td>12</td>\n",
       "      <td>NaN</td>\n",
       "      <td>NaN</td>\n",
       "      <td>1422.0</td>\n",
       "      <td>train</td>\n",
       "    </tr>\n",
       "    <tr>\n",
       "      <th>3</th>\n",
       "      <td>1000001</td>\n",
       "      <td>P00085442</td>\n",
       "      <td>F</td>\n",
       "      <td>0-17</td>\n",
       "      <td>10</td>\n",
       "      <td>A</td>\n",
       "      <td>2</td>\n",
       "      <td>0</td>\n",
       "      <td>12</td>\n",
       "      <td>14.0</td>\n",
       "      <td>NaN</td>\n",
       "      <td>1057.0</td>\n",
       "      <td>train</td>\n",
       "    </tr>\n",
       "    <tr>\n",
       "      <th>4</th>\n",
       "      <td>1000002</td>\n",
       "      <td>P00285442</td>\n",
       "      <td>M</td>\n",
       "      <td>55+</td>\n",
       "      <td>16</td>\n",
       "      <td>C</td>\n",
       "      <td>4+</td>\n",
       "      <td>0</td>\n",
       "      <td>8</td>\n",
       "      <td>NaN</td>\n",
       "      <td>NaN</td>\n",
       "      <td>7969.0</td>\n",
       "      <td>train</td>\n",
       "    </tr>\n",
       "  </tbody>\n",
       "</table>\n",
       "</div>"
      ],
      "text/plain": [
       "   User_ID Product_ID Gender   Age  Occupation City_Category  \\\n",
       "0  1000001  P00069042      F  0-17          10             A   \n",
       "1  1000001  P00248942      F  0-17          10             A   \n",
       "2  1000001  P00087842      F  0-17          10             A   \n",
       "3  1000001  P00085442      F  0-17          10             A   \n",
       "4  1000002  P00285442      M   55+          16             C   \n",
       "\n",
       "  Stay_In_Current_City_Years  Marital_Status  Product_Category_1  \\\n",
       "0                          2               0                   3   \n",
       "1                          2               0                   1   \n",
       "2                          2               0                  12   \n",
       "3                          2               0                  12   \n",
       "4                         4+               0                   8   \n",
       "\n",
       "   Product_Category_2  Product_Category_3  Purchase   data  \n",
       "0                 NaN                 NaN    8370.0  train  \n",
       "1                 6.0                14.0   15200.0  train  \n",
       "2                 NaN                 NaN    1422.0  train  \n",
       "3                14.0                 NaN    1057.0  train  \n",
       "4                 NaN                 NaN    7969.0  train  "
      ]
     },
     "execution_count": 19,
     "metadata": {},
     "output_type": "execute_result"
    }
   ],
   "source": [
    "combined.head()\n"
   ]
  },
  {
   "cell_type": "code",
   "execution_count": 20,
   "id": "c72fbd2c",
   "metadata": {},
   "outputs": [
    {
     "data": {
      "text/plain": [
       "Product_Category_3            383247\n",
       "Product_Category_2            173638\n",
       "User_ID                            0\n",
       "Product_ID                         0\n",
       "Gender                             0\n",
       "Age                                0\n",
       "Occupation                         0\n",
       "City_Category                      0\n",
       "Stay_In_Current_City_Years         0\n",
       "Marital_Status                     0\n",
       "Product_Category_1                 0\n",
       "Purchase                           0\n",
       "data                               0\n",
       "dtype: int64"
      ]
     },
     "execution_count": 20,
     "metadata": {},
     "output_type": "execute_result"
    }
   ],
   "source": [
    "sales.isna().sum().sort_values(ascending=False)\n"
   ]
  },
  {
   "cell_type": "code",
   "execution_count": 21,
   "id": "d6503268",
   "metadata": {},
   "outputs": [
    {
     "data": {
      "text/plain": [
       "<AxesSubplot:>"
      ]
     },
     "execution_count": 21,
     "metadata": {},
     "output_type": "execute_result"
    },
    {
     "data": {
      "image/png": "[encoded data removed]",
      "text/plain": [
       "<Figure size 432x288 with 2 Axes>"
      ]
     },
     "metadata": {
      "needs_background": "light"
     },
     "output_type": "display_data"
    }
   ],
   "source": [
    "sns.heatmap(sales.isna())\n"
   ]
  },
  {
   "cell_type": "markdown",
   "id": "ed1e3d45",
   "metadata": {},
   "source": [
    "### Here we can see that there are 2 features which contain the missing values i.e Product_Category_2 and Product_Category_3.\n",
    "\n"
   ]
  },
  {
   "cell_type": "code",
   "execution_count": 22,
   "id": "6f62c4a8",
   "metadata": {},
   "outputs": [
    {
     "data": {
      "text/plain": [
       "Product_Category_3            0.696727\n",
       "Product_Category_2            0.315666\n",
       "User_ID                       0.000000\n",
       "Product_ID                    0.000000\n",
       "Gender                        0.000000\n",
       "Age                           0.000000\n",
       "Occupation                    0.000000\n",
       "City_Category                 0.000000\n",
       "Stay_In_Current_City_Years    0.000000\n",
       "Marital_Status                0.000000\n",
       "Product_Category_1            0.000000\n",
       "Purchase                      0.000000\n",
       "data                          0.000000\n",
       "dtype: float64"
      ]
     },
     "execution_count": 22,
     "metadata": {},
     "output_type": "execute_result"
    }
   ],
   "source": [
    "#percent of missing data relevant to all data\n",
    "percent = (sales.isnull().sum()/sales.isnull().count()).sort_values(ascending=False)\n",
    "percent"
   ]
  },
  {
   "cell_type": "markdown",
   "id": "01e9f165",
   "metadata": {},
   "source": [
    "### The feature Product_Category_3 has 70% data missing so imputing this much data is not feasible , so it is better to drop this feature"
   ]
  },
  {
   "cell_type": "code",
   "execution_count": 23,
   "id": "cbf7de58",
   "metadata": {},
   "outputs": [],
   "source": [
    "combined.drop('Product_Category_3',axis=1,inplace=True)\n"
   ]
  },
  {
   "cell_type": "markdown",
   "id": "7aec267c",
   "metadata": {},
   "source": [
    "### The feature Product_Category_2 has 30% data missing so we can impute values into this using an appromiate method.\n",
    "\n"
   ]
  },
  {
   "cell_type": "code",
   "execution_count": 24,
   "id": "7fd27c0a",
   "metadata": {},
   "outputs": [
    {
     "data": {
      "text/plain": [
       "8.0     91317\n",
       "14.0    78834\n",
       "2.0     70498\n",
       "16.0    61687\n",
       "15.0    54114\n",
       "5.0     37165\n",
       "4.0     36705\n",
       "6.0     23575\n",
       "11.0    20230\n",
       "17.0    19104\n",
       "13.0    15054\n",
       "9.0      8177\n",
       "12.0     7801\n",
       "10.0     4420\n",
       "3.0      4123\n",
       "18.0     4027\n",
       "7.0       854\n",
       "Name: Product_Category_2, dtype: int64"
      ]
     },
     "execution_count": 24,
     "metadata": {},
     "output_type": "execute_result"
    }
   ],
   "source": [
    "combined.Product_Category_2.value_counts()\n"
   ]
  },
  {
   "cell_type": "markdown",
   "id": "4d1092ea",
   "metadata": {},
   "source": [
    "### These are almost 18 categories in which these Product_Category_2 is divided ,imputing the mean value does make sense because that gives a decimal term 9.8 which is not a product category here. So, there are 2 possible ways median or mode.\n",
    "\n"
   ]
  },
  {
   "cell_type": "code",
   "execution_count": 25,
   "id": "82a1c227",
   "metadata": {},
   "outputs": [],
   "source": [
    "#imputed missing values with random values in the same probability distribution as given feature already had\n",
    "\n",
    "vc = combined.Product_Category_2.value_counts(normalize = True)\n",
    "miss = combined.Product_Category_2.isna()\n",
    "combined.loc[miss, 'Product_Category_2'] = np.random.choice(vc.index, size = miss.sum(), p = vc.values)"
   ]
  },
  {
   "cell_type": "code",
   "execution_count": 26,
   "id": "ee8249ea",
   "metadata": {},
   "outputs": [
    {
     "data": {
      "text/plain": [
       "8.0     132897\n",
       "14.0    114727\n",
       "2.0     103034\n",
       "16.0     89929\n",
       "15.0     78832\n",
       "5.0      54246\n",
       "4.0      53488\n",
       "6.0      34349\n",
       "11.0     29578\n",
       "17.0     27879\n",
       "13.0     21969\n",
       "9.0      11842\n",
       "12.0     11358\n",
       "10.0      6472\n",
       "3.0       5932\n",
       "18.0      5865\n",
       "7.0       1270\n",
       "Name: Product_Category_2, dtype: int64"
      ]
     },
     "execution_count": 26,
     "metadata": {},
     "output_type": "execute_result"
    }
   ],
   "source": [
    "combined.Product_Category_2.value_counts()\n"
   ]
  },
  {
   "cell_type": "code",
   "execution_count": 27,
   "id": "158a25d7",
   "metadata": {},
   "outputs": [
    {
     "data": {
      "text/plain": [
       "User_ID                            0\n",
       "Product_ID                         0\n",
       "Gender                             0\n",
       "Age                                0\n",
       "Occupation                         0\n",
       "City_Category                      0\n",
       "Stay_In_Current_City_Years         0\n",
       "Marital_Status                     0\n",
       "Product_Category_1                 0\n",
       "Product_Category_2                 0\n",
       "Purchase                      233599\n",
       "data                               0\n",
       "dtype: int64"
      ]
     },
     "execution_count": 27,
     "metadata": {},
     "output_type": "execute_result"
    }
   ],
   "source": [
    "combined.isna().sum()\n"
   ]
  },
  {
   "cell_type": "markdown",
   "id": "3de222d1",
   "metadata": {},
   "source": [
    "### There are no null values left in the data set.The purchase null values are because of the test data that needs to be predicted"
   ]
  },
  {
   "cell_type": "markdown",
   "id": "37823acb",
   "metadata": {},
   "source": [
    "## Exploratory Data Analysis"
   ]
  },
  {
   "cell_type": "code",
   "execution_count": 28,
   "id": "40476b6d",
   "metadata": {},
   "outputs": [],
   "source": [
    "#using the train data part from combined dataset for eda\n",
    "\n",
    "sales_1 = combined[combined['data']=='train']"
   ]
  },
  {
   "cell_type": "markdown",
   "id": "d8f008ba",
   "metadata": {},
   "source": [
    "## Univariate Analysis:"
   ]
  },
  {
   "cell_type": "code",
   "execution_count": 29,
   "id": "99c9cdfb",
   "metadata": {},
   "outputs": [
    {
     "data": {
      "image/png": "[encoded data removed]",
      "text/plain": [
       "<Figure size 432x288 with 1 Axes>"
      ]
     },
     "metadata": {
      "needs_background": "light"
     },
     "output_type": "display_data"
    }
   ],
   "source": [
    "sns.countplot(sales_1['Gender'])\n",
    "plt.show()"
   ]
  },
  {
   "cell_type": "markdown",
   "id": "ae4013c0",
   "metadata": {},
   "source": [
    "### The graph shows that there are almost 3 times more male customers than female customers."
   ]
  },
  {
   "cell_type": "code",
   "execution_count": 30,
   "id": "c19d26d3",
   "metadata": {},
   "outputs": [
    {
     "data": {
      "image/png": "[encoded data removed]",
      "text/plain": [
       "<Figure size 432x288 with 1 Axes>"
      ]
     },
     "metadata": {
      "needs_background": "light"
     },
     "output_type": "display_data"
    }
   ],
   "source": [
    "sns.countplot(sales_1['Age'])\n",
    "plt.show()"
   ]
  },
  {
   "cell_type": "markdown",
   "id": "7f0e02ed",
   "metadata": {},
   "source": [
    "### The graph shows that the majority of the customers that purchase things during the sales season mainly belong to the age group of 26-35 and 36-45.\n",
    "\n"
   ]
  },
  {
   "cell_type": "code",
   "execution_count": 31,
   "id": "1d294a11",
   "metadata": {},
   "outputs": [
    {
     "data": {
      "image/png": "[encoded data removed]",
      "text/plain": [
       "<Figure size 432x288 with 1 Axes>"
      ]
     },
     "metadata": {
      "needs_background": "light"
     },
     "output_type": "display_data"
    }
   ],
   "source": [
    "sns.countplot(sales_1['Occupation'])\n",
    "plt.show()"
   ]
  },
  {
   "cell_type": "markdown",
   "id": "34ad1e5d",
   "metadata": {},
   "source": [
    "### The graph shows that top three Occupations with the majority of buyers is 4,0,7."
   ]
  },
  {
   "cell_type": "code",
   "execution_count": 32,
   "id": "df2589e5",
   "metadata": {},
   "outputs": [
    {
     "data": {
      "image/png": "[encoded data removed]",
      "text/plain": [
       "<Figure size 432x288 with 1 Axes>"
      ]
     },
     "metadata": {
      "needs_background": "light"
     },
     "output_type": "display_data"
    }
   ],
   "source": [
    "sns.countplot(sales_1['City_Category'])\n",
    "plt.show()"
   ]
  },
  {
   "cell_type": "markdown",
   "id": "6e963e6f",
   "metadata": {},
   "source": [
    "### The graph shows that people from city B buy majorly during the sale"
   ]
  },
  {
   "cell_type": "code",
   "execution_count": 33,
   "id": "7b858fa2",
   "metadata": {},
   "outputs": [
    {
     "data": {
      "image/png": "[encoded data removed]",
      "text/plain": [
       "<Figure size 432x288 with 1 Axes>"
      ]
     },
     "metadata": {
      "needs_background": "light"
     },
     "output_type": "display_data"
    }
   ],
   "source": [
    "sns.countplot(sales_1['Stay_In_Current_City_Years'])\n",
    "plt.show()"
   ]
  },
  {
   "cell_type": "markdown",
   "id": "1b088307",
   "metadata": {},
   "source": [
    "### The graph shows that majority people buying during sales have lived in the current city for an year."
   ]
  },
  {
   "cell_type": "code",
   "execution_count": 34,
   "id": "b1255561",
   "metadata": {},
   "outputs": [
    {
     "data": {
      "image/png": "[encoded data removed]",
      "text/plain": [
       "<Figure size 432x288 with 1 Axes>"
      ]
     },
     "metadata": {
      "needs_background": "light"
     },
     "output_type": "display_data"
    }
   ],
   "source": [
    "sns.countplot(sales_1['Marital_Status'])\n",
    "plt.show()"
   ]
  },
  {
   "cell_type": "markdown",
   "id": "b581a6f3",
   "metadata": {},
   "source": [
    "### The graphs shows that single people tend to buy more things during sales."
   ]
  },
  {
   "cell_type": "markdown",
   "id": "764f5cbb",
   "metadata": {},
   "source": [
    "## Bivariate Analysis / Multivariate Analysis:"
   ]
  },
  {
   "cell_type": "code",
   "execution_count": 35,
   "id": "99d68131",
   "metadata": {},
   "outputs": [
    {
     "data": {
      "image/png": "[encoded data removed]",
      "text/plain": [
       "<Figure size 432x288 with 1 Axes>"
      ]
     },
     "metadata": {
      "needs_background": "light"
     },
     "output_type": "display_data"
    }
   ],
   "source": [
    "# Avearge amount spend by different age groups\n",
    "\n",
    "data = sales_1.groupby('Age')['Purchase'].mean()\n",
    "plt.plot(data.index,data.values,marker='o',color='g')\n",
    "plt.xlabel('Age group');\n",
    "plt.ylabel('Average_Purchase amount in $');\n",
    "plt.title('Age group vs average amount spent');\n",
    "plt.show()"
   ]
  },
  {
   "cell_type": "markdown",
   "id": "a7abb675",
   "metadata": {},
   "source": [
    "### The average amount spend by age group 51-55 is most during the festive season sales."
   ]
  },
  {
   "cell_type": "code",
   "execution_count": 36,
   "id": "4fb703c4",
   "metadata": {},
   "outputs": [
    {
     "data": {
      "image/png": "[encoded data removed]",
      "text/plain": [
       "<Figure size 432x288 with 1 Axes>"
      ]
     },
     "metadata": {
      "needs_background": "light"
     },
     "output_type": "display_data"
    }
   ],
   "source": [
    "# Avearge amount spend based on the time of stay in the current city\n",
    "\n",
    "data = sales_1.groupby('Stay_In_Current_City_Years')['Purchase'].mean()\n",
    "plt.plot(data.index,data.values,marker='o',color='y')\n",
    "plt.xlabel('Stay_In_Current_City_Years');\n",
    "plt.ylabel('Average_Purchase amount in $');\n",
    "plt.title('Stay_In_Current_City_Years vs average amount spent');\n",
    "plt.show()"
   ]
  },
  {
   "cell_type": "markdown",
   "id": "2cc7d638",
   "metadata": {},
   "source": [
    "### The people who have been living in the current city for 2 or more years are on an average spending more amount in the black friday sales"
   ]
  },
  {
   "cell_type": "code",
   "execution_count": 37,
   "id": "f6cea64f",
   "metadata": {},
   "outputs": [
    {
     "data": {
      "image/png": "[encoded data removed]",
      "text/plain": [
       "<Figure size 432x288 with 1 Axes>"
      ]
     },
     "metadata": {
      "needs_background": "light"
     },
     "output_type": "display_data"
    }
   ],
   "source": [
    "# Avearge purchase based on Marital_Status\n",
    "\n",
    "data = sales_1.groupby('Marital_Status')['Purchase'].mean()\n",
    "plt.bar(data.index,data.values)\n",
    "plt.xlabel('Marital_Status');\n",
    "plt.ylabel('Average_Purchase amount in $');\n",
    "plt.title('Avearge purchase based on Marital_Status');\n",
    "plt.show()"
   ]
  },
  {
   "cell_type": "markdown",
   "id": "0d41e8c3",
   "metadata": {},
   "source": [
    "### Purchasers who married or not, have almost same average of purchase."
   ]
  },
  {
   "cell_type": "code",
   "execution_count": 38,
   "id": "5b56babf",
   "metadata": {},
   "outputs": [
    {
     "data": {
      "image/png": "[encoded data removed]",
      "text/plain": [
       "<Figure size 720x360 with 1 Axes>"
      ]
     },
     "metadata": {
      "needs_background": "light"
     },
     "output_type": "display_data"
    }
   ],
   "source": [
    "# Top 10 products which made the highest sales\n",
    "\n",
    "data = sales_1.groupby(\"Product_ID\").sum()['Purchase']\n",
    "\n",
    "plt.figure(figsize=(10,5))\n",
    "data.sort_values(ascending=False)[0:10].plot(kind='bar')\n",
    "plt.xticks(rotation=90)\n",
    "plt.xlabel('Product ID')\n",
    "plt.ylabel('Total amount purchased in Million $')\n",
    "plt.title('Top 10 Products with highest sales')\n",
    "plt.show()"
   ]
  },
  {
   "cell_type": "code",
   "execution_count": 39,
   "id": "7d457aac",
   "metadata": {},
   "outputs": [
    {
     "data": {
      "image/png": "[encoded data removed]",
      "text/plain": [
       "<Figure size 432x288 with 1 Axes>"
      ]
     },
     "metadata": {
      "needs_background": "light"
     },
     "output_type": "display_data"
    }
   ],
   "source": [
    "#comparing based on Marital_Status and Gender\n",
    "\n",
    "sns.countplot(x='Marital_Status',data=sales_1,hue='Gender')\n",
    "plt.title('Comparing based on Marital_Status and Gender')\n",
    "plt.show()"
   ]
  },
  {
   "cell_type": "markdown",
   "id": "2d97fb82",
   "metadata": {},
   "source": [
    "### Males tend to purchase more and Unmarried Males are around 45% in the data and they show to purchase 9000$ on average"
   ]
  },
  {
   "cell_type": "markdown",
   "id": "9fcbf3d7",
   "metadata": {},
   "source": [
    "### Products that are most purchased by each of the age group:"
   ]
  },
  {
   "cell_type": "code",
   "execution_count": 40,
   "id": "97ee96ec",
   "metadata": {},
   "outputs": [
    {
     "data": {
      "text/plain": [
       "Age\n",
       "0-17     P00255842\n",
       "18-25    P00265242\n",
       "26-35    P00265242\n",
       "36-45    P00025442\n",
       "46-50    P00265242\n",
       "51-55    P00265242\n",
       "55+      P00265242\n",
       "dtype: object"
      ]
     },
     "execution_count": 40,
     "metadata": {},
     "output_type": "execute_result"
    }
   ],
   "source": [
    "a =pd.crosstab(sales_1['Age'],sales_1['Product_ID'])\n",
    "a.idxmax(axis=1)"
   ]
  },
  {
   "cell_type": "code",
   "execution_count": 41,
   "id": "da50da3b",
   "metadata": {},
   "outputs": [
    {
     "data": {
      "image/png": "[encoded data removed]",
      "text/plain": [
       "<Figure size 1080x360 with 1 Axes>"
      ]
     },
     "metadata": {
      "needs_background": "light"
     },
     "output_type": "display_data"
    }
   ],
   "source": [
    "#Occupations and City Category\n",
    "\n",
    "plt.figure(figsize=(15,5))\n",
    "sns.countplot(x='Occupation',data=sales_1,hue='City_Category')\n",
    "plt.title('Comparing Occupations and City Category')\n",
    "plt.show()"
   ]
  },
  {
   "cell_type": "markdown",
   "id": "8a2ecfda",
   "metadata": {},
   "source": [
    "### People from Occupation 4,0,7 are buying the most and most of the people from these occupations belong to City_Category B."
   ]
  },
  {
   "cell_type": "code",
   "execution_count": 42,
   "id": "c06f9330",
   "metadata": {},
   "outputs": [
    {
     "data": {
      "image/png": "[encoded data removed]",
      "text/plain": [
       "<Figure size 648x216 with 3 Axes>"
      ]
     },
     "metadata": {
      "needs_background": "light"
     },
     "output_type": "display_data"
    }
   ],
   "source": [
    "#the purchase habits of different genders across the different city categories.\n",
    "\n",
    "g = sns.FacetGrid(sales_1,col=\"City_Category\")\n",
    "g.map(sns.barplot, \"Gender\", \"Purchase\")\n",
    "plt.show()"
   ]
  },
  {
   "cell_type": "markdown",
   "id": "f57d3bed",
   "metadata": {},
   "source": [
    "### For City_categories B and C, Males tend to dominate the purchasing, whereas it is the opposite for City Category_C, where Females tend to purchase more than men."
   ]
  },
  {
   "cell_type": "markdown",
   "id": "c1b97d8e",
   "metadata": {},
   "source": [
    "## Data preprocessing."
   ]
  },
  {
   "cell_type": "code",
   "execution_count": 43,
   "id": "77cb3605",
   "metadata": {},
   "outputs": [
    {
     "data": {
      "text/html": [
       "<div>\n",
       "<style scoped>\n",
       "    .dataframe tbody tr th:only-of-type {\n",
       "        vertical-align: middle;\n",
       "    }\n",
       "\n",
       "    .dataframe tbody tr th {\n",
       "        vertical-align: top;\n",
       "    }\n",
       "\n",
       "    .dataframe thead th {\n",
       "        text-align: right;\n",
       "    }\n",
       "</style>\n",
       "<table border=\"1\" class=\"dataframe\">\n",
       "  <thead>\n",
       "    <tr style=\"text-align: right;\">\n",
       "      <th></th>\n",
       "      <th>User_ID</th>\n",
       "      <th>Product_ID</th>\n",
       "      <th>Gender</th>\n",
       "      <th>Age</th>\n",
       "      <th>Occupation</th>\n",
       "      <th>City_Category</th>\n",
       "      <th>Stay_In_Current_City_Years</th>\n",
       "      <th>Marital_Status</th>\n",
       "      <th>Product_Category_1</th>\n",
       "      <th>Product_Category_2</th>\n",
       "      <th>Purchase</th>\n",
       "      <th>data</th>\n",
       "    </tr>\n",
       "  </thead>\n",
       "  <tbody>\n",
       "    <tr>\n",
       "      <th>0</th>\n",
       "      <td>1000001</td>\n",
       "      <td>P00069042</td>\n",
       "      <td>F</td>\n",
       "      <td>0-17</td>\n",
       "      <td>10</td>\n",
       "      <td>A</td>\n",
       "      <td>2</td>\n",
       "      <td>0</td>\n",
       "      <td>3</td>\n",
       "      <td>8.0</td>\n",
       "      <td>8370.0</td>\n",
       "      <td>train</td>\n",
       "    </tr>\n",
       "    <tr>\n",
       "      <th>1</th>\n",
       "      <td>1000001</td>\n",
       "      <td>P00248942</td>\n",
       "      <td>F</td>\n",
       "      <td>0-17</td>\n",
       "      <td>10</td>\n",
       "      <td>A</td>\n",
       "      <td>2</td>\n",
       "      <td>0</td>\n",
       "      <td>1</td>\n",
       "      <td>6.0</td>\n",
       "      <td>15200.0</td>\n",
       "      <td>train</td>\n",
       "    </tr>\n",
       "    <tr>\n",
       "      <th>2</th>\n",
       "      <td>1000001</td>\n",
       "      <td>P00087842</td>\n",
       "      <td>F</td>\n",
       "      <td>0-17</td>\n",
       "      <td>10</td>\n",
       "      <td>A</td>\n",
       "      <td>2</td>\n",
       "      <td>0</td>\n",
       "      <td>12</td>\n",
       "      <td>5.0</td>\n",
       "      <td>1422.0</td>\n",
       "      <td>train</td>\n",
       "    </tr>\n",
       "    <tr>\n",
       "      <th>3</th>\n",
       "      <td>1000001</td>\n",
       "      <td>P00085442</td>\n",
       "      <td>F</td>\n",
       "      <td>0-17</td>\n",
       "      <td>10</td>\n",
       "      <td>A</td>\n",
       "      <td>2</td>\n",
       "      <td>0</td>\n",
       "      <td>12</td>\n",
       "      <td>14.0</td>\n",
       "      <td>1057.0</td>\n",
       "      <td>train</td>\n",
       "    </tr>\n",
       "    <tr>\n",
       "      <th>4</th>\n",
       "      <td>1000002</td>\n",
       "      <td>P00285442</td>\n",
       "      <td>M</td>\n",
       "      <td>55+</td>\n",
       "      <td>16</td>\n",
       "      <td>C</td>\n",
       "      <td>4+</td>\n",
       "      <td>0</td>\n",
       "      <td>8</td>\n",
       "      <td>9.0</td>\n",
       "      <td>7969.0</td>\n",
       "      <td>train</td>\n",
       "    </tr>\n",
       "  </tbody>\n",
       "</table>\n",
       "</div>"
      ],
      "text/plain": [
       "   User_ID Product_ID Gender   Age  Occupation City_Category  \\\n",
       "0  1000001  P00069042      F  0-17          10             A   \n",
       "1  1000001  P00248942      F  0-17          10             A   \n",
       "2  1000001  P00087842      F  0-17          10             A   \n",
       "3  1000001  P00085442      F  0-17          10             A   \n",
       "4  1000002  P00285442      M   55+          16             C   \n",
       "\n",
       "  Stay_In_Current_City_Years  Marital_Status  Product_Category_1  \\\n",
       "0                          2               0                   3   \n",
       "1                          2               0                   1   \n",
       "2                          2               0                  12   \n",
       "3                          2               0                  12   \n",
       "4                         4+               0                   8   \n",
       "\n",
       "   Product_Category_2  Purchase   data  \n",
       "0                 8.0    8370.0  train  \n",
       "1                 6.0   15200.0  train  \n",
       "2                 5.0    1422.0  train  \n",
       "3                14.0    1057.0  train  \n",
       "4                 9.0    7969.0  train  "
      ]
     },
     "execution_count": 43,
     "metadata": {},
     "output_type": "execute_result"
    }
   ],
   "source": [
    "# for datapreprocessing again working with the combined dataset\n",
    "combined.head()"
   ]
  },
  {
   "cell_type": "markdown",
   "id": "2cd145d4",
   "metadata": {},
   "source": [
    "### 1.User_ID and Product_ID:\n"
   ]
  },
  {
   "cell_type": "code",
   "execution_count": 44,
   "id": "27de9e08",
   "metadata": {},
   "outputs": [],
   "source": [
    "# User_ID data preprocess. e.g. 1000002 -> 2\n",
    "\n",
    "combined['User_ID'] = combined['User_ID'] - 1000000\n",
    "\n",
    "# Product_ID preprocess e.g. P00069042 -> 69042\n",
    "\n",
    "combined['Product_ID'] = combined['Product_ID'].str.replace('P00', '')\n",
    "\n",
    "#object to int\n",
    "combined['Product_ID'] = pd.to_numeric(combined['Product_ID'],errors='coerce')"
   ]
  },
  {
   "cell_type": "code",
   "execution_count": 45,
   "id": "d34b7d26",
   "metadata": {},
   "outputs": [
    {
     "name": "stdout",
     "output_type": "stream",
     "text": [
      "<class 'pandas.core.frame.DataFrame'>\n",
      "Int64Index: 783667 entries, 0 to 233598\n",
      "Data columns (total 12 columns):\n",
      " #   Column                      Non-Null Count   Dtype  \n",
      "---  ------                      --------------   -----  \n",
      " 0   User_ID                     783667 non-null  int64  \n",
      " 1   Product_ID                  783667 non-null  int64  \n",
      " 2   Gender                      783667 non-null  object \n",
      " 3   Age                         783667 non-null  object \n",
      " 4   Occupation                  783667 non-null  int64  \n",
      " 5   City_Category               783667 non-null  object \n",
      " 6   Stay_In_Current_City_Years  783667 non-null  object \n",
      " 7   Marital_Status              783667 non-null  int64  \n",
      " 8   Product_Category_1          783667 non-null  int64  \n",
      " 9   Product_Category_2          783667 non-null  float64\n",
      " 10  Purchase                    550068 non-null  float64\n",
      " 11  data                        783667 non-null  object \n",
      "dtypes: float64(2), int64(5), object(5)\n",
      "memory usage: 77.7+ MB\n"
     ]
    }
   ],
   "source": [
    "combined.info()\n"
   ]
  },
  {
   "cell_type": "markdown",
   "id": "c771d63c",
   "metadata": {},
   "source": [
    "## 2.Product_Category_2 :\n"
   ]
  },
  {
   "cell_type": "markdown",
   "id": "6495bab4",
   "metadata": {},
   "source": [
    "### All the unique values in product category 2 are integers. But the data type shown in info is float so we can change it by converting the numbers in float to integers."
   ]
  },
  {
   "cell_type": "code",
   "execution_count": 46,
   "id": "9cadb149",
   "metadata": {},
   "outputs": [],
   "source": [
    "combined.Product_Category_2 = combined.Product_Category_2.astype('int64')"
   ]
  },
  {
   "cell_type": "code",
   "execution_count": 47,
   "id": "bf430e95",
   "metadata": {},
   "outputs": [
    {
     "data": {
      "text/plain": [
       "Index(['Gender', 'Age', 'City_Category', 'Stay_In_Current_City_Years', 'data'], dtype='object')"
      ]
     },
     "execution_count": 47,
     "metadata": {},
     "output_type": "execute_result"
    }
   ],
   "source": [
    "# features with datatype object\n",
    "\n",
    "cat_cols = combined.select_dtypes(['object']).columns\n",
    "cat_cols"
   ]
  },
  {
   "cell_type": "markdown",
   "id": "bdf89e60",
   "metadata": {},
   "source": [
    "### 3.Stay_In_Current_City_Years\n",
    "For Stay in current city years we need to convert the object datatype to int. It contains a category which has '4+' that needs to be altere"
   ]
  },
  {
   "cell_type": "code",
   "execution_count": 48,
   "id": "db25484a",
   "metadata": {},
   "outputs": [],
   "source": [
    "# 4+ to 4\n",
    "combined['Stay_In_Current_City_Years'] =np.where(combined['Stay_In_Current_City_Years'].str[:2]==\"4+\",4,combined['Stay_In_Current_City_Years'])\n",
    "\n",
    "#object to int\n",
    "combined['Stay_In_Current_City_Years'] = pd.to_numeric(combined['Stay_In_Current_City_Years'],errors='coerce')"
   ]
  },
  {
   "cell_type": "markdown",
   "id": "91e184ec",
   "metadata": {},
   "source": [
    "### 4.Gender:\n",
    "- Gender 'F' for female are represented by the value fo 0.\n",
    "\n",
    "- Gender 'M' for male are represented by the value fo 1."
   ]
  },
  {
   "cell_type": "code",
   "execution_count": 49,
   "id": "f231e395",
   "metadata": {},
   "outputs": [],
   "source": [
    "combined['Gender'] = combined['Gender'].map({'F':0, 'M':1}).astype(int)\n"
   ]
  },
  {
   "cell_type": "markdown",
   "id": "8e362a1e",
   "metadata": {},
   "source": [
    "### 5.Age"
   ]
  },
  {
   "cell_type": "code",
   "execution_count": 50,
   "id": "097dd61c",
   "metadata": {},
   "outputs": [
    {
     "data": {
      "text/plain": [
       "31    313015\n",
       "42    156724\n",
       "22    141953\n",
       "48     65278\n",
       "53     54784\n",
       "60     30579\n",
       "9      21334\n",
       "Name: Age, dtype: int64"
      ]
     },
     "execution_count": 50,
     "metadata": {},
     "output_type": "execute_result"
    }
   ],
   "source": [
    "# Modify age column\n",
    "\n",
    "combined['Age'] = combined['Age'].map({'0-17': 9,\n",
    "                               '18-25': 22,\n",
    "                               '26-35': 31,\n",
    "                               '36-45': 42,\n",
    "                               '46-50': 48,\n",
    "                               '51-55': 53,\n",
    "                               '55+': 60})\n",
    "combined['Age'].value_counts()"
   ]
  },
  {
   "cell_type": "markdown",
   "id": "41a77222",
   "metadata": {},
   "source": [
    "### 6.City_Category : dummy variables for this feature\n"
   ]
  },
  {
   "cell_type": "code",
   "execution_count": 51,
   "id": "31a87f43",
   "metadata": {},
   "outputs": [],
   "source": [
    "combined = pd.get_dummies(combined,columns=['City_Category'],drop_first = True)"
   ]
  },
  {
   "cell_type": "code",
   "execution_count": 52,
   "id": "009a036a",
   "metadata": {},
   "outputs": [
    {
     "data": {
      "text/html": [
       "<div>\n",
       "<style scoped>\n",
       "    .dataframe tbody tr th:only-of-type {\n",
       "        vertical-align: middle;\n",
       "    }\n",
       "\n",
       "    .dataframe tbody tr th {\n",
       "        vertical-align: top;\n",
       "    }\n",
       "\n",
       "    .dataframe thead th {\n",
       "        text-align: right;\n",
       "    }\n",
       "</style>\n",
       "<table border=\"1\" class=\"dataframe\">\n",
       "  <thead>\n",
       "    <tr style=\"text-align: right;\">\n",
       "      <th></th>\n",
       "      <th>User_ID</th>\n",
       "      <th>Product_ID</th>\n",
       "      <th>Gender</th>\n",
       "      <th>Age</th>\n",
       "      <th>Occupation</th>\n",
       "      <th>Stay_In_Current_City_Years</th>\n",
       "      <th>Marital_Status</th>\n",
       "      <th>Product_Category_1</th>\n",
       "      <th>Product_Category_2</th>\n",
       "      <th>Purchase</th>\n",
       "      <th>data</th>\n",
       "      <th>City_Category_B</th>\n",
       "      <th>City_Category_C</th>\n",
       "    </tr>\n",
       "  </thead>\n",
       "  <tbody>\n",
       "    <tr>\n",
       "      <th>0</th>\n",
       "      <td>1</td>\n",
       "      <td>69042</td>\n",
       "      <td>0</td>\n",
       "      <td>9</td>\n",
       "      <td>10</td>\n",
       "      <td>2</td>\n",
       "      <td>0</td>\n",
       "      <td>3</td>\n",
       "      <td>8</td>\n",
       "      <td>8370.0</td>\n",
       "      <td>train</td>\n",
       "      <td>0</td>\n",
       "      <td>0</td>\n",
       "    </tr>\n",
       "    <tr>\n",
       "      <th>1</th>\n",
       "      <td>1</td>\n",
       "      <td>248942</td>\n",
       "      <td>0</td>\n",
       "      <td>9</td>\n",
       "      <td>10</td>\n",
       "      <td>2</td>\n",
       "      <td>0</td>\n",
       "      <td>1</td>\n",
       "      <td>6</td>\n",
       "      <td>15200.0</td>\n",
       "      <td>train</td>\n",
       "      <td>0</td>\n",
       "      <td>0</td>\n",
       "    </tr>\n",
       "    <tr>\n",
       "      <th>2</th>\n",
       "      <td>1</td>\n",
       "      <td>87842</td>\n",
       "      <td>0</td>\n",
       "      <td>9</td>\n",
       "      <td>10</td>\n",
       "      <td>2</td>\n",
       "      <td>0</td>\n",
       "      <td>12</td>\n",
       "      <td>5</td>\n",
       "      <td>1422.0</td>\n",
       "      <td>train</td>\n",
       "      <td>0</td>\n",
       "      <td>0</td>\n",
       "    </tr>\n",
       "    <tr>\n",
       "      <th>3</th>\n",
       "      <td>1</td>\n",
       "      <td>85442</td>\n",
       "      <td>0</td>\n",
       "      <td>9</td>\n",
       "      <td>10</td>\n",
       "      <td>2</td>\n",
       "      <td>0</td>\n",
       "      <td>12</td>\n",
       "      <td>14</td>\n",
       "      <td>1057.0</td>\n",
       "      <td>train</td>\n",
       "      <td>0</td>\n",
       "      <td>0</td>\n",
       "    </tr>\n",
       "    <tr>\n",
       "      <th>4</th>\n",
       "      <td>2</td>\n",
       "      <td>285442</td>\n",
       "      <td>1</td>\n",
       "      <td>60</td>\n",
       "      <td>16</td>\n",
       "      <td>4</td>\n",
       "      <td>0</td>\n",
       "      <td>8</td>\n",
       "      <td>9</td>\n",
       "      <td>7969.0</td>\n",
       "      <td>train</td>\n",
       "      <td>0</td>\n",
       "      <td>1</td>\n",
       "    </tr>\n",
       "  </tbody>\n",
       "</table>\n",
       "</div>"
      ],
      "text/plain": [
       "   User_ID  Product_ID  Gender  Age  Occupation  Stay_In_Current_City_Years  \\\n",
       "0        1       69042       0    9          10                           2   \n",
       "1        1      248942       0    9          10                           2   \n",
       "2        1       87842       0    9          10                           2   \n",
       "3        1       85442       0    9          10                           2   \n",
       "4        2      285442       1   60          16                           4   \n",
       "\n",
       "   Marital_Status  Product_Category_1  Product_Category_2  Purchase   data  \\\n",
       "0               0                   3                   8    8370.0  train   \n",
       "1               0                   1                   6   15200.0  train   \n",
       "2               0                  12                   5    1422.0  train   \n",
       "3               0                  12                  14    1057.0  train   \n",
       "4               0                   8                   9    7969.0  train   \n",
       "\n",
       "   City_Category_B  City_Category_C  \n",
       "0                0                0  \n",
       "1                0                0  \n",
       "2                0                0  \n",
       "3                0                0  \n",
       "4                0                1  "
      ]
     },
     "execution_count": 52,
     "metadata": {},
     "output_type": "execute_result"
    }
   ],
   "source": [
    "combined.head()\n"
   ]
  },
  {
   "cell_type": "code",
   "execution_count": 53,
   "id": "b92f0e0e",
   "metadata": {},
   "outputs": [
    {
     "name": "stdout",
     "output_type": "stream",
     "text": [
      "<class 'pandas.core.frame.DataFrame'>\n",
      "Int64Index: 783667 entries, 0 to 233598\n",
      "Data columns (total 13 columns):\n",
      " #   Column                      Non-Null Count   Dtype  \n",
      "---  ------                      --------------   -----  \n",
      " 0   User_ID                     783667 non-null  int64  \n",
      " 1   Product_ID                  783667 non-null  int64  \n",
      " 2   Gender                      783667 non-null  int32  \n",
      " 3   Age                         783667 non-null  int64  \n",
      " 4   Occupation                  783667 non-null  int64  \n",
      " 5   Stay_In_Current_City_Years  783667 non-null  int64  \n",
      " 6   Marital_Status              783667 non-null  int64  \n",
      " 7   Product_Category_1          783667 non-null  int64  \n",
      " 8   Product_Category_2          783667 non-null  int64  \n",
      " 9   Purchase                    550068 non-null  float64\n",
      " 10  data                        783667 non-null  object \n",
      " 11  City_Category_B             783667 non-null  uint8  \n",
      " 12  City_Category_C             783667 non-null  uint8  \n",
      "dtypes: float64(1), int32(1), int64(8), object(1), uint8(2)\n",
      "memory usage: 70.3+ MB\n"
     ]
    }
   ],
   "source": [
    "combined.info()\n"
   ]
  },
  {
   "cell_type": "code",
   "execution_count": 54,
   "id": "fb32f1d5",
   "metadata": {},
   "outputs": [
    {
     "data": {
      "text/html": [
       "<div>\n",
       "<style scoped>\n",
       "    .dataframe tbody tr th:only-of-type {\n",
       "        vertical-align: middle;\n",
       "    }\n",
       "\n",
       "    .dataframe tbody tr th {\n",
       "        vertical-align: top;\n",
       "    }\n",
       "\n",
       "    .dataframe thead th {\n",
       "        text-align: right;\n",
       "    }\n",
       "</style>\n",
       "<table border=\"1\" class=\"dataframe\">\n",
       "  <thead>\n",
       "    <tr style=\"text-align: right;\">\n",
       "      <th></th>\n",
       "      <th>User_ID</th>\n",
       "      <th>Product_ID</th>\n",
       "      <th>Gender</th>\n",
       "      <th>Age</th>\n",
       "      <th>Occupation</th>\n",
       "      <th>Stay_In_Current_City_Years</th>\n",
       "      <th>Marital_Status</th>\n",
       "      <th>Product_Category_1</th>\n",
       "      <th>Product_Category_2</th>\n",
       "      <th>Purchase</th>\n",
       "      <th>data</th>\n",
       "      <th>City_Category_B</th>\n",
       "      <th>City_Category_C</th>\n",
       "    </tr>\n",
       "  </thead>\n",
       "  <tbody>\n",
       "    <tr>\n",
       "      <th>0</th>\n",
       "      <td>1</td>\n",
       "      <td>69042</td>\n",
       "      <td>0</td>\n",
       "      <td>9</td>\n",
       "      <td>10</td>\n",
       "      <td>2</td>\n",
       "      <td>0</td>\n",
       "      <td>3</td>\n",
       "      <td>8</td>\n",
       "      <td>8370.0</td>\n",
       "      <td>train</td>\n",
       "      <td>0</td>\n",
       "      <td>0</td>\n",
       "    </tr>\n",
       "    <tr>\n",
       "      <th>1</th>\n",
       "      <td>1</td>\n",
       "      <td>248942</td>\n",
       "      <td>0</td>\n",
       "      <td>9</td>\n",
       "      <td>10</td>\n",
       "      <td>2</td>\n",
       "      <td>0</td>\n",
       "      <td>1</td>\n",
       "      <td>6</td>\n",
       "      <td>15200.0</td>\n",
       "      <td>train</td>\n",
       "      <td>0</td>\n",
       "      <td>0</td>\n",
       "    </tr>\n",
       "    <tr>\n",
       "      <th>2</th>\n",
       "      <td>1</td>\n",
       "      <td>87842</td>\n",
       "      <td>0</td>\n",
       "      <td>9</td>\n",
       "      <td>10</td>\n",
       "      <td>2</td>\n",
       "      <td>0</td>\n",
       "      <td>12</td>\n",
       "      <td>5</td>\n",
       "      <td>1422.0</td>\n",
       "      <td>train</td>\n",
       "      <td>0</td>\n",
       "      <td>0</td>\n",
       "    </tr>\n",
       "    <tr>\n",
       "      <th>3</th>\n",
       "      <td>1</td>\n",
       "      <td>85442</td>\n",
       "      <td>0</td>\n",
       "      <td>9</td>\n",
       "      <td>10</td>\n",
       "      <td>2</td>\n",
       "      <td>0</td>\n",
       "      <td>12</td>\n",
       "      <td>14</td>\n",
       "      <td>1057.0</td>\n",
       "      <td>train</td>\n",
       "      <td>0</td>\n",
       "      <td>0</td>\n",
       "    </tr>\n",
       "    <tr>\n",
       "      <th>4</th>\n",
       "      <td>2</td>\n",
       "      <td>285442</td>\n",
       "      <td>1</td>\n",
       "      <td>60</td>\n",
       "      <td>16</td>\n",
       "      <td>4</td>\n",
       "      <td>0</td>\n",
       "      <td>8</td>\n",
       "      <td>9</td>\n",
       "      <td>7969.0</td>\n",
       "      <td>train</td>\n",
       "      <td>0</td>\n",
       "      <td>1</td>\n",
       "    </tr>\n",
       "  </tbody>\n",
       "</table>\n",
       "</div>"
      ],
      "text/plain": [
       "   User_ID  Product_ID  Gender  Age  Occupation  Stay_In_Current_City_Years  \\\n",
       "0        1       69042       0    9          10                           2   \n",
       "1        1      248942       0    9          10                           2   \n",
       "2        1       87842       0    9          10                           2   \n",
       "3        1       85442       0    9          10                           2   \n",
       "4        2      285442       1   60          16                           4   \n",
       "\n",
       "   Marital_Status  Product_Category_1  Product_Category_2  Purchase   data  \\\n",
       "0               0                   3                   8    8370.0  train   \n",
       "1               0                   1                   6   15200.0  train   \n",
       "2               0                  12                   5    1422.0  train   \n",
       "3               0                  12                  14    1057.0  train   \n",
       "4               0                   8                   9    7969.0  train   \n",
       "\n",
       "   City_Category_B  City_Category_C  \n",
       "0                0                0  \n",
       "1                0                0  \n",
       "2                0                0  \n",
       "3                0                0  \n",
       "4                0                1  "
      ]
     },
     "execution_count": 54,
     "metadata": {},
     "output_type": "execute_result"
    }
   ],
   "source": [
    "combined.head()\n"
   ]
  },
  {
   "cell_type": "code",
   "execution_count": 55,
   "id": "47e18166",
   "metadata": {},
   "outputs": [],
   "source": [
    "#splitting the data back into train and test as it was already provided\n",
    "\n",
    "sales = combined[combined['data']=='train']\n",
    "del sales['data']\n",
    "test_input = combined[combined['data']=='test']\n",
    "test_input.drop(['Purchase','data'],axis=1,inplace=True)\n",
    "\n",
    "del combined"
   ]
  },
  {
   "cell_type": "markdown",
   "id": "b3efba33",
   "metadata": {},
   "source": [
    "## Normal Distribution curve for every individual column\n"
   ]
  },
  {
   "cell_type": "code",
   "execution_count": 56,
   "id": "388b22bb",
   "metadata": {},
   "outputs": [
    {
     "data": {
      "image/png": "[encoded data removed]",
      "text/plain": [
       "<Figure size 1944x1296 with 12 Axes>"
      ]
     },
     "metadata": {
      "needs_background": "light"
     },
     "output_type": "display_data"
    }
   ],
   "source": [
    "# let's visualize the data using distribution plot\n",
    "plt.figure(figsize=(27,18))\n",
    "pn = 1\n",
    "for col in sales:\n",
    "    if pn <= 12:\n",
    "        ax = plt.subplot(3,4,pn)\n",
    "        sns.distplot(sales[col])\n",
    "        plt.xlabel(col,fontsize = 15)\n",
    "        plt.ylabel('Purchase',fontsize = 15)\n",
    "    pn +=1\n",
    "plt.show()    "
   ]
  },
  {
   "cell_type": "markdown",
   "id": "0348dafe",
   "metadata": {},
   "source": [
    "### Checking Outliers"
   ]
  },
  {
   "cell_type": "code",
   "execution_count": 57,
   "id": "be68f8da",
   "metadata": {},
   "outputs": [
    {
     "data": {
      "image/png": "[encoded data removed]",
      "text/plain": [
       "<Figure size 1800x1080 with 12 Axes>"
      ]
     },
     "metadata": {
      "needs_background": "light"
     },
     "output_type": "display_data"
    }
   ],
   "source": [
    "plt.figure(figsize=(25,15))\n",
    "pn = 1\n",
    "for col in sales:\n",
    "    if pn <= 12:\n",
    "        ax = plt.subplot(3,4,pn)\n",
    "        sns.boxplot(data=sales[col])\n",
    "        plt.xlabel(col,fontsize = 15)\n",
    "    pn +=1\n",
    "plt.show()    "
   ]
  },
  {
   "cell_type": "markdown",
   "id": "be10dcb1",
   "metadata": {},
   "source": [
    "## Removing Outliers\n"
   ]
  },
  {
   "cell_type": "code",
   "execution_count": 58,
   "id": "4a7d96e1",
   "metadata": {},
   "outputs": [
    {
     "name": "stdout",
     "output_type": "stream",
     "text": [
      "Shape of the dataframe before removing outliers:  (550068, 12)\n",
      "Shape of the dataframe after removing outliers:  (542790, 12)\n",
      "Percentage of data loss post outlier removal:  1.3231091428696087\n"
     ]
    }
   ],
   "source": [
    "from scipy.stats import zscore\n",
    "z = np.abs(zscore(sales))\n",
    "threshold = 3\n",
    "df1 = sales[(z<3).all(axis = 1)]\n",
    "\n",
    "print (\"Shape of the dataframe before removing outliers: \", sales.shape)\n",
    "print (\"Shape of the dataframe after removing outliers: \", df1.shape)\n",
    "print (\"Percentage of data loss post outlier removal: \", (sales.shape[0]-df1.shape[0])/sales.shape[0]*100)\n",
    "\n",
    "df=df1.copy()"
   ]
  },
  {
   "cell_type": "markdown",
   "id": "57e14d1f",
   "metadata": {},
   "source": [
    "## Correlation\n"
   ]
  },
  {
   "cell_type": "code",
   "execution_count": 59,
   "id": "acf7245e",
   "metadata": {},
   "outputs": [
    {
     "data": {
      "text/html": [
       "<div>\n",
       "<style scoped>\n",
       "    .dataframe tbody tr th:only-of-type {\n",
       "        vertical-align: middle;\n",
       "    }\n",
       "\n",
       "    .dataframe tbody tr th {\n",
       "        vertical-align: top;\n",
       "    }\n",
       "\n",
       "    .dataframe thead th {\n",
       "        text-align: right;\n",
       "    }\n",
       "</style>\n",
       "<table border=\"1\" class=\"dataframe\">\n",
       "  <thead>\n",
       "    <tr style=\"text-align: right;\">\n",
       "      <th></th>\n",
       "      <th>User_ID</th>\n",
       "      <th>Product_ID</th>\n",
       "      <th>Gender</th>\n",
       "      <th>Age</th>\n",
       "      <th>Occupation</th>\n",
       "      <th>Stay_In_Current_City_Years</th>\n",
       "      <th>Marital_Status</th>\n",
       "      <th>Product_Category_1</th>\n",
       "      <th>Product_Category_2</th>\n",
       "      <th>Purchase</th>\n",
       "      <th>City_Category_B</th>\n",
       "      <th>City_Category_C</th>\n",
       "    </tr>\n",
       "  </thead>\n",
       "  <tbody>\n",
       "    <tr>\n",
       "      <th>User_ID</th>\n",
       "      <td>1.000000</td>\n",
       "      <td>-0.018453</td>\n",
       "      <td>-0.033785</td>\n",
       "      <td>0.038621</td>\n",
       "      <td>-0.023765</td>\n",
       "      <td>-0.030903</td>\n",
       "      <td>0.020273</td>\n",
       "      <td>0.002075</td>\n",
       "      <td>-0.001079</td>\n",
       "      <td>0.005622</td>\n",
       "      <td>0.019791</td>\n",
       "      <td>0.007944</td>\n",
       "    </tr>\n",
       "    <tr>\n",
       "      <th>Product_ID</th>\n",
       "      <td>-0.018453</td>\n",
       "      <td>1.000000</td>\n",
       "      <td>0.022485</td>\n",
       "      <td>0.027103</td>\n",
       "      <td>0.009282</td>\n",
       "      <td>-0.002916</td>\n",
       "      <td>0.012919</td>\n",
       "      <td>0.039499</td>\n",
       "      <td>0.022313</td>\n",
       "      <td>-0.079720</td>\n",
       "      <td>-0.005317</td>\n",
       "      <td>0.006222</td>\n",
       "    </tr>\n",
       "    <tr>\n",
       "      <th>Gender</th>\n",
       "      <td>-0.033785</td>\n",
       "      <td>0.022485</td>\n",
       "      <td>1.000000</td>\n",
       "      <td>-0.002331</td>\n",
       "      <td>0.116892</td>\n",
       "      <td>0.014743</td>\n",
       "      <td>-0.011764</td>\n",
       "      <td>-0.053345</td>\n",
       "      <td>-0.011992</td>\n",
       "      <td>0.062702</td>\n",
       "      <td>-0.006288</td>\n",
       "      <td>-0.000160</td>\n",
       "    </tr>\n",
       "    <tr>\n",
       "      <th>Age</th>\n",
       "      <td>0.038621</td>\n",
       "      <td>0.027103</td>\n",
       "      <td>-0.002331</td>\n",
       "      <td>1.000000</td>\n",
       "      <td>0.093011</td>\n",
       "      <td>-0.002096</td>\n",
       "      <td>0.309573</td>\n",
       "      <td>0.055959</td>\n",
       "      <td>0.039815</td>\n",
       "      <td>0.020745</td>\n",
       "      <td>-0.011356</td>\n",
       "      <td>0.096592</td>\n",
       "    </tr>\n",
       "    <tr>\n",
       "      <th>Occupation</th>\n",
       "      <td>-0.023765</td>\n",
       "      <td>0.009282</td>\n",
       "      <td>0.116892</td>\n",
       "      <td>0.093011</td>\n",
       "      <td>1.000000</td>\n",
       "      <td>0.030319</td>\n",
       "      <td>0.024348</td>\n",
       "      <td>-0.009725</td>\n",
       "      <td>-0.000260</td>\n",
       "      <td>0.021898</td>\n",
       "      <td>-0.011678</td>\n",
       "      <td>0.034753</td>\n",
       "    </tr>\n",
       "    <tr>\n",
       "      <th>Stay_In_Current_City_Years</th>\n",
       "      <td>-0.030903</td>\n",
       "      <td>-0.002916</td>\n",
       "      <td>0.014743</td>\n",
       "      <td>-0.002096</td>\n",
       "      <td>0.030319</td>\n",
       "      <td>1.000000</td>\n",
       "      <td>-0.013094</td>\n",
       "      <td>-0.003330</td>\n",
       "      <td>-0.000954</td>\n",
       "      <td>0.005051</td>\n",
       "      <td>0.011168</td>\n",
       "      <td>0.010585</td>\n",
       "    </tr>\n",
       "    <tr>\n",
       "      <th>Marital_Status</th>\n",
       "      <td>0.020273</td>\n",
       "      <td>0.012919</td>\n",
       "      <td>-0.011764</td>\n",
       "      <td>0.309573</td>\n",
       "      <td>0.024348</td>\n",
       "      <td>-0.013094</td>\n",
       "      <td>1.000000</td>\n",
       "      <td>0.018756</td>\n",
       "      <td>0.010468</td>\n",
       "      <td>0.000713</td>\n",
       "      <td>-0.001657</td>\n",
       "      <td>0.033202</td>\n",
       "    </tr>\n",
       "    <tr>\n",
       "      <th>Product_Category_1</th>\n",
       "      <td>0.002075</td>\n",
       "      <td>0.039499</td>\n",
       "      <td>-0.053345</td>\n",
       "      <td>0.055959</td>\n",
       "      <td>-0.009725</td>\n",
       "      <td>-0.003330</td>\n",
       "      <td>0.018756</td>\n",
       "      <td>1.000000</td>\n",
       "      <td>0.338537</td>\n",
       "      <td>-0.300663</td>\n",
       "      <td>0.000169</td>\n",
       "      <td>-0.023804</td>\n",
       "    </tr>\n",
       "    <tr>\n",
       "      <th>Product_Category_2</th>\n",
       "      <td>-0.001079</td>\n",
       "      <td>0.022313</td>\n",
       "      <td>-0.011992</td>\n",
       "      <td>0.039815</td>\n",
       "      <td>-0.000260</td>\n",
       "      <td>-0.000954</td>\n",
       "      <td>0.010468</td>\n",
       "      <td>0.338537</td>\n",
       "      <td>1.000000</td>\n",
       "      <td>-0.151557</td>\n",
       "      <td>-0.002225</td>\n",
       "      <td>-0.005700</td>\n",
       "    </tr>\n",
       "    <tr>\n",
       "      <th>Purchase</th>\n",
       "      <td>0.005622</td>\n",
       "      <td>-0.079720</td>\n",
       "      <td>0.062702</td>\n",
       "      <td>0.020745</td>\n",
       "      <td>0.021898</td>\n",
       "      <td>0.005051</td>\n",
       "      <td>0.000713</td>\n",
       "      <td>-0.300663</td>\n",
       "      <td>-0.151557</td>\n",
       "      <td>1.000000</td>\n",
       "      <td>-0.022818</td>\n",
       "      <td>0.069231</td>\n",
       "    </tr>\n",
       "    <tr>\n",
       "      <th>City_Category_B</th>\n",
       "      <td>0.019791</td>\n",
       "      <td>-0.005317</td>\n",
       "      <td>-0.006288</td>\n",
       "      <td>-0.011356</td>\n",
       "      <td>-0.011678</td>\n",
       "      <td>0.011168</td>\n",
       "      <td>-0.001657</td>\n",
       "      <td>0.000169</td>\n",
       "      <td>-0.002225</td>\n",
       "      <td>-0.022818</td>\n",
       "      <td>1.000000</td>\n",
       "      <td>-0.571008</td>\n",
       "    </tr>\n",
       "    <tr>\n",
       "      <th>City_Category_C</th>\n",
       "      <td>0.007944</td>\n",
       "      <td>0.006222</td>\n",
       "      <td>-0.000160</td>\n",
       "      <td>0.096592</td>\n",
       "      <td>0.034753</td>\n",
       "      <td>0.010585</td>\n",
       "      <td>0.033202</td>\n",
       "      <td>-0.023804</td>\n",
       "      <td>-0.005700</td>\n",
       "      <td>0.069231</td>\n",
       "      <td>-0.571008</td>\n",
       "      <td>1.000000</td>\n",
       "    </tr>\n",
       "  </tbody>\n",
       "</table>\n",
       "</div>"
      ],
      "text/plain": [
       "                             User_ID  Product_ID    Gender       Age  \\\n",
       "User_ID                     1.000000   -0.018453 -0.033785  0.038621   \n",
       "Product_ID                 -0.018453    1.000000  0.022485  0.027103   \n",
       "Gender                     -0.033785    0.022485  1.000000 -0.002331   \n",
       "Age                         0.038621    0.027103 -0.002331  1.000000   \n",
       "Occupation                 -0.023765    0.009282  0.116892  0.093011   \n",
       "Stay_In_Current_City_Years -0.030903   -0.002916  0.014743 -0.002096   \n",
       "Marital_Status              0.020273    0.012919 -0.011764  0.309573   \n",
       "Product_Category_1          0.002075    0.039499 -0.053345  0.055959   \n",
       "Product_Category_2         -0.001079    0.022313 -0.011992  0.039815   \n",
       "Purchase                    0.005622   -0.079720  0.062702  0.020745   \n",
       "City_Category_B             0.019791   -0.005317 -0.006288 -0.011356   \n",
       "City_Category_C             0.007944    0.006222 -0.000160  0.096592   \n",
       "\n",
       "                            Occupation  Stay_In_Current_City_Years  \\\n",
       "User_ID                      -0.023765                   -0.030903   \n",
       "Product_ID                    0.009282                   -0.002916   \n",
       "Gender                        0.116892                    0.014743   \n",
       "Age                           0.093011                   -0.002096   \n",
       "Occupation                    1.000000                    0.030319   \n",
       "Stay_In_Current_City_Years    0.030319                    1.000000   \n",
       "Marital_Status                0.024348                   -0.013094   \n",
       "Product_Category_1           -0.009725                   -0.003330   \n",
       "Product_Category_2           -0.000260                   -0.000954   \n",
       "Purchase                      0.021898                    0.005051   \n",
       "City_Category_B              -0.011678                    0.011168   \n",
       "City_Category_C               0.034753                    0.010585   \n",
       "\n",
       "                            Marital_Status  Product_Category_1  \\\n",
       "User_ID                           0.020273            0.002075   \n",
       "Product_ID                        0.012919            0.039499   \n",
       "Gender                           -0.011764           -0.053345   \n",
       "Age                               0.309573            0.055959   \n",
       "Occupation                        0.024348           -0.009725   \n",
       "Stay_In_Current_City_Years       -0.013094           -0.003330   \n",
       "Marital_Status                    1.000000            0.018756   \n",
       "Product_Category_1                0.018756            1.000000   \n",
       "Product_Category_2                0.010468            0.338537   \n",
       "Purchase                          0.000713           -0.300663   \n",
       "City_Category_B                  -0.001657            0.000169   \n",
       "City_Category_C                   0.033202           -0.023804   \n",
       "\n",
       "                            Product_Category_2  Purchase  City_Category_B  \\\n",
       "User_ID                              -0.001079  0.005622         0.019791   \n",
       "Product_ID                            0.022313 -0.079720        -0.005317   \n",
       "Gender                               -0.011992  0.062702        -0.006288   \n",
       "Age                                   0.039815  0.020745        -0.011356   \n",
       "Occupation                           -0.000260  0.021898        -0.011678   \n",
       "Stay_In_Current_City_Years           -0.000954  0.005051         0.011168   \n",
       "Marital_Status                        0.010468  0.000713        -0.001657   \n",
       "Product_Category_1                    0.338537 -0.300663         0.000169   \n",
       "Product_Category_2                    1.000000 -0.151557        -0.002225   \n",
       "Purchase                             -0.151557  1.000000        -0.022818   \n",
       "City_Category_B                      -0.002225 -0.022818         1.000000   \n",
       "City_Category_C                      -0.005700  0.069231        -0.571008   \n",
       "\n",
       "                            City_Category_C  \n",
       "User_ID                            0.007944  \n",
       "Product_ID                         0.006222  \n",
       "Gender                            -0.000160  \n",
       "Age                                0.096592  \n",
       "Occupation                         0.034753  \n",
       "Stay_In_Current_City_Years         0.010585  \n",
       "Marital_Status                     0.033202  \n",
       "Product_Category_1                -0.023804  \n",
       "Product_Category_2                -0.005700  \n",
       "Purchase                           0.069231  \n",
       "City_Category_B                   -0.571008  \n",
       "City_Category_C                    1.000000  "
      ]
     },
     "execution_count": 59,
     "metadata": {},
     "output_type": "execute_result"
    }
   ],
   "source": [
    "df.corr()"
   ]
  },
  {
   "cell_type": "code",
   "execution_count": 60,
   "id": "819b7757",
   "metadata": {},
   "outputs": [
    {
     "data": {
      "text/plain": [
       "Product_Category_1           -0.300663\n",
       "Product_Category_2           -0.151557\n",
       "Product_ID                   -0.079720\n",
       "City_Category_B              -0.022818\n",
       "Marital_Status                0.000713\n",
       "Stay_In_Current_City_Years    0.005051\n",
       "User_ID                       0.005622\n",
       "Age                           0.020745\n",
       "Occupation                    0.021898\n",
       "Gender                        0.062702\n",
       "City_Category_C               0.069231\n",
       "Purchase                      1.000000\n",
       "Name: Purchase, dtype: float64"
      ]
     },
     "execution_count": 60,
     "metadata": {},
     "output_type": "execute_result"
    }
   ],
   "source": [
    "# let's check the correation with Purchase\n",
    "df.corr()['Purchase'].sort_values()\n"
   ]
  },
  {
   "cell_type": "code",
   "execution_count": 61,
   "id": "8817ee07",
   "metadata": {},
   "outputs": [
    {
     "data": {
      "image/png": "[encoded data removed]",
      "text/plain": [
       "<Figure size 1008x576 with 1 Axes>"
      ]
     },
     "metadata": {
      "needs_background": "light"
     },
     "output_type": "display_data"
    }
   ],
   "source": [
    "df.drop('Purchase',axis=1).corrwith(df.Purchase).plot(kind='bar',grid=True,figsize=(14,8))\n",
    "plt.show()"
   ]
  },
  {
   "cell_type": "code",
   "execution_count": 62,
   "id": "fdec4077",
   "metadata": {},
   "outputs": [
    {
     "data": {
      "text/plain": [
       "<AxesSubplot:>"
      ]
     },
     "execution_count": 62,
     "metadata": {},
     "output_type": "execute_result"
    },
    {
     "data": {
      "image/png": "[encoded data removed]",
      "text/plain": [
       "<Figure size 1584x1080 with 2 Axes>"
      ]
     },
     "metadata": {
      "needs_background": "light"
     },
     "output_type": "display_data"
    }
   ],
   "source": [
    "#Heatmap to show the correlation between various variables of the train data set\n",
    "# let's check correlation using heatmap\n",
    "plt.figure(figsize=(22,15))\n",
    "sns.heatmap(df.corr(),annot =True,fmt  = '.0%')"
   ]
  },
  {
   "cell_type": "markdown",
   "id": "d6da2dd9",
   "metadata": {},
   "source": [
    "### Skewness"
   ]
  },
  {
   "cell_type": "code",
   "execution_count": 63,
   "id": "afd9d8e2",
   "metadata": {},
   "outputs": [
    {
     "data": {
      "text/plain": [
       "Gender                       -1.171181\n",
       "Product_Category_2           -0.161967\n",
       "User_ID                       0.004182\n",
       "Product_ID                    0.131452\n",
       "Age                           0.243659\n",
       "Stay_In_Current_City_Years    0.316397\n",
       "City_Category_B               0.319604\n",
       "Marital_Status                0.369216\n",
       "Occupation                    0.401297\n",
       "Purchase                      0.622198\n",
       "Product_Category_1            0.771758\n",
       "City_Category_C               0.824151\n",
       "dtype: float64"
      ]
     },
     "execution_count": 63,
     "metadata": {},
     "output_type": "execute_result"
    }
   ],
   "source": [
    "df.skew().sort_values()"
   ]
  },
  {
   "cell_type": "markdown",
   "id": "1289b200",
   "metadata": {},
   "source": [
    "## Dividing data in features and label"
   ]
  },
  {
   "cell_type": "code",
   "execution_count": 64,
   "id": "4c37a609",
   "metadata": {},
   "outputs": [
    {
     "data": {
      "text/html": [
       "<div>\n",
       "<style scoped>\n",
       "    .dataframe tbody tr th:only-of-type {\n",
       "        vertical-align: middle;\n",
       "    }\n",
       "\n",
       "    .dataframe tbody tr th {\n",
       "        vertical-align: top;\n",
       "    }\n",
       "\n",
       "    .dataframe thead th {\n",
       "        text-align: right;\n",
       "    }\n",
       "</style>\n",
       "<table border=\"1\" class=\"dataframe\">\n",
       "  <thead>\n",
       "    <tr style=\"text-align: right;\">\n",
       "      <th></th>\n",
       "      <th>User_ID</th>\n",
       "      <th>Product_ID</th>\n",
       "      <th>Gender</th>\n",
       "      <th>Age</th>\n",
       "      <th>Occupation</th>\n",
       "      <th>Stay_In_Current_City_Years</th>\n",
       "      <th>Marital_Status</th>\n",
       "      <th>Product_Category_1</th>\n",
       "      <th>Product_Category_2</th>\n",
       "      <th>City_Category_B</th>\n",
       "      <th>City_Category_C</th>\n",
       "    </tr>\n",
       "  </thead>\n",
       "  <tbody>\n",
       "    <tr>\n",
       "      <th>0</th>\n",
       "      <td>1</td>\n",
       "      <td>69042</td>\n",
       "      <td>0</td>\n",
       "      <td>9</td>\n",
       "      <td>10</td>\n",
       "      <td>2</td>\n",
       "      <td>0</td>\n",
       "      <td>3</td>\n",
       "      <td>8</td>\n",
       "      <td>0</td>\n",
       "      <td>0</td>\n",
       "    </tr>\n",
       "    <tr>\n",
       "      <th>1</th>\n",
       "      <td>1</td>\n",
       "      <td>248942</td>\n",
       "      <td>0</td>\n",
       "      <td>9</td>\n",
       "      <td>10</td>\n",
       "      <td>2</td>\n",
       "      <td>0</td>\n",
       "      <td>1</td>\n",
       "      <td>6</td>\n",
       "      <td>0</td>\n",
       "      <td>0</td>\n",
       "    </tr>\n",
       "    <tr>\n",
       "      <th>2</th>\n",
       "      <td>1</td>\n",
       "      <td>87842</td>\n",
       "      <td>0</td>\n",
       "      <td>9</td>\n",
       "      <td>10</td>\n",
       "      <td>2</td>\n",
       "      <td>0</td>\n",
       "      <td>12</td>\n",
       "      <td>5</td>\n",
       "      <td>0</td>\n",
       "      <td>0</td>\n",
       "    </tr>\n",
       "    <tr>\n",
       "      <th>3</th>\n",
       "      <td>1</td>\n",
       "      <td>85442</td>\n",
       "      <td>0</td>\n",
       "      <td>9</td>\n",
       "      <td>10</td>\n",
       "      <td>2</td>\n",
       "      <td>0</td>\n",
       "      <td>12</td>\n",
       "      <td>14</td>\n",
       "      <td>0</td>\n",
       "      <td>0</td>\n",
       "    </tr>\n",
       "    <tr>\n",
       "      <th>4</th>\n",
       "      <td>2</td>\n",
       "      <td>285442</td>\n",
       "      <td>1</td>\n",
       "      <td>60</td>\n",
       "      <td>16</td>\n",
       "      <td>4</td>\n",
       "      <td>0</td>\n",
       "      <td>8</td>\n",
       "      <td>9</td>\n",
       "      <td>0</td>\n",
       "      <td>1</td>\n",
       "    </tr>\n",
       "  </tbody>\n",
       "</table>\n",
       "</div>"
      ],
      "text/plain": [
       "   User_ID  Product_ID  Gender  Age  Occupation  Stay_In_Current_City_Years  \\\n",
       "0        1       69042       0    9          10                           2   \n",
       "1        1      248942       0    9          10                           2   \n",
       "2        1       87842       0    9          10                           2   \n",
       "3        1       85442       0    9          10                           2   \n",
       "4        2      285442       1   60          16                           4   \n",
       "\n",
       "   Marital_Status  Product_Category_1  Product_Category_2  City_Category_B  \\\n",
       "0               0                   3                   8                0   \n",
       "1               0                   1                   6                0   \n",
       "2               0                  12                   5                0   \n",
       "3               0                  12                  14                0   \n",
       "4               0                   8                   9                0   \n",
       "\n",
       "   City_Category_C  \n",
       "0                0  \n",
       "1                0  \n",
       "2                0  \n",
       "3                0  \n",
       "4                1  "
      ]
     },
     "execution_count": 64,
     "metadata": {},
     "output_type": "execute_result"
    }
   ],
   "source": [
    "x = df.drop('Purchase',axis = 1)\n",
    "x.head()"
   ]
  },
  {
   "cell_type": "code",
   "execution_count": 65,
   "id": "c2a06dc7",
   "metadata": {},
   "outputs": [],
   "source": [
    "y=df['Purchase']"
   ]
  },
  {
   "cell_type": "markdown",
   "id": "547e223c",
   "metadata": {},
   "source": [
    "### Removal of skewness using Power Transformer as values are negative we are using 'yeo-johnson' method for removing skewness"
   ]
  },
  {
   "cell_type": "code",
   "execution_count": 66,
   "id": "5851b39c",
   "metadata": {},
   "outputs": [
    {
     "data": {
      "text/html": [
       "<div>\n",
       "<style scoped>\n",
       "    .dataframe tbody tr th:only-of-type {\n",
       "        vertical-align: middle;\n",
       "    }\n",
       "\n",
       "    .dataframe tbody tr th {\n",
       "        vertical-align: top;\n",
       "    }\n",
       "\n",
       "    .dataframe thead th {\n",
       "        text-align: right;\n",
       "    }\n",
       "</style>\n",
       "<table border=\"1\" class=\"dataframe\">\n",
       "  <thead>\n",
       "    <tr style=\"text-align: right;\">\n",
       "      <th></th>\n",
       "      <th>User_ID</th>\n",
       "      <th>Product_ID</th>\n",
       "      <th>Gender</th>\n",
       "      <th>Age</th>\n",
       "      <th>Occupation</th>\n",
       "      <th>Stay_In_Current_City_Years</th>\n",
       "      <th>Marital_Status</th>\n",
       "      <th>Product_Category_1</th>\n",
       "      <th>Product_Category_2</th>\n",
       "      <th>City_Category_B</th>\n",
       "      <th>City_Category_C</th>\n",
       "    </tr>\n",
       "  </thead>\n",
       "  <tbody>\n",
       "    <tr>\n",
       "      <th>0</th>\n",
       "      <td>-2.209964</td>\n",
       "      <td>-0.979483</td>\n",
       "      <td>-1.744431</td>\n",
       "      <td>-2.590937</td>\n",
       "      <td>0.498020</td>\n",
       "      <td>0.238018</td>\n",
       "      <td>-0.832290</td>\n",
       "      <td>-0.467449</td>\n",
       "      <td>-0.315498</td>\n",
       "      <td>-0.852886</td>\n",
       "      <td>-0.669501</td>\n",
       "    </tr>\n",
       "    <tr>\n",
       "      <th>1</th>\n",
       "      <td>-2.209964</td>\n",
       "      <td>0.768411</td>\n",
       "      <td>-1.744431</td>\n",
       "      <td>-2.590937</td>\n",
       "      <td>0.498020</td>\n",
       "      <td>0.238018</td>\n",
       "      <td>-0.832290</td>\n",
       "      <td>-1.383363</td>\n",
       "      <td>-0.720240</td>\n",
       "      <td>-0.852886</td>\n",
       "      <td>-0.669501</td>\n",
       "    </tr>\n",
       "    <tr>\n",
       "      <th>2</th>\n",
       "      <td>-2.209964</td>\n",
       "      <td>-0.754316</td>\n",
       "      <td>-1.744431</td>\n",
       "      <td>-2.590937</td>\n",
       "      <td>0.498020</td>\n",
       "      <td>0.238018</td>\n",
       "      <td>-0.832290</td>\n",
       "      <td>1.561595</td>\n",
       "      <td>-0.929662</td>\n",
       "      <td>-0.852886</td>\n",
       "      <td>-0.669501</td>\n",
       "    </tr>\n",
       "    <tr>\n",
       "      <th>3</th>\n",
       "      <td>-2.209964</td>\n",
       "      <td>-0.782096</td>\n",
       "      <td>-1.744431</td>\n",
       "      <td>-2.590937</td>\n",
       "      <td>0.498020</td>\n",
       "      <td>0.238018</td>\n",
       "      <td>-0.832290</td>\n",
       "      <td>1.561595</td>\n",
       "      <td>0.821250</td>\n",
       "      <td>-0.852886</td>\n",
       "      <td>-0.669501</td>\n",
       "    </tr>\n",
       "    <tr>\n",
       "      <th>4</th>\n",
       "      <td>-2.205742</td>\n",
       "      <td>1.058978</td>\n",
       "      <td>0.573253</td>\n",
       "      <td>2.090559</td>\n",
       "      <td>1.130860</td>\n",
       "      <td>1.492741</td>\n",
       "      <td>-0.832290</td>\n",
       "      <td>0.855490</td>\n",
       "      <td>-0.118916</td>\n",
       "      <td>-0.852886</td>\n",
       "      <td>1.493650</td>\n",
       "    </tr>\n",
       "    <tr>\n",
       "      <th>5</th>\n",
       "      <td>-2.201915</td>\n",
       "      <td>0.298425</td>\n",
       "      <td>0.573253</td>\n",
       "      <td>-0.318343</td>\n",
       "      <td>1.036385</td>\n",
       "      <td>0.910630</td>\n",
       "      <td>-0.832290</td>\n",
       "      <td>-1.383363</td>\n",
       "      <td>-1.599955</td>\n",
       "      <td>-0.852886</td>\n",
       "      <td>-0.669501</td>\n",
       "    </tr>\n",
       "    <tr>\n",
       "      <th>6</th>\n",
       "      <td>-2.198357</td>\n",
       "      <td>0.221661</td>\n",
       "      <td>0.573253</td>\n",
       "      <td>1.140995</td>\n",
       "      <td>0.096571</td>\n",
       "      <td>0.238018</td>\n",
       "      <td>1.201505</td>\n",
       "      <td>-1.383363</td>\n",
       "      <td>-0.315498</td>\n",
       "      <td>1.172489</td>\n",
       "      <td>-0.669501</td>\n",
       "    </tr>\n",
       "    <tr>\n",
       "      <th>7</th>\n",
       "      <td>-2.198357</td>\n",
       "      <td>1.516217</td>\n",
       "      <td>0.573253</td>\n",
       "      <td>1.140995</td>\n",
       "      <td>0.096571</td>\n",
       "      <td>0.238018</td>\n",
       "      <td>1.201505</td>\n",
       "      <td>-1.383363</td>\n",
       "      <td>1.002438</td>\n",
       "      <td>1.172489</td>\n",
       "      <td>-0.669501</td>\n",
       "    </tr>\n",
       "    <tr>\n",
       "      <th>8</th>\n",
       "      <td>-2.198357</td>\n",
       "      <td>-0.647850</td>\n",
       "      <td>0.573253</td>\n",
       "      <td>1.140995</td>\n",
       "      <td>0.096571</td>\n",
       "      <td>0.238018</td>\n",
       "      <td>1.201505</td>\n",
       "      <td>-1.383363</td>\n",
       "      <td>1.181749</td>\n",
       "      <td>1.172489</td>\n",
       "      <td>-0.669501</td>\n",
       "    </tr>\n",
       "    <tr>\n",
       "      <th>9</th>\n",
       "      <td>-2.194999</td>\n",
       "      <td>0.976727</td>\n",
       "      <td>0.573253</td>\n",
       "      <td>-0.318343</td>\n",
       "      <td>1.477550</td>\n",
       "      <td>-0.579278</td>\n",
       "      <td>1.201505</td>\n",
       "      <td>0.855490</td>\n",
       "      <td>-0.315498</td>\n",
       "      <td>-0.852886</td>\n",
       "      <td>-0.669501</td>\n",
       "    </tr>\n",
       "  </tbody>\n",
       "</table>\n",
       "</div>"
      ],
      "text/plain": [
       "    User_ID  Product_ID    Gender       Age  Occupation  \\\n",
       "0 -2.209964   -0.979483 -1.744431 -2.590937    0.498020   \n",
       "1 -2.209964    0.768411 -1.744431 -2.590937    0.498020   \n",
       "2 -2.209964   -0.754316 -1.744431 -2.590937    0.498020   \n",
       "3 -2.209964   -0.782096 -1.744431 -2.590937    0.498020   \n",
       "4 -2.205742    1.058978  0.573253  2.090559    1.130860   \n",
       "5 -2.201915    0.298425  0.573253 -0.318343    1.036385   \n",
       "6 -2.198357    0.221661  0.573253  1.140995    0.096571   \n",
       "7 -2.198357    1.516217  0.573253  1.140995    0.096571   \n",
       "8 -2.198357   -0.647850  0.573253  1.140995    0.096571   \n",
       "9 -2.194999    0.976727  0.573253 -0.318343    1.477550   \n",
       "\n",
       "   Stay_In_Current_City_Years  Marital_Status  Product_Category_1  \\\n",
       "0                    0.238018       -0.832290           -0.467449   \n",
       "1                    0.238018       -0.832290           -1.383363   \n",
       "2                    0.238018       -0.832290            1.561595   \n",
       "3                    0.238018       -0.832290            1.561595   \n",
       "4                    1.492741       -0.832290            0.855490   \n",
       "5                    0.910630       -0.832290           -1.383363   \n",
       "6                    0.238018        1.201505           -1.383363   \n",
       "7                    0.238018        1.201505           -1.383363   \n",
       "8                    0.238018        1.201505           -1.383363   \n",
       "9                   -0.579278        1.201505            0.855490   \n",
       "\n",
       "   Product_Category_2  City_Category_B  City_Category_C  \n",
       "0           -0.315498        -0.852886        -0.669501  \n",
       "1           -0.720240        -0.852886        -0.669501  \n",
       "2           -0.929662        -0.852886        -0.669501  \n",
       "3            0.821250        -0.852886        -0.669501  \n",
       "4           -0.118916        -0.852886         1.493650  \n",
       "5           -1.599955        -0.852886        -0.669501  \n",
       "6           -0.315498         1.172489        -0.669501  \n",
       "7            1.002438         1.172489        -0.669501  \n",
       "8            1.181749         1.172489        -0.669501  \n",
       "9           -0.315498        -0.852886        -0.669501  "
      ]
     },
     "execution_count": 66,
     "metadata": {},
     "output_type": "execute_result"
    }
   ],
   "source": [
    "from sklearn.preprocessing import PowerTransformer\n",
    "p_transform = PowerTransformer(method = 'yeo-johnson')\n",
    "x = pd.DataFrame(p_transform.fit_transform(x), columns=x.columns)\n",
    "x.head(10)"
   ]
  },
  {
   "cell_type": "code",
   "execution_count": 67,
   "id": "9179c027",
   "metadata": {},
   "outputs": [
    {
     "data": {
      "text/plain": [
       "Gender                       -1.171181\n",
       "User_ID                      -0.276059\n",
       "Product_ID                   -0.257988\n",
       "Product_Category_2           -0.240565\n",
       "Occupation                   -0.156286\n",
       "Stay_In_Current_City_Years   -0.070054\n",
       "Product_Category_1           -0.064101\n",
       "Age                           0.001948\n",
       "City_Category_B               0.319604\n",
       "Marital_Status                0.369216\n",
       "City_Category_C               0.824151\n",
       "dtype: float64"
      ]
     },
     "execution_count": 67,
     "metadata": {},
     "output_type": "execute_result"
    }
   ],
   "source": [
    "pd.DataFrame(x).skew().sort_values()"
   ]
  },
  {
   "cell_type": "markdown",
   "id": "cd5f9286",
   "metadata": {},
   "source": [
    "### Every value will be reduced after transformation"
   ]
  },
  {
   "cell_type": "code",
   "execution_count": 68,
   "id": "f1e0f78c",
   "metadata": {},
   "outputs": [
    {
     "data": {
      "text/plain": [
       "array([[-2.20996363, -0.97948298, -1.74443061, ..., -0.31549768,\n",
       "        -0.85288615, -0.66950108],\n",
       "       [-2.20996363,  0.76841076, -1.74443061, ..., -0.72023998,\n",
       "        -0.85288615, -0.66950108],\n",
       "       [-2.20996363, -0.75431565, -1.74443061, ..., -0.92966176,\n",
       "        -0.85288615, -0.66950108],\n",
       "       ...,\n",
       "       [ 1.56941647, -1.53309534,  0.57325295, ..., -1.59995531,\n",
       "         1.17248944, -0.66950108],\n",
       "       [ 1.56941647, -0.55124626,  0.57325295, ..., -0.31549768,\n",
       "         1.17248944, -0.66950108],\n",
       "       [ 1.56941647,  0.50603396,  0.57325295, ..., -1.59995531,\n",
       "         1.17248944, -0.66950108]])"
      ]
     },
     "execution_count": 68,
     "metadata": {},
     "output_type": "execute_result"
    }
   ],
   "source": [
    "# data scaling formula z = (x-mean)/std\n",
    "from sklearn.preprocessing import StandardScaler\n",
    "scaler = StandardScaler()\n",
    "x_scaled= scaler.fit_transform(x)\n",
    "x_scaled"
   ]
  },
  {
   "cell_type": "markdown",
   "id": "ba40c0a5",
   "metadata": {},
   "source": [
    "## Final features Multi-Collinearity Check using VIF**\n"
   ]
  },
  {
   "cell_type": "code",
   "execution_count": 69,
   "id": "099bab4d",
   "metadata": {},
   "outputs": [
    {
     "data": {
      "text/html": [
       "<div>\n",
       "<style scoped>\n",
       "    .dataframe tbody tr th:only-of-type {\n",
       "        vertical-align: middle;\n",
       "    }\n",
       "\n",
       "    .dataframe tbody tr th {\n",
       "        vertical-align: top;\n",
       "    }\n",
       "\n",
       "    .dataframe thead th {\n",
       "        text-align: right;\n",
       "    }\n",
       "</style>\n",
       "<table border=\"1\" class=\"dataframe\">\n",
       "  <thead>\n",
       "    <tr style=\"text-align: right;\">\n",
       "      <th></th>\n",
       "      <th>Features List</th>\n",
       "      <th>VIF Value</th>\n",
       "    </tr>\n",
       "  </thead>\n",
       "  <tbody>\n",
       "    <tr>\n",
       "      <th>0</th>\n",
       "      <td>User_ID</td>\n",
       "      <td>1.005205</td>\n",
       "    </tr>\n",
       "    <tr>\n",
       "      <th>1</th>\n",
       "      <td>Product_ID</td>\n",
       "      <td>1.003033</td>\n",
       "    </tr>\n",
       "    <tr>\n",
       "      <th>2</th>\n",
       "      <td>Gender</td>\n",
       "      <td>1.020052</td>\n",
       "    </tr>\n",
       "    <tr>\n",
       "      <th>3</th>\n",
       "      <td>Age</td>\n",
       "      <td>1.127877</td>\n",
       "    </tr>\n",
       "    <tr>\n",
       "      <th>4</th>\n",
       "      <td>Occupation</td>\n",
       "      <td>1.021092</td>\n",
       "    </tr>\n",
       "    <tr>\n",
       "      <th>5</th>\n",
       "      <td>Stay_In_Current_City_Years</td>\n",
       "      <td>1.002701</td>\n",
       "    </tr>\n",
       "    <tr>\n",
       "      <th>6</th>\n",
       "      <td>Marital_Status</td>\n",
       "      <td>1.107273</td>\n",
       "    </tr>\n",
       "    <tr>\n",
       "      <th>7</th>\n",
       "      <td>Product_Category_1</td>\n",
       "      <td>1.155592</td>\n",
       "    </tr>\n",
       "    <tr>\n",
       "      <th>8</th>\n",
       "      <td>Product_Category_2</td>\n",
       "      <td>1.145689</td>\n",
       "    </tr>\n",
       "    <tr>\n",
       "      <th>9</th>\n",
       "      <td>City_Category_B</td>\n",
       "      <td>1.491150</td>\n",
       "    </tr>\n",
       "    <tr>\n",
       "      <th>10</th>\n",
       "      <td>City_Category_C</td>\n",
       "      <td>1.504763</td>\n",
       "    </tr>\n",
       "  </tbody>\n",
       "</table>\n",
       "</div>"
      ],
      "text/plain": [
       "                 Features List  VIF Value\n",
       "0                      User_ID   1.005205\n",
       "1                   Product_ID   1.003033\n",
       "2                       Gender   1.020052\n",
       "3                          Age   1.127877\n",
       "4                   Occupation   1.021092\n",
       "5   Stay_In_Current_City_Years   1.002701\n",
       "6               Marital_Status   1.107273\n",
       "7           Product_Category_1   1.155592\n",
       "8           Product_Category_2   1.145689\n",
       "9              City_Category_B   1.491150\n",
       "10             City_Category_C   1.504763"
      ]
     },
     "execution_count": 69,
     "metadata": {},
     "output_type": "execute_result"
    }
   ],
   "source": [
    "from statsmodels.stats.outliers_influence import variance_inflation_factor\n",
    "vif_data = pd.DataFrame()\n",
    "vif_data[\"Features List\"]=x.columns\n",
    "vif_data[\"VIF Value\"]=[variance_inflation_factor(x.values, i)\n",
    "                          for i in range(len(x.columns))]\n",
    "vif_data"
   ]
  },
  {
   "cell_type": "markdown",
   "id": "df63f6d5",
   "metadata": {},
   "source": [
    "### There is no sign of Multi-collinearity\n"
   ]
  },
  {
   "cell_type": "code",
   "execution_count": 70,
   "id": "a97bfbb7",
   "metadata": {},
   "outputs": [
    {
     "data": {
      "image/png": "[encoded data removed]",
      "text/plain": [
       "<Figure size 1296x1440 with 11 Axes>"
      ]
     },
     "metadata": {
      "needs_background": "light"
     },
     "output_type": "display_data"
    }
   ],
   "source": [
    "# let's visualize the data after correcting skewness\n",
    "plt.figure(figsize=(18,20))\n",
    "plotnumber=1\n",
    "for column in x:\n",
    "    if plotnumber<=12:\n",
    "        plt.subplot(3,4,plotnumber)\n",
    "        ax=sns.distplot(x[column])\n",
    "        \n",
    "    plotnumber+=1\n",
    "    \n",
    "plt.show()    "
   ]
  },
  {
   "cell_type": "markdown",
   "id": "a4bf6771",
   "metadata": {},
   "source": [
    "### Skewness has been corrected and data is distributed normally. Now ,our model is ready for model building\n"
   ]
  },
  {
   "cell_type": "markdown",
   "id": "949c34b0",
   "metadata": {},
   "source": [
    "# Model selection/predictions\n"
   ]
  },
  {
   "cell_type": "markdown",
   "id": "749a6cb2",
   "metadata": {},
   "source": [
    "## Regression because our Target variable 'Purchase' is continuous.\n"
   ]
  },
  {
   "cell_type": "code",
   "execution_count": 71,
   "id": "f50e166b",
   "metadata": {},
   "outputs": [],
   "source": [
    "from sklearn.metrics import r2_score\n",
    "from sklearn.linear_model import LinearRegression\n",
    "from sklearn.tree import DecisionTreeRegressor\n",
    "from sklearn.ensemble import RandomForestRegressor\n",
    "from sklearn.neighbors import KNeighborsRegressor\n",
    "from sklearn.model_selection import cross_val_score\n",
    "from sklearn.linear_model import Ridge,Lasso,RidgeCV,LassoCV\n",
    "from sklearn.model_selection import train_test_split,GridSearchCV,RandomizedSearchCV\n",
    "from sklearn.metrics import mean_squared_error,mean_absolute_error"
   ]
  },
  {
   "cell_type": "markdown",
   "id": "bad86728",
   "metadata": {},
   "source": [
    "### Finding the best Random state and maximum accuracy"
   ]
  },
  {
   "cell_type": "code",
   "execution_count": 72,
   "id": "961124e1",
   "metadata": {},
   "outputs": [
    {
     "name": "stdout",
     "output_type": "stream",
     "text": [
      "Best r2 score is 0.1750629652596759 on Random State 363\n"
     ]
    }
   ],
   "source": [
    "maxAccu=0\n",
    "maxRS=0\n",
    "\n",
    "for i in range(1,500):\n",
    "    X_train, X_test, Y_train, Y_test = train_test_split(x, y, test_size=0.20, random_state=i)\n",
    "    lr=LinearRegression()\n",
    "    lr.fit(X_train, Y_train)\n",
    "    pred = lr.predict(X_test)\n",
    "    r2 = r2_score(Y_test, pred)\n",
    "    \n",
    "    if r2>maxAccu:\n",
    "        maxAccu=r2\n",
    "        maxRS=i\n",
    "\n",
    "print(\"Best r2 score is\", maxAccu,\"on Random State\", maxRS)"
   ]
  },
  {
   "cell_type": "markdown",
   "id": "f3117fcb",
   "metadata": {},
   "source": [
    "**Splitting the data into Training and Testing**"
   ]
  },
  {
   "cell_type": "code",
   "execution_count": 73,
   "id": "3545c6f8",
   "metadata": {},
   "outputs": [],
   "source": [
    "X_train, X_test, Y_train, Y_test = train_test_split(x, y, test_size=0.25, random_state=363)"
   ]
  },
  {
   "cell_type": "markdown",
   "id": "7228fd74",
   "metadata": {},
   "source": [
    "**I am defining a function for splitting of the Training and Testing features alongwith Target, then it trains the model soon after training it predicts the Target and calculates RMSE score with R2 score alongwith this it calculates the Cross Validation score and finally it finds the difference between the R2 score and Cross Validation score.**"
   ]
  },
  {
   "cell_type": "code",
   "execution_count": 74,
   "id": "54d0a2a3",
   "metadata": {},
   "outputs": [],
   "source": [
    "# Regression Model Function\n",
    "\n",
    "def reg(model, x, y):\n",
    "    X_train, X_test, Y_train, Y_test = train_test_split(x, y, test_size=0.20, random_state=363)\n",
    "    \n",
    "    #Training the model\n",
    "    model.fit(X_train, Y_train)\n",
    "    \n",
    "    #Predicting Y_test\n",
    "    pred = model.predict(X_test)\n",
    "    \n",
    "    #RMSE\n",
    "    rmse = mean_squared_error(Y_test, pred, squared=False)\n",
    "    print(\"RMSE Score is:\", rmse)\n",
    "    \n",
    "    #R2 score\n",
    "    r2 = r2_score(Y_test, pred, multioutput='variance_weighted')*100\n",
    "    print(\"R2 Score is:\", r2)\n",
    "    \n",
    "    #CV Score\n",
    "    cv_score = (cross_val_score(model, x, y, cv=5).mean())*100\n",
    "    print(\"Cross Validation Score:\", cv_score)\n",
    "    \n",
    "    #Difference\n",
    "    result = r2 - cv_score\n",
    "    print(\"R2 Score - Cross Validation Score is\", result)"
   ]
  },
  {
   "cell_type": "markdown",
   "id": "17535bcd",
   "metadata": {},
   "source": [
    "## Linear Regression"
   ]
  },
  {
   "cell_type": "code",
   "execution_count": 75,
   "id": "23b88017",
   "metadata": {},
   "outputs": [
    {
     "name": "stdout",
     "output_type": "stream",
     "text": [
      "RMSE Score is: 4504.221343428112\n",
      "R2 Score is: 17.506296525967592\n",
      "Cross Validation Score: 16.87664717060616\n",
      "R2 Score - Cross Validation Score is 0.6296493553614333\n"
     ]
    }
   ],
   "source": [
    "#Linear regression\n",
    "model=LinearRegression()\n",
    "reg(model, x, y)"
   ]
  },
  {
   "cell_type": "markdown",
   "id": "81b1be6a",
   "metadata": {},
   "source": [
    "**Ridge Regression**"
   ]
  },
  {
   "cell_type": "code",
   "execution_count": 76,
   "id": "acd947a4",
   "metadata": {},
   "outputs": [
    {
     "name": "stdout",
     "output_type": "stream",
     "text": [
      "RMSE Score is: 4504.500641237785\n",
      "R2 Score is: 17.496065667722704\n",
      "Cross Validation Score: 16.874945075755917\n",
      "R2 Score - Cross Validation Score is 0.6211205919667862\n"
     ]
    }
   ],
   "source": [
    "# Ridge Regression\n",
    "\n",
    "model=Ridge(alpha=1e-2, normalize=True)\n",
    "reg(model, x, y)"
   ]
  },
  {
   "cell_type": "markdown",
   "id": "0213f3b3",
   "metadata": {},
   "source": [
    "## Decision Tree Regressor"
   ]
  },
  {
   "cell_type": "code",
   "execution_count": 77,
   "id": "b3e7b3b5",
   "metadata": {},
   "outputs": [
    {
     "name": "stdout",
     "output_type": "stream",
     "text": [
      "RMSE Score is: 4039.518028929964\n",
      "R2 Score is: 33.650072218896796\n",
      "Cross Validation Score: 33.481776272564986\n",
      "R2 Score - Cross Validation Score is 0.1682959463318099\n"
     ]
    }
   ],
   "source": [
    "# Decision Tree Regressor\n",
    "model=DecisionTreeRegressor(criterion=\"poisson\")\n",
    "reg(model, x, y)"
   ]
  },
  {
   "cell_type": "markdown",
   "id": "4e189eb0",
   "metadata": {},
   "source": [
    "## Random Forest Regressor"
   ]
  },
  {
   "cell_type": "code",
   "execution_count": 78,
   "id": "582b34b9",
   "metadata": {},
   "outputs": [
    {
     "name": "stdout",
     "output_type": "stream",
     "text": [
      "RMSE Score is: 4375.5758835941\n",
      "R2 Score is: 22.151223229008988\n",
      "Cross Validation Score: 21.036408480709817\n",
      "R2 Score - Cross Validation Score is 1.114814748299171\n"
     ]
    }
   ],
   "source": [
    "# Random Forest Regressor\n",
    "\n",
    "model=RandomForestRegressor(max_depth=2, max_features=\"sqrt\")\n",
    "reg(model, x, y)"
   ]
  },
  {
   "cell_type": "markdown",
   "id": "5ffb1b11",
   "metadata": {},
   "source": [
    "## KNeighbors Regressor"
   ]
  },
  {
   "cell_type": "code",
   "execution_count": 79,
   "id": "f5721ddc",
   "metadata": {},
   "outputs": [
    {
     "name": "stdout",
     "output_type": "stream",
     "text": [
      "RMSE Score is: 4353.610002797515\n",
      "R2 Score is: 22.93088047085433\n",
      "Cross Validation Score: 21.72850796014986\n",
      "R2 Score - Cross Validation Score is 1.2023725107044712\n"
     ]
    }
   ],
   "source": [
    "# K Neighbors Regressor\n",
    "\n",
    "KNeighborsRegressor(n_neighbors=2, algorithm='kd_tree')\n",
    "reg(model,x,y)"
   ]
  },
  {
   "cell_type": "markdown",
   "id": "107afdcb",
   "metadata": {},
   "source": [
    "## Save the model"
   ]
  },
  {
   "cell_type": "code",
   "execution_count": 81,
   "id": "4a9cccbf",
   "metadata": {},
   "outputs": [
    {
     "data": {
      "text/plain": [
       "['Black Friday.pkl']"
      ]
     },
     "execution_count": 81,
     "metadata": {},
     "output_type": "execute_result"
    }
   ],
   "source": [
    "import joblib\n",
    "dt=DecisionTreeRegressor()\n",
    "joblib.dump(dt,'Black Friday.pkl')"
   ]
  },
  {
   "cell_type": "code",
   "execution_count": null,
   "id": "15bccf94",
   "metadata": {},
   "outputs": [],
   "source": []
  }
 ],
 "metadata": {
  "kernelspec": {
   "display_name": "Python 3 (ipykernel)",
   "language": "python",
   "name": "python3"
  },
  "language_info": {
   "codemirror_mode": {
    "name": "ipython",
    "version": 3
   },
   "file_extension": ".py",
   "mimetype": "text/x-python",
   "name": "python",
   "nbconvert_exporter": "python",
   "pygments_lexer": "ipython3",
   "version": "3.9.12"
  }
 },
 "nbformat": 4,
 "nbformat_minor": 5
}
