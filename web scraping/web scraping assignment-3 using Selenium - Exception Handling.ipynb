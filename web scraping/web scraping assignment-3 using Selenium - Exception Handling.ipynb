{
 "cells": [
  {
   "cell_type": "markdown",
   "id": "65385cc2",
   "metadata": {},
   "source": [
    "## WEB SCRAPING-ASSIGNMENT-3\n"
   ]
  },
  {
   "cell_type": "markdown",
   "id": "974b9458",
   "metadata": {},
   "source": [
    "## 1. Write a python program which searches all the product under a particular product from www.amazon.in. The product to be searched will be taken as input from user. For e.g. If user input is ‘guitar’. Then search for guitars.\n"
   ]
  },
  {
   "cell_type": "code",
   "execution_count": 147,
   "id": "4b4b0ec4",
   "metadata": {},
   "outputs": [
    {
     "name": "stderr",
     "output_type": "stream",
     "text": [
      "C:\\Users\\EXPERT SOLUTION\\AppData\\Local\\Temp\\ipykernel_3348\\1803948374.py:12: DeprecationWarning: executable_path has been deprecated, please pass in a Service object\n",
      "  driver = webdriver.Chrome('chromedriver.exe')\n"
     ]
    }
   ],
   "source": [
    "# import required libraries\n",
    "import pandas as pd\n",
    "import selenium\n",
    "import time \n",
    "# import selenium webdriver\n",
    "from selenium import webdriver\n",
    "# importing required exceptions which need to handled\n",
    "from selenium.common.exceptions import StaleElementReferenceException,NoSuchElementException\n",
    "# importing regex\n",
    "import re\n",
    "from selenium.webdriver.common.by import By\n",
    "driver = webdriver.Chrome('chromedriver.exe')"
   ]
  },
  {
   "cell_type": "code",
   "execution_count": 148,
   "id": "ddef568c",
   "metadata": {},
   "outputs": [],
   "source": [
    "driver.get('https://www.amazon.in/')"
   ]
  },
  {
   "cell_type": "code",
   "execution_count": 149,
   "id": "74ce68f0",
   "metadata": {},
   "outputs": [],
   "source": [
    "search_field = driver.find_element(By.XPATH,'/html/body/div[1]/header/div/div[1]/div[2]/div/form/div[2]/div[1]/input')\n",
    "search_field.send_keys('Guitar')"
   ]
  },
  {
   "cell_type": "code",
   "execution_count": 150,
   "id": "242a8ab3",
   "metadata": {},
   "outputs": [],
   "source": [
    "search_button = driver.find_element(By.XPATH,'/html/body/div[1]/header/div/div[1]/div[2]/div/form/div[3]/div/span/input')\n",
    "search_button.click()"
   ]
  },
  {
   "cell_type": "markdown",
   "id": "ab66abab",
   "metadata": {},
   "source": [
    "## 2. In the above question, now scrape the following details of each product listed in first 3 pages of your search results and save it in a data frame and csv. In case if any product has less than 3 pages in search results then scrape all the products available under that product name. Details to be scraped are: \"Brand Name\", \"Name of the Product\", \"Price\", \"Return/Exchange\", \"Expected Delivery\", \"Availability\" and “Product URL”. In case, if any of the details are missing for any of the product then replace it by “-“.\n"
   ]
  },
  {
   "cell_type": "markdown",
   "id": "d8bc16a9",
   "metadata": {},
   "source": [
    "## Extract brand name"
   ]
  },
  {
   "cell_type": "code",
   "execution_count": 151,
   "id": "43c5cf5c",
   "metadata": {},
   "outputs": [
    {
     "data": {
      "text/plain": [
       "180"
      ]
     },
     "execution_count": 151,
     "metadata": {},
     "output_type": "execute_result"
    }
   ],
   "source": [
    "# Let's extract all web elements having brands using relative xpath\n",
    "brand = []\n",
    "\n",
    "for page in range(1,4,1):\n",
    "    \n",
    "    brand_tag = driver.find_elements(By.XPATH,'//h2[@class=\"a-size-mini a-spacing-none a-color-base s-line-clamp-4\"]')\n",
    "    for i in brand_tag:\n",
    "        brand.append(i.text.split( )[0])\n",
    "len(brand)        \n",
    "\n",
    "        ##next_btn = driver.find_element(By.XPATH,'/html/body/div[1]/div[2]/div[1]/div[1]/div/span[1]/div[1]/div[66]/div/div/span/a[4]')\n",
    "#next_btn.click()\n",
    "#time.sleep(3)\n",
    "#brand\n",
    "    "
   ]
  },
  {
   "cell_type": "markdown",
   "id": "85f9dadc",
   "metadata": {},
   "source": [
    "## Extract Product name"
   ]
  },
  {
   "cell_type": "code",
   "execution_count": 152,
   "id": "8c900d5b",
   "metadata": {},
   "outputs": [
    {
     "data": {
      "text/plain": [
       "180"
      ]
     },
     "execution_count": 152,
     "metadata": {},
     "output_type": "execute_result"
    }
   ],
   "source": [
    "# Let's extract all web elements having productname using relative xpath\n",
    "product = []\n",
    "\n",
    "for page in range(1,4,1):\n",
    "    \n",
    "    product_tag = driver.find_elements(By.XPATH,'//h2[@class=\"a-size-mini a-spacing-none a-color-base s-line-clamp-4\"]')\n",
    "    for i in product_tag:\n",
    "        product.append(i.text.split( )[1])\n",
    "len(product)        \n"
   ]
  },
  {
   "cell_type": "markdown",
   "id": "ba7da0f6",
   "metadata": {},
   "source": [
    "## extract Price"
   ]
  },
  {
   "cell_type": "code",
   "execution_count": 160,
   "id": "a8c24788",
   "metadata": {},
   "outputs": [],
   "source": [
    "# Let's extract all web elements having price using relative xpath\n",
    "price = []\n",
    "try:\n",
    "    for page in range(1,4,1):\n",
    "    \n",
    "        price_tag = driver.find_elements(By.XPATH,'//span[@class=\"a-price-whole\"]')\n",
    "        for i in price_tag:\n",
    "            price.append(i.text)\n",
    "except NoSuchElementException:\n",
    "    price.append('-')\n",
    "pric =price[0:180]        \n"
   ]
  },
  {
   "cell_type": "markdown",
   "id": "e27264f4",
   "metadata": {},
   "source": [
    "## Extract Extected delivery"
   ]
  },
  {
   "cell_type": "code",
   "execution_count": 166,
   "id": "e6321ee7",
   "metadata": {},
   "outputs": [
    {
     "data": {
      "text/plain": [
       "['Monday, November 28',\n",
       " 'Sunday, November 27',\n",
       " 'Sunday, November 27',\n",
       " 'Sunday, November 27',\n",
       " 'Sunday, November 27',\n",
       " 'Sunday, November 27',\n",
       " 'Thursday, November 24',\n",
       " 'Monday, November 28',\n",
       " 'Wednesday, November 30',\n",
       " 'Thursday, November 24',\n",
       " 'Sunday, November 27',\n",
       " 'Thursday, November 24',\n",
       " 'Monday, November 28',\n",
       " 'Sunday, November 27',\n",
       " 'Saturday, November 26',\n",
       " 'Sunday, November 27',\n",
       " 'Monday, November 28',\n",
       " 'Sunday, November 27',\n",
       " 'Sunday, November 27',\n",
       " 'Sunday, November 27',\n",
       " 'Sunday, November 27',\n",
       " 'Sunday, November 27',\n",
       " 'Thursday, November 24',\n",
       " 'Friday, November 25',\n",
       " 'Monday, November 28',\n",
       " 'Sunday, November 27',\n",
       " 'Saturday, November 26',\n",
       " 'Saturday, November 26',\n",
       " 'Sunday, November 27',\n",
       " 'Saturday, November 26',\n",
       " 'Thursday, November 24',\n",
       " 'Thursday, November 24',\n",
       " 'Sunday, November 27',\n",
       " 'Sunday, November 27',\n",
       " 'Sunday, November 27',\n",
       " 'Friday, November 25',\n",
       " 'Sunday, November 27',\n",
       " 'Monday, November 28',\n",
       " 'Sunday, November 27',\n",
       " 'Sunday, November 27',\n",
       " 'Sunday, November 27',\n",
       " 'Thursday, November 24',\n",
       " 'Sunday, November 27',\n",
       " 'Thursday, November 24',\n",
       " 'Saturday, November 26',\n",
       " 'Sunday, November 27',\n",
       " 'Thursday, November 24',\n",
       " 'Sunday, November 27',\n",
       " 'Sunday, November 27',\n",
       " 'Monday, November 28',\n",
       " 'Monday, November 28',\n",
       " 'Monday, November 28',\n",
       " 'Sunday, November 27',\n",
       " 'Sunday, November 27',\n",
       " 'Thursday, November 24',\n",
       " 'Sunday, November 27',\n",
       " 'Thursday, November 24',\n",
       " 'Thursday, November 24',\n",
       " 'Friday, November 25',\n",
       " 'Friday, November 25',\n",
       " '',\n",
       " '',\n",
       " '',\n",
       " '',\n",
       " '',\n",
       " '',\n",
       " '',\n",
       " '',\n",
       " '',\n",
       " '',\n",
       " 'Monday, November 28',\n",
       " 'Sunday, November 27',\n",
       " 'Sunday, November 27',\n",
       " 'Sunday, November 27',\n",
       " 'Sunday, November 27',\n",
       " 'Sunday, November 27',\n",
       " 'Thursday, November 24',\n",
       " 'Monday, November 28',\n",
       " 'Wednesday, November 30',\n",
       " 'Thursday, November 24',\n",
       " 'Sunday, November 27',\n",
       " 'Thursday, November 24',\n",
       " 'Monday, November 28',\n",
       " 'Sunday, November 27',\n",
       " 'Saturday, November 26',\n",
       " 'Sunday, November 27',\n",
       " 'Monday, November 28',\n",
       " 'Sunday, November 27',\n",
       " 'Sunday, November 27',\n",
       " 'Sunday, November 27',\n",
       " 'Sunday, November 27',\n",
       " 'Sunday, November 27',\n",
       " 'Thursday, November 24',\n",
       " 'Friday, November 25',\n",
       " 'Monday, November 28',\n",
       " 'Sunday, November 27',\n",
       " 'Saturday, November 26',\n",
       " 'Saturday, November 26',\n",
       " 'Sunday, November 27',\n",
       " 'Saturday, November 26',\n",
       " 'Thursday, November 24',\n",
       " 'Thursday, November 24',\n",
       " 'Sunday, November 27',\n",
       " 'Sunday, November 27',\n",
       " 'Sunday, November 27',\n",
       " 'Friday, November 25',\n",
       " 'Sunday, November 27',\n",
       " 'Monday, November 28',\n",
       " 'Sunday, November 27',\n",
       " 'Sunday, November 27',\n",
       " 'Sunday, November 27',\n",
       " 'Thursday, November 24',\n",
       " 'Sunday, November 27',\n",
       " 'Thursday, November 24',\n",
       " 'Saturday, November 26',\n",
       " 'Sunday, November 27',\n",
       " 'Thursday, November 24',\n",
       " 'Sunday, November 27',\n",
       " 'Sunday, November 27',\n",
       " 'Monday, November 28',\n",
       " 'Monday, November 28',\n",
       " 'Monday, November 28',\n",
       " 'Sunday, November 27',\n",
       " 'Sunday, November 27',\n",
       " 'Thursday, November 24',\n",
       " 'Sunday, November 27',\n",
       " 'Thursday, November 24',\n",
       " 'Thursday, November 24',\n",
       " 'Friday, November 25',\n",
       " 'Friday, November 25',\n",
       " '',\n",
       " '',\n",
       " '',\n",
       " '',\n",
       " '',\n",
       " '',\n",
       " '',\n",
       " '',\n",
       " '',\n",
       " '',\n",
       " 'Monday, November 28',\n",
       " 'Sunday, November 27',\n",
       " 'Sunday, November 27',\n",
       " 'Sunday, November 27',\n",
       " 'Sunday, November 27',\n",
       " 'Sunday, November 27',\n",
       " 'Thursday, November 24',\n",
       " 'Monday, November 28',\n",
       " 'Wednesday, November 30',\n",
       " 'Thursday, November 24',\n",
       " 'Sunday, November 27',\n",
       " 'Thursday, November 24',\n",
       " 'Monday, November 28',\n",
       " 'Sunday, November 27',\n",
       " 'Saturday, November 26',\n",
       " 'Sunday, November 27',\n",
       " 'Monday, November 28',\n",
       " 'Sunday, November 27',\n",
       " 'Sunday, November 27',\n",
       " 'Sunday, November 27',\n",
       " 'Sunday, November 27',\n",
       " 'Sunday, November 27',\n",
       " 'Thursday, November 24',\n",
       " 'Friday, November 25',\n",
       " 'Monday, November 28',\n",
       " 'Sunday, November 27',\n",
       " 'Saturday, November 26',\n",
       " 'Saturday, November 26',\n",
       " 'Sunday, November 27',\n",
       " 'Saturday, November 26',\n",
       " 'Thursday, November 24',\n",
       " 'Thursday, November 24',\n",
       " 'Sunday, November 27',\n",
       " 'Sunday, November 27',\n",
       " 'Sunday, November 27',\n",
       " 'Friday, November 25',\n",
       " 'Sunday, November 27',\n",
       " 'Monday, November 28',\n",
       " 'Sunday, November 27',\n",
       " 'Sunday, November 27']"
      ]
     },
     "execution_count": 166,
     "metadata": {},
     "output_type": "execute_result"
    }
   ],
   "source": [
    "# Let's extract all web elements having Expected delivery \n",
    "delivery=[]\n",
    "try:\n",
    "    for page in range(1,4,1):\n",
    "    \n",
    "        del_tag = driver.find_elements(By.XPATH,'//span[@class=\"a-color-base a-text-bold\"]')\n",
    "        for i in del_tag:\n",
    "            delivery.append(i.text)\n",
    "except NoSuchElementException:\n",
    "    delivery.append('-')\n",
    "deliver = delivery[0:180] \n",
    "deliver"
   ]
  },
  {
   "cell_type": "markdown",
   "id": "3ef5bce3",
   "metadata": {},
   "source": [
    "## extract product URL"
   ]
  },
  {
   "cell_type": "code",
   "execution_count": 163,
   "id": "38292924",
   "metadata": {},
   "outputs": [],
   "source": [
    "# Let's extract all web elements having product URL delivery \n",
    "p_url=[]\n",
    "try:\n",
    "    for page in range(1,4,1):\n",
    "    \n",
    "        p_url_tag = driver.find_elements(By.XPATH,'//a[@class=\"a-link-normal s-underline-text s-underline-link-text s-link-style a-text-normal\"]')\n",
    "        for i in p_url_tag:\n",
    "            p_url.append(i.get_attribute('href'))\n",
    "except NoSuchElementException:\n",
    "    p_url.append('-')\n",
    "product_url=p_url[0:180]        "
   ]
  },
  {
   "cell_type": "code",
   "execution_count": 167,
   "id": "5327eab3",
   "metadata": {},
   "outputs": [
    {
     "name": "stdout",
     "output_type": "stream",
     "text": [
      "180 180 180 180 180\n"
     ]
    }
   ],
   "source": [
    "print(len(brand),len(deliver),len(product_url),len(pric),len(product))"
   ]
  },
  {
   "cell_type": "code",
   "execution_count": 169,
   "id": "ab42189b",
   "metadata": {},
   "outputs": [
    {
     "data": {
      "text/html": [
       "<div>\n",
       "<style scoped>\n",
       "    .dataframe tbody tr th:only-of-type {\n",
       "        vertical-align: middle;\n",
       "    }\n",
       "\n",
       "    .dataframe tbody tr th {\n",
       "        vertical-align: top;\n",
       "    }\n",
       "\n",
       "    .dataframe thead th {\n",
       "        text-align: right;\n",
       "    }\n",
       "</style>\n",
       "<table border=\"1\" class=\"dataframe\">\n",
       "  <thead>\n",
       "    <tr style=\"text-align: right;\">\n",
       "      <th></th>\n",
       "      <th>Brand Nmae</th>\n",
       "      <th>Product Name</th>\n",
       "      <th>Expected Delivery</th>\n",
       "      <th>Price</th>\n",
       "      <th>Product URL</th>\n",
       "    </tr>\n",
       "  </thead>\n",
       "  <tbody>\n",
       "    <tr>\n",
       "      <th>0</th>\n",
       "      <td>Kadence</td>\n",
       "      <td>Slowhand</td>\n",
       "      <td>Monday, November 28</td>\n",
       "      <td>18,990</td>\n",
       "      <td>https://www.amazon.in/sspa/click?ie=UTF8&amp;spc=M...</td>\n",
       "    </tr>\n",
       "    <tr>\n",
       "      <th>1</th>\n",
       "      <td>Bestonl</td>\n",
       "      <td>String</td>\n",
       "      <td>Sunday, November 27</td>\n",
       "      <td>18,990</td>\n",
       "      <td>https://www.amazon.in/sspa/click?ie=UTF8&amp;spc=M...</td>\n",
       "    </tr>\n",
       "    <tr>\n",
       "      <th>2</th>\n",
       "      <td>Vault</td>\n",
       "      <td>DA40</td>\n",
       "      <td>Sunday, November 27</td>\n",
       "      <td>18,990</td>\n",
       "      <td>https://www.amazon.in/sspa/click?ie=UTF8&amp;spc=M...</td>\n",
       "    </tr>\n",
       "    <tr>\n",
       "      <th>3</th>\n",
       "      <td>Vault</td>\n",
       "      <td>EA40</td>\n",
       "      <td>Sunday, November 27</td>\n",
       "      <td>9,999</td>\n",
       "      <td>https://www.amazon.in/sspa/click?ie=UTF8&amp;spc=M...</td>\n",
       "    </tr>\n",
       "    <tr>\n",
       "      <th>4</th>\n",
       "      <td>Intern</td>\n",
       "      <td>INT-38C</td>\n",
       "      <td>Sunday, November 27</td>\n",
       "      <td>899</td>\n",
       "      <td>https://www.amazon.in/Intern-INT-38C-Acoustic-...</td>\n",
       "    </tr>\n",
       "    <tr>\n",
       "      <th>5</th>\n",
       "      <td>Juârez</td>\n",
       "      <td>Acoustic</td>\n",
       "      <td>Sunday, November 27</td>\n",
       "      <td>6,930</td>\n",
       "      <td>https://www.amazon.in/Juarez-Acoustic-Cutaway-...</td>\n",
       "    </tr>\n",
       "    <tr>\n",
       "      <th>6</th>\n",
       "      <td>Intern</td>\n",
       "      <td>INT-38C</td>\n",
       "      <td>Thursday, November 24</td>\n",
       "      <td>7,290</td>\n",
       "      <td>https://www.amazon.in/Intern-INT-38C-Acoustic-...</td>\n",
       "    </tr>\n",
       "    <tr>\n",
       "      <th>7</th>\n",
       "      <td>Yamaha</td>\n",
       "      <td>F280</td>\n",
       "      <td>Monday, November 28</td>\n",
       "      <td>2,299</td>\n",
       "      <td>https://www.amazon.in/Yamaha-F280-Acoustic-Gui...</td>\n",
       "    </tr>\n",
       "    <tr>\n",
       "      <th>8</th>\n",
       "      <td>Intern</td>\n",
       "      <td>INT-38C-BK-G</td>\n",
       "      <td>Wednesday, November 30</td>\n",
       "      <td>2,399</td>\n",
       "      <td>https://www.amazon.in/Intern-INT-38C-BK-G-Guit...</td>\n",
       "    </tr>\n",
       "    <tr>\n",
       "      <th>9</th>\n",
       "      <td>Intern</td>\n",
       "      <td>INT-38C</td>\n",
       "      <td>Thursday, November 24</td>\n",
       "      <td>2,399</td>\n",
       "      <td>https://www.amazon.in/Intern-INT-38C-Acoustic-...</td>\n",
       "    </tr>\n",
       "    <tr>\n",
       "      <th>10</th>\n",
       "      <td>Henrix</td>\n",
       "      <td>38C</td>\n",
       "      <td>Sunday, November 27</td>\n",
       "      <td>6,999</td>\n",
       "      <td>https://www.amazon.in/Henrix-Acoustic-Guitar-D...</td>\n",
       "    </tr>\n",
       "    <tr>\n",
       "      <th>11</th>\n",
       "      <td>Yamaha</td>\n",
       "      <td>FS100C</td>\n",
       "      <td>Thursday, November 24</td>\n",
       "      <td>7,299</td>\n",
       "      <td>https://www.amazon.in/Yamaha-FS-100C-6-String-...</td>\n",
       "    </tr>\n",
       "    <tr>\n",
       "      <th>12</th>\n",
       "      <td>Juarez</td>\n",
       "      <td>Acoustic</td>\n",
       "      <td>Monday, November 28</td>\n",
       "      <td>2,299</td>\n",
       "      <td>https://www.amazon.in/Juarez-Acoustic-Guitar-C...</td>\n",
       "    </tr>\n",
       "    <tr>\n",
       "      <th>13</th>\n",
       "      <td>Juarez</td>\n",
       "      <td>Acoustic</td>\n",
       "      <td>Sunday, November 27</td>\n",
       "      <td>2,399</td>\n",
       "      <td>https://www.amazon.in/JUAREZ-JRZ38C-Acoustic-S...</td>\n",
       "    </tr>\n",
       "    <tr>\n",
       "      <th>14</th>\n",
       "      <td>Juarez</td>\n",
       "      <td>Acoustic</td>\n",
       "      <td>Saturday, November 26</td>\n",
       "      <td>2,799</td>\n",
       "      <td>https://www.amazon.in/Fender-Dread-String-Acou...</td>\n",
       "    </tr>\n",
       "    <tr>\n",
       "      <th>15</th>\n",
       "      <td>Juarez</td>\n",
       "      <td>Acoustic</td>\n",
       "      <td>Sunday, November 27</td>\n",
       "      <td>9,100</td>\n",
       "      <td>https://www.amazon.in/Yamaha-FS100C-Acoustic-G...</td>\n",
       "    </tr>\n",
       "    <tr>\n",
       "      <th>16</th>\n",
       "      <td>Yamaha</td>\n",
       "      <td>F280</td>\n",
       "      <td>Monday, November 28</td>\n",
       "      <td>2,330</td>\n",
       "      <td>https://www.amazon.in/Rosewood-Fretboard-Acous...</td>\n",
       "    </tr>\n",
       "    <tr>\n",
       "      <th>17</th>\n",
       "      <td>YAMAHA</td>\n",
       "      <td>FS80C</td>\n",
       "      <td>Sunday, November 27</td>\n",
       "      <td>2,639</td>\n",
       "      <td>https://www.amazon.in/Kadence-6-strings-Acoust...</td>\n",
       "    </tr>\n",
       "    <tr>\n",
       "      <th>18</th>\n",
       "      <td>Musical</td>\n",
       "      <td>String</td>\n",
       "      <td>Sunday, November 27</td>\n",
       "      <td>12,807</td>\n",
       "      <td>https://www.amazon.in/Juarez-Acoustic-Guitar-C...</td>\n",
       "    </tr>\n",
       "    <tr>\n",
       "      <th>19</th>\n",
       "      <td>Juarez</td>\n",
       "      <td>Acoustic</td>\n",
       "      <td>Sunday, November 27</td>\n",
       "      <td>9,590</td>\n",
       "      <td>https://www.amazon.in/JUAREZ-JRZ38C-Acoustic-S...</td>\n",
       "    </tr>\n",
       "    <tr>\n",
       "      <th>20</th>\n",
       "      <td>Vault</td>\n",
       "      <td>PA36</td>\n",
       "      <td>Sunday, November 27</td>\n",
       "      <td></td>\n",
       "      <td>https://www.amazon.in/Yamaha-Acoustic-Guitar-T...</td>\n",
       "    </tr>\n",
       "    <tr>\n",
       "      <th>21</th>\n",
       "      <td>Radhe</td>\n",
       "      <td>Mart</td>\n",
       "      <td>Sunday, November 27</td>\n",
       "      <td></td>\n",
       "      <td>https://www.amazon.in/YAMAHA-NATURAL-CONCERT-C...</td>\n",
       "    </tr>\n",
       "    <tr>\n",
       "      <th>22</th>\n",
       "      <td>Cort</td>\n",
       "      <td>AD810</td>\n",
       "      <td>Thursday, November 24</td>\n",
       "      <td>2,599</td>\n",
       "      <td>https://www.amazon.in/Musical-String-Acoustic-...</td>\n",
       "    </tr>\n",
       "    <tr>\n",
       "      <th>23</th>\n",
       "      <td>DEVICE</td>\n",
       "      <td>OF</td>\n",
       "      <td>Friday, November 25</td>\n",
       "      <td>2,639</td>\n",
       "      <td>https://www.amazon.in/Juarez-Acoustic-Guitar-C...</td>\n",
       "    </tr>\n",
       "    <tr>\n",
       "      <th>24</th>\n",
       "      <td>Medellin</td>\n",
       "      <td>38\"</td>\n",
       "      <td>Monday, November 28</td>\n",
       "      <td>7,385</td>\n",
       "      <td>https://www.amazon.in/sspa/click?ie=UTF8&amp;spc=M...</td>\n",
       "    </tr>\n",
       "    <tr>\n",
       "      <th>25</th>\n",
       "      <td>Juarez</td>\n",
       "      <td>Acoustic</td>\n",
       "      <td>Sunday, November 27</td>\n",
       "      <td>7,727</td>\n",
       "      <td>https://www.amazon.in/sspa/click?ie=UTF8&amp;spc=M...</td>\n",
       "    </tr>\n",
       "    <tr>\n",
       "      <th>26</th>\n",
       "      <td>Blueberry</td>\n",
       "      <td>R-701</td>\n",
       "      <td>Saturday, November 26</td>\n",
       "      <td>2,999</td>\n",
       "      <td>https://www.amazon.in/sspa/click?ie=UTF8&amp;spc=M...</td>\n",
       "    </tr>\n",
       "    <tr>\n",
       "      <th>27</th>\n",
       "      <td>Blueberry</td>\n",
       "      <td>38C,</td>\n",
       "      <td>Saturday, November 26</td>\n",
       "      <td>3,017</td>\n",
       "      <td>https://www.amazon.in/sspa/click?ie=UTF8&amp;spc=M...</td>\n",
       "    </tr>\n",
       "    <tr>\n",
       "      <th>28</th>\n",
       "      <td>G</td>\n",
       "      <td>K</td>\n",
       "      <td>Sunday, November 27</td>\n",
       "      <td>5,510</td>\n",
       "      <td>https://www.amazon.in/Medellin-Acoustic-adjust...</td>\n",
       "    </tr>\n",
       "    <tr>\n",
       "      <th>29</th>\n",
       "      <td>Blueberry</td>\n",
       "      <td>38C,</td>\n",
       "      <td>Saturday, November 26</td>\n",
       "      <td>429</td>\n",
       "      <td>https://www.amazon.in/Juarez-Acoustic-Cutaway-...</td>\n",
       "    </tr>\n",
       "  </tbody>\n",
       "</table>\n",
       "</div>"
      ],
      "text/plain": [
       "   Brand Nmae  Product Name       Expected Delivery   Price  \\\n",
       "0     Kadence      Slowhand     Monday, November 28  18,990   \n",
       "1     Bestonl        String     Sunday, November 27  18,990   \n",
       "2       Vault          DA40     Sunday, November 27  18,990   \n",
       "3       Vault          EA40     Sunday, November 27   9,999   \n",
       "4      Intern       INT-38C     Sunday, November 27     899   \n",
       "5      Juârez      Acoustic     Sunday, November 27   6,930   \n",
       "6      Intern       INT-38C   Thursday, November 24   7,290   \n",
       "7      Yamaha          F280     Monday, November 28   2,299   \n",
       "8      Intern  INT-38C-BK-G  Wednesday, November 30   2,399   \n",
       "9      Intern       INT-38C   Thursday, November 24   2,399   \n",
       "10     Henrix           38C     Sunday, November 27   6,999   \n",
       "11     Yamaha        FS100C   Thursday, November 24   7,299   \n",
       "12     Juarez      Acoustic     Monday, November 28   2,299   \n",
       "13     Juarez      Acoustic     Sunday, November 27   2,399   \n",
       "14     Juarez      Acoustic   Saturday, November 26   2,799   \n",
       "15     Juarez      Acoustic     Sunday, November 27   9,100   \n",
       "16     Yamaha          F280     Monday, November 28   2,330   \n",
       "17     YAMAHA         FS80C     Sunday, November 27   2,639   \n",
       "18    Musical        String     Sunday, November 27  12,807   \n",
       "19     Juarez      Acoustic     Sunday, November 27   9,590   \n",
       "20      Vault          PA36     Sunday, November 27           \n",
       "21      Radhe          Mart     Sunday, November 27           \n",
       "22       Cort         AD810   Thursday, November 24   2,599   \n",
       "23     DEVICE            OF     Friday, November 25   2,639   \n",
       "24   Medellin           38\"     Monday, November 28   7,385   \n",
       "25     Juarez      Acoustic     Sunday, November 27   7,727   \n",
       "26  Blueberry         R-701   Saturday, November 26   2,999   \n",
       "27  Blueberry          38C,   Saturday, November 26   3,017   \n",
       "28          G             K     Sunday, November 27   5,510   \n",
       "29  Blueberry          38C,   Saturday, November 26     429   \n",
       "\n",
       "                                          Product URL  \n",
       "0   https://www.amazon.in/sspa/click?ie=UTF8&spc=M...  \n",
       "1   https://www.amazon.in/sspa/click?ie=UTF8&spc=M...  \n",
       "2   https://www.amazon.in/sspa/click?ie=UTF8&spc=M...  \n",
       "3   https://www.amazon.in/sspa/click?ie=UTF8&spc=M...  \n",
       "4   https://www.amazon.in/Intern-INT-38C-Acoustic-...  \n",
       "5   https://www.amazon.in/Juarez-Acoustic-Cutaway-...  \n",
       "6   https://www.amazon.in/Intern-INT-38C-Acoustic-...  \n",
       "7   https://www.amazon.in/Yamaha-F280-Acoustic-Gui...  \n",
       "8   https://www.amazon.in/Intern-INT-38C-BK-G-Guit...  \n",
       "9   https://www.amazon.in/Intern-INT-38C-Acoustic-...  \n",
       "10  https://www.amazon.in/Henrix-Acoustic-Guitar-D...  \n",
       "11  https://www.amazon.in/Yamaha-FS-100C-6-String-...  \n",
       "12  https://www.amazon.in/Juarez-Acoustic-Guitar-C...  \n",
       "13  https://www.amazon.in/JUAREZ-JRZ38C-Acoustic-S...  \n",
       "14  https://www.amazon.in/Fender-Dread-String-Acou...  \n",
       "15  https://www.amazon.in/Yamaha-FS100C-Acoustic-G...  \n",
       "16  https://www.amazon.in/Rosewood-Fretboard-Acous...  \n",
       "17  https://www.amazon.in/Kadence-6-strings-Acoust...  \n",
       "18  https://www.amazon.in/Juarez-Acoustic-Guitar-C...  \n",
       "19  https://www.amazon.in/JUAREZ-JRZ38C-Acoustic-S...  \n",
       "20  https://www.amazon.in/Yamaha-Acoustic-Guitar-T...  \n",
       "21  https://www.amazon.in/YAMAHA-NATURAL-CONCERT-C...  \n",
       "22  https://www.amazon.in/Musical-String-Acoustic-...  \n",
       "23  https://www.amazon.in/Juarez-Acoustic-Guitar-C...  \n",
       "24  https://www.amazon.in/sspa/click?ie=UTF8&spc=M...  \n",
       "25  https://www.amazon.in/sspa/click?ie=UTF8&spc=M...  \n",
       "26  https://www.amazon.in/sspa/click?ie=UTF8&spc=M...  \n",
       "27  https://www.amazon.in/sspa/click?ie=UTF8&spc=M...  \n",
       "28  https://www.amazon.in/Medellin-Acoustic-adjust...  \n",
       "29  https://www.amazon.in/Juarez-Acoustic-Cutaway-...  "
      ]
     },
     "execution_count": 169,
     "metadata": {},
     "output_type": "execute_result"
    }
   ],
   "source": [
    "df = pd.DataFrame({'Brand Nmae':brand,'Product Name':product,'Expected Delivery':deliver,'Price':pric,'Product URL':product_url})\n",
    "df.head(30)"
   ]
  },
  {
   "cell_type": "code",
   "execution_count": null,
   "id": "3d1dfe47",
   "metadata": {},
   "outputs": [],
   "source": [
    "driver.close()"
   ]
  },
  {
   "cell_type": "markdown",
   "id": "2a707c2b",
   "metadata": {},
   "source": [
    "## 3. Write a python program to access the search bar and search button on images.google.com and scrape 10 images each for keywords ‘fruits’, ‘cars’ and ‘Machine Learning’, ‘Guitar’, ‘Cakes’.\n"
   ]
  },
  {
   "cell_type": "code",
   "execution_count": 101,
   "id": "563ba3b1",
   "metadata": {},
   "outputs": [],
   "source": [
    "# import required libraries\n",
    "import pandas as pd\n",
    "import selenium\n",
    "import time \n",
    "# import selenium webdriver\n",
    "from selenium import webdriver\n",
    "# importing required exceptions which need to handled\n",
    "from selenium.common.exceptions import StaleElementReferenceException,NoSuchElementException\n",
    "# importing regex\n",
    "import re\n",
    "from selenium.webdriver.common.by import By\n",
    "import urllib"
   ]
  },
  {
   "cell_type": "code",
   "execution_count": 102,
   "id": "5f1a0ce0",
   "metadata": {},
   "outputs": [],
   "source": [
    "driver = webdriver.Chrome('chromedriver.exe')"
   ]
  },
  {
   "cell_type": "code",
   "execution_count": 103,
   "id": "85efd751",
   "metadata": {},
   "outputs": [],
   "source": [
    "# open automated chrome window\n",
    "driver.get('https://www.google.com/')"
   ]
  },
  {
   "cell_type": "code",
   "execution_count": 104,
   "id": "b43f13a9",
   "metadata": {},
   "outputs": [],
   "source": [
    "search_button = driver.find_element(By.XPATH,'/html/body/div[1]/div[1]/div/div/div/div[1]/div/div[2]/a')\n",
    "search_button.click()"
   ]
  },
  {
   "cell_type": "code",
   "execution_count": 107,
   "id": "2d9c176a",
   "metadata": {},
   "outputs": [],
   "source": [
    "search_field_image = driver.find_element(By.XPATH,'//input[@class=\"gLFyf\"]')\n",
    "search_field_image.send_keys('images of fruits')\n",
    "search_button = driver.find_element(By.XPATH,'//span[@class=\"z1asCe MZy1Rb\"]')\n",
    "search_button.click()"
   ]
  },
  {
   "cell_type": "code",
   "execution_count": 108,
   "id": "2e8db681",
   "metadata": {},
   "outputs": [
    {
     "data": {
      "text/plain": [
       "['data:image/jpeg;base64,/9j/4AAQSkZJRgABAQAAAQABAAD/2wCEAAkGBxMTEhUTExMWFhUXGB8cGBgYGCAcIBweIxgeGyAfGx4eHykhGyImHhwhIjIiKCosLy8vGyA0OTQuOCkuLywBCgoKDg0OHBAQHDMmIScxLiwwLy4zLjYwLjAxLi4wNjguMC4uLi4uMC4zLi4uMC4xLi4uLjAuLjAuLi4uMDAuLv/AABEIALcBEwMBIgACEQEDEQH/xAAcAAACAwEBAQEAAAAAAAAAAAAFBgMEBwABAgj/xAA+EAABAwIEBAQDBgUEAwADAQABAgMRACEEBRIxBkFRYRMicYEykaEHFEKxwfAjUmLR4RUzcoKSovEkY7IW/8QAGwEAAwEBAQEBAAAAAAAAAAAAAwQFAgYBAAf/xAA0EQACAgEDAgQDBwMFAQAAAAABAgADEQQSITFBBRMiUTJhcRSBkaGx0fEjwfAVM1Ji4UL/2gAMAwEAAhEDEQA/ABPGGBVhCBqKmlSEq5j+lUWmOfOKWMHnC2VEhUoMa2yVALgGPhINietMfE+b+M2UG+qD6Hcel6pZa64wwpzDsoU6gytRTqUEmR5Qd4tMbTSvhtZ+PoRHtbYceUeRjiKkOPLUlpClqVPlA1HvzkRRnFFKihplHmA06lKOpRiCVSdKR2AEdajez1etLqiPEKSlagmCRNpt0/Oh7eLJcWsbmq29R3zmTvL9xLH31xhd1AlKpCgQoKgRuLGAYrsbminxcqUo9b94AFS4LFpUhYUkK1RANzOwA9Z29K2HgngTD4dtClpC3olajeD0HYbCldTqfLGAc57Qy0gkFh98yVrJMSpBJYcAI/lN63DBcDsO4JhjFJ8QoQmFJJQpKtABKCkiNvfnV3NMYygGY96t5FnCH2UuIIIuLdjH6VLGt3ttbt7Qtum2KHAOJ85cVYYIZWor0phKzusC14tqiJ679gTcWCJEGdx1qpmDIcTvB/Ceh5H98iaHZdmG6VWIMKHQ/u/oRSp1BrfY3wnpMbcjIkOLa8Eyn/aP/oenp06bdKnZxVfeJjzTdCviB+U0Iw5Lay0ozF0nqnl7jY+nelG9DcdP0mviEIYtIB8Qf9x1HX1H1HoKi8eK5bsUBxWN8JZQraNSPTmP+p+hFL2sSTieLCuemcGE6U6S5ck7fEuRcXtHuaSvu5N5t8/n7fpRnKs3bxS14NxekrIWyr+oCCPdPLeNUXqk42pC1hyym1GZFjextBSCNt5lPSrmnJalc9hiX/DLQFKjrnP4zsqxyMO5qKFqUR5SmNQmATcEAWN79qp4rEeK6pUBBKiBPmA5eWU9BE/lUJOozttBgeu09Oo5p71IhB0FQImRE8udvp/ejlzjAlMUqH8w9TxPXcCSUCUpBUBMmRPOxkfnbYU+YrPG0Y44cqGs4dKx3HiLB/SlTIMrU7pfdhDDZ1KWSIhFyIOwkXPrSXmWdOYnMVYtEpBWBh1KEJGkaUoUdhrBNjeVRQ7ajZUyjjPSRvFLgXVM5xnPyz/E2bEZpaxoBm2LJBJNCcw4na1pbaStby7JaSklRI3tyHc2tNKHFWeYoEtusuMA2lQt7KHlPzqLTpL3PIx9eJLYBeshZzGcU4NwUhKfUEn9fpRf79CVCYiFEDmbx9Os0PwHB7wQ06skLcB8NqIVGk+ZZURoGnr/ADDnavj7wUKU05KHEGCFb9j0M2vPSr4QKox2man3AkyxjMQVfET8It0IH96p6Sff5dJmvXl9P36VEp1WlRSkkADUQPhEwJ97TWycCekc8z148psNz++ck0zfZY4k4le58t+8KIAA9d/+I60mO4kqhIgEm56DrWt/ZVlLbbCngmFPHeb6R5UgGfc9Sa9Re8De4+GPKX1H8J/KonH1Xsf39KjxT5RGmVSdh+49qruKWoQZQo9IJHc0UxadicxAgAwb9p3P5ih+IxJEJUSB1J35xvPtA25194tKyfIqFRabxfc9T/ahOWqe1L8RQK5EETBgdDzJmhtYQYPBJl7F5kEo8qVQL+VKjyPMD9/ll3FeOSmVNJ8PxCfETBSSq9yec3nv61pD2JN5UbCNPX9+nMUtcQtpfTodAIBBAnaCPcAm3cGtecVGZuu01OG7TJ1O966taw7OFCQPu7dh/KP7V1L/AGxPcQ3+rf8AX85n75SpaUTAm56Dmat4vF4dDJW0txTqVlCkrAAiYBTHYAn1oG6qCFCJBkgzBHS1yO3OreBU2kqdxOGcW1uhMqQlRMC0CNI3j9KpaNAqEd5i+4s4YQlw9kiX0HEvplMkJTy3ifpTCrCYYJlOGT4OxX4Y09rx3qzkeDUvCpR4Rb3htwFMpm0djRp/7+8nwVeChodBNvwgekVNsGXbcehiD2O7nJImb8Q5OMI80+2nUguJUhMfiB1aR2MWrZ8n8UspceBaUsTo3XHKRMJt1odlGEYXiAkgL+6J8RXZxUpRPKY1GOXlo84sqJKok1K12pwoB6y9pN5QbuvvBmZ5Gy+CFKdAI38lvY+lVOHsqdwS1JCw7hnLoWBBQvYpWnlIiCLSDtIk2Unpavtq1iJSqywdiOnqN6m1XkjbjEccsV2k5HtPtvFX0nnt6/8AwUIzz+EoYgfCLO/8eS/+p3/pPavVPaHFskypEEH+ZBulX0I9QatKeCkwYIO4P1BonmbgUsiLDYZ4jEak9aq46VJBT/uN3T3HMe4+sUJwLvguHDKJgDU0Tzbnb1QfKe2k86uOPQQrp+VZ3MPS38iYPXIk7eIC0BQMgilnjQksFaRK2jqjqn8Q/wDG/qBVw4sNulE+VzzJ9fxD5396+W8GcQ6W58v4qY09T2WrtGf2hkp35xMzxGJLq0eDqKwZ8oMjaIi9aTlmeqWgDMMM7KRAfSi5H9aefrB9KPrYweXtwEJ1RZIH1NI2ecSF1RMgDkByroGrFS7RHtHoyfXuIHv0/CHhgsC4ZRmDSUmTC41el1JgDpFW8HgMtU4ltOJL7mmSltUgxzJHwi8fEOQua+eDeG2Q394xCErcc8yUkWSDcSDuedT8TZkxhtLiW0BROmyQkkRJv0BAMn9aVa9EwTjJ7d4jf4pqMlFbgZGf45i79qq8R4QbQW0YRMJ8NuQSdxrtBFrAWB60pcM41MpROkK8oJEpJMbyIPz3FaPmGCQ9iG231ILAGvRJla9gFctIBNuZozmWLa8Mo0pDYTBSQNMd+UV8usVFy/vwOvETo1rVtkjOeuYvZMx92xJWyx4q1jQVBQSEiZMlU2JAuBy9KO5jh8wfTthMOP6peUf/AFSBQPC5u2Alxvfed7EcxzH7tV3FcQOLTaI/pI+tWvs6WYPadBdovOIYKPqf8xAGYcPgeL94xDj61p0nZIjWlRgGZkpHypfxmXt+GlDpWA2NLbyRJSkbJcAuQNgocrHaaZyhxfl0FU84t89hVnhpzDIcWl9IXfy/iEjlba9veivpq9mFGMdMRm3Q0nTkEZI5GOszDEMuDZ1Dkjy6VTqExMH5Wm9qdvspwCVt4t14pKDDZSq4gDUqR31AR2poz/OcvW8jDYhLKkpjSmxCDySroP8AFXziG2yA2kJSBMoA0xFvS9hY+kVDe3qpHecu+74ZnWY/Z9ifva04VA8GJSpa4CZN0c1KII3jaJrR8rbOEYabcADkBAAUPMYuBcTz5VZxmceCwt4oJDaNSwgAqMJ1GJjlffakbh7iD768MQtQB1q0t/yJHwgdbGT1JooZoJFJM0lHiG6lBI572H6n9+sOIUhE81mwnlP75jryvQ53HBPmJsP36Dn/AJmqGCxxUS6ZAEhIJ+vra315UXzBPiuIXcWEQJMm5t+pMATzPW1CMRiYcV/V8+m1uk8hXwvFyTf9ekc7z3oPmWIUClV4ChNupj235V9uBmdsv45SdOkqJPLnpm0Tz3I+U9ll3EhRUh7bmTsQT9Beiq+4/e9KHFONTrSgdyr0mwP50O3JQrMOs0XD45CUgaU2FdWSJzPTbxCI7qr2pv2e33/KL+S0OOZZg2C4Hytwm7YB0jT1JAuZHptRTFZ3h38MkuILi0+dPmgJKTIEC1iIMi9As2zFtbS0OMp1hZ0un4tMCBPLnt8qEnFNJw6GvAhcypzWQVz0ExHtXR6a0LUoYjJHJ9419mcAM+SflJsxzxTii54rheUCEgapSSbXmCBNgOfKjqcBmjo8NCnimACQecX81jvNCuAsMl7MGwoToCldrCB//U+1bnhsX4aIFvSpmqvTzdre2cyggDjcQM9oo/ZhlD2FGKZdQpC1hCk9TpJ1beoPvTnz/wAUu55m7iCHm/jQZAPMcwe0UYy3M2sY34zJn+ds/EhXQjn67RULWDzMuvOP0jfw8+/6whrQEzeSIjcbyN+dz2qouP8A7v8AXavAkkwB7D9zXmKWhhsvPKCEj8J3PYevSkvNtvIBXoMTSqE78mJP2hZx92x2EjYMw6OxUNM+l6Jox3wrSZSd/Tr7UjZlONxLmIcmVbJ6JGw/fWruXYw4YpZcJKFf7ayPmk9x+oqlfp1NasnxDqPl+8WtqsHL9O0ac8ZK0BaP9xs6kHvzSf6VCx9jyqgxmPiI1D3B3B5g+hr7wuJN0m4/D6dKCZs592c8SP4az5wOSv5vfnSaLvO3v2/aeIuOshzXEqOkD4krEHsd/pP0r5RnymZKVQedV8W4lSkOTCIKtW9vhmN/it3vQfM1FVzCauaH+muSMSroQmxu5/tLOLzhbpK1KJJ6mhbiydtyYA9a9weFU6tDbSSoqUEg3iT1OwA3rQHfs4DSNYxGp0DmkaAdzA+m5pqxwATEtb4jgbRPeEs6fX4eHMEDy+IQZAA2N4mBH96fXA0B5R6k7mq+BwjLTCW0IAhO/U9f1mkbM8ycWXEeKVN6iALARMEWFxyvUd8Ix2YJI6+053dnlo65StlLavDCYWSdQvzIt26AW6Ul8S4PUtxHiq8PcJsAOcGNwO9Usjzs4Vnw1NKUlJPhkH8MkwZ6Tynfa1DcM/icY8oBSUJWrcchtv2FrXPatJvZvUBgcAw1VLWnCyyUM4dLbSnVh0NpUfLqSQrkLi467V2Tu630JkAFY39amxuAVhYQ+kPNbBRspPdKviT/AIEyKA48eEQ624VtkghX4kGbBYGx6KFj22q7RrOx7TrdPrtqiuzj2PvNm4uwjLjSm1HzECCDMEXFvbasqx7brBGoQkWCk7f49D7TQ0568TJeWfUzU6s6UsaVKImxkageV+f0NL+fqEsyMEe0VrbV6c+n1L/nSfGHyNzE6ltoOiT5lkATN78/WtFwWOw+AyxnxQnUNQ0IuVr1qEj1n4jYfKvnG4CQyy2QlvypBH4RaTfe1VDk4Q+4wtWsJT/KACDcADsSa8axmBc4xIWo8SNr4ZfTnt1hXhbPn8SwfHwqdJQQShyNQIiyFC0g/wA1JT2SowhBQVIMb+34htPKvrKuI1tBSNXwqKSPRUVfzvFIxDQ82lwjyyYBPT5V7ZYtarnvOkr01NWXwCpgdHEanFBlXLc9u3aKZVZq2E2WAALCY+lZdiwtCpmFJmSedxTZw5wbjcYErdhlncFQ8yu4TyHc/I195ZPK95z+qdVcxqwHw6jYquf0obxDmbKGzqWncQJk7g8qvu8L4BmzrinF7HUsnt8IgfSvhGGwCZAbTA56R/airSR1Ig/L1FgylZI/CKeb8WiClnc7En9xSqnFSSpSgVHeetayw5gTu0n3QKnGQ5a9uy3PZOk/SK35WehEG9WoQeusiY7vfrXVravs/wAt6kdvEXb611feU8H5p/4N+EZ+HuE8K0ArQlbkSpxYBUT7/D6Cworj8E2RBSlQ6EA/nQZzHkc6gezGBc1xjagOmCMt7zpV07Z4PEGYvhxhl9GLYSG1onWlAhK0kQfLyI3BG8X7W3sclQBSoEG4I50NzLObEDaKR8lRjFvraww1JCpOowlE3ueXoJPaj0U2XKWduVHf2+s81FARQcdT2jnmj/lN7RzpSbweMU4HMKFtRs7qKB7c1D2Ip+wOQpSErfPiOd/hHon9TJ9NqvOqBHlFM0sa/hwfr+0+r02RgmLP/wDqczbTocfQT/OGxq9zsflQPGYh15Wp1xTiuqjt6DYe1M+b4ZsJ1urSgdVHf0G59qXsY4yhKy2sKWkSlKwUhXm0eWd4VaJkwbWppBv5/iGJppGO/wCct5BhipdhJ7U9P5Gw4z4LzYc/FFxpJESFAgpMcxSzk+Zstqbbc8RS1JSoaEpCSCqOVwASBJiZp2ZELJ3k1usspyRFrmF3HYRSz3JxhGfGQolCVDUFXKQTAg7kAkC8mOdVWcsVjwgIENq3V6G8eh/e5DTxg0lxgMzBfcQ2PTVqV8kJUfamDJsMhpIQlIASABHQcqHXp6zaD84MttTpBOF4Hw/hobcSHEtiEJXcJ3PlGwuTffvS9xF9nrKjLfkI2EAp+R29q0h12KE4569ULiqLwYKl2J56RAzLNGMOhKRob8OyUAQbf0i5qjnuc4teH8raGypMzqKjBtKbQD60W4yyhDqdceYX+VRqKFtgctNRjcvJJyR+En6vT+Ww2dDF/Cvv/dw194WRERYECOSgJ9qW2GcUStpgEpBImNjN4MTT7wZwS+6C466pLSiSlIABKZMSYkWrS8u4fZZSEoQABTFa2EnYoI9+0ylGPiMxxKNLKUup0KE2VaOsTuKFcO49KD5bJBMfO1q2vPcpadSQpINZFxnw6GVJcaJAKtKgPp/ahK2bPKfgnp7R3Sf0GLDkGXM3zlLiYUQaRcS4pK4bkkgykCQR3FPOEywBky2lRIMlQ76iEnkRMT/SapZVgGhiY8rZOoSrnCuc9RMHuO1UdPSKsnOZQ1ZZkAxj6Rf4Y4cdxjpaCg2QgkFc3Okx7agJ6A86bV/Z68lLxZV4pTZnZM2uSogAGdo5b71omXZb4GnSkEOFXiTNhEWG07CSL1OnDfxNSVqDXheGWySUkcjB5xYnnXj6jOcfdx2g0scLye0z/KswGJaWwpSRiGlaVCbakmAoTBKSRIqLEP8A3YO4nFuBTqpCQDyAsEjnMUx8Y5W0/h3AVlspIIUkHVIsDIvAn5TWPZzl7rS9DuomPKSSrUOoJ/d6xp7VuG3OPlJtvhWTvB4lMY0rUpRtrUVHtJmiWW5ohCk+INSR8NpIJ6eu1BlYYxPKnb7LeEvHeTiHRLaTKQecc+97fOnrEUrtMJbqmqrCkfICNfBPBPiOHHYtO5lppWyRuFKB/F0HL12O8Q8QaZQi0Wq5nmYq+BCSALCKScd5iZ3rZ/poFWUvCvDg7ebdyT+UpYrFajJ3JqBSSRArg35gD13NSl/wXGW3gUKWLggg6iU6TB5b2oCkkzpLHrpErJSqec1aw760XuP3/miWGbUAgLFy2XFKiLhaUpEdwon/AK1G6hCkyFAxMkbTJt7UQqw6RdL67B0g/wC/Krq+fu07T868oW8w/lVS69mCwZoZi8zWo32p5zXgB0JJZxBB6KSCPpBHzrMOJMBi8MqHUpj+ZIP96k1aTnBGD85ztfiCFcngwlgCp93w0nupXQf3PL/FP+XsIZQEISEgfU8yTuSetK/BeXeGwlZ+JwBaj67D2Ee80w4rFpaQXFzpHS59h1rLqC+1e3H3x4HcgZvr9Je0zf3nl70vucZ4dClIb0qckJSpSvKVk2EC+k7a/hBUJKZpd4p4kOIaDDXkCjKxErQASnzlKiFTIMDYEiDFBcLiEs/7alCQorKPLpUCFJS9qbA0nQVBIibDlelp9AMbrPwkfV+IEnZX095YxGaOK1IeeLi1LStQSQoABMhPwEgHyiNoCusmPD4dtC0gMKccWA4FLCg2hwXVEp/iQDJkaQeYiTLl2XBGlxdtUrCiVDcjw0JSUhBJhQCSdiRNiA98K8HKw6y7iHA64sTpAOlOq5SpE6ZCtKrAAFIpuxkVcdvYf+RGtHds/nI+C+HilQxKyNSgShCQUhEqN4gC6QIEc+wp3bTFRsoPO560E4s4jQ1GGQ6ht5xPxquGkm2tUd9h1vypBsufmZTSvbhV5gtWdh7Ng2ky3hkK93CQD/4jy+uqnhrF2BrC+HnG8NjBD3iJJKNZTAVJEKuZuRz61q7GLATE+lYtHkvtHTH5w5qOz1dYVxOP3JNUXcZq50Kx+KoerGxSF9rMOsESqjiF8WvUkpoHwRkDrz7/AIi1fdm3NKUWhRgKImJ0iYifyqROY/EegJ9gJJ+V/amjgt8DBtK5rBWfVRKv1rGjRiSGHBnliZrB7xxYQEpgCBXw+7AJ5UNdzC1qGY7NbG9XTcqpgRevTMxkuLxMTekHjh+WVGdiCPYg0ZxWbgzNqS+JscHIQkxqITYEm56C59Kl7d1ysB3jtlOxDmQ/6qRCrCDMX6QCbjvcf4qpmD7jytYKdQO1h+Ecz0jaTOqedA3cUttZRAUUe4tzgiLzeRz63qPDeIuUTpCiLxdMTF+kGO9WzWBzJ76lm4M2nhjGqU0HkyrUhK1DvpE/M1YdzxQbSS2mVK88SNPKUCkbKsXCUsQUeGlIkK1a+cna5VNogSIpkTPlUUncKE8/8Vz9rvUxTPGe/t8pYqrSxQ/WXsTjUaSpYKjpmEkSeXv6UIzvAtYpiFL8MaSUqidKhBE8yN7V684pRKnQNU3tAuZFulVM3zYttaUp/wBwRKkmIG8e20UvWD5g29c9YVwoSZh4anHRhwZJXpkfWJremcInB4VDQsqBJHLsOw2rOOB8sS5mrZKVAgayCPLGnykc/wANPPFyyp7TNr/QGumByNxHTj7zIWk041Otw/RZUdeUq+oj0ryCoX8wHMi/96FYfFKCrwBMb/ufSrGIxBHWT+/avNxPM6w07TgT5xWEB2+VD321agpalLKbArJUQAZgEkkCaNtYxFvEv3/e9c/gSfMhSVJPzHtQ8ntPg+DhxAKX3ARJJEzHX9/pX3g8SgDTNgFFR2udS1GOcrVAHT0qbFtQOQ5W/f0oVisOIj8vb9+9ehoVq1cZHXtL7StaUqmJSDHSwtty2rqX04YIGkBVu9dXuYLZZ7CfobGY8AVnfHWIbeZWkgSASKnez1TqihvzH8vU8qXOIcucj+I55eaUiJHqfzikmNlpyOnvOJqqcnMK5er+GgdEiPlVPirEkMaQ2HNagAkqULi4sgEqvB02Bi8gQa3C2NDjQQLFHkImdrC5ubRVji3LnVsoDaZVq/mKR/2gi3ehUrstG73nSag79P6O4iZleVLdXDGtZmVr/hoNkqkiT/DSFR+GfOBe0t2WcIOrbcS48tpM6D4iQkLRpE6NCgogXAEkbyKvZHlqGNKxHiAKBUkaQdSgownYXA6m29GU4mTNyepMn5mmrtaWOEPEnU+FEDc/WEWUNttobaTpSgCCQJtzEfDeT71ZbRO1VsEyVCTtQPNOIluuHCYCFvbOOm6Gh6/iV2HvQl9XAEY2BPSs84042RhE+EiFPq2G4QP5lfonn2FZdnTmGWpboL+tQB1KKVFSo82o2EE7ACwtaK0jB/Y+hQ1vvuOLUZUraTzPU+5qvnn2WYcDyuOJPUqmPYzTqDylyfvOJhSjAqMZ7cnI/tMxwGVvPqAaiQkuSSlISlNypR1eWI9accu4gVoSF2cjnYEdRO4PUULThcRlLni6kqCgUpURKSCCClQ5Wofl+bBeJS86hLoQZCVGE7k6R/TNovArdtVeoUYnqo1fBPJ7ZjQ7nZ1xFo5VG9jCohKRKlWApXbdUt4hoAa1HSmbDchIJ+Qnmav8KOOKzLDIcBR55IVYx4aliQdpEG/IilV8OJcA9PeS9RdtJAPIhzIHC+3jjNkYNz2UpMJ+gVRLgbiAKw7bc+ZICY77W96tcAZQ2pOag/A5iXGZB2bSFRB5CHOVR8KcLtJcxGMcTpY+FhtMAE6BqUUi0A2A66j0NONoh5YUdoOjxAV2EvyMQu5ngnST/ihGLzebcqSmc8TrcAMp1q0H+nUdP0ivsZolSoF+fyEn8qQelgcHtOlq1FOwMO8L43MbEz6Ve4WyxspL76hrWP4aVH4UkWMbyoGewtvNJWbZgIKRvRnD5lrbSZ5AR6cqJUmz1ERPVXhztBhVlLTbqfFAUnXeRskm1+YFj86bczODaQFpaRJFiAL1mOOxUySbAGfl+dTYLHKdZCCoWiCeUXops2jMnWIGYYlrOMySFOOpbkxpAJKdMwZiN42ojkecB5IUTOhIBk/CBYSOX5XpdwuC+8vJw6XAVuKKnFC+kC5Ue/bqRT2jKMvwoDXhpJULkp1kgGZWY2mOgBiIpe+pLRgZz/aaGv8AsxweR7So+/OpRUVJ2N5i1vSgvEGY6khKlDyqMeu2/S1G834ZQ4hSsMvTItp+ExcSBYiQDWfZVh9T8YqYQqFJ22Hpt36VmjQ+rkxuvxJNR6UHMZ/smzEqzFKVKJ8iwkE7WmB052p44ybIWTtBrOWMczhcW3iG06NDg220Gyh7Cta4nwwcSFpuFCZHpY1VZAFKiB0GdPrvWfiEz9GKKdiRIvB37EbHrB6VPggrwvMrUqR68z6Dfl26VQfSpKyDEXEE/qII+fK9fWMSWlDxU+YAKCTvfZSwDKeoB7mkwDOuuCE57/rLxVBk7C3WOvuDUqHyPhPtMfnvUP3kGUhSnUosFxpkchf5D5ncVYxCBp1DoNupPX8vQmvsZgt2cBh1nhx+uyx2kbj161Hisu8oKTqHbl6jlVVRvcX7fu9fAeWlUpURfl/ms/Wb2EfBx+k+PAVyH0rqJ/6mn8SETzrq1sX3mPOs9p5krvhIgi5Mq69ha9D+IszCoAknYQJk9uZN9r7igT+brVCE6lEmwSCVKMbJAkmBP1pq+zXK3Bi1O4xhxqEAsBxBTqVfUQVASpKRtvCiayxwPkJzJKVjHeecNfZ9j0hWJ8dvDqVcNKSV6gNg5BGj2kjttRrIM1VikKS4EJdaUpDiE7AhRAIkzBTBB2NMPEmdhCYQQBe2/wAulY3l2TuZhj3S0vwkhXmdTI0gAJITBEkwY+tCUDUkj27waXPV6uvymoow/IVUxGc4PDGHHka/5QQVe4Hw35mB3ojgeBsG2hPiB14gQS86tYPqidB/8aF5zwzgg4lKcMlBVsttOgJPL4bexBB52oiaAZ5MLZ4mzDAGIkcX8e4h6WGU+A2d7/xFXIhR/BMfCLwRe9aF9muWN4fDoH4leZauprPOK+G1IeQ4II1ISuBEiQkLjlYQQLCAdjbSMkxASgJnYWotm2raFm9KrWVsx68D7o343MylMp9KW3c7/ihCrkj0H7tSn9oGfYltCkNFIC0lPeDzRcEK78qWMJnjx0BQHlRonUSoxAEzyAvzJKpm9yO4ZMzKVBLApmjcSYVp9ooUJBHT8qxI5WUYn7vq/FE9RO/9/Q1rS8aPBBVIkfpWd4tIdxRWQrQlCp0xPmSUAybCJKyTslCjyoWmJ3kdjN64KtYJ6iExkPhYN51HnKFNPtORBU2RBHbSRrI9DzpixWUA5nhMUhPldDmvtDCtJPqDHsKuZNhV/dPu7kSypxp3oWvDITHWUFv5X51dwmI8JjDBwhRDKEqI/nCAk/8AsADVlRgCchZb6ix/kSvgX0YbAuoSYWta1K9dKQPnA96ov49f3AMtyXFBQSBfTKykG3/l6Jrlv4calrTrJVCUHY85PW527UMVnHhp0psZJhtIEk8haw2E9q9fHaIh2J6/KBcPwm215sQrSAJIsDHcmyB3gnpGwrYjGF4+Fg2kMtC2sJhSuXxXWT9fSiLGBVi30h8nSoz4aNhH5/8AIn2k1p2U5Th8OBoYSSOalfoBUTWawUts7ylSWYZJz+kUeHPswQUBx5RUo3hUj6Ag/MmnrL+CcI0SlLKCLmVJSTttJHpVs5yQICUp9B/c1X+/OOHdRPa35RU5/FKsgDLGNBW7mVc64FwTzakqbQgkWUgBKh3BHS1jINAeGfs3wSVltyXlASVE+UiRsAe/500LwgA1vGEjrcnsPWg+AzApxKHAYCjo0D+UiwjsQD8+tYbUuwAIKjrjPM1WzKwxC2N4ew2FT4jLSEqBAKki+km4+cUJxWJThsSh9Wrw3ElDliqeYt+Z6CmnM8UFNkHmIpCHFjLZLWJhBFpPwn35H1o2i1SmwqvSb1VTthxzJsY/h2sU2MIpBbeSStCL6YFiB+AG4IttS9nHCzj+PJbWEJKPN1ME7DlY7nt7WHeIcDhwpxtTalHYN+Yn5WT7kUrYXiZTqy4uygqQgfCRMgE8+h/SqiNmzcRxN+GU7rstxwcfMybi7hgNJ8rylqM2UBBjlINj0JkHtvTZ9lXFoca+4PmHkCGtVipP8t/xJ6dPQ0j5tmiifMoEyYAvF+XQdKqu4BtCG3W1qS6PMIN0kSZHv+ZpkncSV4xKOt0+SCrciadnXDLiNTm/mkCPz60qNKUjVqlUkk6hzP5dN+nSnHgDjVvHo+74ggYhI9A4B+JPfqPer+c8KJJCk2SLn970FqsjKyh4d4sjtsv4I4iWiFDSFyoiVSg+ZU/CmJkXAvHOpn8UpKFp0pWde5sobpI3hMncnaK9x+G8HUACSdj0M/vah6SdKUpSZuCReRsABEC8kk/pS5GDLxAccdPeXglRblaQFBRSqCIkEWF5MDnEdeVQqSYBB5nn8/7fOodQQ4G9OkpPwEEG0ADTvveK9XiVBJ1jTBgBQukdxvqMmx61nnExyvGQZ7qP7j+1dXzhm2VJClEgn9jn0r2vdpnnmJ/gjbwBlTGGZS+YLzyArUfwoPmSlM7WIJPM+gpjx2YF1pxCULWYsEjzdQRG1+fasWf4ifbWpsAqSmTpPlgTsTsNx860r7NOIEuYVXip0lS1BQnpEfSPnU++u1W3ucKTjM5VgqkoOSJn3GTmYtrKFoWllxZS28UmFJJtChYW52JiRHJ34JwAYYSgABSybdEb/Mjc9TRHizMEO4ZxqykoOoi1hq1JPeFR9KoZPjfFUFz+BMDoFJ1H32+VP6WxCMIMY9ovardTGzEv2t+G36UIefN4N+nv/avMRjY2gnpf8+lAF4oiCowspAN9p57A/h3ppjmYQYnmZYlKgpEDUNgTaYiJFoO1UcjzAk6YJKTFgT7G1feBwCsS9AOlA3jpMx3k/rTjpaYTobQC4SIQIlRJ3v8AUnoaXsG8bR1hV8S+zEqBnPUQDmwbcTCt++9LKcMhKrCnbMmkYltadOlxI8w2Uk1lb2bFsrbcnUhRSYHS3+aEK3U4Ijem8RS8EHgj3hrN8bCYm1BMkxetxGklK0u60rCj/uR5QUzABAiYm+8WoXmGZKXEC375Uy8GlTjiSpE6fwE7DdOkmSEyJ0z5SkEQCae01ZU+qTfFNTuXCn749ZaSkvslWpJZUW1G5IsEg906o9u1JuYZiqSne9hF5J2AHp+dOAbbTjEpdVpQSVIULXKZg9JAIr4Jwq8W4sFLQSnzEAXiEkA/h394qmDxOWYFs/WJzeCdUPMUp1H8Rk8hAA5/KpGcC1snEAn8RCREk2lU29PWiWZMMqWstAoSE2dUVLBkQYQCAN97d7UuYzCLSClGIK7WSlCUQeUkrsO8k9qWsc54Mcq04wMwxwtlgTjgpzGBQKSlIQDNymxBEBNtxvaYrXk5IjmpxRt+IR+VYDw9kjrmIAUoNzeZCirrJk0y4/Fv4YpQt4gKOlBSpUEjlA2qHrAht9QDGVV0zivf2mtu4bDNCV6ExzUoH87UFzLi/Dtj+F5z2sP36VmD75Cj4i0g/wBSwD7yZqk9m6E31aj/AECZ9Dt9aENxGK1AHyE+FZPEdMyztb3mUdthyHoNh73rzJgVuBfJEwf6iCPoCR79qT8uz5twnV5QnfUfzvt6UxHOVNI1ll3RFlBpemOytMEd6TvpsztxzGaKP/oxtxWOhMzWX5jgRiHFLWopRe8TBmJjnf5U24rKcyxTeptDTaTyUs647DTpn1NfXBn2fuuMkPuONIKlSi2tRkgmTZImeRnfYyT+GUrUS7cnpxHQyK2G6TKcbhNBgKlM77W9OVWl4NIaBB8xNv8ANaVxb9m7DaApl1wmQClwg6pMeUpSIPz25Ut4rgTEIAUBqAO29VRrqlyDPCKy2QOIOwvA7pbDynEhJ28wJ+XIUHXgnklSBBAHxA2gn92piwuJcQVodSYMygqIAvMwOVVvDU88hpi6lhSVGDCecm14AP0602r1PgLD2VoqZB6/mIJxuTLw6m1IeBVCVBSCQUHpJ2UP30rVOCftB1kYXHQh7ZLhslzpP8qj8jy3ilvOsmw6WUnxi44ZkatuUaeXpBoHnGYpfT/EA8qfKZG0bda0wxyOsDfoK2G4cfvNvzDJkLSYAg37j0pJzTBrRqSmdA5jcdelBuCPtEcw8MYslxn8LtypA6K5rSOu478tRLDGJQHEFKkqEhSSCD786yVFnyMHovE307bLeRM+Qp7SfCKFqJJLy0ecT8SvEJKgQLAiguIxBCyoOlSkq1aj5lBQIMqKgdR1flzpwzvI1NAlEwdxy+XWlz7ozp0qSEqNjOwHytb9aXdCODOjoepxvTBzx/Mr4T7sE/xWMW45Kipbb0JUSomQARG9+811SqwyPwoUBysv9TXV9z7fpPPsqfP8TFtGVuONrxL5ErBgHnaZtznai3DjgRh1KSogoVDiSZ1GB5knuIt2ihubZlKQmYSOVQ5Bkz+JlSPK3zPX0n86w6CxNpHE5e8PkFD6h/nMKHikJdKQ1rQpKkrCuaSkg6b7+tu3MM+SgNj4raUKCuoLaSJHIxv3ms7zDB+EqSYOrTBIPuPfn2NOmV4orQGx8QSNEWnnpP1I9e4rKotS8dO80C7n19YSxDknVq7DYjYD6ztQ3GvACNRKvKZKr9SO4mTzo9w5w0vFpKyfDaBICiJUozB0ja20/sXs74RY0ENvLSuIBMETPMACelYt1CV8seJpV3cQdwE8CXZ3ChN+RE0SwnEDDC8Q6fO6tYQ20ACvyiJ2lIPvaOsVmuGzd7A4lZUAdMBxANjJEFJ9Lj5GOTMxxxl8+JpPiG5/hnVYc4Gn60wj4GQM5kvUUuLCQIxZRrSh55+ErcUVkckiNp7AUi5JkTGLcfxbp1BTiihuSAQDpBVpIV0J5QfnJmGePZjKG0rbw4UA6qJVpJA80WSI/DMn0p6UwyyyyhhhZaSoedSISUp8x6FYVe5H4ib2la6xiDg4PSaoTYDnrA2P4LwhPiIWyEpEK0pEAxAKoVtJE+XkZr3LchdwDGtYw6vDlwaRCyNU+dZjUItHKOe9G84x7LrSksnxNOjUlCFFCQDqKdQTAMciflVkZzhQlASUjWCSiJVZW6emlXI9K8rdlYgnj3zNFqydp5iy9jQ2/qcZWoAFRCkzoVPS4jcgg9wYoNmOY4Jx2VsLSVDdMonukbLPW3zq3xWtbTi3WFrKEjYE/wAMaUqSNri52tfqbqGacQuKUkQkpUJKfLExBJESkk38qkxNoqlXcSIqdHhsg5E+c1S0lYl55aFXEiDEwQpGpCgR6EHcVSxDLKRIlSe0pUN/wqBBH/bpVvAYJ3EveED/AA5N3PMUpJtCvinbYgVq+S/Z4yhAMTb4lE3PptSt+s8s4UFj7D+8pU6TK5Y4EyfhHFobfkGReOW/Xoa0d7Nmg2mACo7A3IPbvVjOuF8GuC6jSAYLjcJUPU9OoNGMs4IwLJQsF1S0KCkqW4o3FxIEIj2qQxTWHzBxjqOJSNqUIEYZ9j7zNftG4Vcw7TWIUCSoDxuelZv/AI9qVpGgEGbX9a/RGfYFvEtqZdEtridJ5WO4uP7VmXHeRZZg2w2ylwYhweRAdUQBca1hRPlm0bk7bEirU+30RFbW3ZPUwT9meUtO4tC3kgpSCsA3BIiLdpn/AK1tT2dNmRsBz61hTOKXh9BPltIMH+3OjWW8ZLeIbbwy3HeiVCPUkjyj2NJalL2Y4EZKLgEx1zXiosjQ0gKWoeUmyRcjzHlR1jPUrbCknlBuDB5iRb3FLfDfCBccL+MVqUqwaQSEIHSxlW9yeZo+7whhmwTh0Fkq3LZInuQZST3IrH+m3GvAOIB9RVniLmcZ1LzcmwMgd/8AFN2ThLyNSrjlSRjOAnSsrTiFFX/7BqB7SLj2Bo5kWJcwzQbeTCxIsZBvYpPMR8udJ2UeQylxx3zDgrYvoPMXvtNyVsFLylFCAoBRSmYn3BEm03udqW8uxiG0KUlpxYSJlpBJB30rX/Kee0binHiF1vGqGD1DW8QDBuhCfMo9iAm08yKZ/uzOHw4ZaQEJFgBy79z1J3purWCpM498fSe7einrMPzbN23j4kqE30xtN+VqW8ao6xa3LvTpxrh2WcYdMJS4NUHYKmCfff1mg+V4dLz4TGoAWPL61WqvFlYsHeD1mowmWPSCFurUmAgnvFXOHeI8XgFamlEJJ8zaroV7cj3EGtKRw634ciB2IpUzjJYVYAi+1C+0Mp9QkGzX1tww4j9w5x7hMcA25/CeP4FmxP8AQrZXpY9qI5xkQUk+HF97A/KRb1F6wXF4COVHuH+O8XhISVeM1/Ks3H/Fe495ptbAw55/WNafUvSd1TZHsY5/cnRaNu6q6pGftNwRAKkugncaJj3m9eVrbX7/AJGU/wDXrP8AgYjZLl7ayXcSfIPgb5r7n+np19KOY/NxAQyA2gCAEn25UtZRg8RinktNS44rboBzUrkkDmfztWx5Fw5hsuTqc/jYrTq1FMhNoGgfhE2n4jf0pc1vmardW4UEn9ZmGM4Vx76QW8M6pI5kJQI7aymvtWCxDLel9lxpYESQQJBkHUPKT79K0h7FuOgnWrWCfjSQmwPwlKoA6fDM8zV3J8zU4PAIDsk3cAgI8sgkfFAPLcmLCsueMZjLaRlBf8R7SrwnxGtWGbUpxBRp0kRB8QG4N+e/vzmheeZy0i6iSVEBKbqUokmyUi6iSYimtjhHAt+J4belS/ihajG8DSVaQne0RvQrgnhnDsPPYlSlOOg6EeIdRbAHmCZuJMiegtY3j21ozgM2B/n4RdXwCQOYkY7gjMcSovFpDQUZ0uOAKgJhNkhUbkwTzvUOWcENpSsuqUp2YDYtMCTp31AG0mxiSLiNPzrNtIISZpVyXP2Eu4hLi0pKYC5SSSFBJAEX3i3PamKNSbGKJwoEDamF3t1l13HNfdTh8C0ohKQFaUJShOxUCpRELI3mdwT0M73FyXUlDLTin1JUnREpQdpXKgE3G83hUc6o5fxG02z4bwWwdSleZsjW2VKUIBgkAW5GBtVLIOIm23HFrSpCHV/w3A0pCEQlKAm+0hNwQBJtTaru59+snbzwc/Iw7lWeYdGH8FavBU0ka0OADXAnVa0E3lJInrzDcPZ+whUOynWtSm1qQdKQozA1DzAzqgWGqhfFGNZdxKCpxDjbaSXFBJIgx8QCSR6km3UmreaYpr7qpSBqIkpdsCozIKr/AFiLbV4F/KDyxOPbpJ3uIgUOsaS4lWtPiaJBncKSblJJM8hyN6zviPLEsFsJCrjVfmCEkR8z19eQaTj2kYdehaCVJkx+FYMDSQJv0pV4lxYeKVwUmwA69TE+W9471qksH+UPUCRkn5x0+zdCC0VmCSs/Sw/Kn5zMfKU6vasZ4OzJ1nUgIUpJMghJIk2IkC1OKM1kkat/zqPrK7VuYjvOm01QtrU+0MYnMQZRubirfATDoacU46pSQrShJiEgAXBibk7TAAERQFCVOnyhSlRsB9e3qY2q41gMzRhfBw5ZaUpalKWpRKgDEaISUg7yb8ooeiZKm5OJjxGoGsKOuY2M5g0t9bYcQXExqQCJEiQY3251iPGmALOYvhRUoFWoFRJJBEgaje2w9KIL4UxDC/EdBUQZ8RKio6uaiT5p71bx2XrxN1qUtQAEneOUndXqZqmNZWDkHI95JSlq2BMBY3HqeSkGSAIA68gB+VbVwbwm3gsMlEDxCNTiuqjuPQbD0rKuGMlWczwiFzpDmpQP9CSsfVIrfHNjVClha2/OR2nuu1AZQijEGlzTMcqi/wBaRcarjcbR86jxIPxEhIvvzjoffpQ13EqbSSSEnVAki97bW2vO5+lCbUNuwImlQxkw7hMWHNoKeRBqHFZUlSybp1fEQd/bY+4qHBv7GPNEkRAUOoHI1PmGLhIVyG9B1F2Km3jJHPSGqXLjbxBSeHcCw6HWsOhp0SQtEj4klJkA6SIPwkRN970DVmL7oWUsPEIUpJ0oJCiDBKD+If8Azevc1zeylDp+/wC1MOAzANYZpKj5ikT6m5+pqC1oty9vQfD+0pBDWML1mIZ8HH8TLjTjQHlSFpKT9eZp74ayBlCAopvvP96r8f5upK2loVBkgwd0xMKGyhMbz9anwHEg8MHwtcbhEA/KI/L9KorqbPKVlGB7SPradz7WaHnXhpsBS7mKkkEx26R61aczNkq1BLggRGkiOxGx9jVDOHkx5RzvBvavDqC7DIkfUaQ46xfxuESq0enOl/HZfzplfdEbRQrGKtFhTdLNnrF6hZWesXFYc11FFKBrqb8wx/7S01LhLBnCYJL0fx8UdSlWSUtxI0mLbhX/AGPQVzjI8yguUTPz3kcthb/IqxmuKXLbc6Q2huEbhUok9b26fpFHxmySBEcyE+oJiCSedvaK9Lhp3Ogo8usHHM+m8QUg7i1hsY6d78r+1qkyfHfd1FxRBJGnTvuQetvhH7ir+R4XCeA6675iCUifLeIEDkTPeIO0EUDbw7Qve5gklNrbWEH1AG8mKw6EjmNlkt3V4PseOv0hTE8RFRA5qPlCRKj2gST6Cr3+i49SvG1IQjRHhKJKzFwSR5U9Ik+0RQ/gXBtIcexCgPEB0JvOkRJIkcwQPY9aYMfxEkJICpqHalVZOTk9JGvQ12bE7TLM14qX4qmvDUlYn44+kG88j/8AKvcO4dlp9kOqCVuBRK1FJIctANyNybRzNU+IvAxDilKHnaSVKgEyi5O25SfNHRR5Cj2EyxpvBgKSCFo1qeGxURZC4tq1GJPsRaqmmRAg2DGesmawuTj25/CfXGOKSHMOolkrUo6yhUgtwowUxPw9jcjkKkzjPGVYZQbDJb5KCwDJAiEkAL369LUO4MwzQa+8KaLi9oFytN0gxuU8/WewqpiFN/fQiFIbSNRKpT4ZIgyFHc6oJNzpB3vTe046xItkZPeT5C5hkoDa0JU6B/EQoKTA0iT5oAUOtxAFxQR9Ta3VpKkobKpQAoEAwYnkSZk9ZonxXiGy3CGEIj8ZI1GxAgTPQzcn5ihWBxDIbXqSlRvMk+Sx2vPW0dL15ggfOfBB8OR9feSZo6y0po6AJutMyYiBMXvczHOg+HbOLxMm6R5Ujaw6x8/eo/vCUNKURLihpGoTysRPTf2FFuFh4aQob16ABz90seGUiyzLDgc4+c1LE4PCYTChKYU6UiDPP+1ZnmyVKxDfhAa3FBMcpJgE/P5UQx2LVczQfLsZ/wDltKP4Vz8qW1AG7cB0EvFfLqYEksec/tNs4fy5tltLafc81HmTRPFuNpSQBJ60uIzkBAgj2qhis8Eb1A87apULlj3PMm/Znd8mEcXid5vQTDFIcIA3nlz/AH+tDcxzw7DnzoXhMUpTqYUQSZJHIDp3rNGmbaS/AjVtSeUQY35KyPv7Tncj/wBFCtDJG08p/t+VZbjs3cbiHHCEQT5jcTeY36U/5XhwkBQg6gL9Rci/MXJ9zXQeEkeWVBz9eJzeq6iU88aXBKCARcTt/VPXy/sb1SwuEaIIgKUk3kWSqAQIN9oNHcxbJFt6XWsXoWUrK1JFgfLEmIQJMkzYCCdu5o1hCuczKqWTAk7OrXzEXA69SqDAHIelXnSICh8Ktx3r4LyFpkqO02NvfrtvVdvEJUI/ArmbGeUCT2rJQYwDz1/mDDnO4/SCsyylEHSkD0EUPcU5EEEhItHOmVAmx3Fv81G7gelYfSVXgEjpGF1D1n3mF5lma8Q8pagQEkpCP5YNwe87/wCKI4HHaRY+XeDuP71f4q4Ze/1NCGBBxA1dhBhRPaIPcnvTrleQYHByPCGIfHxLX8IVN4HKL7D3oWqaqpQp4x+U2tTXnd1iQM7SFFWrzc71WGZSdI9bVqn+qqKYLbOnpoEbbXNBsbw3g8TcIThnzOlTdkK/5JmBPX60lTfQzYnt2gYKSBM4ckmI9qqrbPceooxjcKvDuKadGlaTfnY7EHmCOdVcRiBsDMdbVYGzEhsjhsYgnR2rqu+MP5q8rfp95ra3tNY40AT4DnhtqlBSoqBJtAHPlJpbbxRWTHobARy7murqCScD6D9J+heG86dSfn+skURq0pVYC5veOtrjtEXr0vlQKSQPRAuReZtyB3ntXV1eljHColzhzLUKQ84tS0pQJITHQnVa8wDba9IZ4hddQop0oBMJJkqgkRPKdJ+Yrq6tCisgMVGf/ZzPiVjfaW+79JQyBtxeITDhEODzEk3M7j8QgERz2NqZsahaQG8O8tLTqgnQkm0jXCdZtI5TFx3rq6vbeOkjv6lOZYVkiUM+Nh3ChxKdagCsESeZJ0r7yPTYVTyjLGnmfFeK1JWY1kJJCwfxapMdAkEV1dXy9vugmQBhj5wGjDpL5ROoJumREknaJttHavMycb8RHk0gJGsC+5J3t1m011dRD1nw6GDc6eKlJM+WBA9LT29PTpVzLsw0CK6urTAYlfw9yrHEmezFSqlyJsqeCv5f1rq6lNTxWcR6+xj1jNiXi2SQYBqVGIQUHUmSRaurqlVgYDd4fTsXUAwTiMchKdESobAWHz6VNkjswYEnf99q6uo9v+3FNaxB2ie8R5r4bSzFydI+u/1NP32QZ6cRgEoVJWwfDJ6gAFJ7+Ugexr2uqh4coVOJGv6R2dvS3nOHVqC0KgiSJ2B0EAwO5711dRNao6zzTE5gzB4xJBheuFabpgLKQVKURyBSCdPcelTM4gGSsgqJInSBtYgQOXK9e11L0/F9091PHT3n23iICZJ1JISrnIO094IPzo+hAiurqNpfjaYs+EQfj20oWX48yGlBJ5jWpIt7gH2peCOc17XVz/jBPnGWNB/tzx7YRzP9/wC1VFu89hyrq6p6KMCUFgH7SMN4+Gw76CdaF+ErlqSUyJveIHzNIJy9yJOqPUf3rq6um01jeWsgapQLDifP3T+tVdXV1N7jAT//2Q==',\n",
       " 'data:image/jpeg;base64,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',\n",
       " 'data:image/jpeg;base64,/9j/4AAQSkZJRgABAQAAAQABAAD/2wCEAAkGBxISEhUSExIVFRUVGBcZFhcYFRUYFRodGBgXGBgYHhgZHyghGhsmHRcVITEhJSkrLi4uFx8zODMtNygtLysBCgoKDg0OGhAQGy0mICUtLS0tLS0tLS0tLS0tLS01LS0tLy0tLS0tLS0tLy0tLS0tLS0tLS0tLS0tLS0tLS0tLf/AABEIAOEA4QMBIgACEQEDEQH/xAAbAAEAAgMBAQAAAAAAAAAAAAAABQYDBAcBAv/EAD8QAAIBAgMFBQYEBAYBBQAAAAECAAMRBCExBQYSQVFhcYGRoRMiMrHB0SNCUvAHYnLhFDNDgpLCshYkc+Lx/8QAGgEAAQUBAAAAAAAAAAAAAAAAAAECAwQFBv/EADIRAAIBAgQCCgICAgMBAAAAAAABAgMRBBIhMQVBE1FhcYGRocHh8LHRIjIzUkKi8RT/2gAMAwEAAhEDEQA/AO3RESiOEREAESM27tQYanx24iWCgXsLkE69wM3cNWDorjRlDDxF4X1sJmV8vMzREQFEREAEREWwCIiIAiIgAiIigeT2IgAiIiAIiIAIiIoCIiIAiIgAiIigJrYvGJSALmwJsMic+kYzFJSptUc2VRc/vrynNtpbbWu3tKt2FyKdFbEADmb5X7T9rMnLKu0s0MNOrFySdlposzb5JK68W2klzvZOW3z2n7ZAioQqni4yRmbFbcI5e9rMO0NpYoezNFtFsSAlgthYANln2Z5TXqVUahep+GpGVzc9V8eyYaGLp1U4EqOjAWBJCtl3ZHukDm3qVqaqxq9L0atHSWjlG6ury1d7Xu7O3ZtfKu9mOpH8Szf10wB5raWXYm9HtkLPSZQpszKONBlfMD3lHbYjtnOsS1QEq7ubG1izEZZc4weLekwem5RhzBt4HqOwx8ZtbnWT4dTrUtYxUuuN0vi/apLvOzUqgYBlIIOYINwR1BmWcv3d3nejUPtDem7EsAPhJNyygadoE6ajAgEG4OYPKTRlc5/GYOeFmoy2ez+8/g+4iIpTEREQBE1cXjUp/Ec+QGZ8pF1N5UVrFGt1BF/KQzxFKm8s5JMlhRqTV4olcbikpU2qObKouT9O/lNHYm20xPEACrLnYkG4OhEp++e8S1+GlSJ9mM2NiLtyGfIfPum/uJsusD7dwVSxCA/EwPO36enWPzNy02H9ElTblvyLxERHlcREQARPlmA1kdtHHFRZdSc+ts87Rs5qCvIfCDm7Iz4zGrTy1bp9TPnAYvjBuLMvxDl2MDzB+/SQJqXzN/G83dnVCHpnkeKme3LjXyIYeMqUsTKdSz2LcsNFQfX193x7E/ERLpREREAEREUCp74Bq1Sjg0NvaHjc9AOKx7snPeBKlvTsynhq4p0yxHApPFa4JLXGQHIA+MuuFHFtSrf8lAAeJQ/U+cpO9tbixlY9Db/jZfpGTSyX53/B03DHKM4U07RUMz7ZSaevcvwR2MxJqNxHQZIvJR9+2YQYnkhNilShSgoQVktj7q1CxLMbk6n0nxEQHRiopJbITqG5GO9rhQCc6ZKeAAK+hA8Jy+Xr+GjG1ccr0z5+0v8AIR8HqZvGKalhW/8AVp+tvcvERElORE0dp48UlyzY6D6mbNWqFUsdALmVLE1zUYu3P0HISljsS6MLR/s/Trf6+CzhqPSSu9kYMTWObE3J8yZgTD3zbMmZQLtfpkPqZ9znmay0GxNm0RiVJphuK9r5gMBxXAOXIy8SvbBwZLe1Oi34e0nI+l/OWGdDw/P0Cc+vTu+7dhlYtrpNBEj9s440KRqAAkEDPTM2kMNt0q2TsyHzT0+tpYqVowdufl6iUsNOpHMlp5+hPVsfTXnc9BnNCvtVj8I4fUzWXC3F0ZXHYRMb0WGqnylOrXrPlbu/epPChTT632/o+jjH/V95hqOSbk3gqRqCL6RKkpSekmWEkthNrCfl/wDmS3k9/Sa9GiWva1hrc2Amzswh6wC5pSBJbkzsLZdgBaTYeDzJ/fqWv/o2crRb6lr7eb0LBERNYyRERABERACm7cx3+ExyV2BKVaXC1tcjnbtFk9ZS9sYsVq9SqoIDsSAdbdvbOk72bJ/xNAhfjT3k7eq+I9bTlbAg2IsRkQdR2SOd1py3Oq4TKnUp51/dLK+5O6f3qEKIQQTIzWPWPKfM9nkBROkbgYLgw5qEZ1GuP6QLD14vOVDdrYT4mpncU1Pvt/1H8x9Ne/qdGkEUKosqgAAaADICSU1zMLjWKSh0Ed3q+xLZd7dmZoiJIc2Qu38Rbhpjnmfp638pBGbO1KvFVc9th4ZTVnM4ur0laT8F4fb97NmhDLTSEzYWgajqg5nPsHMzDJrdyj8T9LAfM/SNw1LpasYPbn3cxa08kHImqdMKAoFgMhMkROoMU1sbh1qIyNowt9j4azm+Nwj0XNNxYjyI5EdhnUZH7U2XTxC2cZj4WHxD+3ZIK9HpFpuXsFi+gbUv6v07TnVKswzBsew/Wb9Hbldf9QnvsfnNzGbq11PuWqDsPC3kcvWaDbFxA/0X8r/KZ7p1IPZruv7G2qtCqt4vvt7/AKN0byVeaoe9f7z5beF/0Ux/s+5mDD7uYlj/AJRW/NmA9L39JNYHdAa1nv2J9z9pJGnWm+fj8kE6mEp6u3hr+CKw74jFN7ME258kUdSBlLps3ArQpimvLMnmTzJmXDYdKahUUKByH7zMzy7RoKGr1f3QyMTi3W/jFWiuXuxERJyoIiIgCIiACVreHdWnib1FPs6vM291v6h17R6yyxBq5LRrVKMs9N2ZyXHbsYqkf8pmHVPfHpn5iR5wVTT2b3/ob7TtU+KlQDUgd5tI3TNiHHaiVpQTfZdfs5FhdgYl9KFTvKso8zYSzbI3FzDYh8v0Jz72+3nLstZTowPcQZkiqmu8hrcZrzVo2j3b+b9lcwYbDpTUIihVGgAsJnmrj8dTooalRgqjmfkBzPZNDY+2GxDG2HqJTAutR8uLPTh9dTH31sZVm05EzAiIqY0pdb4j3n5zHNjaFPhquP5j65/Wa85GayyafJs3Yu6TEsuwRalfqx+g+krUs2wT+EOwmX+Gf5/B/lFbGf4/FElERN8yxERABPlXB0M+pTKFUbPxFYVCTRqg1KZ1JYEXX+r3vIAxL2F0s23sXOJRMRvfiHP4VNVB0uCzAcieQy5Z690l9395RXf2VReGpmRYNwkeOYPfGqcW7EKrwbsWSIiPJREREAREQARPIigezBicQtNeJjYep7BPt6gUFjkALmVPHY01WJJyGQHT+8qYvFKhHTd7fvu/JPQoOq+zmbWM2u75L7g7Pi8+XhI9jfM598+YnPVas6rvN3NWEIwVoqwtM1LE1EFkdgOl7jyOnhMMRkW4u8dO7Qc0nufG0HdrVSeJ6YJTi94DqQpyvlkSOk+t3N6qrVVpViGDmwawBBOmlgQdNOc+jmJWaxIC1FCrY6CwIZSLi18xoeuc1+H15tSTd7W++hicUvTnCce3Tlo/k67ExUKodVcaMAR3EXEyzYGEBvDQsVqDnke8aenykMZccTRFRCp5+nQypV6JRirDMTA4lQcKmdbS/PytfM1MJUzQyvdfgw025HUfsGWHdyp7rL0IPmLfSVyqLe8OWvaJJ7ExIWoM8my89PW3nIcFU6OvF8no/H5sSYiGam/PyLTEROkMcSrbY3yo0iUS9VhqQQEH+7n4DxmzvFWZ2XDKxQFWqVnGopLcEDtY5TlzWvlpyjJSa2NvhvDqdZZ6vguzXVvwdlvz5ot3/r+tf/Kp26e9fz4vpNXeLeiniaKgoUqIwYZ8SkWIYA8jmMiJWSLw9Fen78IzM9jUrcLw042UbeL8fPbr6jYba19eK/MWB9C1vSeYfH1UbjRmpnT3Synxt3aTABJXZGzaVUM1WulJFyzN6jc/dTUjtiJckQ0eE4PCy6Wzb5XvK1+pJavwbJPZW+temQKv4ic7gBx3Ea+PnOgbOx1OvTFSmbqfMHmCORE5FtFaIciizsg5uACTzsBy785ZP4dY0rVaiT7rKWA/mW2fiCfIR8ZO9mR8RwFOVF1qccrSu1a112rk+Z0SIiSnNCInkAPYiIAQ+8OJsqoPzZnuH9/lK/aSm8THj0vZRYeJkXObx03KvLs08jYw0bUl5iecOd57Epk4iIB1ygAkHj6PBx3RuBmDK1jbIHisdL3Iy6eEnJZN3h+CO1j9JocNV6rXZ7oocRpKpS7n+yI3I2oz0/Ysje4Pdex4bclJ5Ecuzulri8TfSsjNhHLGzdxNDaWAFUdGGh+h7JvxGzpxnFxkrpkkZOLuimYigyGzCx+fcecjcRX9lfThA4u7rOg1KYYWYAjoReaNbYuHe/FSU3Fjrax8Zkz4U838Zadu/poX4Y5f8l5ETuZvSuNVl4WD07cRNuFgSQGuOeWY8ry0SO2VsehhlK0KYQMbmxJJ8SSfCSM2LWRRm4uTcVoUnb+OFOviwxsWwwVLnXiNiB2538DKGBLl/EnD2qUqltVKn/abj/yPlKcrWkU272Ov4ck8PGa5pf8AVZfY90nyTPZ5GF8T2eRABLDuGP8A3i9z/wDiZXpbP4cUL13fklO3iSLegMVblXHSUcNUb6n66e50aIiTnECIiACIiAFf3ip++rdRbyN/rIbiztzlm28oNEk6gi3fe3yJlaWc/wAQhlrt9evt+U2a2Elen3aHoE8sOXOekzyUewsCJ5flD6a2iCnrS3YChwU1XmBn3nMyH2Js8sRVYe6PhHU9e4SxTc4bh3CLqS57d3X4/JnY2qm1Bct/vYIiJqFERPlmsCTymjsnatLEoXpEkA2NxY9dOhEQW2lyQiIgIIiIAQG+Oz/bYV7C7U/fXwvxD/iT6Tlc7nOWb37DOHqllH4VQkr0U6lPDl2dxkdRczoeC4pJOhJ9q917+ZARESM6ARF+UAQAATpO4GC4MOXIzqtcf0rkPXiPjKRsTZrYiqtNb55u36V5n6DtInWqFFUVUUWVQAB0AFhJKa5mFxrEpQVFbvV9y283qu4zRESQ5sREQAREQA09p4T2tMqDY3BHTKQy7AqdUHiftLLErVsJSqyzSWveyeniKlNZYlKxOGembMpHb17jMK5S9EX1moKdEsVC0ywsStl4hfQkcpSlwrX+MtO1fPsWo47/AGj5FTpIzGygk9gvJrZ+xTcNV/4/c/STaIBkAB3Cfcmo8Npwd5vN+PnxZFUxk5K0Vb8iIiaJTERPhmAzOUQD7nP8FtNMDicWpUkM68KjLmzeFgw9JddoY+nQQ1KjWUeJPQAczKZW2Kca1TFISFqFeADgLAKvCeJbjPIfm8I7oak454rS9r6Jeo55lTk4/WR2I3oxLkXqFQCTZLITnpxWJ7JaNj72JVZaZpVAxsLgcY7zzt2mRWzt0FqAVExIZSMiEzB5gqx7xY2lzwOH9mipcHhFrhQoP+0ZCRpSTtIp0oVU/wCTt6mzERHloTWxmESqhp1FDKdQfn2HtmzMVaqqKWYgKouSdAOsBU2ndO1ihbS3FqKSaDBl5BjwuOy+h78pr4XcbEt8Rp0+83Pkv3luqb1YUfnYjmQjkedpI4LH0qy8VNww521HeDmJHki3oaMeN4hxyqSb67K/69Ci7R3AqKb4eqrg24lqe6b8yCotbs5dsx4bcfEk+8aSrzPEzHwAAv5y7Yfa9KpXegly1MXY29zUArfrn8+kk4uWLBcVxUVlv5pXIvY2x6eGThQXJ+Jj8RP0HZJSIjjPnOU5OUndvmIiIDRERABERFAw4mutNS7sFVRck6CU3aO9VRzakRSTkxsXI6lSDYfu8m9u7FqYlh+OERdE4L5/qJ4sz0yylcx2w8NRb8SvUqtzVQAfFje3zkVSTS3susidOtVlkpxJvdTbFbEU3DAMyEDj+EG4vnbmOwcxGw6Ps8Xi+OxdmSz6XDLcL2d3Ph7JG0Nvmmop0qSIg0vdj3k5XMwHalVXq1OJD7UICNclBGnI5yJYmn13sX44KtTtCe8tOb582lZeL7di1Hb2GFT2Xtl4gbc7X6cVrX8ZKTj+GIF0YDvsOLMga9Jdtx9os6vRckmkRw314TcW8CPUSaFTM7GbTrNyyyVn7rky1RESQsGDF4haaNUY2VFLHuAuZxveLbRxTK7BrgG4LXUEk2CroAFsL6k3vOlb67Sp0cK6uCxrK1NVBsTxKQTfkAM/LrOZbFoUyHaqxHCp4QNWfRQOgubk9BNzhFK0XVa7n+bff2XMLHRyaMGCrNwlCW4QbqpJ4R1IGgM2UqEaEi+tjaY2W/fNetieE24bnvym7si/stTJi67WC8TcOZ4bnhv1tpftk1ubvDVpV6dNnZqVRghViTwlsgy30ztl0vKwxYm+p6cu6WPdrYlT/EUWrKaVPiDhqg4Q3D7yqpOpJt4XlXE5JU5Z1pZ/e8hq5XF5vvcdeiInHoyhMdVAwKkXBBBHUHIiZJqbSxgo0y55ZAdSdBC9tQfaULamxq+GJAUNSzCubkWPJlvkeV7TWwGNq0XHsQeNgads+G7/AA2v0Y3z69JlxuLeqxZ2LH0HYByEwgyk6iveKKMbRmmtk9i9bK2fSwdE3IvrUc6sfnboPqZrNvGT/l0HdepPDfuFjILDbUfFLSpPnwMxY/qAA4b9uoMmo6dd7QLLqObvckdmbYSsStijjVW18Osk5UNoAqBVX46ZBHaOY7v7y1YauHRXGjAEeMmo1HNa7joSvozLE8iTDxERC4HsRNbG1xTps5/KCfsPOJtqxUm3ZEJvJtop+FTNm/Mw1F+Q7flKnfP6z2rULEsTckkk9pnkxKtV1JZn4HU4fDxoQyrx7X92E8OY757AkROa1RNL68jMuAqVKbiorm4FgeWWgtzEyQBJVUklZFapg6NSoqso/wAlz/fJ+PLQv2xtpiul9GXJh9R2GSU59sLF+yrKeRPC3cfsbHwnQZqYet0kNd1uYeNw/Q1P47PVe6+8ig/xSwzFaFQD3VLqewtwkefCZSKKlRn/APk7Ft2tSWhU9syKrKR79rXIyFjqb8py7FNSshphlbhHGCQRxDmp1sdbHSdZwms5Usltna/fr8c/Alwk7xtbY0jUHUTGaAY8RGffpMlXQz6E1rXLZio07X/eU2HqE6knvJMwHM88hym2cGwdULqeLhzDKyjiNr3W+nMaxLpCXSOj7k4xquFHESSjFLnUgAEeQNvCWGaGxtnLh6K0lN7anqTqY2ptNKC3bMn4VGp/t2zi8TOEqk5x0i22jGqSjmbWxuO4UEkgAZknQSi7f2r7d7L8C/D2/wA0mKWFq4tfaVn9nS1CLzA5kn5n0kLt18PdUoKLKDdhf3ie06269sp1ruF9l6vwKtSTa7PyRc+ahsD3T6mti6n5fOUyuSm6y+8e4/MCWWQe7NAhSx7vqfpJyIWKf9T5dQQQdDkfGZt1q5CtQb4qZNu1TmPW/mJjmpieKm4r082XJl/UvMfv6R9KeSVx17O5bomtgcWlVA6G4PmDzB7ZszRvcmTuIiIgCQm9tS2Ht+p1Hzb/AKybkFvgl8Pf9Lqfmv8A2kdf/HLuLOEt08L9a+PUpkIoA0/ZgkC1+ek9JmJsdOeTxwSDY2PI9O2FPZb96z2AoEREAE6Th34kVuqg+YBnM3yuZ03D0+FFX9KgeQt9JfwG8vAyOL2yw8fb4OZ7941Xq1VYsXpsiIv5VXg4nc9SWIHhKrhGa/DfK150LfjdZqrHE0it+H8RSbXCj4getgBY9JTMRs40uC9uJ0Vxnya9gelwL+Ind8PqU50oqD2tddWmvu/XmQUJRcVZmF6V9TNfE8ai95s+1HO48JrV8QGyGkvS2J3sbdIggEaTb2ZhGrVURBcsR4Dme4DOfe42y1xGK4WzpopZ1vkfygddSDl0nVcBsyjRv7KmqX1IGZ7yczM/FcSjQeRK8rdll1fsr1cSoaczZdwoJOgFyewTnO0cY1ao1Rueg6DkJetuG2Hq2/QfXIznk43EPaJi13sjeq7VqtRWhcBFyyFiRyBPSaMRK7k3uQNtny72F5h2fQNRx1J/Z8IxhyHfJXdZBcnoD6kCICV3Yn6NIKoUaCQm8W86YY8Crx1LXteyrfS569nyk+JyDamIL1ajHVnYnzOXhpJKUFJ6mphKKqSd9kTg35xN78FK3Thb58UtO728NPFAi3BUUXKE3y6g8x8py6Se7dYpiqJHOoqnuc8J9DJp0o20RdrYWm4PKrM6hg6n+Hrrb/LrHhYcg3I/vtlrlN22PwiehBHnLfTa4B6gQwzumjJhpdH3ERLBIJq7Rwoq03pn8wIHYeR87TaiG4qbTujlrXUlWyIJBHQjUT6lq3m2Eal6tIe/+Zf1W5jt+fzp5PIjQ+IMxq1FwlY6nDYiNeGaPiup/djNE+RUEe0HWQ2ZOfQN8xBM+DU6T2hhnqOFQFmPIfM9B2xyi2DaW5u7BwhrV0FvdU8Tdwz9TYeM6LIvYeyhh0tq7Zu30HYJKTXw9Lo4We5zeOxCrVP47LRe7+8jXx1D2lN6enGrLfvBE5DtClURylW4dQFseiiwt/LYC07NKn/EfDlsIWUZqyEtb3gtyDnqBcibXDMX0VTo2rqTXg9vgjw1XJLLbc5ti6gVT1IsJohBbSDT63PfJ7cnYq4nEcFS7U1QswBI5gAXGfP0m/VqKEXOWyL05WV2Tf8AC7BN7apWtZFQpfkWZla3gF9ROlTBhsMlNQiKFUaKoAAmecrisR09Rztb4MypPPK5hxVEOjIfzKR5i05pUplSVYWIJBHaMjOoyrb07HJJr0xc/nUa5fmH1mfXhmV1yKtaF1dFViIlQqmDGD3e4zb3dxIV7E5HLz/vaYmW4tPrY2x6tapwqLKD7zke6B9T2RUruyHRvfQt85rvfsRqNVqigmk5LAjRScyp6Z3tL+Hag3sq2X6H/Kw7+R/fftEAjqD5GOjJwkXqFd05XXijitpa9yNiO9RcQ6kImaX/ADNoCOwa3627Zc12NhgeIUKV+vsl+0yYnFqnuj3mOSoMyemQ0j51rqyRZrY3NFpK1z4xtP2jU6I1dgT2KNT++kt5kPsXZpS9Wp/mv5KP0j6yYk9GDgtd2U4LmzyJ7ElHiIiACRe0ti0a+bLZv1Lk3jyPjJSIjipKzQ+E5QeaLsym4jc9x8FRWH8wKn0vMA3Rr9af/I/aXmJB/wDLTfX5l2PEq63s/D9WKng90OdSp4IPqftLDgcBToi1NQOp1J7zzm3ElhShD+qK9bE1auk3p1chERHlcTFWpK6lWAKsCCDmCDqDMsRUwKZif4eYdmulSoin8vusB3Ei/neT+xNiUsKnBSU55sxN2YjS5+gykpEnqYqtUjlnJtD5VJyVmxERK4wREQAh8fu/RqnisUY81sL940kad0OlbL+j/wC0tURkqUHrYY6cXyK/hd1aS5uzP2fCvkM/WTdKkqgKoCgaACwmWI6MVHZDlFLYw16CupV1DA8iLiRFXdxf9KrUp9l+JfI5+snYhKMZboHFPcrw3cc/FiXI6BeH6mSOz9k0qPwL73Njm3ny8JITyJGnGOqQiglqj2IiPHCIiIAiIgAiIgAnkRAD2IiACIiACIiACIiACIiACIiACIiKAiIiAIiIAJ5ERUAnsREAREQA/9k=',\n",
       " 'data:image/jpeg;base64,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',\n",
       " 'data:image/jpeg;base64,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',\n",
       " 'data:image/jpeg;base64,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',\n",
       " 'data:image/jpeg;base64,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',\n",
       " 'data:image/jpeg;base64,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',\n",
       " 'data:image/jpeg;base64,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',\n",
       " 'data:image/jpeg;base64,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']"
      ]
     },
     "execution_count": 108,
     "metadata": {},
     "output_type": "execute_result"
    }
   ],
   "source": [
    "# extracting fruits images\n",
    "fruits_images = []\n",
    "try:\n",
    "    fruits = driver.find_elements(By.XPATH,'//img[@class=\"rg_i Q4LuWd\"]')\n",
    "    for i in fruits[0:10]:\n",
    "        fruits_images.append(i.get_attribute('src'))\n",
    "except NoSuchElementException:\n",
    "    fruits_images.append('-')\n",
    "fruits_images    "
   ]
  },
  {
   "cell_type": "code",
   "execution_count": 125,
   "id": "351435d3",
   "metadata": {},
   "outputs": [
    {
     "data": {
      "text/plain": [
       "['Downloads/images of fruits0.jpg',\n",
       " <email.message.Message at 0x17e502a19d0>,\n",
       " 'Downloads/images of fruits1.jpg',\n",
       " <email.message.Message at 0x17e51f0d6d0>,\n",
       " 'Downloads/images of fruits2.jpg',\n",
       " <email.message.Message at 0x17e502a1c10>,\n",
       " 'Downloads/images of fruits3.jpg',\n",
       " <email.message.Message at 0x17e502a19a0>,\n",
       " 'Downloads/images of fruits4.jpg',\n",
       " <email.message.Message at 0x17e51f0dfa0>,\n",
       " 'Downloads/images of fruits5.jpg',\n",
       " <email.message.Message at 0x17e51f0d700>,\n",
       " 'Downloads/images of fruits6.jpg',\n",
       " <email.message.Message at 0x17e51f0d790>,\n",
       " 'Downloads/images of fruits7.jpg',\n",
       " <email.message.Message at 0x17e51f0d1f0>,\n",
       " 'Downloads/images of fruits8.jpg',\n",
       " <email.message.Message at 0x17e51f0d340>,\n",
       " 'Downloads/images of fruits9.jpg',\n",
       " <email.message.Message at 0x17e51f0dbe0>]"
      ]
     },
     "execution_count": 125,
     "metadata": {},
     "output_type": "execute_result"
    }
   ],
   "source": [
    "# download the images\n",
    "fruits=[]\n",
    "for i in range(10):    \n",
    "    f=urllib.request.urlretrieve(str(fruits_images[i]),\"Downloads/images of fruits{}.jpg\".format(i))\n",
    "    for j in f:\n",
    "        fruits.append(j)\n",
    "fruits   "
   ]
  },
  {
   "cell_type": "code",
   "execution_count": 126,
   "id": "6a8bcfb9",
   "metadata": {},
   "outputs": [],
   "source": [
    "search_field_image = driver.find_element(By.XPATH,'//input[@class=\"og3lId\"]')\n",
    "search_field_image.clear()\n",
    "search_field_image = driver.find_element(By.XPATH,'/html/body/c-wiz/c-wiz/div/div[3]/div[2]/div/div[1]/form/div[1]/div[2]/div/div[2]/input')\n",
    "search_field_image.send_keys('images of cars')\n",
    "search_button = driver.find_element(By.XPATH,'//button[@class=\"rCGXm\"]')\n",
    "search_button.click()    "
   ]
  },
  {
   "cell_type": "code",
   "execution_count": 127,
   "id": "c9074c49",
   "metadata": {},
   "outputs": [],
   "source": [
    "# extracting cars images\n",
    "cars_images = []\n",
    "try:\n",
    "    cars = driver.find_elements(By.XPATH,'//img[@class=\"rg_i Q4LuWd\"]')\n",
    "    for i in cars[0:10]:\n",
    "        cars_images.append(i.get_attribute('src'))\n",
    "except StaleElementReferenceException:\n",
    "    cars_images.append('-')    "
   ]
  },
  {
   "cell_type": "code",
   "execution_count": 128,
   "id": "58f07dac",
   "metadata": {},
   "outputs": [
    {
     "data": {
      "text/plain": [
       "['Downloads/images of cars0.jpg',\n",
       " <email.message.Message at 0x17e51f6b7f0>,\n",
       " 'Downloads/images of cars1.jpg',\n",
       " <email.message.Message at 0x17e504cc220>,\n",
       " 'Downloads/images of cars2.jpg',\n",
       " <email.message.Message at 0x17e51f0d7f0>,\n",
       " 'Downloads/images of cars3.jpg',\n",
       " <email.message.Message at 0x17e51f0d7c0>,\n",
       " 'Downloads/images of cars4.jpg',\n",
       " <email.message.Message at 0x17e51f0d490>,\n",
       " 'Downloads/images of cars5.jpg',\n",
       " <email.message.Message at 0x17e51f0d9a0>,\n",
       " 'Downloads/images of cars6.jpg',\n",
       " <email.message.Message at 0x17e51f0d550>,\n",
       " 'Downloads/images of cars7.jpg',\n",
       " <email.message.Message at 0x17e51f6b7c0>,\n",
       " 'Downloads/images of cars8.jpg',\n",
       " <email.message.Message at 0x17e51f6b4f0>,\n",
       " 'Downloads/images of cars9.jpg',\n",
       " <email.message.Message at 0x17e51f6b070>]"
      ]
     },
     "execution_count": 128,
     "metadata": {},
     "output_type": "execute_result"
    }
   ],
   "source": [
    "# download the images\n",
    "cars=[]\n",
    "for i in range(10):    \n",
    "    c=urllib.request.urlretrieve(str(cars_images[i]),\"Downloads/images of cars{}.jpg\".format(i))\n",
    "    for j in c:\n",
    "        cars.append(j)\n",
    "cars   "
   ]
  },
  {
   "cell_type": "code",
   "execution_count": 129,
   "id": "32e1dfdd",
   "metadata": {},
   "outputs": [],
   "source": [
    "search_field_clear = driver.find_element(By.XPATH,'//input[@class=\"og3lId\"]')\n",
    "search_field_clear.clear()\n",
    "search_field_image = driver.find_element(By.XPATH,'/html/body/c-wiz/c-wiz/div/div[3]/div[2]/div/div[1]/form/div[1]/div[2]/div/div[2]/input')\n",
    "search_field_image.send_keys('images of cakes')\n",
    "search_button = driver.find_element(By.XPATH,'//button[@class=\"rCGXm\"]')\n",
    "search_button.click()    "
   ]
  },
  {
   "cell_type": "code",
   "execution_count": 130,
   "id": "d9378246",
   "metadata": {},
   "outputs": [],
   "source": [
    "# extracting cakes images\n",
    "cakes_images = []\n",
    "try:\n",
    "    cakes = driver.find_elements(By.XPATH,'//img[@class=\"rg_i Q4LuWd\"]')\n",
    "    for i in cakes[0:10]:\n",
    "        cakes_images.append(i.get_attribute('src'))\n",
    "except NoSuchElementException:\n",
    "    cakes_images.append('-')\n",
    "    "
   ]
  },
  {
   "cell_type": "code",
   "execution_count": 131,
   "id": "6286146a",
   "metadata": {},
   "outputs": [
    {
     "data": {
      "text/plain": [
       "['Downloads/images of cakes0.jpg',\n",
       " <email.message.Message at 0x17e502a1ca0>,\n",
       " 'Downloads/images of cakes1.jpg',\n",
       " <email.message.Message at 0x17e51efed60>,\n",
       " 'Downloads/images of cakes2.jpg',\n",
       " <email.message.Message at 0x17e51efeb50>,\n",
       " 'Downloads/images of cakes3.jpg',\n",
       " <email.message.Message at 0x17e51efef70>,\n",
       " 'Downloads/images of cakes4.jpg',\n",
       " <email.message.Message at 0x17e51efe8b0>,\n",
       " 'Downloads/images of cakes5.jpg',\n",
       " <email.message.Message at 0x17e51efe7c0>,\n",
       " 'Downloads/images of cakes6.jpg',\n",
       " <email.message.Message at 0x17e51efe790>,\n",
       " 'Downloads/images of cakes7.jpg',\n",
       " <email.message.Message at 0x17e51efeb20>,\n",
       " 'Downloads/images of cakes8.jpg',\n",
       " <email.message.Message at 0x17e51efe700>,\n",
       " 'Downloads/images of cakes9.jpg',\n",
       " <email.message.Message at 0x17e502a16a0>]"
      ]
     },
     "execution_count": 131,
     "metadata": {},
     "output_type": "execute_result"
    }
   ],
   "source": [
    "# download the images\n",
    "cakes=[]\n",
    "for i in range(10):    \n",
    "    ca=urllib.request.urlretrieve(str(cakes_images[i]),\"Downloads/images of cakes{}.jpg\".format(i))\n",
    "    for j in ca:\n",
    "        cakes.append(j)\n",
    "cakes   "
   ]
  },
  {
   "cell_type": "code",
   "execution_count": 132,
   "id": "e6f7ea6e",
   "metadata": {},
   "outputs": [],
   "source": [
    "search_field_clear = driver.find_element(By.XPATH,'//input[@class=\"og3lId\"]')\n",
    "search_field_clear.clear()\n",
    "search_field_image = driver.find_element(By.XPATH,'/html/body/c-wiz/c-wiz/div/div[3]/div[2]/div/div[1]/form/div[1]/div[2]/div/div[2]/input')\n",
    "search_field_image.send_keys('images of Guitar')\n",
    "search_button = driver.find_element(By.XPATH,'//button[@class=\"rCGXm\"]')\n",
    "search_button.click()    "
   ]
  },
  {
   "cell_type": "code",
   "execution_count": 133,
   "id": "ce6cf9cf",
   "metadata": {},
   "outputs": [],
   "source": [
    "# extracting Guitar images\n",
    "guitar_images = []\n",
    "try:\n",
    "    guitar = driver.find_elements(By.XPATH,'//img[@class=\"rg_i Q4LuWd\"]')\n",
    "    for i in guitar[0:10]:\n",
    "        guitar_images.append(i.get_attribute('src'))\n",
    "except StaleElementReferenceException:\n",
    "    guitar_images.append('-')\n",
    "    "
   ]
  },
  {
   "cell_type": "code",
   "execution_count": 134,
   "id": "a44ee48a",
   "metadata": {},
   "outputs": [
    {
     "data": {
      "text/plain": [
       "['Downloads/images of Guitar0.jpg',\n",
       " <email.message.Message at 0x17e51f6bb50>,\n",
       " 'Downloads/images of Guitar1.jpg',\n",
       " <email.message.Message at 0x17e51f6b6d0>,\n",
       " 'Downloads/images of Guitar2.jpg',\n",
       " <email.message.Message at 0x17e51f6b670>,\n",
       " 'Downloads/images of Guitar3.jpg',\n",
       " <email.message.Message at 0x17e51f6bdc0>,\n",
       " 'Downloads/images of Guitar4.jpg',\n",
       " <email.message.Message at 0x17e51f6bdf0>,\n",
       " 'Downloads/images of Guitar5.jpg',\n",
       " <email.message.Message at 0x17e51f6ba30>,\n",
       " 'Downloads/images of Guitar6.jpg',\n",
       " <email.message.Message at 0x17e51f6bbb0>,\n",
       " 'Downloads/images of Guitar7.jpg',\n",
       " <email.message.Message at 0x17e51f6ba60>,\n",
       " 'Downloads/images of Guitar8.jpg',\n",
       " <email.message.Message at 0x17e51f6b8e0>,\n",
       " 'Downloads/images of Guitar9.jpg',\n",
       " <email.message.Message at 0x17e51f6bc70>]"
      ]
     },
     "execution_count": 134,
     "metadata": {},
     "output_type": "execute_result"
    }
   ],
   "source": [
    "# download the images\n",
    "guitar=[]\n",
    "for i in range(10):    \n",
    "    g=urllib.request.urlretrieve(str(guitar_images[i]),\"Downloads/images of Guitar{}.jpg\".format(i))\n",
    "    for j in g:\n",
    "        guitar.append(j)\n",
    "guitar   "
   ]
  },
  {
   "cell_type": "code",
   "execution_count": 135,
   "id": "20050e8b",
   "metadata": {},
   "outputs": [],
   "source": [
    "search_field_clear = driver.find_element(By.XPATH,'//input[@class=\"og3lId\"]')\n",
    "search_field_clear.clear()\n",
    "search_field_image = driver.find_element(By.XPATH,'/html/body/c-wiz/c-wiz/div/div[3]/div[2]/div/div[1]/form/div[1]/div[2]/div/div[2]/input')\n",
    "search_field_image.send_keys('images of Machine Learning')\n",
    "search_button = driver.find_element(By.XPATH,'//button[@class=\"rCGXm\"]')\n",
    "search_button.click()    "
   ]
  },
  {
   "cell_type": "code",
   "execution_count": 136,
   "id": "0ba7ef61",
   "metadata": {},
   "outputs": [],
   "source": [
    "# extracting Machine Learning images\n",
    "ML_images = []\n",
    "try:\n",
    "    ML = driver.find_elements(By.XPATH,'//img[@class=\"rg_i Q4LuWd\"]')\n",
    "    for i in ML[0:10]:\n",
    "        ML_images.append(i.get_attribute('src'))\n",
    "except StaleElementReferenceException:\n",
    "    ML_images.append('-')    "
   ]
  },
  {
   "cell_type": "code",
   "execution_count": 137,
   "id": "73cb56df",
   "metadata": {},
   "outputs": [
    {
     "data": {
      "text/plain": [
       "['Downloads/images of Machine Learning0.jpg',\n",
       " <email.message.Message at 0x17e502a1f10>,\n",
       " 'Downloads/images of Machine Learning1.jpg',\n",
       " <email.message.Message at 0x17e502a1dc0>,\n",
       " 'Downloads/images of Machine Learning2.jpg',\n",
       " <email.message.Message at 0x17e502a16d0>,\n",
       " 'Downloads/images of Machine Learning3.jpg',\n",
       " <email.message.Message at 0x17e502a1fa0>,\n",
       " 'Downloads/images of Machine Learning4.jpg',\n",
       " <email.message.Message at 0x17e502a15e0>,\n",
       " 'Downloads/images of Machine Learning5.jpg',\n",
       " <email.message.Message at 0x17e502a1790>,\n",
       " 'Downloads/images of Machine Learning6.jpg',\n",
       " <email.message.Message at 0x17e502a1970>,\n",
       " 'Downloads/images of Machine Learning7.jpg',\n",
       " <email.message.Message at 0x17e502a1730>,\n",
       " 'Downloads/images of Machine Learning8.jpg',\n",
       " <email.message.Message at 0x17e502a1490>,\n",
       " 'Downloads/images of Machine Learning9.jpg',\n",
       " <email.message.Message at 0x17e502a1910>]"
      ]
     },
     "execution_count": 137,
     "metadata": {},
     "output_type": "execute_result"
    }
   ],
   "source": [
    "# download the images\n",
    "ML=[]\n",
    "for i in range(10):    \n",
    "    m=urllib.request.urlretrieve(str(ML_images[i]),\"Downloads/images of Machine Learning{}.jpg\".format(i))\n",
    "    for j in m:\n",
    "        ML.append(j)\n",
    "ML   "
   ]
  },
  {
   "cell_type": "code",
   "execution_count": 138,
   "id": "98131ad6",
   "metadata": {},
   "outputs": [],
   "source": [
    "driver.close()"
   ]
  },
  {
   "cell_type": "markdown",
   "id": "363571bb",
   "metadata": {},
   "source": [
    "## 4. Write a python program to search for a smartphone(e.g.: Oneplus Nord, pixel 4A, etc.) onwww.flipkart.com and scrape following details for all the search results displayed on 1st page. Details to be scraped: “Brand Name”, “Smartphone name”, “Colour”, “RAM”, “Storage(ROM)”, “Primary Camera”, “Secondary Camera”, “Display Size”, “Battery Capacity”, “Price”, “Product URL”. Incase if any of the details is missing then replace it by “- “. Save your results in a dataframe and CSV.\n"
   ]
  },
  {
   "cell_type": "code",
   "execution_count": 1,
   "id": "88cb1446",
   "metadata": {},
   "outputs": [
    {
     "name": "stderr",
     "output_type": "stream",
     "text": [
      "C:\\Users\\EXPERT SOLUTION\\AppData\\Local\\Temp\\ipykernel_10664\\1460748407.py:12: DeprecationWarning: executable_path has been deprecated, please pass in a Service object\n",
      "  driver = webdriver.Chrome('chromedriver.exe')\n"
     ]
    }
   ],
   "source": [
    "# import required libraries\n",
    "import pandas as pd\n",
    "import selenium\n",
    "import time \n",
    "# import selenium webdriver\n",
    "from selenium import webdriver\n",
    "# importing required exceptions which need to handled\n",
    "from selenium.common.exceptions import StaleElementReferenceException,NoSuchElementException\n",
    "# importing regex\n",
    "import re\n",
    "from selenium.webdriver.common.by import By\n",
    "driver = webdriver.Chrome('chromedriver.exe')\n",
    "driver.maximize_window()"
   ]
  },
  {
   "cell_type": "code",
   "execution_count": 2,
   "id": "3485b6b8",
   "metadata": {},
   "outputs": [],
   "source": [
    "driver.get('https://www.flipkart.com/')"
   ]
  },
  {
   "cell_type": "code",
   "execution_count": 3,
   "id": "2011c3a8",
   "metadata": {},
   "outputs": [],
   "source": [
    "search_field = driver.find_element(By.CLASS_NAME,'_3704LK')\n",
    "search_field.send_keys('Oneplus Nord')\n",
    "search_button = driver.find_element(By.CLASS_NAME,'L0Z3Pu')\n",
    "search_button.click()"
   ]
  },
  {
   "cell_type": "markdown",
   "id": "562765df",
   "metadata": {},
   "source": [
    "## Extract brand name"
   ]
  },
  {
   "cell_type": "code",
   "execution_count": 17,
   "id": "3222ad20",
   "metadata": {},
   "outputs": [],
   "source": [
    "# Let's extract all web elements having brand name\n",
    "brand_name= []\n",
    "try:\n",
    "    brand_tag = driver.find_elements(By.XPATH,'//div[@class=\"_4rR01T\"]')\n",
    "    for i in brand_tag:\n",
    "        brand_name.append(i.text.split(' ')[0])\n",
    "except NoSuchElementException:\n",
    "    brand_name.append('-')   "
   ]
  },
  {
   "cell_type": "markdown",
   "id": "0d899b80",
   "metadata": {},
   "source": [
    "## Extract smartphone name"
   ]
  },
  {
   "cell_type": "code",
   "execution_count": 18,
   "id": "a50ec522",
   "metadata": {},
   "outputs": [],
   "source": [
    "# Let's extract all web elements having smartphone name\n",
    "smartphone_name= []\n",
    "try:\n",
    "    smartphone_tag = driver.find_elements(By.XPATH,'//div[@class=\"_4rR01T\"]')\n",
    "    for i in smartphone_tag:\n",
    "        smartphone_name.append(i.text.split('(')[0])\n",
    "except NoSuchElementException:\n",
    "    smartphone_name.append('-')   "
   ]
  },
  {
   "cell_type": "markdown",
   "id": "fcd86ff9",
   "metadata": {},
   "source": [
    "## Extract  colour and ROM"
   ]
  },
  {
   "cell_type": "code",
   "execution_count": 19,
   "id": "021acfe3",
   "metadata": {},
   "outputs": [],
   "source": [
    "# Let's extract all web elements having colour\n",
    "colour= []\n",
    "try:\n",
    "    colour_tag = driver.find_elements(By.XPATH,'//div[@class=\"_4rR01T\"]')\n",
    "    for i in colour_tag:\n",
    "        colour.append(i.text.split('(')[1])\n",
    "except NoSuchElementException:\n",
    "    colour.append('-')    "
   ]
  },
  {
   "cell_type": "markdown",
   "id": "b0a54b1d",
   "metadata": {},
   "source": [
    "## Extracting RAM"
   ]
  },
  {
   "cell_type": "code",
   "execution_count": 20,
   "id": "8e79b20a",
   "metadata": {},
   "outputs": [],
   "source": [
    "# Let's extract all web elements having RAM\n",
    "RAM= []\n",
    "try:\n",
    "    RAM_tag = driver.find_elements(By.XPATH,'//ul[@class=\"_1xgFaf\"]')\n",
    "    for i in RAM_tag:\n",
    "        RAM.append(i.text.split('|')[0])\n",
    "except NoSuchElementException:\n",
    "    RAM.append('-')    "
   ]
  },
  {
   "cell_type": "markdown",
   "id": "1e7c6571",
   "metadata": {},
   "source": [
    "## Extract display size"
   ]
  },
  {
   "cell_type": "code",
   "execution_count": 21,
   "id": "1e41897a",
   "metadata": {},
   "outputs": [],
   "source": [
    "# Let's extract all web elements having Display\n",
    "display= []\n",
    "try:\n",
    "    display_tag = driver.find_elements(By.XPATH,'//ul[@class=\"_1xgFaf\"]')\n",
    "    for i in display_tag:\n",
    "        display.append(i.text.split('\\n')[1])\n",
    "except NoSuchElementException:\n",
    "    display.append('-')   "
   ]
  },
  {
   "cell_type": "markdown",
   "id": "f4d79ff4",
   "metadata": {},
   "source": [
    "## Extract Camera"
   ]
  },
  {
   "cell_type": "code",
   "execution_count": 22,
   "id": "2e3fe447",
   "metadata": {},
   "outputs": [],
   "source": [
    "# Let's extract all web elements having Camera\n",
    "camera= []\n",
    "try:\n",
    "    camera_tag = driver.find_elements(By.XPATH,'//ul[@class=\"_1xgFaf\"]')\n",
    "    for i in camera_tag:\n",
    "        camera.append(i.text.split('\\n')[2])\n",
    "except NoSuchElementException:\n",
    "    camera.append('-')    "
   ]
  },
  {
   "cell_type": "markdown",
   "id": "eb690490",
   "metadata": {},
   "source": [
    "## Extract Battery capacity"
   ]
  },
  {
   "cell_type": "code",
   "execution_count": 23,
   "id": "5af9a1fd",
   "metadata": {},
   "outputs": [],
   "source": [
    "# Let's extract all web elements having battery capacity\n",
    "battery= []\n",
    "try:\n",
    "    battery_tag = driver.find_elements(By.XPATH,'//ul[@class=\"_1xgFaf\"]')\n",
    "    for i in battery_tag:\n",
    "        battery.append(i.text.split('\\n')[3])\n",
    "except NoSuchElementException:\n",
    "    battery.append('-')  "
   ]
  },
  {
   "cell_type": "markdown",
   "id": "d9e6f049",
   "metadata": {},
   "source": [
    "## Extracting Price"
   ]
  },
  {
   "cell_type": "code",
   "execution_count": 24,
   "id": "2547fe2d",
   "metadata": {},
   "outputs": [],
   "source": [
    "# Let's extract all web elements having price\n",
    "price= []\n",
    "try:\n",
    "    price_tag = driver.find_elements(By.XPATH,'//div[@class=\"_30jeq3 _1_WHN1\"]')\n",
    "    for i in price_tag:\n",
    "        price.append(i.text)\n",
    "except NoSuchElementException:\n",
    "    price.append('-')    "
   ]
  },
  {
   "cell_type": "markdown",
   "id": "f2e67484",
   "metadata": {},
   "source": [
    "## Extracting Product URL"
   ]
  },
  {
   "cell_type": "code",
   "execution_count": 25,
   "id": "fd3806fd",
   "metadata": {},
   "outputs": [],
   "source": [
    "# Let's extract all web elements having product url\n",
    "p_url= []\n",
    "try:\n",
    "    p_url_tag = driver.find_elements(By.XPATH,'//a[@class=\"_1fQZEK\"]')\n",
    "    for i in p_url_tag:\n",
    "        p_url.append(i.get_attribute('href'))\n",
    "except NoSuchElementException:\n",
    "    p_url.append('-')    "
   ]
  },
  {
   "cell_type": "code",
   "execution_count": 16,
   "id": "196e4837",
   "metadata": {},
   "outputs": [
    {
     "data": {
      "text/html": [
       "<div>\n",
       "<style scoped>\n",
       "    .dataframe tbody tr th:only-of-type {\n",
       "        vertical-align: middle;\n",
       "    }\n",
       "\n",
       "    .dataframe tbody tr th {\n",
       "        vertical-align: top;\n",
       "    }\n",
       "\n",
       "    .dataframe thead th {\n",
       "        text-align: right;\n",
       "    }\n",
       "</style>\n",
       "<table border=\"1\" class=\"dataframe\">\n",
       "  <thead>\n",
       "    <tr style=\"text-align: right;\">\n",
       "      <th></th>\n",
       "      <th>Brand Name</th>\n",
       "      <th>Smartphone Name</th>\n",
       "      <th>Colour &amp; ROM</th>\n",
       "      <th>RAM</th>\n",
       "      <th>Camera</th>\n",
       "      <th>Display Size</th>\n",
       "      <th>Battery Capacity</th>\n",
       "      <th>Price</th>\n",
       "      <th>Product URL</th>\n",
       "    </tr>\n",
       "  </thead>\n",
       "  <tbody>\n",
       "    <tr>\n",
       "      <th>0</th>\n",
       "      <td>OnePlus</td>\n",
       "      <td>OnePlus Nord CE 2 Lite 5G</td>\n",
       "      <td>Black Dusk, 128 GB)</td>\n",
       "      <td>6 GB RAM</td>\n",
       "      <td>64MP Rear Camera</td>\n",
       "      <td>16.74 cm (6.59 inch) Display</td>\n",
       "      <td>5000 mAh Battery</td>\n",
       "      <td>₹19,977</td>\n",
       "      <td>https://www.flipkart.com/oneplus-nord-ce-2-lit...</td>\n",
       "    </tr>\n",
       "    <tr>\n",
       "      <th>1</th>\n",
       "      <td>OnePlus</td>\n",
       "      <td>OnePlus Nord CE 2 Lite 5G</td>\n",
       "      <td>Blue Tide, 128 GB)</td>\n",
       "      <td>6 GB RAM</td>\n",
       "      <td>64MP Rear Camera | 16MP Front Camera</td>\n",
       "      <td>16.74 cm (6.59 inch) HD+ Display</td>\n",
       "      <td>5000 mAh Battery</td>\n",
       "      <td>₹19,990</td>\n",
       "      <td>https://www.flipkart.com/oneplus-nord-ce-2-lit...</td>\n",
       "    </tr>\n",
       "    <tr>\n",
       "      <th>2</th>\n",
       "      <td>OnePlus</td>\n",
       "      <td>OnePlus Nord CE 2 Lite 5G</td>\n",
       "      <td>Black Dusk, 128 GB)</td>\n",
       "      <td>6 GB RAM</td>\n",
       "      <td>64MP Rear Camera</td>\n",
       "      <td>16.74 cm (6.59 inch) Display</td>\n",
       "      <td>5000 mAh Battery</td>\n",
       "      <td>₹19,982</td>\n",
       "      <td>https://www.flipkart.com/oneplus-nord-ce-2-lit...</td>\n",
       "    </tr>\n",
       "    <tr>\n",
       "      <th>3</th>\n",
       "      <td>OnePlus</td>\n",
       "      <td>OnePlus Nord CE 2 Lite 5G</td>\n",
       "      <td>Black Dusk, 128 GB)</td>\n",
       "      <td>8 GB RAM</td>\n",
       "      <td>64MP Rear Camera</td>\n",
       "      <td>16.74 cm (6.59 inch) Display</td>\n",
       "      <td>5000 mAh Battery</td>\n",
       "      <td>₹21,999</td>\n",
       "      <td>https://www.flipkart.com/oneplus-nord-ce-2-lit...</td>\n",
       "    </tr>\n",
       "    <tr>\n",
       "      <th>4</th>\n",
       "      <td>OnePlus</td>\n",
       "      <td>OnePlus Nord 2 5G</td>\n",
       "      <td>Gray Sierra, 256 GB)</td>\n",
       "      <td>12 GB RAM</td>\n",
       "      <td>50MP Rear Camera</td>\n",
       "      <td>16.33 cm (6.43 inch) Display</td>\n",
       "      <td>4500 mAh Battery</td>\n",
       "      <td>₹34,499</td>\n",
       "      <td>https://www.flipkart.com/oneplus-nord-2-5g-gra...</td>\n",
       "    </tr>\n",
       "    <tr>\n",
       "      <th>5</th>\n",
       "      <td>OnePlus</td>\n",
       "      <td>OnePlus Nord 2 5G</td>\n",
       "      <td>Blue Haze, 256 GB)</td>\n",
       "      <td>12 GB RAM</td>\n",
       "      <td>50MP Rear Camera</td>\n",
       "      <td>16.33 cm (6.43 inch) Display</td>\n",
       "      <td>4500 mAh Battery</td>\n",
       "      <td>₹34,499</td>\n",
       "      <td>https://www.flipkart.com/oneplus-nord-2-5g-blu...</td>\n",
       "    </tr>\n",
       "    <tr>\n",
       "      <th>6</th>\n",
       "      <td>OnePlus</td>\n",
       "      <td>OnePlus Nord CE 2 Lite 5G</td>\n",
       "      <td>Black Dusk, 128 GB)</td>\n",
       "      <td>6 GB RAM</td>\n",
       "      <td>64MP Rear Camera</td>\n",
       "      <td>16.74 cm (6.59 inch) Display</td>\n",
       "      <td>5000 mAh Battery</td>\n",
       "      <td>₹19,948</td>\n",
       "      <td>https://www.flipkart.com/oneplus-nord-ce-2-lit...</td>\n",
       "    </tr>\n",
       "    <tr>\n",
       "      <th>7</th>\n",
       "      <td>OnePlus</td>\n",
       "      <td>OnePlus Nord 2T 5G</td>\n",
       "      <td>Gray Shadow, 256 GB)</td>\n",
       "      <td>12 GB RAM</td>\n",
       "      <td>50MP Rear Camera</td>\n",
       "      <td>17.02 cm (6.7 inch) Display</td>\n",
       "      <td>4500 mAh Battery</td>\n",
       "      <td>₹33,890</td>\n",
       "      <td>https://www.flipkart.com/oneplus-nord-2t-5g-gr...</td>\n",
       "    </tr>\n",
       "    <tr>\n",
       "      <th>8</th>\n",
       "      <td>OnePlus</td>\n",
       "      <td>OnePlus Nord 2T 5G</td>\n",
       "      <td>Gray Shadow, 256 GB)</td>\n",
       "      <td>12 GB RAM</td>\n",
       "      <td>50MP Rear Camera</td>\n",
       "      <td>17.02 cm (6.7 inch) Display</td>\n",
       "      <td>4500 mAh Battery</td>\n",
       "      <td>₹33,860</td>\n",
       "      <td>https://www.flipkart.com/oneplus-nord-2t-5g-gr...</td>\n",
       "    </tr>\n",
       "    <tr>\n",
       "      <th>9</th>\n",
       "      <td>OnePlus</td>\n",
       "      <td>OnePlus Nord N20 SE</td>\n",
       "      <td>Blue Oasis, 64 MB)</td>\n",
       "      <td>4 MB RAM</td>\n",
       "      <td>50MP Rear Camera</td>\n",
       "      <td>16.66 cm (6.56 inch) Display</td>\n",
       "      <td>5000 mAh Battery</td>\n",
       "      <td>₹14,799</td>\n",
       "      <td>https://www.flipkart.com/oneplus-nord-n20-se-b...</td>\n",
       "    </tr>\n",
       "    <tr>\n",
       "      <th>10</th>\n",
       "      <td>OnePlus</td>\n",
       "      <td>OnePlus Nord CE 2 Lite 5G</td>\n",
       "      <td>Blue Tide, 128 GB)</td>\n",
       "      <td>6 GB RAM</td>\n",
       "      <td>64MP Rear Camera</td>\n",
       "      <td>16.74 cm (6.59 inch) Display</td>\n",
       "      <td>5000 mAh Battery</td>\n",
       "      <td>₹19,566</td>\n",
       "      <td>https://www.flipkart.com/oneplus-nord-ce-2-lit...</td>\n",
       "    </tr>\n",
       "    <tr>\n",
       "      <th>11</th>\n",
       "      <td>OnePlus</td>\n",
       "      <td>OnePlus Nord CE 2 Lite 5G</td>\n",
       "      <td>Black Dusk, 128 GB)</td>\n",
       "      <td>8 GB RAM</td>\n",
       "      <td>64MP Rear Camera</td>\n",
       "      <td>16.74 cm (6.59 inch) Display</td>\n",
       "      <td>5000 mAh Battery</td>\n",
       "      <td>₹21,999</td>\n",
       "      <td>https://www.flipkart.com/oneplus-nord-ce-2-lit...</td>\n",
       "    </tr>\n",
       "    <tr>\n",
       "      <th>12</th>\n",
       "      <td>OnePlus</td>\n",
       "      <td>OnePlus Nord N20 SE</td>\n",
       "      <td>Blue Oasis, 64 GB)</td>\n",
       "      <td>4 GB RAM</td>\n",
       "      <td>50MP Rear Camera</td>\n",
       "      <td>16.66 cm (6.56 inch) Display</td>\n",
       "      <td>5000 mAh Battery</td>\n",
       "      <td>₹14,990</td>\n",
       "      <td>https://www.flipkart.com/oneplus-nord-n20-se-b...</td>\n",
       "    </tr>\n",
       "    <tr>\n",
       "      <th>13</th>\n",
       "      <td>OnePlus</td>\n",
       "      <td>OnePlus Nord CE 2 Lite 5G</td>\n",
       "      <td>Blue Tide, 128 GB)</td>\n",
       "      <td>6 GB RAM</td>\n",
       "      <td>64MP Rear Camera</td>\n",
       "      <td>16.74 cm (6.59 inch) Display</td>\n",
       "      <td>5000 mAh Battery</td>\n",
       "      <td>₹19,740</td>\n",
       "      <td>https://www.flipkart.com/oneplus-nord-ce-2-lit...</td>\n",
       "    </tr>\n",
       "    <tr>\n",
       "      <th>14</th>\n",
       "      <td>OnePlus</td>\n",
       "      <td>OnePlus Nord CE 2 Lite 5G</td>\n",
       "      <td>Black Dusk, 128 GB)</td>\n",
       "      <td>6 GB RAM</td>\n",
       "      <td>64MP Rear Camera</td>\n",
       "      <td>16.74 cm (6.59 inch) Display</td>\n",
       "      <td>5000 mAh Battery</td>\n",
       "      <td>₹19,989</td>\n",
       "      <td>https://www.flipkart.com/oneplus-nord-ce-2-lit...</td>\n",
       "    </tr>\n",
       "    <tr>\n",
       "      <th>15</th>\n",
       "      <td>OnePlus</td>\n",
       "      <td>OnePlus Nord 2T 5G</td>\n",
       "      <td>Jade Fog, 128 GB)</td>\n",
       "      <td>8 GB RAM</td>\n",
       "      <td>50MP Rear Camera</td>\n",
       "      <td>17.02 cm (6.7 inch) Display</td>\n",
       "      <td>4500 mAh Battery</td>\n",
       "      <td>₹28,970</td>\n",
       "      <td>https://www.flipkart.com/oneplus-nord-2t-5g-ja...</td>\n",
       "    </tr>\n",
       "    <tr>\n",
       "      <th>16</th>\n",
       "      <td>OnePlus</td>\n",
       "      <td>OnePlus Nord 2T 5G</td>\n",
       "      <td>Jade Fog, 256 GB)</td>\n",
       "      <td>12 GB RAM</td>\n",
       "      <td>50MP Rear Camera</td>\n",
       "      <td>17.02 cm (6.7 inch) Display</td>\n",
       "      <td>4500 mAh Battery</td>\n",
       "      <td>₹33,890</td>\n",
       "      <td>https://www.flipkart.com/oneplus-nord-2t-5g-ja...</td>\n",
       "    </tr>\n",
       "    <tr>\n",
       "      <th>17</th>\n",
       "      <td>OnePlus</td>\n",
       "      <td>OnePlus Nord N20 SE</td>\n",
       "      <td>Celestial Black, 64 GB)</td>\n",
       "      <td>4 GB RAM</td>\n",
       "      <td>50MP Rear Camera</td>\n",
       "      <td>16.66 cm (6.56 inch) Display</td>\n",
       "      <td>5000 mAh Battery</td>\n",
       "      <td>₹14,749</td>\n",
       "      <td>https://www.flipkart.com/oneplus-nord-n20-se-c...</td>\n",
       "    </tr>\n",
       "    <tr>\n",
       "      <th>18</th>\n",
       "      <td>OnePlus</td>\n",
       "      <td>OnePlus Nord 2T 5G</td>\n",
       "      <td>Jade Fog, 128 GB)</td>\n",
       "      <td>8 GB RAM</td>\n",
       "      <td>50MP Rear Camera</td>\n",
       "      <td>17.02 cm (6.7 inch) Display</td>\n",
       "      <td>4500 mAh Battery</td>\n",
       "      <td>₹28,999</td>\n",
       "      <td>https://www.flipkart.com/oneplus-nord-2t-5g-ja...</td>\n",
       "    </tr>\n",
       "    <tr>\n",
       "      <th>19</th>\n",
       "      <td>OnePlus</td>\n",
       "      <td>OnePlus Nord 2T 5G</td>\n",
       "      <td>Gray Shadow, 256 GB)</td>\n",
       "      <td>12 GB RAM</td>\n",
       "      <td>50MP Rear Camera</td>\n",
       "      <td>16.94 cm (6.67 inch) Display</td>\n",
       "      <td>4500 mAh Battery</td>\n",
       "      <td>₹33,869</td>\n",
       "      <td>https://www.flipkart.com/oneplus-nord-2t-5g-gr...</td>\n",
       "    </tr>\n",
       "    <tr>\n",
       "      <th>20</th>\n",
       "      <td>OnePlus</td>\n",
       "      <td>OnePlus Nord 2T 5G</td>\n",
       "      <td>Jade Fog, 256 GB)</td>\n",
       "      <td>12 GB RAM</td>\n",
       "      <td>50MP Rear Camera</td>\n",
       "      <td>17.02 cm (6.7 inch) Display</td>\n",
       "      <td>4500 mAh Battery</td>\n",
       "      <td>₹33,999</td>\n",
       "      <td>https://www.flipkart.com/oneplus-nord-2t-5g-ja...</td>\n",
       "    </tr>\n",
       "    <tr>\n",
       "      <th>21</th>\n",
       "      <td>OnePlus</td>\n",
       "      <td>OnePlus Nord 2 5G</td>\n",
       "      <td>Gray Sierra, 128 GB)</td>\n",
       "      <td>8 GB RAM</td>\n",
       "      <td>50MP Rear Camera</td>\n",
       "      <td>16.33 cm (6.43 inch) Display</td>\n",
       "      <td>4500 mAh Battery</td>\n",
       "      <td>₹29,999</td>\n",
       "      <td>https://www.flipkart.com/oneplus-nord-2-5g-gra...</td>\n",
       "    </tr>\n",
       "    <tr>\n",
       "      <th>22</th>\n",
       "      <td>OnePlus</td>\n",
       "      <td>OnePlus Nord CE 5G</td>\n",
       "      <td>Blue Void, 128 GB)</td>\n",
       "      <td>8 GB RAM</td>\n",
       "      <td>64MP Rear Camera</td>\n",
       "      <td>16.33 cm (6.43 inch) Display</td>\n",
       "      <td>4500 mAh Battery</td>\n",
       "      <td>₹24,999</td>\n",
       "      <td>https://www.flipkart.com/oneplus-nord-ce-5g-bl...</td>\n",
       "    </tr>\n",
       "    <tr>\n",
       "      <th>23</th>\n",
       "      <td>OnePlus</td>\n",
       "      <td>OnePlus Nord CE 2 Lite 5G</td>\n",
       "      <td>Blue Tide, 128 GB)</td>\n",
       "      <td>6 GB RAM</td>\n",
       "      <td>64MP Rear Camera</td>\n",
       "      <td>16.74 cm (6.59 inch) Display</td>\n",
       "      <td>5000 mAh Battery</td>\n",
       "      <td>₹19,990</td>\n",
       "      <td>https://www.flipkart.com/oneplus-nord-ce-2-lit...</td>\n",
       "    </tr>\n",
       "  </tbody>\n",
       "</table>\n",
       "</div>"
      ],
      "text/plain": [
       "   Brand Name             Smartphone Name             Colour & ROM  \\\n",
       "0     OnePlus  OnePlus Nord CE 2 Lite 5G       Black Dusk, 128 GB)   \n",
       "1     OnePlus  OnePlus Nord CE 2 Lite 5G        Blue Tide, 128 GB)   \n",
       "2     OnePlus  OnePlus Nord CE 2 Lite 5G       Black Dusk, 128 GB)   \n",
       "3     OnePlus  OnePlus Nord CE 2 Lite 5G       Black Dusk, 128 GB)   \n",
       "4     OnePlus          OnePlus Nord 2 5G      Gray Sierra, 256 GB)   \n",
       "5     OnePlus          OnePlus Nord 2 5G        Blue Haze, 256 GB)   \n",
       "6     OnePlus  OnePlus Nord CE 2 Lite 5G       Black Dusk, 128 GB)   \n",
       "7     OnePlus         OnePlus Nord 2T 5G      Gray Shadow, 256 GB)   \n",
       "8     OnePlus         OnePlus Nord 2T 5G      Gray Shadow, 256 GB)   \n",
       "9     OnePlus        OnePlus Nord N20 SE        Blue Oasis, 64 MB)   \n",
       "10    OnePlus  OnePlus Nord CE 2 Lite 5G        Blue Tide, 128 GB)   \n",
       "11    OnePlus  OnePlus Nord CE 2 Lite 5G       Black Dusk, 128 GB)   \n",
       "12    OnePlus        OnePlus Nord N20 SE        Blue Oasis, 64 GB)   \n",
       "13    OnePlus  OnePlus Nord CE 2 Lite 5G        Blue Tide, 128 GB)   \n",
       "14    OnePlus  OnePlus Nord CE 2 Lite 5G       Black Dusk, 128 GB)   \n",
       "15    OnePlus         OnePlus Nord 2T 5G         Jade Fog, 128 GB)   \n",
       "16    OnePlus         OnePlus Nord 2T 5G         Jade Fog, 256 GB)   \n",
       "17    OnePlus        OnePlus Nord N20 SE   Celestial Black, 64 GB)   \n",
       "18    OnePlus         OnePlus Nord 2T 5G         Jade Fog, 128 GB)   \n",
       "19    OnePlus         OnePlus Nord 2T 5G      Gray Shadow, 256 GB)   \n",
       "20    OnePlus         OnePlus Nord 2T 5G         Jade Fog, 256 GB)   \n",
       "21    OnePlus          OnePlus Nord 2 5G      Gray Sierra, 128 GB)   \n",
       "22    OnePlus         OnePlus Nord CE 5G        Blue Void, 128 GB)   \n",
       "23    OnePlus  OnePlus Nord CE 2 Lite 5G        Blue Tide, 128 GB)   \n",
       "\n",
       "           RAM                                Camera  \\\n",
       "0    6 GB RAM                       64MP Rear Camera   \n",
       "1    6 GB RAM   64MP Rear Camera | 16MP Front Camera   \n",
       "2    6 GB RAM                       64MP Rear Camera   \n",
       "3    8 GB RAM                       64MP Rear Camera   \n",
       "4   12 GB RAM                       50MP Rear Camera   \n",
       "5   12 GB RAM                       50MP Rear Camera   \n",
       "6    6 GB RAM                       64MP Rear Camera   \n",
       "7   12 GB RAM                       50MP Rear Camera   \n",
       "8   12 GB RAM                       50MP Rear Camera   \n",
       "9    4 MB RAM                       50MP Rear Camera   \n",
       "10   6 GB RAM                       64MP Rear Camera   \n",
       "11   8 GB RAM                       64MP Rear Camera   \n",
       "12   4 GB RAM                       50MP Rear Camera   \n",
       "13   6 GB RAM                       64MP Rear Camera   \n",
       "14   6 GB RAM                       64MP Rear Camera   \n",
       "15   8 GB RAM                       50MP Rear Camera   \n",
       "16  12 GB RAM                       50MP Rear Camera   \n",
       "17   4 GB RAM                       50MP Rear Camera   \n",
       "18   8 GB RAM                       50MP Rear Camera   \n",
       "19  12 GB RAM                       50MP Rear Camera   \n",
       "20  12 GB RAM                       50MP Rear Camera   \n",
       "21   8 GB RAM                       50MP Rear Camera   \n",
       "22   8 GB RAM                       64MP Rear Camera   \n",
       "23   6 GB RAM                       64MP Rear Camera   \n",
       "\n",
       "                        Display Size  Battery Capacity    Price  \\\n",
       "0       16.74 cm (6.59 inch) Display  5000 mAh Battery  ₹19,977   \n",
       "1   16.74 cm (6.59 inch) HD+ Display  5000 mAh Battery  ₹19,990   \n",
       "2       16.74 cm (6.59 inch) Display  5000 mAh Battery  ₹19,982   \n",
       "3       16.74 cm (6.59 inch) Display  5000 mAh Battery  ₹21,999   \n",
       "4       16.33 cm (6.43 inch) Display  4500 mAh Battery  ₹34,499   \n",
       "5       16.33 cm (6.43 inch) Display  4500 mAh Battery  ₹34,499   \n",
       "6       16.74 cm (6.59 inch) Display  5000 mAh Battery  ₹19,948   \n",
       "7        17.02 cm (6.7 inch) Display  4500 mAh Battery  ₹33,890   \n",
       "8        17.02 cm (6.7 inch) Display  4500 mAh Battery  ₹33,860   \n",
       "9       16.66 cm (6.56 inch) Display  5000 mAh Battery  ₹14,799   \n",
       "10      16.74 cm (6.59 inch) Display  5000 mAh Battery  ₹19,566   \n",
       "11      16.74 cm (6.59 inch) Display  5000 mAh Battery  ₹21,999   \n",
       "12      16.66 cm (6.56 inch) Display  5000 mAh Battery  ₹14,990   \n",
       "13      16.74 cm (6.59 inch) Display  5000 mAh Battery  ₹19,740   \n",
       "14      16.74 cm (6.59 inch) Display  5000 mAh Battery  ₹19,989   \n",
       "15       17.02 cm (6.7 inch) Display  4500 mAh Battery  ₹28,970   \n",
       "16       17.02 cm (6.7 inch) Display  4500 mAh Battery  ₹33,890   \n",
       "17      16.66 cm (6.56 inch) Display  5000 mAh Battery  ₹14,749   \n",
       "18       17.02 cm (6.7 inch) Display  4500 mAh Battery  ₹28,999   \n",
       "19      16.94 cm (6.67 inch) Display  4500 mAh Battery  ₹33,869   \n",
       "20       17.02 cm (6.7 inch) Display  4500 mAh Battery  ₹33,999   \n",
       "21      16.33 cm (6.43 inch) Display  4500 mAh Battery  ₹29,999   \n",
       "22      16.33 cm (6.43 inch) Display  4500 mAh Battery  ₹24,999   \n",
       "23      16.74 cm (6.59 inch) Display  5000 mAh Battery  ₹19,990   \n",
       "\n",
       "                                          Product URL  \n",
       "0   https://www.flipkart.com/oneplus-nord-ce-2-lit...  \n",
       "1   https://www.flipkart.com/oneplus-nord-ce-2-lit...  \n",
       "2   https://www.flipkart.com/oneplus-nord-ce-2-lit...  \n",
       "3   https://www.flipkart.com/oneplus-nord-ce-2-lit...  \n",
       "4   https://www.flipkart.com/oneplus-nord-2-5g-gra...  \n",
       "5   https://www.flipkart.com/oneplus-nord-2-5g-blu...  \n",
       "6   https://www.flipkart.com/oneplus-nord-ce-2-lit...  \n",
       "7   https://www.flipkart.com/oneplus-nord-2t-5g-gr...  \n",
       "8   https://www.flipkart.com/oneplus-nord-2t-5g-gr...  \n",
       "9   https://www.flipkart.com/oneplus-nord-n20-se-b...  \n",
       "10  https://www.flipkart.com/oneplus-nord-ce-2-lit...  \n",
       "11  https://www.flipkart.com/oneplus-nord-ce-2-lit...  \n",
       "12  https://www.flipkart.com/oneplus-nord-n20-se-b...  \n",
       "13  https://www.flipkart.com/oneplus-nord-ce-2-lit...  \n",
       "14  https://www.flipkart.com/oneplus-nord-ce-2-lit...  \n",
       "15  https://www.flipkart.com/oneplus-nord-2t-5g-ja...  \n",
       "16  https://www.flipkart.com/oneplus-nord-2t-5g-ja...  \n",
       "17  https://www.flipkart.com/oneplus-nord-n20-se-c...  \n",
       "18  https://www.flipkart.com/oneplus-nord-2t-5g-ja...  \n",
       "19  https://www.flipkart.com/oneplus-nord-2t-5g-gr...  \n",
       "20  https://www.flipkart.com/oneplus-nord-2t-5g-ja...  \n",
       "21  https://www.flipkart.com/oneplus-nord-2-5g-gra...  \n",
       "22  https://www.flipkart.com/oneplus-nord-ce-5g-bl...  \n",
       "23  https://www.flipkart.com/oneplus-nord-ce-2-lit...  "
      ]
     },
     "execution_count": 16,
     "metadata": {},
     "output_type": "execute_result"
    }
   ],
   "source": [
    "df = pd.DataFrame({'Brand Name':brand_name,'Smartphone Name':smartphone_name,'Colour & ROM':colour,'RAM':RAM,'Camera':camera,'Display Size':display,'Battery Capacity':battery,'Price':price,'Product URL':p_url})\n",
    "df"
   ]
  },
  {
   "cell_type": "code",
   "execution_count": 26,
   "id": "49ec205c",
   "metadata": {},
   "outputs": [],
   "source": [
    "df.to_csv('Oneplus Nord.csv')"
   ]
  },
  {
   "cell_type": "code",
   "execution_count": 28,
   "id": "343dd046",
   "metadata": {},
   "outputs": [
    {
     "data": {
      "text/html": [
       "<div>\n",
       "<style scoped>\n",
       "    .dataframe tbody tr th:only-of-type {\n",
       "        vertical-align: middle;\n",
       "    }\n",
       "\n",
       "    .dataframe tbody tr th {\n",
       "        vertical-align: top;\n",
       "    }\n",
       "\n",
       "    .dataframe thead th {\n",
       "        text-align: right;\n",
       "    }\n",
       "</style>\n",
       "<table border=\"1\" class=\"dataframe\">\n",
       "  <thead>\n",
       "    <tr style=\"text-align: right;\">\n",
       "      <th></th>\n",
       "      <th>Unnamed: 0</th>\n",
       "      <th>Brand Name</th>\n",
       "      <th>Smartphone Name</th>\n",
       "      <th>Colour &amp; ROM</th>\n",
       "      <th>RAM</th>\n",
       "      <th>Camera</th>\n",
       "      <th>Display Size</th>\n",
       "      <th>Battery Capacity</th>\n",
       "      <th>Price</th>\n",
       "      <th>Product URL</th>\n",
       "    </tr>\n",
       "  </thead>\n",
       "  <tbody>\n",
       "    <tr>\n",
       "      <th>0</th>\n",
       "      <td>0</td>\n",
       "      <td>OnePlus</td>\n",
       "      <td>OnePlus Nord CE 2 Lite 5G</td>\n",
       "      <td>Black Dusk, 128 GB)</td>\n",
       "      <td>6 GB RAM</td>\n",
       "      <td>64MP Rear Camera</td>\n",
       "      <td>16.74 cm (6.59 inch) Display</td>\n",
       "      <td>5000 mAh Battery</td>\n",
       "      <td>₹19,977</td>\n",
       "      <td>https://www.flipkart.com/oneplus-nord-ce-2-lit...</td>\n",
       "    </tr>\n",
       "    <tr>\n",
       "      <th>1</th>\n",
       "      <td>1</td>\n",
       "      <td>OnePlus</td>\n",
       "      <td>OnePlus Nord CE 2 Lite 5G</td>\n",
       "      <td>Blue Tide, 128 GB)</td>\n",
       "      <td>6 GB RAM</td>\n",
       "      <td>64MP Rear Camera | 16MP Front Camera</td>\n",
       "      <td>16.74 cm (6.59 inch) HD+ Display</td>\n",
       "      <td>5000 mAh Battery</td>\n",
       "      <td>₹19,990</td>\n",
       "      <td>https://www.flipkart.com/oneplus-nord-ce-2-lit...</td>\n",
       "    </tr>\n",
       "    <tr>\n",
       "      <th>2</th>\n",
       "      <td>2</td>\n",
       "      <td>OnePlus</td>\n",
       "      <td>OnePlus Nord CE 2 Lite 5G</td>\n",
       "      <td>Black Dusk, 128 GB)</td>\n",
       "      <td>6 GB RAM</td>\n",
       "      <td>64MP Rear Camera</td>\n",
       "      <td>16.74 cm (6.59 inch) Display</td>\n",
       "      <td>5000 mAh Battery</td>\n",
       "      <td>₹19,982</td>\n",
       "      <td>https://www.flipkart.com/oneplus-nord-ce-2-lit...</td>\n",
       "    </tr>\n",
       "    <tr>\n",
       "      <th>3</th>\n",
       "      <td>3</td>\n",
       "      <td>OnePlus</td>\n",
       "      <td>OnePlus Nord CE 2 Lite 5G</td>\n",
       "      <td>Black Dusk, 128 GB)</td>\n",
       "      <td>8 GB RAM</td>\n",
       "      <td>64MP Rear Camera</td>\n",
       "      <td>16.74 cm (6.59 inch) Display</td>\n",
       "      <td>5000 mAh Battery</td>\n",
       "      <td>₹21,999</td>\n",
       "      <td>https://www.flipkart.com/oneplus-nord-ce-2-lit...</td>\n",
       "    </tr>\n",
       "    <tr>\n",
       "      <th>4</th>\n",
       "      <td>4</td>\n",
       "      <td>OnePlus</td>\n",
       "      <td>OnePlus Nord 2 5G</td>\n",
       "      <td>Gray Sierra, 256 GB)</td>\n",
       "      <td>12 GB RAM</td>\n",
       "      <td>50MP Rear Camera</td>\n",
       "      <td>16.33 cm (6.43 inch) Display</td>\n",
       "      <td>4500 mAh Battery</td>\n",
       "      <td>₹34,499</td>\n",
       "      <td>https://www.flipkart.com/oneplus-nord-2-5g-gra...</td>\n",
       "    </tr>\n",
       "  </tbody>\n",
       "</table>\n",
       "</div>"
      ],
      "text/plain": [
       "   Unnamed: 0 Brand Name             Smartphone Name          Colour & ROM  \\\n",
       "0           0    OnePlus  OnePlus Nord CE 2 Lite 5G    Black Dusk, 128 GB)   \n",
       "1           1    OnePlus  OnePlus Nord CE 2 Lite 5G     Blue Tide, 128 GB)   \n",
       "2           2    OnePlus  OnePlus Nord CE 2 Lite 5G    Black Dusk, 128 GB)   \n",
       "3           3    OnePlus  OnePlus Nord CE 2 Lite 5G    Black Dusk, 128 GB)   \n",
       "4           4    OnePlus          OnePlus Nord 2 5G   Gray Sierra, 256 GB)   \n",
       "\n",
       "          RAM                                Camera  \\\n",
       "0   6 GB RAM                       64MP Rear Camera   \n",
       "1   6 GB RAM   64MP Rear Camera | 16MP Front Camera   \n",
       "2   6 GB RAM                       64MP Rear Camera   \n",
       "3   8 GB RAM                       64MP Rear Camera   \n",
       "4  12 GB RAM                       50MP Rear Camera   \n",
       "\n",
       "                       Display Size  Battery Capacity    Price  \\\n",
       "0      16.74 cm (6.59 inch) Display  5000 mAh Battery  ₹19,977   \n",
       "1  16.74 cm (6.59 inch) HD+ Display  5000 mAh Battery  ₹19,990   \n",
       "2      16.74 cm (6.59 inch) Display  5000 mAh Battery  ₹19,982   \n",
       "3      16.74 cm (6.59 inch) Display  5000 mAh Battery  ₹21,999   \n",
       "4      16.33 cm (6.43 inch) Display  4500 mAh Battery  ₹34,499   \n",
       "\n",
       "                                         Product URL  \n",
       "0  https://www.flipkart.com/oneplus-nord-ce-2-lit...  \n",
       "1  https://www.flipkart.com/oneplus-nord-ce-2-lit...  \n",
       "2  https://www.flipkart.com/oneplus-nord-ce-2-lit...  \n",
       "3  https://www.flipkart.com/oneplus-nord-ce-2-lit...  \n",
       "4  https://www.flipkart.com/oneplus-nord-2-5g-gra...  "
      ]
     },
     "execution_count": 28,
     "metadata": {},
     "output_type": "execute_result"
    }
   ],
   "source": [
    "data = pd.read_csv('Oneplus Nord.csv')\n",
    "data.head()"
   ]
  },
  {
   "cell_type": "code",
   "execution_count": 29,
   "id": "02d15db7",
   "metadata": {},
   "outputs": [],
   "source": [
    "driver.close()"
   ]
  },
  {
   "cell_type": "markdown",
   "id": "2aa6d043",
   "metadata": {},
   "source": [
    "## 5. Write a program to scrap geospatial coordinates (latitude, longitude) of a city searched on google maps"
   ]
  },
  {
   "cell_type": "code",
   "execution_count": 91,
   "id": "5915803e",
   "metadata": {},
   "outputs": [
    {
     "name": "stderr",
     "output_type": "stream",
     "text": [
      "C:\\Users\\EXPERT SOLUTION\\AppData\\Local\\Temp\\ipykernel_3348\\1460748407.py:12: DeprecationWarning: executable_path has been deprecated, please pass in a Service object\n",
      "  driver = webdriver.Chrome('chromedriver.exe')\n"
     ]
    }
   ],
   "source": [
    "# import required libraries\n",
    "import pandas as pd\n",
    "import selenium\n",
    "import time \n",
    "# import selenium webdriver\n",
    "from selenium import webdriver\n",
    "# importing required exceptions which need to handled\n",
    "from selenium.common.exceptions import StaleElementReferenceException,NoSuchElementException\n",
    "# importing regex\n",
    "import re\n",
    "from selenium.webdriver.common.by import By\n",
    "driver = webdriver.Chrome('chromedriver.exe')\n",
    "driver.maximize_window()"
   ]
  },
  {
   "cell_type": "code",
   "execution_count": 96,
   "id": "0dbafd25",
   "metadata": {},
   "outputs": [],
   "source": [
    "\n",
    "driver.get('https://www.google.com/')"
   ]
  },
  {
   "cell_type": "code",
   "execution_count": 97,
   "id": "17bccaa5",
   "metadata": {},
   "outputs": [],
   "source": [
    "search_field = driver.find_element(By.XPATH,'//input[@class=\"gLFyf\"]')\n",
    "search_field.send_keys('Rohtak geospatial coordinates')"
   ]
  },
  {
   "cell_type": "code",
   "execution_count": 98,
   "id": "da40175d",
   "metadata": {},
   "outputs": [],
   "source": [
    "search_button = driver.find_element(By.XPATH,'/html/body/div[1]/div[3]/form/div[1]/div[1]/div[4]/center/input[1]')\n",
    "search_button.click()"
   ]
  },
  {
   "cell_type": "markdown",
   "id": "1cc8e379",
   "metadata": {},
   "source": [
    "## extracting Geospatial"
   ]
  },
  {
   "cell_type": "code",
   "execution_count": 102,
   "id": "20be1d99",
   "metadata": {},
   "outputs": [
    {
     "data": {
      "text/plain": [
       "[['76.606613'], ['28.895515'], ['India'], [\"28° 53' 43.8540'' N\"]]"
      ]
     },
     "execution_count": 102,
     "metadata": {},
     "output_type": "execute_result"
    }
   ],
   "source": [
    "longitude = []\n",
    "longitud = driver.find_elements(By.XPATH,'//span[@class=\"LrzXr kno-fv wHYlTd z8gr9e\"]')\n",
    "for i in longitud:\n",
    "    longitude.append(i.text.split(',')[:1])\n",
    "longitude    \n"
   ]
  },
  {
   "cell_type": "code",
   "execution_count": 103,
   "id": "a43e0225",
   "metadata": {},
   "outputs": [
    {
     "data": {
      "text/html": [
       "<div>\n",
       "<style scoped>\n",
       "    .dataframe tbody tr th:only-of-type {\n",
       "        vertical-align: middle;\n",
       "    }\n",
       "\n",
       "    .dataframe tbody tr th {\n",
       "        vertical-align: top;\n",
       "    }\n",
       "\n",
       "    .dataframe thead th {\n",
       "        text-align: right;\n",
       "    }\n",
       "</style>\n",
       "<table border=\"1\" class=\"dataframe\">\n",
       "  <thead>\n",
       "    <tr style=\"text-align: right;\">\n",
       "      <th></th>\n",
       "      <th>Longitude_RTK_CITY</th>\n",
       "    </tr>\n",
       "  </thead>\n",
       "  <tbody>\n",
       "    <tr>\n",
       "      <th>0</th>\n",
       "      <td>76.606613</td>\n",
       "    </tr>\n",
       "  </tbody>\n",
       "</table>\n",
       "</div>"
      ],
      "text/plain": [
       "  Longitude_RTK_CITY\n",
       "0          76.606613"
      ]
     },
     "execution_count": 103,
     "metadata": {},
     "output_type": "execute_result"
    }
   ],
   "source": [
    "df = pd.DataFrame({\"Longitude_RTK_CITY\":longitude[0]})\n",
    "df"
   ]
  },
  {
   "cell_type": "code",
   "execution_count": 105,
   "id": "7ebdf727",
   "metadata": {},
   "outputs": [
    {
     "data": {
      "text/html": [
       "<div>\n",
       "<style scoped>\n",
       "    .dataframe tbody tr th:only-of-type {\n",
       "        vertical-align: middle;\n",
       "    }\n",
       "\n",
       "    .dataframe tbody tr th {\n",
       "        vertical-align: top;\n",
       "    }\n",
       "\n",
       "    .dataframe thead th {\n",
       "        text-align: right;\n",
       "    }\n",
       "</style>\n",
       "<table border=\"1\" class=\"dataframe\">\n",
       "  <thead>\n",
       "    <tr style=\"text-align: right;\">\n",
       "      <th></th>\n",
       "      <th>Latitude_RTK_CITY</th>\n",
       "    </tr>\n",
       "  </thead>\n",
       "  <tbody>\n",
       "    <tr>\n",
       "      <th>0</th>\n",
       "      <td>28.895515</td>\n",
       "    </tr>\n",
       "  </tbody>\n",
       "</table>\n",
       "</div>"
      ],
      "text/plain": [
       "  Latitude_RTK_CITY\n",
       "0         28.895515"
      ]
     },
     "execution_count": 105,
     "metadata": {},
     "output_type": "execute_result"
    }
   ],
   "source": [
    "df_1= pd.DataFrame({'Latitude_RTK_CITY':longitude[1]})\n",
    "df_1"
   ]
  },
  {
   "cell_type": "code",
   "execution_count": 106,
   "id": "a1ff2ba3",
   "metadata": {},
   "outputs": [
    {
     "data": {
      "text/html": [
       "<div>\n",
       "<style scoped>\n",
       "    .dataframe tbody tr th:only-of-type {\n",
       "        vertical-align: middle;\n",
       "    }\n",
       "\n",
       "    .dataframe tbody tr th {\n",
       "        vertical-align: top;\n",
       "    }\n",
       "\n",
       "    .dataframe thead th {\n",
       "        text-align: right;\n",
       "    }\n",
       "</style>\n",
       "<table border=\"1\" class=\"dataframe\">\n",
       "  <thead>\n",
       "    <tr style=\"text-align: right;\">\n",
       "      <th></th>\n",
       "      <th>Latitude_RTK_CITY</th>\n",
       "      <th>Longitude_RTK_CITY</th>\n",
       "    </tr>\n",
       "  </thead>\n",
       "  <tbody>\n",
       "    <tr>\n",
       "      <th>0</th>\n",
       "      <td>28.895515</td>\n",
       "      <td>76.606613</td>\n",
       "    </tr>\n",
       "  </tbody>\n",
       "</table>\n",
       "</div>"
      ],
      "text/plain": [
       "  Latitude_RTK_CITY Longitude_RTK_CITY\n",
       "0         28.895515          76.606613"
      ]
     },
     "execution_count": 106,
     "metadata": {},
     "output_type": "execute_result"
    }
   ],
   "source": [
    "df_1['Longitude_RTK_CITY']=df['Longitude_RTK_CITY']\n",
    "df_1"
   ]
  },
  {
   "cell_type": "code",
   "execution_count": 107,
   "id": "c55a9174",
   "metadata": {},
   "outputs": [],
   "source": [
    "driver.close()"
   ]
  },
  {
   "cell_type": "markdown",
   "id": "f76aca59",
   "metadata": {},
   "source": [
    "## 6. Write a program to scrap details of all the funding deals for second quarter (i.e Jan 21 – March 21) from trak.in.\n"
   ]
  },
  {
   "cell_type": "code",
   "execution_count": 59,
   "id": "bcd8ae6b",
   "metadata": {},
   "outputs": [
    {
     "name": "stderr",
     "output_type": "stream",
     "text": [
      "C:\\Users\\EXPERT SOLUTION\\AppData\\Local\\Temp\\ipykernel_10664\\1460748407.py:12: DeprecationWarning: executable_path has been deprecated, please pass in a Service object\n",
      "  driver = webdriver.Chrome('chromedriver.exe')\n"
     ]
    }
   ],
   "source": [
    "# import required libraries\n",
    "import pandas as pd\n",
    "import selenium\n",
    "import time \n",
    "# import selenium webdriver\n",
    "from selenium import webdriver\n",
    "# importing required exceptions which need to handled\n",
    "from selenium.common.exceptions import StaleElementReferenceException,NoSuchElementException\n",
    "# importing regex\n",
    "import re\n",
    "from selenium.webdriver.common.by import By\n",
    "driver = webdriver.Chrome('chromedriver.exe')\n",
    "driver.maximize_window()"
   ]
  },
  {
   "cell_type": "code",
   "execution_count": 60,
   "id": "5d9d4d92",
   "metadata": {},
   "outputs": [],
   "source": [
    "driver.get('https://trak.in/')"
   ]
  },
  {
   "cell_type": "code",
   "execution_count": 71,
   "id": "a182df64",
   "metadata": {},
   "outputs": [],
   "source": [
    "more_button = driver.find_element(By.XPATH,'/html/body/div[1]/header/div[2]/div/div/div/div/nav/ul/li[9]/a')\n",
    "more_button.click()\n",
    "funding = driver.find_element(By.XPATH,'/html/body/div[1]/header/div[2]/div/div/div/div/nav/ul/li[9]/ul/li[1]/a')\n",
    "funding.click()"
   ]
  },
  {
   "cell_type": "markdown",
   "id": "3becd59e",
   "metadata": {},
   "source": [
    "## extract funding deals for Jan 2021 to Mar 2021"
   ]
  },
  {
   "cell_type": "code",
   "execution_count": 72,
   "id": "3d70384d",
   "metadata": {},
   "outputs": [
    {
     "data": {
      "text/plain": [
       "['04/03/2021',\n",
       " '31/03/2021',\n",
       " '30/03/2021',\n",
       " '30/03/2021',\n",
       " '23/03/2021',\n",
       " '25/03/2021',\n",
       " '26/03/2021',\n",
       " '11/02/2021',\n",
       " '22/02/2021',\n",
       " '19/02/2021',\n",
       " '17/02/2021',\n",
       " '15/02/2021',\n",
       " '12/02/2021',\n",
       " '12/02/2021',\n",
       " '09/02/2021',\n",
       " '09/02/2021',\n",
       " '15/01/2021',\n",
       " '28/01/2021',\n",
       " '19/01/2021',\n",
       " '19/01/2021',\n",
       " '18/01/2021',\n",
       " '18/01/2021',\n",
       " '11/01/2021',\n",
       " '13/01/2021']"
      ]
     },
     "execution_count": 72,
     "metadata": {},
     "output_type": "execute_result"
    }
   ],
   "source": [
    "# Let's extract all web elements having Date\n",
    "date= []\n",
    "try:\n",
    "    date_tag = driver.find_elements(By.XPATH,'//td[@class=\"column-2\"]')\n",
    "    for i in date_tag[5:29]:\n",
    "        date.append(i.text)\n",
    "except NoSuchElementException:\n",
    "    date.append('-') \n",
    "date    "
   ]
  },
  {
   "cell_type": "code",
   "execution_count": 73,
   "id": "6e182cd6",
   "metadata": {},
   "outputs": [
    {
     "data": {
      "text/plain": [
       "['DealShare',\n",
       " 'Uniphore',\n",
       " 'Dunzo',\n",
       " 'BYJU’S',\n",
       " 'SkilloVilla',\n",
       " 'CityMall',\n",
       " 'DotPe',\n",
       " 'Doubtnut',\n",
       " 'Zomato',\n",
       " 'Fingerlix',\n",
       " 'Zolve',\n",
       " 'KreditBee',\n",
       " 'Pepperfry',\n",
       " 'Grofers',\n",
       " 'Nothing',\n",
       " 'SplashLearn',\n",
       " 'Digit Insurance',\n",
       " 'Bombay Shaving Company',\n",
       " 'DeHaat',\n",
       " 'Darwinbox',\n",
       " 'mfine',\n",
       " 'Udayy',\n",
       " 'True Elements',\n",
       " 'Saveo']"
      ]
     },
     "execution_count": 73,
     "metadata": {},
     "output_type": "execute_result"
    }
   ],
   "source": [
    "# Let's extract all web elements having Startup name\n",
    "startup= []\n",
    "try:\n",
    "    startup_tag = driver.find_elements(By.XPATH,'//td[@class=\"column-3\"]')\n",
    "    for i in startup_tag[5:29]:\n",
    "        startup.append(i.text)\n",
    "except NoSuchElementException:\n",
    "    startup.append('-') \n",
    "startup    "
   ]
  },
  {
   "cell_type": "code",
   "execution_count": 74,
   "id": "8fe746eb",
   "metadata": {},
   "outputs": [
    {
     "data": {
      "text/plain": [
       "['E-commerce',\n",
       " 'Technology',\n",
       " 'E-commerce',\n",
       " 'Edu-tech',\n",
       " 'Edu-tech',\n",
       " 'E-commerce',\n",
       " 'FinTech',\n",
       " 'Edu Tech',\n",
       " 'Hospitality',\n",
       " 'Hospitality',\n",
       " 'FinTech',\n",
       " 'Finance',\n",
       " 'E-commerce',\n",
       " 'E-Commerce',\n",
       " 'Technology',\n",
       " 'EdTech',\n",
       " 'Financial Services',\n",
       " 'Consumer Goods Company',\n",
       " 'AgriTech Startup',\n",
       " 'SaaS',\n",
       " 'Health Tech Startup',\n",
       " 'EdTech',\n",
       " 'Food Startup',\n",
       " 'B2B E-commerce']"
      ]
     },
     "execution_count": 74,
     "metadata": {},
     "output_type": "execute_result"
    }
   ],
   "source": [
    "# Let's extract all web elements having industry\n",
    "industry= []\n",
    "try:\n",
    "    industry_tag = driver.find_elements(By.XPATH,'//td[@class=\"column-4\"]')\n",
    "    for i in industry_tag[5:29]:\n",
    "        industry.append(i.text)\n",
    "except NoSuchElementException:\n",
    "    industry.append('-') \n",
    "industry    "
   ]
  },
  {
   "cell_type": "code",
   "execution_count": 75,
   "id": "7228402f",
   "metadata": {},
   "outputs": [
    {
     "data": {
      "text/plain": [
       "['Online shopping platform',\n",
       " 'Conversational Service Automation (CSA)',\n",
       " 'Hyper-local delivery app',\n",
       " 'Online tutoring',\n",
       " 'Career and job-oriented upskilling.',\n",
       " 'Social ecommerce and online grocery platform',\n",
       " 'Commerce and payments platform to offline enterprise businesses.',\n",
       " 'E-Learning Platform',\n",
       " 'Online Food Delivery Platform',\n",
       " 'Semi-cooked food delivery app',\n",
       " 'Global Neobank Venture',\n",
       " 'Digital lending platform',\n",
       " 'Multi-brand furniture brand',\n",
       " 'Online supermarket',\n",
       " 'Consumer Technology Venture',\n",
       " 'Game-based learning programme',\n",
       " 'Insurance Services',\n",
       " 'Shave care, beard care, and skincare products',\n",
       " 'online marketplace for farm products and services',\n",
       " 'HR Tech',\n",
       " 'AI-powered telemedicine mobile app',\n",
       " 'Online learning platform for kids in class 1-5',\n",
       " 'Whole Food plant based Nashta',\n",
       " 'Pharmacies']"
      ]
     },
     "execution_count": 75,
     "metadata": {},
     "output_type": "execute_result"
    }
   ],
   "source": [
    "# Let's extract all web elements having Sub-Vertical\n",
    "vertical= []\n",
    "try:\n",
    "    vertical_tag = driver.find_elements(By.XPATH,'//td[@class=\"column-5\"]')\n",
    "    for i in vertical_tag[5:29]:\n",
    "        vertical.append(i.text)\n",
    "except NoSuchElementException:\n",
    "    vertical.append('-') \n",
    "vertical    "
   ]
  },
  {
   "cell_type": "code",
   "execution_count": 76,
   "id": "d8fde079",
   "metadata": {},
   "outputs": [
    {
     "data": {
      "text/plain": [
       "['Jaipur, Rajasthan',\n",
       " 'Palo Alto',\n",
       " 'Bengaluru',\n",
       " 'Bengaluru',\n",
       " 'Bengaluru',\n",
       " 'Gurgaon',\n",
       " 'Gurgaon',\n",
       " 'Gurgaon',\n",
       " 'Gurgaon',\n",
       " 'Mumbai',\n",
       " 'Mumbai',\n",
       " 'Bengaluru',\n",
       " 'Mumbai',\n",
       " 'Gurgaon',\n",
       " 'London',\n",
       " 'Gurgaon',\n",
       " 'Bengaluru',\n",
       " 'New Delhi',\n",
       " 'Patna',\n",
       " 'Mumbai',\n",
       " 'Bengaluru',\n",
       " 'Gurgaon',\n",
       " 'Pune',\n",
       " 'Bengaluru']"
      ]
     },
     "execution_count": 76,
     "metadata": {},
     "output_type": "execute_result"
    }
   ],
   "source": [
    "# Let's extract all web elements having city/location\n",
    "city= []\n",
    "try:\n",
    "    city_tag = driver.find_elements(By.XPATH,'//td[@class=\"column-6\"]')\n",
    "    for i in city_tag[5:29]:\n",
    "        city.append(i.text)\n",
    "except NoSuchElementException:\n",
    "    city.append('-') \n",
    "city    "
   ]
  },
  {
   "cell_type": "code",
   "execution_count": 77,
   "id": "0f464a40",
   "metadata": {},
   "outputs": [
    {
     "data": {
      "text/plain": [
       "['Innoven Capital',\n",
       " 'Sorenson Capital Partners',\n",
       " 'Krishtal Advisors Pte Ltd',\n",
       " 'MC Global Edtech, B Capital, Baron, others',\n",
       " 'Titan Capital, others',\n",
       " 'Accel Partners',\n",
       " 'PayU',\n",
       " 'SIG Global, Sequoia Capital, WaterBridge Ventures and ON Mauritius',\n",
       " 'Tiger Global, Kora',\n",
       " 'Rhodium Trust, Accel Partners and Swiggy',\n",
       " 'Accel Partners and Lightspeed Venture Partners',\n",
       " 'Azim Premji’s PremjiInvest and South Korea’s Mirae Asset Venture',\n",
       " 'InnoVen Capital',\n",
       " 'SoftBank Vision Fund (SVF)',\n",
       " 'GV',\n",
       " 'Owl Ventures',\n",
       " 'A91 Partners, Faering Capital, TVS Capital Funds',\n",
       " 'Reckitt Benckiser',\n",
       " 'Prosus Ventures',\n",
       " 'Salesforce Ventures',\n",
       " 'Heritas Capital Management',\n",
       " 'Sequoia Capital',\n",
       " 'SIDBI Venture Capital',\n",
       " 'Matrix Partners India, RTP Global, others']"
      ]
     },
     "execution_count": 77,
     "metadata": {},
     "output_type": "execute_result"
    }
   ],
   "source": [
    "# Let's extract all web elements having investor's name\n",
    "investor= []\n",
    "try:\n",
    "    investor_tag = driver.find_elements(By.XPATH,'//td[@class=\"column-7\"]')\n",
    "    for i in investor_tag[5:29]:\n",
    "        investor.append(i.text)\n",
    "except NoSuchElementException:\n",
    "    investor.append('-') \n",
    "investor    "
   ]
  },
  {
   "cell_type": "code",
   "execution_count": 78,
   "id": "fb66407e",
   "metadata": {},
   "outputs": [
    {
     "data": {
      "text/plain": [
       "['Debt Financing',\n",
       " 'Series D',\n",
       " 'Series E',\n",
       " 'Series F',\n",
       " 'Seed',\n",
       " 'Series A',\n",
       " 'Series A',\n",
       " 'Series B',\n",
       " 'Venture',\n",
       " 'Series C',\n",
       " 'Seed',\n",
       " 'Series C',\n",
       " 'Debt Financing',\n",
       " 'Unspecified',\n",
       " 'Series A',\n",
       " 'Series C',\n",
       " 'Venture',\n",
       " 'Venture',\n",
       " 'Series C',\n",
       " 'Seed',\n",
       " 'Venture Round',\n",
       " 'Seed Funding',\n",
       " 'Series',\n",
       " 'Seed']"
      ]
     },
     "execution_count": 78,
     "metadata": {},
     "output_type": "execute_result"
    }
   ],
   "source": [
    "# Let's extract all web elements having investment type\n",
    "investment= []\n",
    "try:\n",
    "    investment_tag = driver.find_elements(By.XPATH,'//td[@class=\"column-8\"]')\n",
    "    for i in investment_tag[5:29]:\n",
    "        investment.append(i.text)\n",
    "except NoSuchElementException:\n",
    "    investment.append('-') \n",
    "investment    "
   ]
  },
  {
   "cell_type": "code",
   "execution_count": 79,
   "id": "65b9cac5",
   "metadata": {},
   "outputs": [
    {
     "data": {
      "text/plain": [
       "['250,000,000',\n",
       " '140,000,000',\n",
       " '8,000,000',\n",
       " '460,000,000',\n",
       " '300,000,000',\n",
       " '11,000,000',\n",
       " '27,500,000',\n",
       " '2,500,000',\n",
       " '250,000,000',\n",
       " '2,747,045.20',\n",
       " '1,50,00,000',\n",
       " '75,000,000',\n",
       " '4,773,958',\n",
       " '55,000,000',\n",
       " '15,000,000',\n",
       " '18,000,000',\n",
       " '1,80,00,000',\n",
       " '6,172,258.50',\n",
       " '30,000,000',\n",
       " '15,000,000',\n",
       " '16,000,000',\n",
       " '15,000,000',\n",
       " '100,000,000',\n",
       " '4,000,000']"
      ]
     },
     "execution_count": 79,
     "metadata": {},
     "output_type": "execute_result"
    }
   ],
   "source": [
    "# Let's extract all web elements having Amount(in USD)\n",
    "amount= []\n",
    "try:\n",
    "    amount_tag = driver.find_elements(By.XPATH,'//td[@class=\"column-9\"]')\n",
    "    for i in amount_tag[5:29]:\n",
    "        amount.append(i.text)\n",
    "except NoSuchElementException:\n",
    "    amount.append('-') \n",
    "amount    "
   ]
  },
  {
   "cell_type": "code",
   "execution_count": 80,
   "id": "c5f1bec8",
   "metadata": {},
   "outputs": [
    {
     "data": {
      "text/html": [
       "<div>\n",
       "<style scoped>\n",
       "    .dataframe tbody tr th:only-of-type {\n",
       "        vertical-align: middle;\n",
       "    }\n",
       "\n",
       "    .dataframe tbody tr th {\n",
       "        vertical-align: top;\n",
       "    }\n",
       "\n",
       "    .dataframe thead th {\n",
       "        text-align: right;\n",
       "    }\n",
       "</style>\n",
       "<table border=\"1\" class=\"dataframe\">\n",
       "  <thead>\n",
       "    <tr style=\"text-align: right;\">\n",
       "      <th></th>\n",
       "      <th>Date(dd/mm/yyyy)</th>\n",
       "      <th>Startup Name</th>\n",
       "      <th>Industrty/ Vertical</th>\n",
       "      <th>Sub Vertical</th>\n",
       "      <th>City/Location</th>\n",
       "      <th>Investor name</th>\n",
       "      <th>Investment Type</th>\n",
       "      <th>Amount(In USD)</th>\n",
       "    </tr>\n",
       "  </thead>\n",
       "  <tbody>\n",
       "    <tr>\n",
       "      <th>0</th>\n",
       "      <td>04/03/2021</td>\n",
       "      <td>DealShare</td>\n",
       "      <td>E-commerce</td>\n",
       "      <td>Online shopping platform</td>\n",
       "      <td>Jaipur, Rajasthan</td>\n",
       "      <td>Innoven Capital</td>\n",
       "      <td>Debt Financing</td>\n",
       "      <td>250,000,000</td>\n",
       "    </tr>\n",
       "    <tr>\n",
       "      <th>1</th>\n",
       "      <td>31/03/2021</td>\n",
       "      <td>Uniphore</td>\n",
       "      <td>Technology</td>\n",
       "      <td>Conversational Service Automation (CSA)</td>\n",
       "      <td>Palo Alto</td>\n",
       "      <td>Sorenson Capital Partners</td>\n",
       "      <td>Series D</td>\n",
       "      <td>140,000,000</td>\n",
       "    </tr>\n",
       "    <tr>\n",
       "      <th>2</th>\n",
       "      <td>30/03/2021</td>\n",
       "      <td>Dunzo</td>\n",
       "      <td>E-commerce</td>\n",
       "      <td>Hyper-local delivery app</td>\n",
       "      <td>Bengaluru</td>\n",
       "      <td>Krishtal Advisors Pte Ltd</td>\n",
       "      <td>Series E</td>\n",
       "      <td>8,000,000</td>\n",
       "    </tr>\n",
       "    <tr>\n",
       "      <th>3</th>\n",
       "      <td>30/03/2021</td>\n",
       "      <td>BYJU’S</td>\n",
       "      <td>Edu-tech</td>\n",
       "      <td>Online tutoring</td>\n",
       "      <td>Bengaluru</td>\n",
       "      <td>MC Global Edtech, B Capital, Baron, others</td>\n",
       "      <td>Series F</td>\n",
       "      <td>460,000,000</td>\n",
       "    </tr>\n",
       "    <tr>\n",
       "      <th>4</th>\n",
       "      <td>23/03/2021</td>\n",
       "      <td>SkilloVilla</td>\n",
       "      <td>Edu-tech</td>\n",
       "      <td>Career and job-oriented upskilling.</td>\n",
       "      <td>Bengaluru</td>\n",
       "      <td>Titan Capital, others</td>\n",
       "      <td>Seed</td>\n",
       "      <td>300,000,000</td>\n",
       "    </tr>\n",
       "    <tr>\n",
       "      <th>5</th>\n",
       "      <td>25/03/2021</td>\n",
       "      <td>CityMall</td>\n",
       "      <td>E-commerce</td>\n",
       "      <td>Social ecommerce and online grocery platform</td>\n",
       "      <td>Gurgaon</td>\n",
       "      <td>Accel Partners</td>\n",
       "      <td>Series A</td>\n",
       "      <td>11,000,000</td>\n",
       "    </tr>\n",
       "    <tr>\n",
       "      <th>6</th>\n",
       "      <td>26/03/2021</td>\n",
       "      <td>DotPe</td>\n",
       "      <td>FinTech</td>\n",
       "      <td>Commerce and payments platform to offline ente...</td>\n",
       "      <td>Gurgaon</td>\n",
       "      <td>PayU</td>\n",
       "      <td>Series A</td>\n",
       "      <td>27,500,000</td>\n",
       "    </tr>\n",
       "    <tr>\n",
       "      <th>7</th>\n",
       "      <td>11/02/2021</td>\n",
       "      <td>Doubtnut</td>\n",
       "      <td>Edu Tech</td>\n",
       "      <td>E-Learning Platform</td>\n",
       "      <td>Gurgaon</td>\n",
       "      <td>SIG Global, Sequoia Capital, WaterBridge Ventu...</td>\n",
       "      <td>Series B</td>\n",
       "      <td>2,500,000</td>\n",
       "    </tr>\n",
       "    <tr>\n",
       "      <th>8</th>\n",
       "      <td>22/02/2021</td>\n",
       "      <td>Zomato</td>\n",
       "      <td>Hospitality</td>\n",
       "      <td>Online Food Delivery Platform</td>\n",
       "      <td>Gurgaon</td>\n",
       "      <td>Tiger Global, Kora</td>\n",
       "      <td>Venture</td>\n",
       "      <td>250,000,000</td>\n",
       "    </tr>\n",
       "    <tr>\n",
       "      <th>9</th>\n",
       "      <td>19/02/2021</td>\n",
       "      <td>Fingerlix</td>\n",
       "      <td>Hospitality</td>\n",
       "      <td>Semi-cooked food delivery app</td>\n",
       "      <td>Mumbai</td>\n",
       "      <td>Rhodium Trust, Accel Partners and Swiggy</td>\n",
       "      <td>Series C</td>\n",
       "      <td>2,747,045.20</td>\n",
       "    </tr>\n",
       "    <tr>\n",
       "      <th>10</th>\n",
       "      <td>17/02/2021</td>\n",
       "      <td>Zolve</td>\n",
       "      <td>FinTech</td>\n",
       "      <td>Global Neobank Venture</td>\n",
       "      <td>Mumbai</td>\n",
       "      <td>Accel Partners and Lightspeed Venture Partners</td>\n",
       "      <td>Seed</td>\n",
       "      <td>1,50,00,000</td>\n",
       "    </tr>\n",
       "    <tr>\n",
       "      <th>11</th>\n",
       "      <td>15/02/2021</td>\n",
       "      <td>KreditBee</td>\n",
       "      <td>Finance</td>\n",
       "      <td>Digital lending platform</td>\n",
       "      <td>Bengaluru</td>\n",
       "      <td>Azim Premji’s PremjiInvest and South Korea’s M...</td>\n",
       "      <td>Series C</td>\n",
       "      <td>75,000,000</td>\n",
       "    </tr>\n",
       "    <tr>\n",
       "      <th>12</th>\n",
       "      <td>12/02/2021</td>\n",
       "      <td>Pepperfry</td>\n",
       "      <td>E-commerce</td>\n",
       "      <td>Multi-brand furniture brand</td>\n",
       "      <td>Mumbai</td>\n",
       "      <td>InnoVen Capital</td>\n",
       "      <td>Debt Financing</td>\n",
       "      <td>4,773,958</td>\n",
       "    </tr>\n",
       "    <tr>\n",
       "      <th>13</th>\n",
       "      <td>12/02/2021</td>\n",
       "      <td>Grofers</td>\n",
       "      <td>E-Commerce</td>\n",
       "      <td>Online supermarket</td>\n",
       "      <td>Gurgaon</td>\n",
       "      <td>SoftBank Vision Fund (SVF)</td>\n",
       "      <td>Unspecified</td>\n",
       "      <td>55,000,000</td>\n",
       "    </tr>\n",
       "    <tr>\n",
       "      <th>14</th>\n",
       "      <td>09/02/2021</td>\n",
       "      <td>Nothing</td>\n",
       "      <td>Technology</td>\n",
       "      <td>Consumer Technology Venture</td>\n",
       "      <td>London</td>\n",
       "      <td>GV</td>\n",
       "      <td>Series A</td>\n",
       "      <td>15,000,000</td>\n",
       "    </tr>\n",
       "    <tr>\n",
       "      <th>15</th>\n",
       "      <td>09/02/2021</td>\n",
       "      <td>SplashLearn</td>\n",
       "      <td>EdTech</td>\n",
       "      <td>Game-based learning programme</td>\n",
       "      <td>Gurgaon</td>\n",
       "      <td>Owl Ventures</td>\n",
       "      <td>Series C</td>\n",
       "      <td>18,000,000</td>\n",
       "    </tr>\n",
       "    <tr>\n",
       "      <th>16</th>\n",
       "      <td>15/01/2021</td>\n",
       "      <td>Digit Insurance</td>\n",
       "      <td>Financial Services</td>\n",
       "      <td>Insurance Services</td>\n",
       "      <td>Bengaluru</td>\n",
       "      <td>A91 Partners, Faering Capital, TVS Capital Funds</td>\n",
       "      <td>Venture</td>\n",
       "      <td>1,80,00,000</td>\n",
       "    </tr>\n",
       "    <tr>\n",
       "      <th>17</th>\n",
       "      <td>28/01/2021</td>\n",
       "      <td>Bombay Shaving Company</td>\n",
       "      <td>Consumer Goods Company</td>\n",
       "      <td>Shave care, beard care, and skincare products</td>\n",
       "      <td>New Delhi</td>\n",
       "      <td>Reckitt Benckiser</td>\n",
       "      <td>Venture</td>\n",
       "      <td>6,172,258.50</td>\n",
       "    </tr>\n",
       "    <tr>\n",
       "      <th>18</th>\n",
       "      <td>19/01/2021</td>\n",
       "      <td>DeHaat</td>\n",
       "      <td>AgriTech Startup</td>\n",
       "      <td>online marketplace for farm products and services</td>\n",
       "      <td>Patna</td>\n",
       "      <td>Prosus Ventures</td>\n",
       "      <td>Series C</td>\n",
       "      <td>30,000,000</td>\n",
       "    </tr>\n",
       "    <tr>\n",
       "      <th>19</th>\n",
       "      <td>19/01/2021</td>\n",
       "      <td>Darwinbox</td>\n",
       "      <td>SaaS</td>\n",
       "      <td>HR Tech</td>\n",
       "      <td>Mumbai</td>\n",
       "      <td>Salesforce Ventures</td>\n",
       "      <td>Seed</td>\n",
       "      <td>15,000,000</td>\n",
       "    </tr>\n",
       "    <tr>\n",
       "      <th>20</th>\n",
       "      <td>18/01/2021</td>\n",
       "      <td>mfine</td>\n",
       "      <td>Health Tech Startup</td>\n",
       "      <td>AI-powered telemedicine mobile app</td>\n",
       "      <td>Bengaluru</td>\n",
       "      <td>Heritas Capital Management</td>\n",
       "      <td>Venture Round</td>\n",
       "      <td>16,000,000</td>\n",
       "    </tr>\n",
       "    <tr>\n",
       "      <th>21</th>\n",
       "      <td>18/01/2021</td>\n",
       "      <td>Udayy</td>\n",
       "      <td>EdTech</td>\n",
       "      <td>Online learning platform for kids in class 1-5</td>\n",
       "      <td>Gurgaon</td>\n",
       "      <td>Sequoia Capital</td>\n",
       "      <td>Seed Funding</td>\n",
       "      <td>15,000,000</td>\n",
       "    </tr>\n",
       "    <tr>\n",
       "      <th>22</th>\n",
       "      <td>11/01/2021</td>\n",
       "      <td>True Elements</td>\n",
       "      <td>Food Startup</td>\n",
       "      <td>Whole Food plant based Nashta</td>\n",
       "      <td>Pune</td>\n",
       "      <td>SIDBI Venture Capital</td>\n",
       "      <td>Series</td>\n",
       "      <td>100,000,000</td>\n",
       "    </tr>\n",
       "    <tr>\n",
       "      <th>23</th>\n",
       "      <td>13/01/2021</td>\n",
       "      <td>Saveo</td>\n",
       "      <td>B2B E-commerce</td>\n",
       "      <td>Pharmacies</td>\n",
       "      <td>Bengaluru</td>\n",
       "      <td>Matrix Partners India, RTP Global, others</td>\n",
       "      <td>Seed</td>\n",
       "      <td>4,000,000</td>\n",
       "    </tr>\n",
       "  </tbody>\n",
       "</table>\n",
       "</div>"
      ],
      "text/plain": [
       "   Date(dd/mm/yyyy)            Startup Name     Industrty/ Vertical  \\\n",
       "0        04/03/2021               DealShare              E-commerce   \n",
       "1        31/03/2021                Uniphore              Technology   \n",
       "2        30/03/2021                   Dunzo              E-commerce   \n",
       "3        30/03/2021                  BYJU’S                Edu-tech   \n",
       "4        23/03/2021             SkilloVilla                Edu-tech   \n",
       "5        25/03/2021                CityMall              E-commerce   \n",
       "6        26/03/2021                   DotPe                 FinTech   \n",
       "7        11/02/2021                Doubtnut                Edu Tech   \n",
       "8        22/02/2021                  Zomato             Hospitality   \n",
       "9        19/02/2021               Fingerlix             Hospitality   \n",
       "10       17/02/2021                   Zolve                 FinTech   \n",
       "11       15/02/2021               KreditBee                 Finance   \n",
       "12       12/02/2021               Pepperfry              E-commerce   \n",
       "13       12/02/2021                 Grofers              E-Commerce   \n",
       "14       09/02/2021                 Nothing              Technology   \n",
       "15       09/02/2021             SplashLearn                  EdTech   \n",
       "16       15/01/2021         Digit Insurance      Financial Services   \n",
       "17       28/01/2021  Bombay Shaving Company  Consumer Goods Company   \n",
       "18       19/01/2021                  DeHaat        AgriTech Startup   \n",
       "19       19/01/2021               Darwinbox                    SaaS   \n",
       "20       18/01/2021                   mfine     Health Tech Startup   \n",
       "21       18/01/2021                   Udayy                  EdTech   \n",
       "22       11/01/2021           True Elements            Food Startup   \n",
       "23       13/01/2021                   Saveo          B2B E-commerce   \n",
       "\n",
       "                                         Sub Vertical      City/Location  \\\n",
       "0                            Online shopping platform  Jaipur, Rajasthan   \n",
       "1             Conversational Service Automation (CSA)          Palo Alto   \n",
       "2                            Hyper-local delivery app          Bengaluru   \n",
       "3                                     Online tutoring          Bengaluru   \n",
       "4                 Career and job-oriented upskilling.          Bengaluru   \n",
       "5        Social ecommerce and online grocery platform            Gurgaon   \n",
       "6   Commerce and payments platform to offline ente...            Gurgaon   \n",
       "7                                 E-Learning Platform            Gurgaon   \n",
       "8                       Online Food Delivery Platform            Gurgaon   \n",
       "9                       Semi-cooked food delivery app             Mumbai   \n",
       "10                             Global Neobank Venture             Mumbai   \n",
       "11                           Digital lending platform          Bengaluru   \n",
       "12                        Multi-brand furniture brand             Mumbai   \n",
       "13                                 Online supermarket            Gurgaon   \n",
       "14                        Consumer Technology Venture             London   \n",
       "15                      Game-based learning programme            Gurgaon   \n",
       "16                                 Insurance Services          Bengaluru   \n",
       "17      Shave care, beard care, and skincare products          New Delhi   \n",
       "18  online marketplace for farm products and services              Patna   \n",
       "19                                            HR Tech             Mumbai   \n",
       "20                 AI-powered telemedicine mobile app          Bengaluru   \n",
       "21     Online learning platform for kids in class 1-5            Gurgaon   \n",
       "22                      Whole Food plant based Nashta               Pune   \n",
       "23                                         Pharmacies          Bengaluru   \n",
       "\n",
       "                                        Investor name Investment Type  \\\n",
       "0                                     Innoven Capital  Debt Financing   \n",
       "1                           Sorenson Capital Partners        Series D   \n",
       "2                           Krishtal Advisors Pte Ltd        Series E   \n",
       "3          MC Global Edtech, B Capital, Baron, others        Series F   \n",
       "4                               Titan Capital, others            Seed   \n",
       "5                                      Accel Partners        Series A   \n",
       "6                                                PayU        Series A   \n",
       "7   SIG Global, Sequoia Capital, WaterBridge Ventu...        Series B   \n",
       "8                                  Tiger Global, Kora         Venture   \n",
       "9            Rhodium Trust, Accel Partners and Swiggy        Series C   \n",
       "10     Accel Partners and Lightspeed Venture Partners            Seed   \n",
       "11  Azim Premji’s PremjiInvest and South Korea’s M...        Series C   \n",
       "12                                    InnoVen Capital  Debt Financing   \n",
       "13                         SoftBank Vision Fund (SVF)     Unspecified   \n",
       "14                                                 GV        Series A   \n",
       "15                                       Owl Ventures        Series C   \n",
       "16   A91 Partners, Faering Capital, TVS Capital Funds         Venture   \n",
       "17                                  Reckitt Benckiser         Venture   \n",
       "18                                    Prosus Ventures        Series C   \n",
       "19                                Salesforce Ventures            Seed   \n",
       "20                         Heritas Capital Management   Venture Round   \n",
       "21                                    Sequoia Capital    Seed Funding   \n",
       "22                              SIDBI Venture Capital          Series   \n",
       "23          Matrix Partners India, RTP Global, others            Seed   \n",
       "\n",
       "   Amount(In USD)  \n",
       "0     250,000,000  \n",
       "1     140,000,000  \n",
       "2       8,000,000  \n",
       "3     460,000,000  \n",
       "4     300,000,000  \n",
       "5      11,000,000  \n",
       "6      27,500,000  \n",
       "7       2,500,000  \n",
       "8     250,000,000  \n",
       "9    2,747,045.20  \n",
       "10    1,50,00,000  \n",
       "11     75,000,000  \n",
       "12      4,773,958  \n",
       "13     55,000,000  \n",
       "14     15,000,000  \n",
       "15     18,000,000  \n",
       "16    1,80,00,000  \n",
       "17   6,172,258.50  \n",
       "18     30,000,000  \n",
       "19     15,000,000  \n",
       "20     16,000,000  \n",
       "21     15,000,000  \n",
       "22    100,000,000  \n",
       "23      4,000,000  "
      ]
     },
     "execution_count": 80,
     "metadata": {},
     "output_type": "execute_result"
    }
   ],
   "source": [
    "df = pd.DataFrame({'Date(dd/mm/yyyy)':date,'Startup Name':startup,'Industrty/ Vertical':industry,'Sub Vertical':vertical,'City/Location':city,'Investor name':investor,'Investment Type':investment,'Amount(In USD)':amount})\n",
    "df"
   ]
  },
  {
   "cell_type": "code",
   "execution_count": 81,
   "id": "f1cc5f23",
   "metadata": {},
   "outputs": [],
   "source": [
    "df.to_csv('Funding and investment.csv')"
   ]
  },
  {
   "cell_type": "code",
   "execution_count": 82,
   "id": "9cfcd856",
   "metadata": {},
   "outputs": [],
   "source": [
    "driver.close()"
   ]
  },
  {
   "cell_type": "markdown",
   "id": "fe039bcf",
   "metadata": {},
   "source": [
    "## 7. Write a program to scrap all the available details of best gaming laptops from digit.in.\n"
   ]
  },
  {
   "cell_type": "code",
   "execution_count": 114,
   "id": "a784f0fa",
   "metadata": {},
   "outputs": [
    {
     "name": "stderr",
     "output_type": "stream",
     "text": [
      "C:\\Users\\EXPERT SOLUTION\\AppData\\Local\\Temp\\ipykernel_3348\\1460748407.py:12: DeprecationWarning: executable_path has been deprecated, please pass in a Service object\n",
      "  driver = webdriver.Chrome('chromedriver.exe')\n"
     ]
    }
   ],
   "source": [
    "# import required libraries\n",
    "import pandas as pd\n",
    "import selenium\n",
    "import time \n",
    "# import selenium webdriver\n",
    "from selenium import webdriver\n",
    "# importing required exceptions which need to handled\n",
    "from selenium.common.exceptions import StaleElementReferenceException,NoSuchElementException\n",
    "# importing regex\n",
    "import re\n",
    "from selenium.webdriver.common.by import By\n",
    "driver = webdriver.Chrome('chromedriver.exe')\n",
    "driver.maximize_window()"
   ]
  },
  {
   "cell_type": "code",
   "execution_count": 115,
   "id": "3c58df07",
   "metadata": {},
   "outputs": [],
   "source": [
    "driver.get('https://www.digit.in/')"
   ]
  },
  {
   "cell_type": "code",
   "execution_count": 116,
   "id": "62e32784",
   "metadata": {},
   "outputs": [],
   "source": [
    "best_laptops = driver.find_element(By.XPATH,'/html/body/div[3]/div/div[2]/div[2]/div[4]/ul/li[9]/a')\n",
    "best_laptops.click()"
   ]
  },
  {
   "cell_type": "markdown",
   "id": "e5bebd78",
   "metadata": {},
   "source": [
    "## extract laptop name"
   ]
  },
  {
   "cell_type": "code",
   "execution_count": 119,
   "id": "225c2ffd",
   "metadata": {},
   "outputs": [
    {
     "data": {
      "text/plain": [
       "['MSI Titan GT77-12UHS',\n",
       " 'Alienware X17 R2',\n",
       " 'Acer Predator Triton 500 SE PT516-52s',\n",
       " 'Omen By HP (16-B1371TX)',\n",
       " 'Acer Predator Helios 300 AN515-45',\n",
       " 'MSI Delta 15 (A5EFK-083IN)',\n",
       " 'Omen By HP (16-C0141AX)',\n",
       " 'Lenovo Legion 5i Pro (82RF00MGIN)',\n",
       " 'Alienware M15 R5 Ryzen Edition Icc-C780001win',\n",
       " 'Lenovo Slim 7 Gen 6 (82K8002JIN)']"
      ]
     },
     "execution_count": 119,
     "metadata": {},
     "output_type": "execute_result"
    }
   ],
   "source": [
    "name = []\n",
    "name_tag = driver.find_elements(By.XPATH,'//div[@class=\"left_side\"]')\n",
    "for i in name_tag[:10]:\n",
    "    name.append(i.text.split('\\n')[1])\n",
    "name    "
   ]
  },
  {
   "cell_type": "markdown",
   "id": "4ce1d511",
   "metadata": {},
   "source": [
    "## extract details"
   ]
  },
  {
   "cell_type": "code",
   "execution_count": 131,
   "id": "1069547a",
   "metadata": {},
   "outputs": [
    {
     "data": {
      "text/plain": [
       "['Windows 11 Home OS',\n",
       " '17.3\" (3840 x 2160) Display',\n",
       " '12th Gen Intel Core i9-12900HX | NA Processor',\n",
       " '2 TB SSD/64 GB DDR5 Memory',\n",
       " 'Windows 11 Home OS',\n",
       " '17.3\" (1920 x 1080) Display',\n",
       " '12th Gen Intel Core i9-12900H | 5 GHz Processor',\n",
       " '1 TB SSD/32 GB DDR5 Memory',\n",
       " 'Windows 11 OS',\n",
       " '16\" (2560 x 1600) Display',\n",
       " '12th Gen Intel Core i7-12700H | 3.5 GHz Processor',\n",
       " '2 TB SSD/32 GB DDR5 Memory',\n",
       " 'Windows 11 Home OS',\n",
       " '16.1\" (2560 x 1440) Display',\n",
       " '12th Gen Intel Core i7-12700H | 4.7 GHz Processor',\n",
       " '1 TB SSD/8 GB DDR5 Memory',\n",
       " 'Windows 11 Home OS',\n",
       " '15.6\" (2560 x 1440) Display',\n",
       " 'AMD Ryzen 9-5900HX | NA Processor',\n",
       " '512 GB SSD/16 GB DDR4 Memory',\n",
       " 'Windows 11 Home OS',\n",
       " '15.6\" (1920 x 1080) Display',\n",
       " 'AMD 5th Gen Ryzen 9-5900HX | 3.3GHz Processor',\n",
       " '1 TB SSD/16 GBGB DDR4 Memory',\n",
       " 'Windows 11 Home OS',\n",
       " '16.1\" (2560 x 1440) Display',\n",
       " 'AMD Ryzen™ 9 5900HX | 3.3 GHz Processor',\n",
       " '1 TB NVMe/16 GB DDR4 Memory',\n",
       " 'Windows 11 Home OS',\n",
       " '16\" (2560 x 1600) Display',\n",
       " '12th Gen Intel Core i7-12700H | 2.3 GHz Processor',\n",
       " '1 TB SSD/16 GB DDR5 Memory',\n",
       " 'Windows 11 Home OS',\n",
       " '15.6\" (1920 x 1080) Display',\n",
       " 'AMD Ryzen R7-5800H | 4.40 GHz Processor',\n",
       " '512 GB SSD/16 GB DDR4 Memory',\n",
       " 'Windows 11 Home OS',\n",
       " '15.6 MP | NA Display',\n",
       " 'Lenovo Ryzen 7-5800H | 3.2 GHz Processor',\n",
       " '1 TB SSD/16 GB DDR4 Memory']"
      ]
     },
     "execution_count": 131,
     "metadata": {},
     "output_type": "execute_result"
    }
   ],
   "source": [
    "detail = []\n",
    "detail_tag = driver.find_elements(By.XPATH,'//div[@class=\"value\"]')\n",
    "for i in detail_tag:\n",
    "    detail.append(i.text)\n",
    "detail    "
   ]
  },
  {
   "cell_type": "markdown",
   "id": "c8c7df0c",
   "metadata": {},
   "source": [
    "## extracting Operating system"
   ]
  },
  {
   "cell_type": "code",
   "execution_count": 136,
   "id": "fef6fb65",
   "metadata": {},
   "outputs": [
    {
     "data": {
      "text/plain": [
       "['Windows 11 Home OS',\n",
       " 'Windows 11 Home OS',\n",
       " 'Windows 11 OS',\n",
       " 'Windows 11 Home OS',\n",
       " 'Windows 11 Home OS',\n",
       " 'Windows 11 Home OS',\n",
       " 'Windows 11 Home OS',\n",
       " 'Windows 11 Home OS',\n",
       " 'Windows 11 Home OS',\n",
       " 'Windows 11 Home OS']"
      ]
     },
     "execution_count": 136,
     "metadata": {},
     "output_type": "execute_result"
    }
   ],
   "source": [
    "OS = detail[0:39:4]\n",
    "OS\n"
   ]
  },
  {
   "cell_type": "markdown",
   "id": "13989e51",
   "metadata": {},
   "source": [
    "## extracting processor"
   ]
  },
  {
   "cell_type": "code",
   "execution_count": 138,
   "id": "47bea4b3",
   "metadata": {},
   "outputs": [
    {
     "data": {
      "text/plain": [
       "['12th Gen Intel Core i9-12900HX | NA Processor',\n",
       " '12th Gen Intel Core i9-12900H | 5 GHz Processor',\n",
       " '12th Gen Intel Core i7-12700H | 3.5 GHz Processor',\n",
       " '12th Gen Intel Core i7-12700H | 4.7 GHz Processor',\n",
       " 'AMD Ryzen 9-5900HX | NA Processor',\n",
       " 'AMD 5th Gen Ryzen 9-5900HX | 3.3GHz Processor',\n",
       " 'AMD Ryzen™ 9 5900HX | 3.3 GHz Processor',\n",
       " '12th Gen Intel Core i7-12700H | 2.3 GHz Processor',\n",
       " 'AMD Ryzen R7-5800H | 4.40 GHz Processor',\n",
       " 'Lenovo Ryzen 7-5800H | 3.2 GHz Processor']"
      ]
     },
     "execution_count": 138,
     "metadata": {},
     "output_type": "execute_result"
    }
   ],
   "source": [
    "processor = detail[2:39:4]\n",
    "processor"
   ]
  },
  {
   "cell_type": "markdown",
   "id": "b5befcff",
   "metadata": {},
   "source": [
    "## extracting display"
   ]
  },
  {
   "cell_type": "code",
   "execution_count": 139,
   "id": "031f2403",
   "metadata": {},
   "outputs": [
    {
     "data": {
      "text/plain": [
       "['17.3\" (3840 x 2160) Display',\n",
       " '17.3\" (1920 x 1080) Display',\n",
       " '16\" (2560 x 1600) Display',\n",
       " '16.1\" (2560 x 1440) Display',\n",
       " '15.6\" (2560 x 1440) Display',\n",
       " '15.6\" (1920 x 1080) Display',\n",
       " '16.1\" (2560 x 1440) Display',\n",
       " '16\" (2560 x 1600) Display',\n",
       " '15.6\" (1920 x 1080) Display',\n",
       " '15.6 MP | NA Display']"
      ]
     },
     "execution_count": 139,
     "metadata": {},
     "output_type": "execute_result"
    }
   ],
   "source": [
    "display=detail[1:39:4]\n",
    "display"
   ]
  },
  {
   "cell_type": "markdown",
   "id": "de8c361b",
   "metadata": {},
   "source": [
    "## extracting memory"
   ]
  },
  {
   "cell_type": "code",
   "execution_count": 143,
   "id": "fd3c4366",
   "metadata": {},
   "outputs": [
    {
     "data": {
      "text/plain": [
       "['2 TB SSD/64 GB DDR5 Memory',\n",
       " '1 TB SSD/32 GB DDR5 Memory',\n",
       " '2 TB SSD/32 GB DDR5 Memory',\n",
       " '1 TB SSD/8 GB DDR5 Memory',\n",
       " '512 GB SSD/16 GB DDR4 Memory',\n",
       " '1 TB SSD/16 GBGB DDR4 Memory',\n",
       " '1 TB NVMe/16 GB DDR4 Memory',\n",
       " '1 TB SSD/16 GB DDR5 Memory',\n",
       " '512 GB SSD/16 GB DDR4 Memory',\n",
       " '1 TB SSD/16 GB DDR4 Memory']"
      ]
     },
     "execution_count": 143,
     "metadata": {},
     "output_type": "execute_result"
    }
   ],
   "source": [
    "memory = detail[3:39:4]\n",
    "memory.append('1 TB SSD/16 GB DDR4 Memory')\n",
    "memory"
   ]
  },
  {
   "cell_type": "code",
   "execution_count": 144,
   "id": "0f0146b5",
   "metadata": {},
   "outputs": [
    {
     "name": "stdout",
     "output_type": "stream",
     "text": [
      "10 10 10 10 10\n"
     ]
    }
   ],
   "source": [
    "print(len(name),len(OS),len(processor),len(display),len(memory))"
   ]
  },
  {
   "cell_type": "markdown",
   "id": "804896d0",
   "metadata": {},
   "source": [
    "## create dataframe"
   ]
  },
  {
   "cell_type": "code",
   "execution_count": 145,
   "id": "392a807c",
   "metadata": {},
   "outputs": [
    {
     "data": {
      "text/html": [
       "<div>\n",
       "<style scoped>\n",
       "    .dataframe tbody tr th:only-of-type {\n",
       "        vertical-align: middle;\n",
       "    }\n",
       "\n",
       "    .dataframe tbody tr th {\n",
       "        vertical-align: top;\n",
       "    }\n",
       "\n",
       "    .dataframe thead th {\n",
       "        text-align: right;\n",
       "    }\n",
       "</style>\n",
       "<table border=\"1\" class=\"dataframe\">\n",
       "  <thead>\n",
       "    <tr style=\"text-align: right;\">\n",
       "      <th></th>\n",
       "      <th>Laptop Name</th>\n",
       "      <th>Operating System</th>\n",
       "      <th>Processor</th>\n",
       "      <th>Display</th>\n",
       "      <th>Storage Capacity</th>\n",
       "    </tr>\n",
       "  </thead>\n",
       "  <tbody>\n",
       "    <tr>\n",
       "      <th>0</th>\n",
       "      <td>MSI Titan GT77-12UHS</td>\n",
       "      <td>Windows 11 Home OS</td>\n",
       "      <td>12th Gen Intel Core i9-12900HX | NA Processor</td>\n",
       "      <td>17.3\" (3840 x 2160) Display</td>\n",
       "      <td>2 TB SSD/64 GB DDR5 Memory</td>\n",
       "    </tr>\n",
       "    <tr>\n",
       "      <th>1</th>\n",
       "      <td>Alienware X17 R2</td>\n",
       "      <td>Windows 11 Home OS</td>\n",
       "      <td>12th Gen Intel Core i9-12900H | 5 GHz Processor</td>\n",
       "      <td>17.3\" (1920 x 1080) Display</td>\n",
       "      <td>1 TB SSD/32 GB DDR5 Memory</td>\n",
       "    </tr>\n",
       "    <tr>\n",
       "      <th>2</th>\n",
       "      <td>Acer Predator Triton 500 SE PT516-52s</td>\n",
       "      <td>Windows 11 OS</td>\n",
       "      <td>12th Gen Intel Core i7-12700H | 3.5 GHz Processor</td>\n",
       "      <td>16\" (2560 x 1600) Display</td>\n",
       "      <td>2 TB SSD/32 GB DDR5 Memory</td>\n",
       "    </tr>\n",
       "    <tr>\n",
       "      <th>3</th>\n",
       "      <td>Omen By HP (16-B1371TX)</td>\n",
       "      <td>Windows 11 Home OS</td>\n",
       "      <td>12th Gen Intel Core i7-12700H | 4.7 GHz Processor</td>\n",
       "      <td>16.1\" (2560 x 1440) Display</td>\n",
       "      <td>1 TB SSD/8 GB DDR5 Memory</td>\n",
       "    </tr>\n",
       "    <tr>\n",
       "      <th>4</th>\n",
       "      <td>Acer Predator Helios 300 AN515-45</td>\n",
       "      <td>Windows 11 Home OS</td>\n",
       "      <td>AMD Ryzen 9-5900HX | NA Processor</td>\n",
       "      <td>15.6\" (2560 x 1440) Display</td>\n",
       "      <td>512 GB SSD/16 GB DDR4 Memory</td>\n",
       "    </tr>\n",
       "    <tr>\n",
       "      <th>5</th>\n",
       "      <td>MSI Delta 15 (A5EFK-083IN)</td>\n",
       "      <td>Windows 11 Home OS</td>\n",
       "      <td>AMD 5th Gen Ryzen 9-5900HX | 3.3GHz Processor</td>\n",
       "      <td>15.6\" (1920 x 1080) Display</td>\n",
       "      <td>1 TB SSD/16 GBGB DDR4 Memory</td>\n",
       "    </tr>\n",
       "    <tr>\n",
       "      <th>6</th>\n",
       "      <td>Omen By HP (16-C0141AX)</td>\n",
       "      <td>Windows 11 Home OS</td>\n",
       "      <td>AMD Ryzen™ 9 5900HX | 3.3 GHz Processor</td>\n",
       "      <td>16.1\" (2560 x 1440) Display</td>\n",
       "      <td>1 TB NVMe/16 GB DDR4 Memory</td>\n",
       "    </tr>\n",
       "    <tr>\n",
       "      <th>7</th>\n",
       "      <td>Lenovo Legion 5i Pro (82RF00MGIN)</td>\n",
       "      <td>Windows 11 Home OS</td>\n",
       "      <td>12th Gen Intel Core i7-12700H | 2.3 GHz Processor</td>\n",
       "      <td>16\" (2560 x 1600) Display</td>\n",
       "      <td>1 TB SSD/16 GB DDR5 Memory</td>\n",
       "    </tr>\n",
       "    <tr>\n",
       "      <th>8</th>\n",
       "      <td>Alienware M15 R5 Ryzen Edition Icc-C780001win</td>\n",
       "      <td>Windows 11 Home OS</td>\n",
       "      <td>AMD Ryzen R7-5800H | 4.40 GHz Processor</td>\n",
       "      <td>15.6\" (1920 x 1080) Display</td>\n",
       "      <td>512 GB SSD/16 GB DDR4 Memory</td>\n",
       "    </tr>\n",
       "    <tr>\n",
       "      <th>9</th>\n",
       "      <td>Lenovo Slim 7 Gen 6 (82K8002JIN)</td>\n",
       "      <td>Windows 11 Home OS</td>\n",
       "      <td>Lenovo Ryzen 7-5800H | 3.2 GHz Processor</td>\n",
       "      <td>15.6 MP | NA Display</td>\n",
       "      <td>1 TB SSD/16 GB DDR4 Memory</td>\n",
       "    </tr>\n",
       "  </tbody>\n",
       "</table>\n",
       "</div>"
      ],
      "text/plain": [
       "                                     Laptop Name    Operating System  \\\n",
       "0                           MSI Titan GT77-12UHS  Windows 11 Home OS   \n",
       "1                               Alienware X17 R2  Windows 11 Home OS   \n",
       "2          Acer Predator Triton 500 SE PT516-52s       Windows 11 OS   \n",
       "3                        Omen By HP (16-B1371TX)  Windows 11 Home OS   \n",
       "4              Acer Predator Helios 300 AN515-45  Windows 11 Home OS   \n",
       "5                     MSI Delta 15 (A5EFK-083IN)  Windows 11 Home OS   \n",
       "6                        Omen By HP (16-C0141AX)  Windows 11 Home OS   \n",
       "7              Lenovo Legion 5i Pro (82RF00MGIN)  Windows 11 Home OS   \n",
       "8  Alienware M15 R5 Ryzen Edition Icc-C780001win  Windows 11 Home OS   \n",
       "9               Lenovo Slim 7 Gen 6 (82K8002JIN)  Windows 11 Home OS   \n",
       "\n",
       "                                           Processor  \\\n",
       "0      12th Gen Intel Core i9-12900HX | NA Processor   \n",
       "1    12th Gen Intel Core i9-12900H | 5 GHz Processor   \n",
       "2  12th Gen Intel Core i7-12700H | 3.5 GHz Processor   \n",
       "3  12th Gen Intel Core i7-12700H | 4.7 GHz Processor   \n",
       "4                  AMD Ryzen 9-5900HX | NA Processor   \n",
       "5      AMD 5th Gen Ryzen 9-5900HX | 3.3GHz Processor   \n",
       "6            AMD Ryzen™ 9 5900HX | 3.3 GHz Processor   \n",
       "7  12th Gen Intel Core i7-12700H | 2.3 GHz Processor   \n",
       "8            AMD Ryzen R7-5800H | 4.40 GHz Processor   \n",
       "9           Lenovo Ryzen 7-5800H | 3.2 GHz Processor   \n",
       "\n",
       "                       Display              Storage Capacity  \n",
       "0  17.3\" (3840 x 2160) Display    2 TB SSD/64 GB DDR5 Memory  \n",
       "1  17.3\" (1920 x 1080) Display    1 TB SSD/32 GB DDR5 Memory  \n",
       "2    16\" (2560 x 1600) Display    2 TB SSD/32 GB DDR5 Memory  \n",
       "3  16.1\" (2560 x 1440) Display     1 TB SSD/8 GB DDR5 Memory  \n",
       "4  15.6\" (2560 x 1440) Display  512 GB SSD/16 GB DDR4 Memory  \n",
       "5  15.6\" (1920 x 1080) Display  1 TB SSD/16 GBGB DDR4 Memory  \n",
       "6  16.1\" (2560 x 1440) Display   1 TB NVMe/16 GB DDR4 Memory  \n",
       "7    16\" (2560 x 1600) Display    1 TB SSD/16 GB DDR5 Memory  \n",
       "8  15.6\" (1920 x 1080) Display  512 GB SSD/16 GB DDR4 Memory  \n",
       "9         15.6 MP | NA Display    1 TB SSD/16 GB DDR4 Memory  "
      ]
     },
     "execution_count": 145,
     "metadata": {},
     "output_type": "execute_result"
    }
   ],
   "source": [
    "df = pd.DataFrame({'Laptop Name':name,'Operating System':OS,'Processor':processor,'Display':display,'Storage Capacity':memory})\n",
    "df"
   ]
  },
  {
   "cell_type": "code",
   "execution_count": null,
   "id": "dde43b8f",
   "metadata": {},
   "outputs": [],
   "source": [
    "driver.close()"
   ]
  },
  {
   "cell_type": "markdown",
   "id": "d26c815f",
   "metadata": {},
   "source": [
    "## 8. Write a python program to scrape the details for all billionaires from www.forbes.com. Details to be scrapped: “Rank”, “Name”, “Net worth”, “Age”, “Citizenship”, “Source”, “Industry”.\n"
   ]
  },
  {
   "cell_type": "code",
   "execution_count": 7,
   "id": "f462e345",
   "metadata": {},
   "outputs": [
    {
     "name": "stderr",
     "output_type": "stream",
     "text": [
      "C:\\Users\\EXPERT SOLUTION\\AppData\\Local\\Temp\\ipykernel_4864\\1460748407.py:12: DeprecationWarning: executable_path has been deprecated, please pass in a Service object\n",
      "  driver = webdriver.Chrome('chromedriver.exe')\n"
     ]
    }
   ],
   "source": [
    "# import required libraries\n",
    "import pandas as pd\n",
    "import selenium\n",
    "import time \n",
    "# import selenium webdriver\n",
    "from selenium import webdriver\n",
    "# importing required exceptions which need to handled\n",
    "from selenium.common.exceptions import StaleElementReferenceException,NoSuchElementException\n",
    "# importing regex\n",
    "import re\n",
    "from selenium.webdriver.common.by import By\n",
    "driver = webdriver.Chrome('chromedriver.exe')\n",
    "driver.maximize_window()"
   ]
  },
  {
   "cell_type": "code",
   "execution_count": 8,
   "id": "cee92494",
   "metadata": {},
   "outputs": [],
   "source": [
    "driver.get('https://www.forbes.com/')"
   ]
  },
  {
   "cell_type": "code",
   "execution_count": 9,
   "id": "90222126",
   "metadata": {},
   "outputs": [],
   "source": [
    "button_click = driver.find_element(By.XPATH,'//div[@class=\"header__left\"]')\n",
    "button_click.click()"
   ]
  },
  {
   "cell_type": "code",
   "execution_count": 10,
   "id": "41a82ec9",
   "metadata": {},
   "outputs": [],
   "source": [
    "billionaires_button_click = driver.find_element(By.XPATH,'/html/body/div[1]/header/nav/div[1]/div/div/div[2]/ul/li[1]/div[1]')\n",
    "billionaires_button_click.click()"
   ]
  },
  {
   "cell_type": "code",
   "execution_count": 11,
   "id": "8682da8a",
   "metadata": {},
   "outputs": [],
   "source": [
    "all_b = driver.find_element(By.XPATH,'/html/body/div[1]/header/nav/div[1]/div/div/div[2]/ul/li[1]/div[2]/div[2]/a')\n",
    "all_b.click()"
   ]
  },
  {
   "cell_type": "code",
   "execution_count": 12,
   "id": "171f7ee9",
   "metadata": {},
   "outputs": [],
   "source": [
    "list_b = driver.find_element(By.XPATH,'/html/body/div[1]/main/div/section/section[1]/div/div/div[1]/div/div[1]/div[1]/div[2]/a/h2')\n",
    "list_b.click()"
   ]
  },
  {
   "cell_type": "markdown",
   "id": "6392aaa4",
   "metadata": {},
   "source": [
    "## extract rank"
   ]
  },
  {
   "cell_type": "code",
   "execution_count": 14,
   "id": "ce03ba8c",
   "metadata": {},
   "outputs": [
    {
     "data": {
      "text/plain": [
       "200"
      ]
     },
     "execution_count": 14,
     "metadata": {},
     "output_type": "execute_result"
    }
   ],
   "source": [
    "rank = []\n",
    "rank_tag = driver.find_elements(By.XPATH,'//div[@class=\"rank\"]')\n",
    "for i in rank_tag:\n",
    "    rank.append(i.text)\n",
    "len(rank)   "
   ]
  },
  {
   "cell_type": "markdown",
   "id": "5984bc7f",
   "metadata": {},
   "source": [
    "## extracting person name"
   ]
  },
  {
   "cell_type": "code",
   "execution_count": 15,
   "id": "23b7ef7e",
   "metadata": {},
   "outputs": [
    {
     "data": {
      "text/plain": [
       "200"
      ]
     },
     "execution_count": 15,
     "metadata": {},
     "output_type": "execute_result"
    }
   ],
   "source": [
    "person_name = []\n",
    "person_name_tag = driver.find_elements(By.XPATH,'//div[@class=\"personName\"]')\n",
    "for i in person_name_tag:\n",
    "    person_name.append(i.text)\n",
    "len(person_name)   "
   ]
  },
  {
   "cell_type": "markdown",
   "id": "35e4a34b",
   "metadata": {},
   "source": [
    "## extracting networth"
   ]
  },
  {
   "cell_type": "code",
   "execution_count": 16,
   "id": "a0c89a4c",
   "metadata": {},
   "outputs": [
    {
     "data": {
      "text/plain": [
       "200"
      ]
     },
     "execution_count": 16,
     "metadata": {},
     "output_type": "execute_result"
    }
   ],
   "source": [
    "networth = []\n",
    "networth_tag = driver.find_elements(By.XPATH,'//div[@class=\"netWorth\"]')\n",
    "for i in networth_tag:\n",
    "    networth.append(i.text)\n",
    "len(networth)   "
   ]
  },
  {
   "cell_type": "markdown",
   "id": "d9326eb3",
   "metadata": {},
   "source": [
    "## extracting country"
   ]
  },
  {
   "cell_type": "code",
   "execution_count": 17,
   "id": "6b9321a7",
   "metadata": {},
   "outputs": [
    {
     "data": {
      "text/plain": [
       "200"
      ]
     },
     "execution_count": 17,
     "metadata": {},
     "output_type": "execute_result"
    }
   ],
   "source": [
    "country = []\n",
    "country_tag = driver.find_elements(By.XPATH,'//div[@class=\"countryOfCitizenship\"]')\n",
    "for i in country_tag:\n",
    "    country.append(i.text)\n",
    "len(country)   "
   ]
  },
  {
   "cell_type": "markdown",
   "id": "aff24b5a",
   "metadata": {},
   "source": [
    "## extracting source"
   ]
  },
  {
   "cell_type": "code",
   "execution_count": 18,
   "id": "41deb188",
   "metadata": {},
   "outputs": [
    {
     "data": {
      "text/plain": [
       "200"
      ]
     },
     "execution_count": 18,
     "metadata": {},
     "output_type": "execute_result"
    }
   ],
   "source": [
    "source = []\n",
    "source_tag = driver.find_elements(By.XPATH,'//span[@class=\"source-text\"]')\n",
    "for i in source_tag:\n",
    "    source.append(i.text)\n",
    "len(source)   "
   ]
  },
  {
   "cell_type": "markdown",
   "id": "50e17af9",
   "metadata": {},
   "source": [
    "## extracting industry"
   ]
  },
  {
   "cell_type": "code",
   "execution_count": 19,
   "id": "9761ad48",
   "metadata": {},
   "outputs": [
    {
     "data": {
      "text/plain": [
       "200"
      ]
     },
     "execution_count": 19,
     "metadata": {},
     "output_type": "execute_result"
    }
   ],
   "source": [
    "industry = []\n",
    "industry_tag = driver.find_elements(By.XPATH,'//div[@class=\"category\"]')\n",
    "for i in industry_tag:\n",
    "    industry.append(i.text)\n",
    "len(industry)   "
   ]
  },
  {
   "cell_type": "markdown",
   "id": "86aa5964",
   "metadata": {},
   "source": [
    "## create dataframe"
   ]
  },
  {
   "cell_type": "code",
   "execution_count": 20,
   "id": "4cc3be07",
   "metadata": {},
   "outputs": [
    {
     "data": {
      "text/html": [
       "<div>\n",
       "<style scoped>\n",
       "    .dataframe tbody tr th:only-of-type {\n",
       "        vertical-align: middle;\n",
       "    }\n",
       "\n",
       "    .dataframe tbody tr th {\n",
       "        vertical-align: top;\n",
       "    }\n",
       "\n",
       "    .dataframe thead th {\n",
       "        text-align: right;\n",
       "    }\n",
       "</style>\n",
       "<table border=\"1\" class=\"dataframe\">\n",
       "  <thead>\n",
       "    <tr style=\"text-align: right;\">\n",
       "      <th></th>\n",
       "      <th>Rank</th>\n",
       "      <th>Person Name</th>\n",
       "      <th>Networth</th>\n",
       "      <th>Country</th>\n",
       "      <th>Source</th>\n",
       "      <th>Industry</th>\n",
       "    </tr>\n",
       "  </thead>\n",
       "  <tbody>\n",
       "    <tr>\n",
       "      <th>0</th>\n",
       "      <td>1.</td>\n",
       "      <td>Elon Musk</td>\n",
       "      <td>$219 B</td>\n",
       "      <td>United States</td>\n",
       "      <td>Tesla, SpaceX</td>\n",
       "      <td>Automotive</td>\n",
       "    </tr>\n",
       "    <tr>\n",
       "      <th>1</th>\n",
       "      <td>2.</td>\n",
       "      <td>Jeff Bezos</td>\n",
       "      <td>$171 B</td>\n",
       "      <td>United States</td>\n",
       "      <td>Amazon</td>\n",
       "      <td>Technology</td>\n",
       "    </tr>\n",
       "    <tr>\n",
       "      <th>2</th>\n",
       "      <td>3.</td>\n",
       "      <td>Bernard Arnault &amp; family</td>\n",
       "      <td>$158 B</td>\n",
       "      <td>France</td>\n",
       "      <td>LVMH</td>\n",
       "      <td>Fashion &amp; Retail</td>\n",
       "    </tr>\n",
       "    <tr>\n",
       "      <th>3</th>\n",
       "      <td>4.</td>\n",
       "      <td>Bill Gates</td>\n",
       "      <td>$129 B</td>\n",
       "      <td>United States</td>\n",
       "      <td>Microsoft</td>\n",
       "      <td>Technology</td>\n",
       "    </tr>\n",
       "    <tr>\n",
       "      <th>4</th>\n",
       "      <td>5.</td>\n",
       "      <td>Warren Buffett</td>\n",
       "      <td>$118 B</td>\n",
       "      <td>United States</td>\n",
       "      <td>Berkshire Hathaway</td>\n",
       "      <td>Finance &amp; Investments</td>\n",
       "    </tr>\n",
       "    <tr>\n",
       "      <th>...</th>\n",
       "      <td>...</td>\n",
       "      <td>...</td>\n",
       "      <td>...</td>\n",
       "      <td>...</td>\n",
       "      <td>...</td>\n",
       "      <td>...</td>\n",
       "    </tr>\n",
       "    <tr>\n",
       "      <th>195</th>\n",
       "      <td>192.</td>\n",
       "      <td>Marcel Herrmann Telles</td>\n",
       "      <td>$10.3 B</td>\n",
       "      <td>Brazil</td>\n",
       "      <td>beer</td>\n",
       "      <td>Food &amp; Beverage</td>\n",
       "    </tr>\n",
       "    <tr>\n",
       "      <th>196</th>\n",
       "      <td>197.</td>\n",
       "      <td>Leon Black</td>\n",
       "      <td>$10 B</td>\n",
       "      <td>United States</td>\n",
       "      <td>private equity</td>\n",
       "      <td>Finance &amp; Investments</td>\n",
       "    </tr>\n",
       "    <tr>\n",
       "      <th>197</th>\n",
       "      <td>197.</td>\n",
       "      <td>Joe Gebbia</td>\n",
       "      <td>$10 B</td>\n",
       "      <td>United States</td>\n",
       "      <td>Airbnb</td>\n",
       "      <td>Technology</td>\n",
       "    </tr>\n",
       "    <tr>\n",
       "      <th>198</th>\n",
       "      <td>197.</td>\n",
       "      <td>David Geffen</td>\n",
       "      <td>$10 B</td>\n",
       "      <td>United States</td>\n",
       "      <td>movies, record labels</td>\n",
       "      <td>Media &amp; Entertainment</td>\n",
       "    </tr>\n",
       "    <tr>\n",
       "      <th>199</th>\n",
       "      <td>197.</td>\n",
       "      <td>Yu Renrong</td>\n",
       "      <td>$10 B</td>\n",
       "      <td>China</td>\n",
       "      <td>semiconductors</td>\n",
       "      <td>Manufacturing</td>\n",
       "    </tr>\n",
       "  </tbody>\n",
       "</table>\n",
       "<p>200 rows × 6 columns</p>\n",
       "</div>"
      ],
      "text/plain": [
       "     Rank               Person Name Networth        Country  \\\n",
       "0      1.                 Elon Musk   $219 B  United States   \n",
       "1      2.                Jeff Bezos   $171 B  United States   \n",
       "2      3.  Bernard Arnault & family   $158 B         France   \n",
       "3      4.                Bill Gates   $129 B  United States   \n",
       "4      5.            Warren Buffett   $118 B  United States   \n",
       "..    ...                       ...      ...            ...   \n",
       "195  192.    Marcel Herrmann Telles  $10.3 B         Brazil   \n",
       "196  197.                Leon Black    $10 B  United States   \n",
       "197  197.                Joe Gebbia    $10 B  United States   \n",
       "198  197.              David Geffen    $10 B  United States   \n",
       "199  197.                Yu Renrong    $10 B          China   \n",
       "\n",
       "                    Source               Industry  \n",
       "0            Tesla, SpaceX             Automotive  \n",
       "1                   Amazon             Technology  \n",
       "2                     LVMH       Fashion & Retail  \n",
       "3                Microsoft             Technology  \n",
       "4       Berkshire Hathaway  Finance & Investments  \n",
       "..                     ...                    ...  \n",
       "195                   beer        Food & Beverage  \n",
       "196         private equity  Finance & Investments  \n",
       "197                 Airbnb             Technology  \n",
       "198  movies, record labels  Media & Entertainment  \n",
       "199         semiconductors          Manufacturing  \n",
       "\n",
       "[200 rows x 6 columns]"
      ]
     },
     "execution_count": 20,
     "metadata": {},
     "output_type": "execute_result"
    }
   ],
   "source": [
    "df = pd.DataFrame({'Rank':rank,' Person Name':person_name,'Networth':networth,'Country':country,'Source':source,'Industry':industry})\n",
    "df"
   ]
  },
  {
   "cell_type": "code",
   "execution_count": 23,
   "id": "db4ba54b",
   "metadata": {},
   "outputs": [],
   "source": [
    "driver.close()"
   ]
  },
  {
   "cell_type": "markdown",
   "id": "949ca44e",
   "metadata": {},
   "source": [
    "## 9. Write a program to extract at least 500 Comments, Comment upvote and time when comment was posted from any YouTube Video.\n"
   ]
  },
  {
   "cell_type": "code",
   "execution_count": 84,
   "id": "22015750",
   "metadata": {},
   "outputs": [],
   "source": [
    "# import required libraries\n",
    "import pandas as pd\n",
    "import selenium\n",
    "import time \n",
    "# import selenium webdriver\n",
    "from selenium import webdriver\n",
    "# importing required exceptions which need to handled\n",
    "from selenium.common.exceptions import StaleElementReferenceException,NoSuchElementException\n",
    "# importing regex\n",
    "import re\n",
    "from selenium.webdriver.common.by import By\n",
    "import warnings\n",
    "warnings.filterwarnings('ignore')\n",
    "driver = webdriver.Chrome('chromedriver.exe')\n",
    "driver.maximize_window()\n"
   ]
  },
  {
   "cell_type": "code",
   "execution_count": 85,
   "id": "ac5fbf50",
   "metadata": {},
   "outputs": [],
   "source": [
    "driver.get('https://www.youtube.com/')"
   ]
  },
  {
   "cell_type": "code",
   "execution_count": 86,
   "id": "60184de5",
   "metadata": {},
   "outputs": [],
   "source": [
    "video_click = driver.find_element(By.XPATH,'/html/body/ytd-app/div[1]/ytd-page-manager/ytd-browse/ytd-two-column-browse-results-renderer/div[1]/ytd-rich-grid-renderer/div[6]/ytd-rich-grid-row[3]/div/ytd-rich-item-renderer[1]/div/ytd-rich-grid-media/div[1]/ytd-thumbnail/a/yt-image/img')\n",
    "video_click.click()"
   ]
  },
  {
   "cell_type": "markdown",
   "id": "0afc1a41",
   "metadata": {},
   "source": [
    "## extract comments"
   ]
  },
  {
   "cell_type": "code",
   "execution_count": 97,
   "id": "97cc364c",
   "metadata": {},
   "outputs": [
    {
     "data": {
      "text/plain": [
       "500"
      ]
     },
     "execution_count": 97,
     "metadata": {},
     "output_type": "execute_result"
    }
   ],
   "source": [
    "comments = []\n",
    "comments_tag=driver.find_elements(By.XPATH,'//div[@class=\"style-scope ytd-expander\"]')\n",
    "for i in comments_tag[60:560]:\n",
    "    comments.append(i.text)\n",
    "len(comments)    "
   ]
  },
  {
   "cell_type": "markdown",
   "id": "b24b6d3d",
   "metadata": {},
   "source": [
    "## extracting time"
   ]
  },
  {
   "cell_type": "code",
   "execution_count": 95,
   "id": "b8c810d9",
   "metadata": {},
   "outputs": [
    {
     "data": {
      "text/plain": [
       "500"
      ]
     },
     "execution_count": 95,
     "metadata": {},
     "output_type": "execute_result"
    }
   ],
   "source": [
    "time = []\n",
    "time_tag=driver.find_elements(By.XPATH,'//a[@class=\"yt-simple-endpoint style-scope yt-formatted-string\"]')\n",
    "for i in time_tag[60:560]:\n",
    "    time.append(i.text)\n",
    "len(time)    "
   ]
  },
  {
   "cell_type": "markdown",
   "id": "cbf3fb3b",
   "metadata": {},
   "source": [
    "## extracting votes"
   ]
  },
  {
   "cell_type": "code",
   "execution_count": 93,
   "id": "9e7495a4",
   "metadata": {},
   "outputs": [
    {
     "data": {
      "text/plain": [
       "500"
      ]
     },
     "execution_count": 93,
     "metadata": {},
     "output_type": "execute_result"
    }
   ],
   "source": [
    "upvote = []\n",
    "upvote_tag=driver.find_elements(By.XPATH,'//span[@class=\"style-scope ytd-comment-action-buttons-renderer\"]')\n",
    "for i in upvote_tag[3:1202:2]:\n",
    "    upvote.append(i.text)\n",
    "len(upvote[60:560])    "
   ]
  },
  {
   "cell_type": "markdown",
   "id": "5990a054",
   "metadata": {},
   "source": [
    "## create dataframe"
   ]
  },
  {
   "cell_type": "code",
   "execution_count": 100,
   "id": "8279396c",
   "metadata": {},
   "outputs": [
    {
     "data": {
      "text/html": [
       "<div>\n",
       "<style scoped>\n",
       "    .dataframe tbody tr th:only-of-type {\n",
       "        vertical-align: middle;\n",
       "    }\n",
       "\n",
       "    .dataframe tbody tr th {\n",
       "        vertical-align: top;\n",
       "    }\n",
       "\n",
       "    .dataframe thead th {\n",
       "        text-align: right;\n",
       "    }\n",
       "</style>\n",
       "<table border=\"1\" class=\"dataframe\">\n",
       "  <thead>\n",
       "    <tr style=\"text-align: right;\">\n",
       "      <th></th>\n",
       "      <th>Comments</th>\n",
       "      <th>Time</th>\n",
       "      <th>Votes</th>\n",
       "    </tr>\n",
       "  </thead>\n",
       "  <tbody>\n",
       "    <tr>\n",
       "      <th>0</th>\n",
       "      <td>Phillips is such a dangerous player of NZ spec...</td>\n",
       "      <td>1 day ago</td>\n",
       "      <td>586</td>\n",
       "    </tr>\n",
       "    <tr>\n",
       "      <th>1</th>\n",
       "      <td>Two main player for world cup lost Bhuvneshwar...</td>\n",
       "      <td>1 day ago (edited)</td>\n",
       "      <td>597</td>\n",
       "    </tr>\n",
       "    <tr>\n",
       "      <th>2</th>\n",
       "      <td>We want Sanju ️</td>\n",
       "      <td>23 hours ago</td>\n",
       "      <td>63</td>\n",
       "    </tr>\n",
       "    <tr>\n",
       "      <th>3</th>\n",
       "      <td>Hard luck India, well played.. Good work by Mo...</td>\n",
       "      <td>18 hours ago</td>\n",
       "      <td>90</td>\n",
       "    </tr>\n",
       "    <tr>\n",
       "      <th>4</th>\n",
       "      <td>In last few overs newzeland wickets are fallin...</td>\n",
       "      <td>1 day ago</td>\n",
       "      <td>103</td>\n",
       "    </tr>\n",
       "    <tr>\n",
       "      <th>5</th>\n",
       "      <td>The run out was the most organsmic thing in th...</td>\n",
       "      <td>5 hours ago</td>\n",
       "      <td>192</td>\n",
       "    </tr>\n",
       "    <tr>\n",
       "      <th>6</th>\n",
       "      <td>6:54 ️️️whaaaat a shottt</td>\n",
       "      <td>23 hours ago</td>\n",
       "      <td>1.5K</td>\n",
       "    </tr>\n",
       "    <tr>\n",
       "      <th>7</th>\n",
       "      <td>Let's give a chance to sanju please he give hi...</td>\n",
       "      <td>23 hours ago</td>\n",
       "      <td>702</td>\n",
       "    </tr>\n",
       "    <tr>\n",
       "      <th>8</th>\n",
       "      <td>we need an opener who can perform ,so we shoul...</td>\n",
       "      <td>22 hours ago</td>\n",
       "      <td>29</td>\n",
       "    </tr>\n",
       "    <tr>\n",
       "      <th>9</th>\n",
       "      <td>1)0:23 What a bowling \\nArshdeep on fire \\n2)3...</td>\n",
       "      <td>19 hours ago</td>\n",
       "      <td>650</td>\n",
       "    </tr>\n",
       "    <tr>\n",
       "      <th>10</th>\n",
       "      <td>NZ &amp; tied matches - an unbreakable bond</td>\n",
       "      <td>1 day ago</td>\n",
       "      <td>6</td>\n",
       "    </tr>\n",
       "    <tr>\n",
       "      <th>11</th>\n",
       "      <td>Sandar match ️</td>\n",
       "      <td>6 hours ago (edited)</td>\n",
       "      <td>380</td>\n",
       "    </tr>\n",
       "    <tr>\n",
       "      <th>12</th>\n",
       "      <td>3:59 treat to watch</td>\n",
       "      <td>1 day ago</td>\n",
       "      <td>105</td>\n",
       "    </tr>\n",
       "    <tr>\n",
       "      <th>13</th>\n",
       "      <td>Surya Bhai  This Guy Play with bat in very Dif...</td>\n",
       "      <td>1 day ago</td>\n",
       "      <td>247</td>\n",
       "    </tr>\n",
       "    <tr>\n",
       "      <th>14</th>\n",
       "      <td>Prime Video coverage is so good with high defi...</td>\n",
       "      <td>1 day ago</td>\n",
       "      <td>17</td>\n",
       "    </tr>\n",
       "    <tr>\n",
       "      <th>15</th>\n",
       "      <td>Sky's  6:57  six is very interesting ️🇮🇳</td>\n",
       "      <td>5 hours ago</td>\n",
       "      <td>144</td>\n",
       "    </tr>\n",
       "    <tr>\n",
       "      <th>16</th>\n",
       "      <td>We want new young blood in t20s</td>\n",
       "      <td>23 hours ago</td>\n",
       "      <td>3</td>\n",
       "    </tr>\n",
       "    <tr>\n",
       "      <th>17</th>\n",
       "      <td>Nice Hat Trick From TEAM INDIA. Congrats on wi...</td>\n",
       "      <td>18 hours ago</td>\n",
       "      <td>87</td>\n",
       "    </tr>\n",
       "    <tr>\n",
       "      <th>18</th>\n",
       "      <td>Who wants Sanju Samson as opener ..hit like</td>\n",
       "      <td>1 day ago</td>\n",
       "      <td>181</td>\n",
       "    </tr>\n",
       "    <tr>\n",
       "      <th>19</th>\n",
       "      <td>Whatever happens, Shreyas Iyer getting out on ...</td>\n",
       "      <td>1 day ago</td>\n",
       "      <td>199</td>\n",
       "    </tr>\n",
       "    <tr>\n",
       "      <th>20</th>\n",
       "      <td>Giving chance to Hooda ,Iyer and kishan whose ...</td>\n",
       "      <td>1 day ago</td>\n",
       "      <td>1</td>\n",
       "    </tr>\n",
       "    <tr>\n",
       "      <th>21</th>\n",
       "      <td>Well Played Team India 🇮🇳</td>\n",
       "      <td>#SKY</td>\n",
       "      <td>196</td>\n",
       "    </tr>\n",
       "    <tr>\n",
       "      <th>22</th>\n",
       "      <td>I don't understand why they don't put Sanju Sa...</td>\n",
       "      <td>1 day ago</td>\n",
       "      <td>7</td>\n",
       "    </tr>\n",
       "    <tr>\n",
       "      <th>23</th>\n",
       "      <td>Endless wait to see Sampson on batting crease</td>\n",
       "      <td>21 hours ago</td>\n",
       "      <td>275</td>\n",
       "    </tr>\n",
       "    <tr>\n",
       "      <th>24</th>\n",
       "      <td>Harshal Patel dipping full toss is awesome</td>\n",
       "      <td>23 hours ago</td>\n",
       "      <td>343</td>\n",
       "    </tr>\n",
       "    <tr>\n",
       "      <th>25</th>\n",
       "      <td>We miss this series King Kohli</td>\n",
       "      <td>1 day ago</td>\n",
       "      <td>97</td>\n",
       "    </tr>\n",
       "    <tr>\n",
       "      <th>26</th>\n",
       "      <td>Samson is best choice for wicketkeeper batsman</td>\n",
       "      <td>23 hours ago</td>\n",
       "      <td>61</td>\n",
       "    </tr>\n",
       "    <tr>\n",
       "      <th>27</th>\n",
       "      <td>We want Sanju back ️️️</td>\n",
       "      <td>20 hours ago</td>\n",
       "      <td>7</td>\n",
       "    </tr>\n",
       "    <tr>\n",
       "      <th>28</th>\n",
       "      <td>I personally believe pandya would have snatch ...</td>\n",
       "      <td>1 day ago</td>\n",
       "      <td>19</td>\n",
       "    </tr>\n",
       "    <tr>\n",
       "      <th>29</th>\n",
       "      <td>I was waiting for Tim Southi in super over to ...</td>\n",
       "      <td>1 day ago</td>\n",
       "      <td>79</td>\n",
       "    </tr>\n",
       "    <tr>\n",
       "      <th>30</th>\n",
       "      <td>If Sanju was Sharma , Varma , Pant  or Singh h...</td>\n",
       "      <td>23 hours ago</td>\n",
       "      <td>27</td>\n",
       "    </tr>\n",
       "    <tr>\n",
       "      <th>31</th>\n",
       "      <td>Absolute class</td>\n",
       "      <td>1 day ago</td>\n",
       "      <td>2</td>\n",
       "    </tr>\n",
       "    <tr>\n",
       "      <th>32</th>\n",
       "      <td>I strongly criticized to not picked samson ins...</td>\n",
       "      <td>20 hours ago</td>\n",
       "      <td>53</td>\n",
       "    </tr>\n",
       "    <tr>\n",
       "      <th>33</th>\n",
       "      <td>Without Sanju this team is nothing</td>\n",
       "      <td>23 hours ago</td>\n",
       "      <td>65</td>\n",
       "    </tr>\n",
       "    <tr>\n",
       "      <th>34</th>\n",
       "      <td>A meltdown of epic proportions. 146-3 to 149-9...</td>\n",
       "      <td>19 hours ago</td>\n",
       "      <td>91</td>\n",
       "    </tr>\n",
       "    <tr>\n",
       "      <th>35</th>\n",
       "      <td>In almost 5 years  I haven't  watched india's ...</td>\n",
       "      <td>1 day ago</td>\n",
       "      <td>20</td>\n",
       "    </tr>\n",
       "    <tr>\n",
       "      <th>36</th>\n",
       "      <td>I love my India ️️️</td>\n",
       "      <td>1 day ago (edited)</td>\n",
       "      <td>2</td>\n",
       "    </tr>\n",
       "    <tr>\n",
       "      <th>37</th>\n",
       "      <td>Siraj breaks up the partnership</td>\n",
       "      <td>6:55</td>\n",
       "      <td>112</td>\n",
       "    </tr>\n",
       "    <tr>\n",
       "      <th>38</th>\n",
       "      <td>Sanju samson will break all cricketing records...</td>\n",
       "      <td>23 hours ago</td>\n",
       "      <td>3</td>\n",
       "    </tr>\n",
       "    <tr>\n",
       "      <th>39</th>\n",
       "      <td>Justice for Sanju ️</td>\n",
       "      <td>21 hours ago (edited)</td>\n",
       "      <td>17</td>\n",
       "    </tr>\n",
       "    <tr>\n",
       "      <th>40</th>\n",
       "      <td>Siraj should have been man of the series as he...</td>\n",
       "      <td>6:55</td>\n",
       "      <td>71</td>\n",
       "    </tr>\n",
       "    <tr>\n",
       "      <th>41</th>\n",
       "      <td>Can we appreciate the shots of devon conway</td>\n",
       "      <td>1 day ago</td>\n",
       "      <td>20</td>\n",
       "    </tr>\n",
       "    <tr>\n",
       "      <th>42</th>\n",
       "      <td>Iyer, ishan,pant all are getting lots of chanc...</td>\n",
       "      <td>20 hours ago</td>\n",
       "      <td>5</td>\n",
       "    </tr>\n",
       "    <tr>\n",
       "      <th>43</th>\n",
       "      <td>I think Arshdeep should play in test as well e...</td>\n",
       "      <td>22 hours ago (edited)</td>\n",
       "      <td>13</td>\n",
       "    </tr>\n",
       "    <tr>\n",
       "      <th>44</th>\n",
       "      <td>Key moment is missing that last miss filed bef...</td>\n",
       "      <td>1 day ago</td>\n",
       "      <td>6</td>\n",
       "    </tr>\n",
       "    <tr>\n",
       "      <th>45</th>\n",
       "      <td>Siraj and surya</td>\n",
       "      <td>23 hours ago (edited)</td>\n",
       "      <td>80</td>\n",
       "    </tr>\n",
       "    <tr>\n",
       "      <th>46</th>\n",
       "      <td>Don't understand why Rahul Tripathi does not g...</td>\n",
       "      <td>0:37</td>\n",
       "      <td>47</td>\n",
       "    </tr>\n",
       "    <tr>\n",
       "      <th>47</th>\n",
       "      <td>Really team Mein new players ya kehlo jinki. C...</td>\n",
       "      <td>20 hours ago</td>\n",
       "      <td>26</td>\n",
       "    </tr>\n",
       "    <tr>\n",
       "      <th>48</th>\n",
       "      <td>Justice for sanju samson</td>\n",
       "      <td>23 hours ago</td>\n",
       "      <td>1</td>\n",
       "    </tr>\n",
       "    <tr>\n",
       "      <th>49</th>\n",
       "      <td>Sanju Samson is the Most underrated player in ...</td>\n",
       "      <td>6 hours ago</td>\n",
       "      <td>24</td>\n",
       "    </tr>\n",
       "  </tbody>\n",
       "</table>\n",
       "</div>"
      ],
      "text/plain": [
       "                                             Comments                   Time  \\\n",
       "0   Phillips is such a dangerous player of NZ spec...              1 day ago   \n",
       "1   Two main player for world cup lost Bhuvneshwar...     1 day ago (edited)   \n",
       "2                                     We want Sanju ️           23 hours ago   \n",
       "3   Hard luck India, well played.. Good work by Mo...           18 hours ago   \n",
       "4   In last few overs newzeland wickets are fallin...              1 day ago   \n",
       "5   The run out was the most organsmic thing in th...            5 hours ago   \n",
       "6                            6:54 ️️️whaaaat a shottt           23 hours ago   \n",
       "7   Let's give a chance to sanju please he give hi...           23 hours ago   \n",
       "8   we need an opener who can perform ,so we shoul...           22 hours ago   \n",
       "9   1)0:23 What a bowling \\nArshdeep on fire \\n2)3...           19 hours ago   \n",
       "10           NZ & tied matches - an unbreakable bond               1 day ago   \n",
       "11                                     Sandar match ️   6 hours ago (edited)   \n",
       "12                                3:59 treat to watch              1 day ago   \n",
       "13  Surya Bhai  This Guy Play with bat in very Dif...              1 day ago   \n",
       "14  Prime Video coverage is so good with high defi...              1 day ago   \n",
       "15           Sky's  6:57  six is very interesting ️🇮🇳            5 hours ago   \n",
       "16                   We want new young blood in t20s            23 hours ago   \n",
       "17  Nice Hat Trick From TEAM INDIA. Congrats on wi...           18 hours ago   \n",
       "18        Who wants Sanju Samson as opener ..hit like              1 day ago   \n",
       "19  Whatever happens, Shreyas Iyer getting out on ...              1 day ago   \n",
       "20  Giving chance to Hooda ,Iyer and kishan whose ...              1 day ago   \n",
       "21                          Well Played Team India 🇮🇳                   #SKY   \n",
       "22  I don't understand why they don't put Sanju Sa...              1 day ago   \n",
       "23      Endless wait to see Sampson on batting crease           21 hours ago   \n",
       "24         Harshal Patel dipping full toss is awesome           23 hours ago   \n",
       "25                     We miss this series King Kohli              1 day ago   \n",
       "26    Samson is best choice for wicketkeeper batsman            23 hours ago   \n",
       "27                             We want Sanju back ️️️           20 hours ago   \n",
       "28  I personally believe pandya would have snatch ...              1 day ago   \n",
       "29  I was waiting for Tim Southi in super over to ...              1 day ago   \n",
       "30  If Sanju was Sharma , Varma , Pant  or Singh h...           23 hours ago   \n",
       "31                                     Absolute class              1 day ago   \n",
       "32  I strongly criticized to not picked samson ins...           20 hours ago   \n",
       "33                 Without Sanju this team is nothing           23 hours ago   \n",
       "34  A meltdown of epic proportions. 146-3 to 149-9...           19 hours ago   \n",
       "35  In almost 5 years  I haven't  watched india's ...              1 day ago   \n",
       "36                                I love my India ️️️     1 day ago (edited)   \n",
       "37                   Siraj breaks up the partnership                    6:55   \n",
       "38  Sanju samson will break all cricketing records...           23 hours ago   \n",
       "39                                Justice for Sanju ️  21 hours ago (edited)   \n",
       "40  Siraj should have been man of the series as he...                   6:55   \n",
       "41        Can we appreciate the shots of devon conway              1 day ago   \n",
       "42  Iyer, ishan,pant all are getting lots of chanc...           20 hours ago   \n",
       "43  I think Arshdeep should play in test as well e...  22 hours ago (edited)   \n",
       "44  Key moment is missing that last miss filed bef...              1 day ago   \n",
       "45                                    Siraj and surya  23 hours ago (edited)   \n",
       "46  Don't understand why Rahul Tripathi does not g...                   0:37   \n",
       "47  Really team Mein new players ya kehlo jinki. C...           20 hours ago   \n",
       "48                          Justice for sanju samson            23 hours ago   \n",
       "49  Sanju Samson is the Most underrated player in ...            6 hours ago   \n",
       "\n",
       "   Votes  \n",
       "0    586  \n",
       "1    597  \n",
       "2     63  \n",
       "3     90  \n",
       "4    103  \n",
       "5    192  \n",
       "6   1.5K  \n",
       "7    702  \n",
       "8     29  \n",
       "9    650  \n",
       "10     6  \n",
       "11   380  \n",
       "12   105  \n",
       "13   247  \n",
       "14    17  \n",
       "15   144  \n",
       "16     3  \n",
       "17    87  \n",
       "18   181  \n",
       "19   199  \n",
       "20     1  \n",
       "21   196  \n",
       "22     7  \n",
       "23   275  \n",
       "24   343  \n",
       "25    97  \n",
       "26    61  \n",
       "27     7  \n",
       "28    19  \n",
       "29    79  \n",
       "30    27  \n",
       "31     2  \n",
       "32    53  \n",
       "33    65  \n",
       "34    91  \n",
       "35    20  \n",
       "36     2  \n",
       "37   112  \n",
       "38     3  \n",
       "39    17  \n",
       "40    71  \n",
       "41    20  \n",
       "42     5  \n",
       "43    13  \n",
       "44     6  \n",
       "45    80  \n",
       "46    47  \n",
       "47    26  \n",
       "48     1  \n",
       "49    24  "
      ]
     },
     "execution_count": 100,
     "metadata": {},
     "output_type": "execute_result"
    }
   ],
   "source": [
    "df= pd.DataFrame({'Comments':comments,'Time':time,'Votes':upvote})\n",
    "df.head(50)"
   ]
  },
  {
   "cell_type": "code",
   "execution_count": null,
   "id": "b326c8e5",
   "metadata": {},
   "outputs": [],
   "source": [
    "driver.close()"
   ]
  },
  {
   "cell_type": "markdown",
   "id": "49bc6a29",
   "metadata": {},
   "source": [
    "## 10. Write a python program to scrape a data for all available Hostels from https://www.hostelworld.com/ in “London” location. You have to scrape hostel name, distance from city centre, ratings, total reviews, overall reviews, privates from price, dorms from price, facilities and property description."
   ]
  },
  {
   "cell_type": "code",
   "execution_count": 1,
   "id": "fe994aa0",
   "metadata": {},
   "outputs": [],
   "source": [
    "# import required libraries\n",
    "import pandas as pd\n",
    "import selenium\n",
    "import time \n",
    "# import selenium webdriver\n",
    "from selenium import webdriver\n",
    "# importing required exceptions which need to handled\n",
    "from selenium.common.exceptions import StaleElementReferenceException,NoSuchElementException\n",
    "# importing regex\n",
    "import re\n",
    "from selenium.webdriver.common.by import By\n",
    "import warnings\n",
    "warnings.filterwarnings('ignore')\n",
    "driver = webdriver.Chrome('chromedriver.exe')\n",
    "driver.maximize_window()\n"
   ]
  },
  {
   "cell_type": "code",
   "execution_count": 2,
   "id": "981bca74",
   "metadata": {},
   "outputs": [],
   "source": [
    "driver.get('https://www.hostelworld.com/')"
   ]
  },
  {
   "cell_type": "code",
   "execution_count": 3,
   "id": "dfc0fe43",
   "metadata": {},
   "outputs": [],
   "source": [
    "search_field = driver.find_element(By.XPATH,'//input[@class=\"search-input\"]')\n",
    "search_field.send_keys('London')"
   ]
  },
  {
   "cell_type": "code",
   "execution_count": 5,
   "id": "cfc8b019",
   "metadata": {},
   "outputs": [],
   "source": [
    "London_click = driver.find_element(By.XPATH,'/html/body/div[3]/div/div/div[2]/div[1]/div/div/div[4]/div/div[2]/div/div[1]/div/div/ul/li[2]/div')\n",
    "London_click.click()"
   ]
  },
  {
   "cell_type": "code",
   "execution_count": 6,
   "id": "4a521fee",
   "metadata": {},
   "outputs": [],
   "source": [
    "button_click = driver.find_element(By.XPATH,'//button[@class=\"button primary large\"]')\n",
    "button_click.click()"
   ]
  },
  {
   "cell_type": "markdown",
   "id": "a93b7642",
   "metadata": {},
   "source": [
    "## extracting hostel names"
   ]
  },
  {
   "cell_type": "code",
   "execution_count": 71,
   "id": "1eba306d",
   "metadata": {},
   "outputs": [],
   "source": [
    "name = []\n",
    "name_tag = driver.find_elements(By.XPATH,'//h2[@class=\"title title-6\"]//a')\n",
    "for i in name_tag[0:16]:\n",
    "    name.append(i.text)\n",
    "   "
   ]
  },
  {
   "cell_type": "markdown",
   "id": "ffb5fa6e",
   "metadata": {},
   "source": [
    "## extracting Distance from city centre"
   ]
  },
  {
   "cell_type": "code",
   "execution_count": 70,
   "id": "3279843c",
   "metadata": {},
   "outputs": [],
   "source": [
    "dist = []\n",
    "dist_tag = driver.find_elements(By.XPATH,'//span[@class=\"description\"]')\n",
    "for i in dist_tag[0:16]:\n",
    "    dist.append(i.text)    "
   ]
  },
  {
   "cell_type": "markdown",
   "id": "5672c809",
   "metadata": {},
   "source": [
    "## extracting ratings"
   ]
  },
  {
   "cell_type": "code",
   "execution_count": 68,
   "id": "fbac0295",
   "metadata": {},
   "outputs": [],
   "source": [
    "rating = []\n",
    "rating_tag = driver.find_elements(By.XPATH,'//div[@class=\"score orange big\"]')\n",
    "for i in rating_tag[0:16]:\n",
    "    rating.append(i.text)"
   ]
  },
  {
   "cell_type": "markdown",
   "id": "6071d8dc",
   "metadata": {},
   "source": [
    "## extracting reviews"
   ]
  },
  {
   "cell_type": "code",
   "execution_count": 67,
   "id": "2b208c69",
   "metadata": {},
   "outputs": [],
   "source": [
    "review = []\n",
    "review_tag = driver.find_elements(By.XPATH,'//div[@class=\"keyword\"]//span')\n",
    "for i in review_tag[0:16]:\n",
    "    review.append(i.text)\n",
    "    "
   ]
  },
  {
   "cell_type": "markdown",
   "id": "e9e0f7a9",
   "metadata": {},
   "source": [
    "## Extracting total reviews"
   ]
  },
  {
   "cell_type": "code",
   "execution_count": 66,
   "id": "547f1ba6",
   "metadata": {},
   "outputs": [],
   "source": [
    "total_review = []\n",
    "total_review_tag = driver.find_elements(By.XPATH,'//div[@class=\"reviews\"]')\n",
    "for i in total_review_tag[0:16]:\n",
    "    total_review.append(i.text.split('Total Reviews')[0])    "
   ]
  },
  {
   "cell_type": "markdown",
   "id": "15af2ad8",
   "metadata": {},
   "source": [
    "## Extracting private from price"
   ]
  },
  {
   "cell_type": "code",
   "execution_count": 65,
   "id": "ebd37cd1",
   "metadata": {},
   "outputs": [],
   "source": [
    "private = []\n",
    "private_tag = driver.find_elements(By.XPATH,'//div[@class=\"price-col\"]')\n",
    "for i in private_tag[0:32:2]:\n",
    "    private.append(i.text.split('\\n'))   "
   ]
  },
  {
   "cell_type": "markdown",
   "id": "5e52022a",
   "metadata": {},
   "source": [
    "## extracting dorms from price "
   ]
  },
  {
   "cell_type": "code",
   "execution_count": 64,
   "id": "95330275",
   "metadata": {},
   "outputs": [],
   "source": [
    "dorms = []\n",
    "dorms_tag = driver.find_elements(By.XPATH,'//div[@class=\"price-col\"]')\n",
    "for i in dorms_tag[1:32:2]:\n",
    "    dorms.append(i.text.split('\\n'))   "
   ]
  },
  {
   "cell_type": "markdown",
   "id": "b9d02ea1",
   "metadata": {},
   "source": [
    "## Extracting location"
   ]
  },
  {
   "cell_type": "code",
   "execution_count": 63,
   "id": "4750ba49",
   "metadata": {},
   "outputs": [],
   "source": [
    "location = []\n",
    "location_tag = driver.find_elements(By.XPATH,'//div[@class=\"rating-factors prop-card-tablet rating-factors small\"]')\n",
    "for i in location_tag[0:16]:\n",
    "    location.append(i.text.split()[0])   "
   ]
  },
  {
   "cell_type": "markdown",
   "id": "61154096",
   "metadata": {},
   "source": [
    "## Extracting staff"
   ]
  },
  {
   "cell_type": "code",
   "execution_count": 62,
   "id": "2f5a6503",
   "metadata": {},
   "outputs": [],
   "source": [
    "staff = []\n",
    "staff_tag = driver.find_elements(By.XPATH,'//div[@class=\"staff\"]')\n",
    "for i in staff_tag[0:16]:\n",
    "    staff.append(i.text.split()[0])   "
   ]
  },
  {
   "cell_type": "markdown",
   "id": "57b788ef",
   "metadata": {},
   "source": [
    "## Extracting Cleanliness"
   ]
  },
  {
   "cell_type": "code",
   "execution_count": 61,
   "id": "66837215",
   "metadata": {},
   "outputs": [],
   "source": [
    "cleanliness = []\n",
    "cleanliness_tag = driver.find_elements(By.XPATH,'//div[@class=\"cleanliness\"]')\n",
    "for i in cleanliness_tag[0:16]:\n",
    "    cleanliness.append(i.text.split()[0])\n",
    "   "
   ]
  },
  {
   "cell_type": "markdown",
   "id": "f6f4a8e3",
   "metadata": {},
   "source": [
    "## create dataframe"
   ]
  },
  {
   "cell_type": "code",
   "execution_count": 72,
   "id": "2e8b48aa",
   "metadata": {},
   "outputs": [
    {
     "data": {
      "text/html": [
       "<div>\n",
       "<style scoped>\n",
       "    .dataframe tbody tr th:only-of-type {\n",
       "        vertical-align: middle;\n",
       "    }\n",
       "\n",
       "    .dataframe tbody tr th {\n",
       "        vertical-align: top;\n",
       "    }\n",
       "\n",
       "    .dataframe thead th {\n",
       "        text-align: right;\n",
       "    }\n",
       "</style>\n",
       "<table border=\"1\" class=\"dataframe\">\n",
       "  <thead>\n",
       "    <tr style=\"text-align: right;\">\n",
       "      <th></th>\n",
       "      <th>Hostel Name</th>\n",
       "      <th>Distance from city centre</th>\n",
       "      <th>Ratings</th>\n",
       "      <th>Reviews</th>\n",
       "      <th>Total Reviews</th>\n",
       "      <th>Private from Price</th>\n",
       "      <th>Dorms from Price</th>\n",
       "      <th>Location</th>\n",
       "      <th>Staff</th>\n",
       "      <th>Cleanliness</th>\n",
       "    </tr>\n",
       "  </thead>\n",
       "  <tbody>\n",
       "    <tr>\n",
       "      <th>0</th>\n",
       "      <td>St Christopher's Village</td>\n",
       "      <td>Hostel - 1.8km from city centre</td>\n",
       "      <td>8.1</td>\n",
       "      <td>Fabulous</td>\n",
       "      <td>11693</td>\n",
       "      <td>[No Privates Available]</td>\n",
       "      <td>[Dorms From, Rs5715.92 Rs5144]</td>\n",
       "      <td>Perfect</td>\n",
       "      <td>Superb</td>\n",
       "      <td>Excellent</td>\n",
       "    </tr>\n",
       "    <tr>\n",
       "      <th>1</th>\n",
       "      <td>Generator London</td>\n",
       "      <td>Hostel - 3km from city centre</td>\n",
       "      <td>7.7</td>\n",
       "      <td>Fabulous</td>\n",
       "      <td>7257</td>\n",
       "      <td>[No Privates Available]</td>\n",
       "      <td>[Dorms From, Rs6480]</td>\n",
       "      <td>Perfect</td>\n",
       "      <td>Marvellous</td>\n",
       "      <td>Excellent</td>\n",
       "    </tr>\n",
       "    <tr>\n",
       "      <th>2</th>\n",
       "      <td>Safestay London Elephant &amp; Castle</td>\n",
       "      <td>Hostel - 1.7km from city centre</td>\n",
       "      <td>7.1</td>\n",
       "      <td>Very Good</td>\n",
       "      <td>4680</td>\n",
       "      <td>[No Privates Available]</td>\n",
       "      <td>[Dorms From, Rs3898]</td>\n",
       "      <td>Wonderful</td>\n",
       "      <td>Brilliant</td>\n",
       "      <td>Excellent</td>\n",
       "    </tr>\n",
       "    <tr>\n",
       "      <th>3</th>\n",
       "      <td>No.8 Willesden Hostel London</td>\n",
       "      <td>Hostel - 10km from city centre</td>\n",
       "      <td>6.8</td>\n",
       "      <td>Very Good</td>\n",
       "      <td>4891</td>\n",
       "      <td>[Privates From, Rs3680]</td>\n",
       "      <td>[Dorms From, Rs2323]</td>\n",
       "      <td>Great</td>\n",
       "      <td>Marvellous</td>\n",
       "      <td>Awesome</td>\n",
       "    </tr>\n",
       "    <tr>\n",
       "      <th>4</th>\n",
       "      <td>Safestay London Kensington Holland Park</td>\n",
       "      <td>Hostel - 5.9km from city centre</td>\n",
       "      <td>6.8</td>\n",
       "      <td>Good</td>\n",
       "      <td>1376</td>\n",
       "      <td>[No Privates Available]</td>\n",
       "      <td>[Dorms From, Rs3782]</td>\n",
       "      <td>Wonderful</td>\n",
       "      <td>Brilliant</td>\n",
       "      <td>Awesome</td>\n",
       "    </tr>\n",
       "    <tr>\n",
       "      <th>5</th>\n",
       "      <td>St Christopher's Camden</td>\n",
       "      <td>Hostel - 4.3km from city centre</td>\n",
       "      <td>8.3</td>\n",
       "      <td>Good</td>\n",
       "      <td>3899</td>\n",
       "      <td>[No Privates Available]</td>\n",
       "      <td>[Dorms From, Rs5335.56 Rs4802]</td>\n",
       "      <td>Perfect</td>\n",
       "      <td>Superb</td>\n",
       "      <td>Excellent</td>\n",
       "    </tr>\n",
       "    <tr>\n",
       "      <th>6</th>\n",
       "      <td>Phoenix Hostel</td>\n",
       "      <td>Hostel - 4.2km from city centre</td>\n",
       "      <td>7.1</td>\n",
       "      <td>Fabulous</td>\n",
       "      <td>3862</td>\n",
       "      <td>[No Privates Available]</td>\n",
       "      <td>[Dorms From, Rs4944.48 Rs4697]</td>\n",
       "      <td>Perfect</td>\n",
       "      <td>Superb</td>\n",
       "      <td>Good</td>\n",
       "    </tr>\n",
       "    <tr>\n",
       "      <th>7</th>\n",
       "      <td>No.8 Seven Sisters</td>\n",
       "      <td>Hostel - 9km from city centre</td>\n",
       "      <td>7.8</td>\n",
       "      <td>Very Good</td>\n",
       "      <td>3909</td>\n",
       "      <td>[No Privates Available]</td>\n",
       "      <td>[Dorms From, Rs2468]</td>\n",
       "      <td>Brilliant</td>\n",
       "      <td>Brilliant</td>\n",
       "      <td>Excellent</td>\n",
       "    </tr>\n",
       "    <tr>\n",
       "      <th>8</th>\n",
       "      <td>St Christopher's Hammersmith</td>\n",
       "      <td>Hostel - 7.5km from city centre</td>\n",
       "      <td>7.3</td>\n",
       "      <td>Rating</td>\n",
       "      <td>4156</td>\n",
       "      <td>[No Privates Available]</td>\n",
       "      <td>[Dorms From, Rs4331.3 Rs3898]</td>\n",
       "      <td>Perfect</td>\n",
       "      <td>Superb</td>\n",
       "      <td>Awesome</td>\n",
       "    </tr>\n",
       "    <tr>\n",
       "      <th>9</th>\n",
       "      <td>Saint James Backpackers</td>\n",
       "      <td>Hostel - 5.5km from city centre</td>\n",
       "      <td>6.7</td>\n",
       "      <td>Very Good</td>\n",
       "      <td>1846</td>\n",
       "      <td>[Privates From, Rs14921]</td>\n",
       "      <td>[Dorms From, Rs5075]</td>\n",
       "      <td>Perfect</td>\n",
       "      <td>Superb</td>\n",
       "      <td>Awesome</td>\n",
       "    </tr>\n",
       "    <tr>\n",
       "      <th>10</th>\n",
       "      <td>St Christopher's Greenwich</td>\n",
       "      <td>Hostel - 7.6km from city centre</td>\n",
       "      <td>7.4</td>\n",
       "      <td>Very Good</td>\n",
       "      <td>3278</td>\n",
       "      <td>[No Privates Available]</td>\n",
       "      <td>[Dorms From, Rs4460.24 Rs4014]</td>\n",
       "      <td>Wonderful</td>\n",
       "      <td>Marvellous</td>\n",
       "      <td>Excellent</td>\n",
       "    </tr>\n",
       "    <tr>\n",
       "      <th>11</th>\n",
       "      <td>St Christopher's Shepherds Bush</td>\n",
       "      <td>Hostel - 7km from city centre</td>\n",
       "      <td>8.3</td>\n",
       "      <td>Good</td>\n",
       "      <td>730</td>\n",
       "      <td>[No Privates Available]</td>\n",
       "      <td>[Dorms From, Rs4316.57 Rs3885]</td>\n",
       "      <td>Perfect</td>\n",
       "      <td>Superb</td>\n",
       "      <td>Fantastic</td>\n",
       "    </tr>\n",
       "    <tr>\n",
       "      <th>12</th>\n",
       "      <td>Selina Camden</td>\n",
       "      <td>Hostel - 5.5km from city centre</td>\n",
       "      <td>7.5</td>\n",
       "      <td>Very Good</td>\n",
       "      <td>41</td>\n",
       "      <td>[Privates From, Rs50273]</td>\n",
       "      <td>[Dorms From, Rs10783.88 Rs9166]</td>\n",
       "      <td>Perfect</td>\n",
       "      <td>Superb</td>\n",
       "      <td>Awesome</td>\n",
       "    </tr>\n",
       "    <tr>\n",
       "      <th>13</th>\n",
       "      <td>Park Villa</td>\n",
       "      <td>Hostel - 6.3km from city centre</td>\n",
       "      <td>9.4</td>\n",
       "      <td>Fabulous</td>\n",
       "      <td>878</td>\n",
       "      <td>[No Privates Available]</td>\n",
       "      <td>[Dorms From, Rs6152]</td>\n",
       "      <td>Perfect</td>\n",
       "      <td>Superb</td>\n",
       "      <td>Fantastic</td>\n",
       "    </tr>\n",
       "    <tr>\n",
       "      <th>14</th>\n",
       "      <td>London House Hotel</td>\n",
       "      <td>Hotel - 5.3km from city centre</td>\n",
       "      <td>7.1</td>\n",
       "      <td>Very Good</td>\n",
       "      <td>1382</td>\n",
       "      <td>[Privates From, Rs45356.79 Rs31750]</td>\n",
       "      <td>[No Dorms Available]</td>\n",
       "      <td>Wonderful</td>\n",
       "      <td>Superb</td>\n",
       "      <td>Good</td>\n",
       "    </tr>\n",
       "    <tr>\n",
       "      <th>15</th>\n",
       "      <td>Kip Hotel</td>\n",
       "      <td>Hotel - 6.8km from city centre</td>\n",
       "      <td>6.3</td>\n",
       "      <td>Superb</td>\n",
       "      <td>55</td>\n",
       "      <td>[Privates From, Rs12284]</td>\n",
       "      <td>[No Dorms Available]</td>\n",
       "      <td>Wonderful</td>\n",
       "      <td>Superb</td>\n",
       "      <td>Good</td>\n",
       "    </tr>\n",
       "  </tbody>\n",
       "</table>\n",
       "</div>"
      ],
      "text/plain": [
       "                                Hostel Name        Distance from city centre  \\\n",
       "0                  St Christopher's Village  Hostel - 1.8km from city centre   \n",
       "1                          Generator London    Hostel - 3km from city centre   \n",
       "2         Safestay London Elephant & Castle  Hostel - 1.7km from city centre   \n",
       "3              No.8 Willesden Hostel London   Hostel - 10km from city centre   \n",
       "4   Safestay London Kensington Holland Park  Hostel - 5.9km from city centre   \n",
       "5                   St Christopher's Camden  Hostel - 4.3km from city centre   \n",
       "6                            Phoenix Hostel  Hostel - 4.2km from city centre   \n",
       "7                        No.8 Seven Sisters    Hostel - 9km from city centre   \n",
       "8              St Christopher's Hammersmith  Hostel - 7.5km from city centre   \n",
       "9                   Saint James Backpackers  Hostel - 5.5km from city centre   \n",
       "10               St Christopher's Greenwich  Hostel - 7.6km from city centre   \n",
       "11          St Christopher's Shepherds Bush    Hostel - 7km from city centre   \n",
       "12                            Selina Camden  Hostel - 5.5km from city centre   \n",
       "13                               Park Villa  Hostel - 6.3km from city centre   \n",
       "14                       London House Hotel   Hotel - 5.3km from city centre   \n",
       "15                                Kip Hotel   Hotel - 6.8km from city centre   \n",
       "\n",
       "   Ratings    Reviews Total Reviews                   Private from Price  \\\n",
       "0      8.1   Fabulous        11693               [No Privates Available]   \n",
       "1      7.7   Fabulous         7257               [No Privates Available]   \n",
       "2      7.1  Very Good         4680               [No Privates Available]   \n",
       "3      6.8  Very Good         4891               [Privates From, Rs3680]   \n",
       "4      6.8       Good         1376               [No Privates Available]   \n",
       "5      8.3       Good         3899               [No Privates Available]   \n",
       "6      7.1   Fabulous         3862               [No Privates Available]   \n",
       "7      7.8  Very Good         3909               [No Privates Available]   \n",
       "8      7.3     Rating         4156               [No Privates Available]   \n",
       "9      6.7  Very Good         1846              [Privates From, Rs14921]   \n",
       "10     7.4  Very Good         3278               [No Privates Available]   \n",
       "11     8.3       Good          730               [No Privates Available]   \n",
       "12     7.5  Very Good           41              [Privates From, Rs50273]   \n",
       "13     9.4   Fabulous          878               [No Privates Available]   \n",
       "14     7.1  Very Good         1382   [Privates From, Rs45356.79 Rs31750]   \n",
       "15     6.3     Superb           55              [Privates From, Rs12284]   \n",
       "\n",
       "                   Dorms from Price   Location       Staff Cleanliness  \n",
       "0    [Dorms From, Rs5715.92 Rs5144]    Perfect      Superb   Excellent  \n",
       "1              [Dorms From, Rs6480]    Perfect  Marvellous   Excellent  \n",
       "2              [Dorms From, Rs3898]  Wonderful   Brilliant   Excellent  \n",
       "3              [Dorms From, Rs2323]      Great  Marvellous     Awesome  \n",
       "4              [Dorms From, Rs3782]  Wonderful   Brilliant     Awesome  \n",
       "5    [Dorms From, Rs5335.56 Rs4802]    Perfect      Superb   Excellent  \n",
       "6    [Dorms From, Rs4944.48 Rs4697]    Perfect      Superb        Good  \n",
       "7              [Dorms From, Rs2468]  Brilliant   Brilliant   Excellent  \n",
       "8     [Dorms From, Rs4331.3 Rs3898]    Perfect      Superb     Awesome  \n",
       "9              [Dorms From, Rs5075]    Perfect      Superb     Awesome  \n",
       "10   [Dorms From, Rs4460.24 Rs4014]  Wonderful  Marvellous   Excellent  \n",
       "11   [Dorms From, Rs4316.57 Rs3885]    Perfect      Superb   Fantastic  \n",
       "12  [Dorms From, Rs10783.88 Rs9166]    Perfect      Superb     Awesome  \n",
       "13             [Dorms From, Rs6152]    Perfect      Superb   Fantastic  \n",
       "14             [No Dorms Available]  Wonderful      Superb        Good  \n",
       "15             [No Dorms Available]  Wonderful      Superb        Good  "
      ]
     },
     "execution_count": 72,
     "metadata": {},
     "output_type": "execute_result"
    }
   ],
   "source": [
    "df = pd.DataFrame({'Hostel Name':name,'Distance from city centre':dist,'Ratings':rating,'Reviews':review,'Total Reviews':total_review,'Private from Price':private,'Dorms from Price':dorms,'Location':location,'Staff':staff,'Cleanliness':cleanliness})\n",
    "df"
   ]
  },
  {
   "cell_type": "code",
   "execution_count": 73,
   "id": "00137d59",
   "metadata": {},
   "outputs": [],
   "source": [
    "driver.close()"
   ]
  },
  {
   "cell_type": "code",
   "execution_count": null,
   "id": "161b6497",
   "metadata": {},
   "outputs": [],
   "source": []
  }
 ],
 "metadata": {
  "kernelspec": {
   "display_name": "Python 3 (ipykernel)",
   "language": "python",
   "name": "python3"
  },
  "language_info": {
   "codemirror_mode": {
    "name": "ipython",
    "version": 3
   },
   "file_extension": ".py",
   "mimetype": "text/x-python",
   "name": "python",
   "nbconvert_exporter": "python",
   "pygments_lexer": "ipython3",
   "version": "3.9.12"
  }
 },
 "nbformat": 4,
 "nbformat_minor": 5
}
