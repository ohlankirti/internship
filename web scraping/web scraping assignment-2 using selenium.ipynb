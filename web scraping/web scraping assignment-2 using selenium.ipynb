{
 "cells": [
  {
   "cell_type": "markdown",
   "id": "c197b8d1",
   "metadata": {},
   "source": [
    "# WEB SCRAPING – ASSIGNMENT 2\n"
   ]
  },
  {
   "cell_type": "markdown",
   "id": "2836141e",
   "metadata": {},
   "source": [
    "### Q1: Write a python program to scrape data for “Data Analyst” Job position in “Bangalore” location. You\n",
    "###        have to scrape the job-title, job-location, company_name, experience_required. You have to scrape first 10\n",
    "###        jobs data.\n",
    "\n"
   ]
  },
  {
   "cell_type": "code",
   "execution_count": 1,
   "id": "5b937f52",
   "metadata": {},
   "outputs": [
    {
     "name": "stdout",
     "output_type": "stream",
     "text": [
      "Requirement already satisfied: selenium in c:\\users\\expert solution\\anaconda3\\lib\\site-packages (4.5.0)\n",
      "Requirement already satisfied: certifi>=2021.10.8 in c:\\users\\expert solution\\anaconda3\\lib\\site-packages (from selenium) (2021.10.8)\n",
      "Requirement already satisfied: trio~=0.17 in c:\\users\\expert solution\\anaconda3\\lib\\site-packages (from selenium) (0.22.0)\n",
      "Requirement already satisfied: urllib3[socks]~=1.26 in c:\\users\\expert solution\\anaconda3\\lib\\site-packages (from selenium) (1.26.9)\n",
      "Requirement already satisfied: trio-websocket~=0.9 in c:\\users\\expert solution\\anaconda3\\lib\\site-packages (from selenium) (0.9.2)\n",
      "Requirement already satisfied: cffi>=1.14 in c:\\users\\expert solution\\anaconda3\\lib\\site-packages (from trio~=0.17->selenium) (1.15.0)\n",
      "Requirement already satisfied: attrs>=19.2.0 in c:\\users\\expert solution\\anaconda3\\lib\\site-packages (from trio~=0.17->selenium) (21.4.0)\n",
      "Requirement already satisfied: idna in c:\\users\\expert solution\\anaconda3\\lib\\site-packages (from trio~=0.17->selenium) (3.3)\n",
      "Requirement already satisfied: sortedcontainers in c:\\users\\expert solution\\anaconda3\\lib\\site-packages (from trio~=0.17->selenium) (2.4.0)\n",
      "Requirement already satisfied: exceptiongroup>=1.0.0rc9 in c:\\users\\expert solution\\anaconda3\\lib\\site-packages (from trio~=0.17->selenium) (1.0.0)\n",
      "Requirement already satisfied: sniffio in c:\\users\\expert solution\\anaconda3\\lib\\site-packages (from trio~=0.17->selenium) (1.2.0)\n",
      "Requirement already satisfied: async-generator>=1.9 in c:\\users\\expert solution\\anaconda3\\lib\\site-packages (from trio~=0.17->selenium) (1.10)\n",
      "Requirement already satisfied: outcome in c:\\users\\expert solution\\anaconda3\\lib\\site-packages (from trio~=0.17->selenium) (1.2.0)\n",
      "Requirement already satisfied: pycparser in c:\\users\\expert solution\\anaconda3\\lib\\site-packages (from cffi>=1.14->trio~=0.17->selenium) (2.21)\n",
      "Requirement already satisfied: wsproto>=0.14 in c:\\users\\expert solution\\anaconda3\\lib\\site-packages (from trio-websocket~=0.9->selenium) (1.2.0)\n",
      "Requirement already satisfied: PySocks!=1.5.7,<2.0,>=1.5.6 in c:\\users\\expert solution\\anaconda3\\lib\\site-packages (from urllib3[socks]~=1.26->selenium) (1.7.1)\n",
      "Requirement already satisfied: h11<1,>=0.9.0 in c:\\users\\expert solution\\anaconda3\\lib\\site-packages (from wsproto>=0.14->trio-websocket~=0.9->selenium) (0.14.0)\n"
     ]
    }
   ],
   "source": [
    "! pip install selenium"
   ]
  },
  {
   "cell_type": "code",
   "execution_count": null,
   "id": "e2f93dcb",
   "metadata": {},
   "outputs": [],
   "source": [
    "# Let's import all necessary libraries\n",
    "import selenium\n",
    "from selenium import webdriver\n",
    "import pandas as pd\n",
    "from selenium.webdriver.common.by import By\n",
    "import warnings\n",
    "warnings.filterwarnings('ignore')\n",
    "import time"
   ]
  },
  {
   "cell_type": "code",
   "execution_count": 3,
   "id": "3e1e215e",
   "metadata": {},
   "outputs": [],
   "source": [
    "# Let's first to connect web driver\n",
    "driver = webdriver.Chrome('chromedriver.exe')"
   ]
  },
  {
   "cell_type": "code",
   "execution_count": 4,
   "id": "aebb43f0",
   "metadata": {},
   "outputs": [],
   "source": [
    "# open ing up the naukri.com website on automated chrome window\n",
    "url = driver.get('http://www.naukri.com/')"
   ]
  },
  {
   "cell_type": "code",
   "execution_count": 5,
   "id": "d2a8c28b",
   "metadata": {},
   "outputs": [],
   "source": [
    "# lets maximize the automated chrome window\n",
    "driver.maximize_window()"
   ]
  },
  {
   "cell_type": "code",
   "execution_count": 6,
   "id": "aa94c6c3",
   "metadata": {},
   "outputs": [],
   "source": [
    "# finding element for search job bar\n",
    "search_job = driver.find_element(By.CLASS_NAME,\"suggestor-input \")\n",
    "search_job.send_keys('Data Analyst')\n"
   ]
  },
  {
   "cell_type": "code",
   "execution_count": 7,
   "id": "3dddaab9",
   "metadata": {},
   "outputs": [],
   "source": [
    "#  finding web element for search locn bar using absolute xpath\n",
    "search_loc = driver.find_element(By.XPATH,'//*[@id=\"root\"]/div[6]/div/div/div[5]/div/div/div/input')\n",
    "search_loc.send_keys('Bangalore')"
   ]
  },
  {
   "cell_type": "code",
   "execution_count": 8,
   "id": "b8ed7e94",
   "metadata": {},
   "outputs": [],
   "source": [
    "# clicking using absolute xpath function\n",
    "search_btn = driver.find_element(By.CLASS_NAME,'qsbSubmit')\n",
    "search_btn.click()"
   ]
  },
  {
   "cell_type": "markdown",
   "id": "2b5bfe7a",
   "metadata": {},
   "source": [
    "### extracting job titles\n",
    "\n"
   ]
  },
  {
   "cell_type": "code",
   "execution_count": 9,
   "id": "a21b2e5a",
   "metadata": {},
   "outputs": [
    {
     "data": {
      "text/plain": [
       "['Lead Data Analyst',\n",
       " 'Data Analyst/ Sr Data Analyst (For an Agro-tech company)',\n",
       " 'Sr. Data Analyst (SAS Data Management)',\n",
       " 'Data Analyst - Consumer Analytics',\n",
       " 'Assistant Manager - Data Analyst',\n",
       " 'Manager - Data Analyst - KPO',\n",
       " 'Manager - Data Analyst - KPO',\n",
       " 'Data Analyst - Python',\n",
       " 'Manager - Data Analyst - KPO',\n",
       " 'Data Analyst']"
      ]
     },
     "execution_count": 9,
     "metadata": {},
     "output_type": "execute_result"
    }
   ],
   "source": [
    "# Let's extract all web elements having job titles\n",
    "job_titles = []\n",
    "title_tag = driver.find_elements(By.XPATH,'//a[@class=\"title fw500 ellipsis\"]')\n",
    "for i in title_tag[0:10]:\n",
    "    job_titles.append(i.text)\n",
    "job_titles    "
   ]
  },
  {
   "cell_type": "markdown",
   "id": "82c8ec6c",
   "metadata": {},
   "source": [
    "###  Extracting company names"
   ]
  },
  {
   "cell_type": "code",
   "execution_count": 10,
   "id": "e7275176",
   "metadata": {},
   "outputs": [
    {
     "data": {
      "text/plain": [
       "['Mobile Premier League (MPL)',\n",
       " 'Uberlife Consulting Private Limited',\n",
       " 'NMS Consultant',\n",
       " 'Eli Lilly And Company',\n",
       " 'Huquo Consulting Pvt. Ltd',\n",
       " 'Huquo Consulting Pvt. Ltd',\n",
       " 'Huquo Consulting Pvt. Ltd',\n",
       " 'Huquo Consulting Pvt. Ltd',\n",
       " 'Huquo Consulting Pvt. Ltd',\n",
       " 'Phonepe']"
      ]
     },
     "execution_count": 10,
     "metadata": {},
     "output_type": "execute_result"
    }
   ],
   "source": [
    "# Let's extract all web elements having company names\n",
    "company_names = []\n",
    "company_tags = driver.find_elements(By.XPATH,'//a[@class=\"subTitle ellipsis fleft\"]')\n",
    "for i in company_tags[0:10]:\n",
    "    company_names.append(i.text)\n",
    "company_names    "
   ]
  },
  {
   "cell_type": "markdown",
   "id": "97cbd79b",
   "metadata": {},
   "source": [
    "###  Extracting the required experience"
   ]
  },
  {
   "cell_type": "code",
   "execution_count": 11,
   "id": "3165b487",
   "metadata": {},
   "outputs": [
    {
     "data": {
      "text/plain": [
       "['4-7 Yrs',\n",
       " '5-10 Yrs',\n",
       " '5-10 Yrs',\n",
       " '2-4 Yrs',\n",
       " '3-6 Yrs',\n",
       " '5-9 Yrs',\n",
       " '3-8 Yrs',\n",
       " '4-9 Yrs',\n",
       " '2-7 Yrs',\n",
       " '1-3 Yrs']"
      ]
     },
     "execution_count": 11,
     "metadata": {},
     "output_type": "execute_result"
    }
   ],
   "source": [
    "# Let's extract all web elements having experience\n",
    "experience = []\n",
    "exp_tags = driver.find_elements(By.XPATH,'//span[@class=\"ellipsis fleft fs12 lh16 expwdth\"]')\n",
    "for i in exp_tags[0:10]:\n",
    "    experience.append(i.text)\n",
    "experience    "
   ]
  },
  {
   "cell_type": "markdown",
   "id": "cd6d7c8c",
   "metadata": {},
   "source": [
    "###  Extracting job location"
   ]
  },
  {
   "cell_type": "code",
   "execution_count": 12,
   "id": "f2bbc6a9",
   "metadata": {},
   "outputs": [
    {
     "data": {
      "text/plain": [
       "['Bangalore/Bengaluru',\n",
       " 'Bangalore/Bengaluru',\n",
       " 'Bangalore/Bengaluru, New Delhi',\n",
       " 'Bangalore/Bengaluru',\n",
       " 'Bangalore/Bengaluru',\n",
       " 'Bangalore/Bengaluru',\n",
       " 'Bangalore/Bengaluru, Gurgaon/Gurugram',\n",
       " 'Bangalore/Bengaluru, Gurgaon/Gurugram',\n",
       " 'Bangalore/Bengaluru, Gurgaon/Gurugram',\n",
       " 'Bangalore/Bengaluru']"
      ]
     },
     "execution_count": 12,
     "metadata": {},
     "output_type": "execute_result"
    }
   ],
   "source": [
    "# Let's extract all web elements having location\n",
    "location = []\n",
    "loc_tags = driver.find_elements(By.XPATH,'//span[@class=\"ellipsis fleft fs12 lh16 locWdth\"]')\n",
    "for i in loc_tags[0:10]:\n",
    "    location.append(i.text)\n",
    "location    "
   ]
  },
  {
   "cell_type": "code",
   "execution_count": 13,
   "id": "0339121f",
   "metadata": {},
   "outputs": [
    {
     "data": {
      "text/html": [
       "<div>\n",
       "<style scoped>\n",
       "    .dataframe tbody tr th:only-of-type {\n",
       "        vertical-align: middle;\n",
       "    }\n",
       "\n",
       "    .dataframe tbody tr th {\n",
       "        vertical-align: top;\n",
       "    }\n",
       "\n",
       "    .dataframe thead th {\n",
       "        text-align: right;\n",
       "    }\n",
       "</style>\n",
       "<table border=\"1\" class=\"dataframe\">\n",
       "  <thead>\n",
       "    <tr style=\"text-align: right;\">\n",
       "      <th></th>\n",
       "      <th>Job Titles</th>\n",
       "      <th>Company Name</th>\n",
       "      <th>Experience</th>\n",
       "      <th>Location</th>\n",
       "    </tr>\n",
       "  </thead>\n",
       "  <tbody>\n",
       "    <tr>\n",
       "      <th>0</th>\n",
       "      <td>Lead Data Analyst</td>\n",
       "      <td>Mobile Premier League (MPL)</td>\n",
       "      <td>4-7 Yrs</td>\n",
       "      <td>Bangalore/Bengaluru</td>\n",
       "    </tr>\n",
       "    <tr>\n",
       "      <th>1</th>\n",
       "      <td>Data Analyst/ Sr Data Analyst (For an Agro-tec...</td>\n",
       "      <td>Uberlife Consulting Private Limited</td>\n",
       "      <td>5-10 Yrs</td>\n",
       "      <td>Bangalore/Bengaluru</td>\n",
       "    </tr>\n",
       "    <tr>\n",
       "      <th>2</th>\n",
       "      <td>Sr. Data Analyst (SAS Data Management)</td>\n",
       "      <td>NMS Consultant</td>\n",
       "      <td>5-10 Yrs</td>\n",
       "      <td>Bangalore/Bengaluru, New Delhi</td>\n",
       "    </tr>\n",
       "    <tr>\n",
       "      <th>3</th>\n",
       "      <td>Data Analyst - Consumer Analytics</td>\n",
       "      <td>Eli Lilly And Company</td>\n",
       "      <td>2-4 Yrs</td>\n",
       "      <td>Bangalore/Bengaluru</td>\n",
       "    </tr>\n",
       "    <tr>\n",
       "      <th>4</th>\n",
       "      <td>Assistant Manager - Data Analyst</td>\n",
       "      <td>Huquo Consulting Pvt. Ltd</td>\n",
       "      <td>3-6 Yrs</td>\n",
       "      <td>Bangalore/Bengaluru</td>\n",
       "    </tr>\n",
       "    <tr>\n",
       "      <th>5</th>\n",
       "      <td>Manager - Data Analyst - KPO</td>\n",
       "      <td>Huquo Consulting Pvt. Ltd</td>\n",
       "      <td>5-9 Yrs</td>\n",
       "      <td>Bangalore/Bengaluru</td>\n",
       "    </tr>\n",
       "    <tr>\n",
       "      <th>6</th>\n",
       "      <td>Manager - Data Analyst - KPO</td>\n",
       "      <td>Huquo Consulting Pvt. Ltd</td>\n",
       "      <td>3-8 Yrs</td>\n",
       "      <td>Bangalore/Bengaluru, Gurgaon/Gurugram</td>\n",
       "    </tr>\n",
       "    <tr>\n",
       "      <th>7</th>\n",
       "      <td>Data Analyst - Python</td>\n",
       "      <td>Huquo Consulting Pvt. Ltd</td>\n",
       "      <td>4-9 Yrs</td>\n",
       "      <td>Bangalore/Bengaluru, Gurgaon/Gurugram</td>\n",
       "    </tr>\n",
       "    <tr>\n",
       "      <th>8</th>\n",
       "      <td>Manager - Data Analyst - KPO</td>\n",
       "      <td>Huquo Consulting Pvt. Ltd</td>\n",
       "      <td>2-7 Yrs</td>\n",
       "      <td>Bangalore/Bengaluru, Gurgaon/Gurugram</td>\n",
       "    </tr>\n",
       "    <tr>\n",
       "      <th>9</th>\n",
       "      <td>Data Analyst</td>\n",
       "      <td>Phonepe</td>\n",
       "      <td>1-3 Yrs</td>\n",
       "      <td>Bangalore/Bengaluru</td>\n",
       "    </tr>\n",
       "  </tbody>\n",
       "</table>\n",
       "</div>"
      ],
      "text/plain": [
       "                                          Job Titles  \\\n",
       "0                                  Lead Data Analyst   \n",
       "1  Data Analyst/ Sr Data Analyst (For an Agro-tec...   \n",
       "2             Sr. Data Analyst (SAS Data Management)   \n",
       "3                  Data Analyst - Consumer Analytics   \n",
       "4                   Assistant Manager - Data Analyst   \n",
       "5                       Manager - Data Analyst - KPO   \n",
       "6                       Manager - Data Analyst - KPO   \n",
       "7                              Data Analyst - Python   \n",
       "8                       Manager - Data Analyst - KPO   \n",
       "9                                       Data Analyst   \n",
       "\n",
       "                          Company Name Experience  \\\n",
       "0          Mobile Premier League (MPL)    4-7 Yrs   \n",
       "1  Uberlife Consulting Private Limited   5-10 Yrs   \n",
       "2                       NMS Consultant   5-10 Yrs   \n",
       "3                Eli Lilly And Company    2-4 Yrs   \n",
       "4            Huquo Consulting Pvt. Ltd    3-6 Yrs   \n",
       "5            Huquo Consulting Pvt. Ltd    5-9 Yrs   \n",
       "6            Huquo Consulting Pvt. Ltd    3-8 Yrs   \n",
       "7            Huquo Consulting Pvt. Ltd    4-9 Yrs   \n",
       "8            Huquo Consulting Pvt. Ltd    2-7 Yrs   \n",
       "9                              Phonepe    1-3 Yrs   \n",
       "\n",
       "                                Location  \n",
       "0                    Bangalore/Bengaluru  \n",
       "1                    Bangalore/Bengaluru  \n",
       "2         Bangalore/Bengaluru, New Delhi  \n",
       "3                    Bangalore/Bengaluru  \n",
       "4                    Bangalore/Bengaluru  \n",
       "5                    Bangalore/Bengaluru  \n",
       "6  Bangalore/Bengaluru, Gurgaon/Gurugram  \n",
       "7  Bangalore/Bengaluru, Gurgaon/Gurugram  \n",
       "8  Bangalore/Bengaluru, Gurgaon/Gurugram  \n",
       "9                    Bangalore/Bengaluru  "
      ]
     },
     "execution_count": 13,
     "metadata": {},
     "output_type": "execute_result"
    }
   ],
   "source": [
    "# create data frame\n",
    "df  = pd.DataFrame({'Job Titles':job_titles,'Company Name':company_names,'Experience':experience,'Location':location})\n",
    "df"
   ]
  },
  {
   "cell_type": "code",
   "execution_count": 14,
   "id": "32f90b81",
   "metadata": {},
   "outputs": [],
   "source": [
    "driver.close()"
   ]
  },
  {
   "cell_type": "markdown",
   "id": "7d215997",
   "metadata": {},
   "source": [
    "### Q2: Write a python program to scrape data for “Data Scientist” Job position in “Bangalore” location. You\n",
    "###        have to scrape the job-title, job-location, company_name. You have to scrape first 10 jobs data.        "
   ]
  },
  {
   "cell_type": "code",
   "execution_count": 15,
   "id": "b1eee42d",
   "metadata": {},
   "outputs": [],
   "source": [
    "# Let's first to connect web driver\n",
    "driver = webdriver.Chrome('chromedriver.exe')"
   ]
  },
  {
   "cell_type": "code",
   "execution_count": 16,
   "id": "332e6b0e",
   "metadata": {},
   "outputs": [],
   "source": [
    "# opening up the naukri.com website on automated chrome window\n",
    "url = driver.get('http://www.naukri.com/')"
   ]
  },
  {
   "cell_type": "code",
   "execution_count": 17,
   "id": "c1b7ab14",
   "metadata": {},
   "outputs": [],
   "source": [
    "# Let's maximize the automated chrome window\n",
    "driver.maximize_window()"
   ]
  },
  {
   "cell_type": "code",
   "execution_count": 18,
   "id": "f1b5f965",
   "metadata": {},
   "outputs": [],
   "source": [
    "# finding web element for search job bar\n",
    "search_job = driver.find_element(By.CLASS_NAME,'suggestor-input ')\n",
    "search_job.send_keys('Data Scientist ')"
   ]
  },
  {
   "cell_type": "code",
   "execution_count": 19,
   "id": "e424f0be",
   "metadata": {},
   "outputs": [],
   "source": [
    "\n",
    "#  finding web element for search locn bar using absolute xpath\n",
    "search_loc = driver.find_element(By.XPATH,'//*[@id=\"root\"]/div[6]/div/div/div[5]/div/div/div/input')\n",
    "search_loc.send_keys('Bangalore')"
   ]
  },
  {
   "cell_type": "code",
   "execution_count": 20,
   "id": "c70a01a6",
   "metadata": {},
   "outputs": [],
   "source": [
    "# clicking\n",
    "search_btn = driver.find_element(By.CLASS_NAME,'qsbSubmit')\n",
    "search_btn.click()"
   ]
  },
  {
   "cell_type": "markdown",
   "id": "0f1523fa",
   "metadata": {},
   "source": [
    "###  Extracting job title"
   ]
  },
  {
   "cell_type": "code",
   "execution_count": 21,
   "id": "d323925f",
   "metadata": {},
   "outputs": [
    {
     "data": {
      "text/plain": [
       "['Analystics & Modeling Specialist',\n",
       " 'Data Scientist - Looking For Immediate Joiners',\n",
       " 'Assistant Manager - Data Science',\n",
       " 'Data Scientist',\n",
       " 'Python Programming Language Data Science Practitioner',\n",
       " 'Industry X - Software Engineering',\n",
       " 'Data Scientist: Artificial Intelligence',\n",
       " 'ACN - Applied Intelligence - C4DI - Sustainability - 09',\n",
       " 'Data Scientist',\n",
       " 'Data Scientist']"
      ]
     },
     "execution_count": 21,
     "metadata": {},
     "output_type": "execute_result"
    }
   ],
   "source": [
    "# Let's extract all web elements having job title using relative xpath\n",
    "job_title = []\n",
    "title_tags = driver.find_elements(By.XPATH,'//a[@class=\"title fw500 ellipsis\"]')\n",
    "for i in title_tags[0:10]:\n",
    "    job_title.append(i.text)\n",
    "job_title    "
   ]
  },
  {
   "cell_type": "markdown",
   "id": "b6e21e08",
   "metadata": {},
   "source": [
    "###  Extracting job location"
   ]
  },
  {
   "cell_type": "code",
   "execution_count": 22,
   "id": "f7c90aaf",
   "metadata": {},
   "outputs": [
    {
     "data": {
      "text/plain": [
       "['Bangalore/Bengaluru, Kolkata, Mumbai, Hyderabad/Secunderabad, Pune, Chennai',\n",
       " 'Hybrid - Bangalore/Bengaluru, Hyderabad/Secunderabad',\n",
       " 'Hybrid - Bangalore/Bengaluru, Mumbai, Pune',\n",
       " 'Bangalore/Bengaluru, Hyderabad/Secunderabad, Pune, Chennai',\n",
       " 'Bangalore/Bengaluru',\n",
       " 'Bangalore/Bengaluru',\n",
       " 'Bangalore/Bengaluru',\n",
       " 'Bangalore/Bengaluru',\n",
       " 'Bangalore/Bengaluru',\n",
       " 'Bangalore/Bengaluru']"
      ]
     },
     "execution_count": 22,
     "metadata": {},
     "output_type": "execute_result"
    }
   ],
   "source": [
    "# Let's extract all web elements having job location using relative xpath\n",
    "job_location = []\n",
    "loc_tags = driver.find_elements(By.XPATH,'//span[@class=\"ellipsis fleft fs12 lh16 locWdth\"]')\n",
    "for i in loc_tags[0:10]:\n",
    "    job_location.append(i.text)\n",
    "job_location    "
   ]
  },
  {
   "cell_type": "markdown",
   "id": "dc0e9cd7",
   "metadata": {},
   "source": [
    "###  Extracting company name"
   ]
  },
  {
   "cell_type": "code",
   "execution_count": 23,
   "id": "13487946",
   "metadata": {},
   "outputs": [
    {
     "data": {
      "text/plain": [
       "['Accenture',\n",
       " 'Wipro',\n",
       " 'Citiustech',\n",
       " 'Altair',\n",
       " 'Accenture',\n",
       " 'Accenture',\n",
       " 'IBM',\n",
       " 'Accenture',\n",
       " 'Applied Materials',\n",
       " 'Applied Materials']"
      ]
     },
     "execution_count": 23,
     "metadata": {},
     "output_type": "execute_result"
    }
   ],
   "source": [
    "# Let's extract all web elements having company name using relative xpath\n",
    "company_name = []\n",
    "company_tags = driver.find_elements(By.XPATH,'//a[@class=\"subTitle ellipsis fleft\"]')\n",
    "for i in company_tags[0:10]:\n",
    "    company_name.append(i.text)\n",
    "company_name    "
   ]
  },
  {
   "cell_type": "code",
   "execution_count": 24,
   "id": "794fd205",
   "metadata": {},
   "outputs": [
    {
     "data": {
      "text/html": [
       "<div>\n",
       "<style scoped>\n",
       "    .dataframe tbody tr th:only-of-type {\n",
       "        vertical-align: middle;\n",
       "    }\n",
       "\n",
       "    .dataframe tbody tr th {\n",
       "        vertical-align: top;\n",
       "    }\n",
       "\n",
       "    .dataframe thead th {\n",
       "        text-align: right;\n",
       "    }\n",
       "</style>\n",
       "<table border=\"1\" class=\"dataframe\">\n",
       "  <thead>\n",
       "    <tr style=\"text-align: right;\">\n",
       "      <th></th>\n",
       "      <th>Job Title</th>\n",
       "      <th>Job Location</th>\n",
       "      <th>Company Name</th>\n",
       "    </tr>\n",
       "  </thead>\n",
       "  <tbody>\n",
       "    <tr>\n",
       "      <th>0</th>\n",
       "      <td>Analystics &amp; Modeling Specialist</td>\n",
       "      <td>Bangalore/Bengaluru, Kolkata, Mumbai, Hyderaba...</td>\n",
       "      <td>Accenture</td>\n",
       "    </tr>\n",
       "    <tr>\n",
       "      <th>1</th>\n",
       "      <td>Data Scientist - Looking For Immediate Joiners</td>\n",
       "      <td>Hybrid - Bangalore/Bengaluru, Hyderabad/Secund...</td>\n",
       "      <td>Wipro</td>\n",
       "    </tr>\n",
       "    <tr>\n",
       "      <th>2</th>\n",
       "      <td>Assistant Manager - Data Science</td>\n",
       "      <td>Hybrid - Bangalore/Bengaluru, Mumbai, Pune</td>\n",
       "      <td>Citiustech</td>\n",
       "    </tr>\n",
       "    <tr>\n",
       "      <th>3</th>\n",
       "      <td>Data Scientist</td>\n",
       "      <td>Bangalore/Bengaluru, Hyderabad/Secunderabad, P...</td>\n",
       "      <td>Altair</td>\n",
       "    </tr>\n",
       "    <tr>\n",
       "      <th>4</th>\n",
       "      <td>Python Programming Language Data Science Pract...</td>\n",
       "      <td>Bangalore/Bengaluru</td>\n",
       "      <td>Accenture</td>\n",
       "    </tr>\n",
       "    <tr>\n",
       "      <th>5</th>\n",
       "      <td>Industry X - Software Engineering</td>\n",
       "      <td>Bangalore/Bengaluru</td>\n",
       "      <td>Accenture</td>\n",
       "    </tr>\n",
       "    <tr>\n",
       "      <th>6</th>\n",
       "      <td>Data Scientist: Artificial Intelligence</td>\n",
       "      <td>Bangalore/Bengaluru</td>\n",
       "      <td>IBM</td>\n",
       "    </tr>\n",
       "    <tr>\n",
       "      <th>7</th>\n",
       "      <td>ACN - Applied Intelligence - C4DI - Sustainabi...</td>\n",
       "      <td>Bangalore/Bengaluru</td>\n",
       "      <td>Accenture</td>\n",
       "    </tr>\n",
       "    <tr>\n",
       "      <th>8</th>\n",
       "      <td>Data Scientist</td>\n",
       "      <td>Bangalore/Bengaluru</td>\n",
       "      <td>Applied Materials</td>\n",
       "    </tr>\n",
       "    <tr>\n",
       "      <th>9</th>\n",
       "      <td>Data Scientist</td>\n",
       "      <td>Bangalore/Bengaluru</td>\n",
       "      <td>Applied Materials</td>\n",
       "    </tr>\n",
       "  </tbody>\n",
       "</table>\n",
       "</div>"
      ],
      "text/plain": [
       "                                           Job Title  \\\n",
       "0                   Analystics & Modeling Specialist   \n",
       "1     Data Scientist - Looking For Immediate Joiners   \n",
       "2                   Assistant Manager - Data Science   \n",
       "3                                     Data Scientist   \n",
       "4  Python Programming Language Data Science Pract...   \n",
       "5                  Industry X - Software Engineering   \n",
       "6            Data Scientist: Artificial Intelligence   \n",
       "7  ACN - Applied Intelligence - C4DI - Sustainabi...   \n",
       "8                                     Data Scientist   \n",
       "9                                     Data Scientist   \n",
       "\n",
       "                                        Job Location       Company Name  \n",
       "0  Bangalore/Bengaluru, Kolkata, Mumbai, Hyderaba...          Accenture  \n",
       "1  Hybrid - Bangalore/Bengaluru, Hyderabad/Secund...              Wipro  \n",
       "2         Hybrid - Bangalore/Bengaluru, Mumbai, Pune         Citiustech  \n",
       "3  Bangalore/Bengaluru, Hyderabad/Secunderabad, P...             Altair  \n",
       "4                                Bangalore/Bengaluru          Accenture  \n",
       "5                                Bangalore/Bengaluru          Accenture  \n",
       "6                                Bangalore/Bengaluru                IBM  \n",
       "7                                Bangalore/Bengaluru          Accenture  \n",
       "8                                Bangalore/Bengaluru  Applied Materials  \n",
       "9                                Bangalore/Bengaluru  Applied Materials  "
      ]
     },
     "execution_count": 24,
     "metadata": {},
     "output_type": "execute_result"
    }
   ],
   "source": [
    "# create data frame of the scraped data\n",
    "df = pd.DataFrame({'Job Title':job_title,'Job Location':job_location,'Company Name':company_name})\n",
    "df"
   ]
  },
  {
   "cell_type": "code",
   "execution_count": 25,
   "id": "3a3344eb",
   "metadata": {},
   "outputs": [],
   "source": [
    "driver.close()"
   ]
  },
  {
   "cell_type": "markdown",
   "id": "568a339a",
   "metadata": {},
   "source": [
    "###  Q3: In this question you have to scrape data using the filters available on the webpage as shown below:\n",
    "###         You have to use the location and salary filter.\n",
    "###          You have to scrape data for “Data Scientist” designation for first 10 job results.\n",
    "###          You have to scrape the job-title, job-location, company name, experience required.\n",
    "###          The location filter to be used is “Delhi/NCR”. The salary filter to be used is “3-6” lakhs\n"
   ]
  },
  {
   "cell_type": "code",
   "execution_count": 41,
   "id": "0baaa3a3",
   "metadata": {},
   "outputs": [],
   "source": [
    "# Let's first to connect web driver\n",
    "driver = webdriver.Chrome('chromedriver.exe')"
   ]
  },
  {
   "cell_type": "code",
   "execution_count": 42,
   "id": "1eea47e8",
   "metadata": {},
   "outputs": [],
   "source": [
    "# opening up the naukri.com website on automated chrome window\n",
    "url = driver.get('http://www.naukri.com/')"
   ]
  },
  {
   "cell_type": "code",
   "execution_count": 43,
   "id": "a24a7a96",
   "metadata": {},
   "outputs": [],
   "source": [
    "# Let's maximize the automated chrome window\n",
    "driver.maximize_window()"
   ]
  },
  {
   "cell_type": "code",
   "execution_count": 44,
   "id": "becf3e8f",
   "metadata": {},
   "outputs": [],
   "source": [
    "# finding web element for search job bar\n",
    "search_job = driver.find_element(By.CLASS_NAME,'suggestor-input ')\n",
    "search_job.send_keys('Data Scientist ')"
   ]
  },
  {
   "cell_type": "code",
   "execution_count": 46,
   "id": "1a30d523",
   "metadata": {},
   "outputs": [],
   "source": [
    "#  finding web element for search location filter\n",
    "search_loc = driver.find_element(By.XPATH,'//*[@id=\"root\"]/div[6]/div/div/div[5]/div/div/div/input')\n",
    "search_loc.send_keys('Delhi/NCR')"
   ]
  },
  {
   "cell_type": "code",
   "execution_count": 47,
   "id": "6bde4f71",
   "metadata": {},
   "outputs": [],
   "source": [
    "# clicking\n",
    "search_btn = driver.find_element(By.CLASS_NAME,'qsbSubmit')\n",
    "search_btn.click()"
   ]
  },
  {
   "cell_type": "code",
   "execution_count": 48,
   "id": "f9e3ce90",
   "metadata": {},
   "outputs": [],
   "source": [
    "# click location button\n",
    "location_btn = driver.find_element(By.XPATH,'/html/body/div[1]/div[4]/div/section[1]/div[2]/div[5]/div[2]/div[2]/label/p/span[1]')\n",
    "location_btn.click()"
   ]
  },
  {
   "cell_type": "code",
   "execution_count": 49,
   "id": "b025eaf1",
   "metadata": {},
   "outputs": [],
   "source": [
    "# click salary button\n",
    "salary_btn = driver.find_element(By.XPATH,'/html/body/div[1]/div[4]/div/section[1]/div[2]/div[13]/div[2]/div[4]/label/p/span[1]')\n",
    "salary_btn.click()"
   ]
  },
  {
   "cell_type": "code",
   "execution_count": 50,
   "id": "dbf91870",
   "metadata": {},
   "outputs": [
    {
     "data": {
      "text/plain": [
       "['Data Scientist',\n",
       " 'DigitalBCG GAMMA Data Scientist',\n",
       " 'Urgent hiring For Data Scientist (PHD Must Have)',\n",
       " 'Manager - Data Science - Banking&Financial Services - IIM/ISB/MDI/FMS',\n",
       " 'Data Scientist',\n",
       " 'Data Scientist',\n",
       " 'Data Scientist',\n",
       " 'Data Specialist',\n",
       " 'Data scientist- Python',\n",
       " 'Data Scientist']"
      ]
     },
     "execution_count": 50,
     "metadata": {},
     "output_type": "execute_result"
    }
   ],
   "source": [
    "# Let's extract all web elements having job title using relative xpath\n",
    "job_title = []\n",
    "title_tags = driver.find_elements(By.XPATH,'//a[@class=\"title fw500 ellipsis\"]')\n",
    "for i in title_tags[0:10]:\n",
    "    job_title.append(i.text)\n",
    "job_title    "
   ]
  },
  {
   "cell_type": "code",
   "execution_count": 51,
   "id": "844abe6e",
   "metadata": {},
   "outputs": [
    {
     "data": {
      "text/plain": [
       "['Noida, Hyderabad/Secunderabad, Chennai, Bangalore/Bengaluru',\n",
       " 'New Delhi, Bangalore/Bengaluru',\n",
       " 'Temp. WFH - Noida, Pune',\n",
       " 'Delhi / NCR, Bangalore/Bengaluru',\n",
       " 'Dehradun, Hyderabad/Secunderabad, Gurgaon/Gurugram',\n",
       " 'Noida',\n",
       " 'Noida',\n",
       " 'Noida',\n",
       " 'Gurgaon/Gurugram',\n",
       " 'New Delhi']"
      ]
     },
     "execution_count": 51,
     "metadata": {},
     "output_type": "execute_result"
    }
   ],
   "source": [
    "# Let's extract all web elements having job location using relative xpath\n",
    "job_location = []\n",
    "loc_tags = driver.find_elements(By.XPATH,'//span[@class=\"ellipsis fleft fs12 lh16 locWdth\"]')\n",
    "for i in loc_tags[0:10]:\n",
    "    job_location.append(i.text)\n",
    "job_location    "
   ]
  },
  {
   "cell_type": "code",
   "execution_count": 52,
   "id": "05e8b0bc",
   "metadata": {},
   "outputs": [
    {
     "data": {
      "text/plain": [
       "['HCLTech',\n",
       " 'Boston Consulting Group',\n",
       " 'NGI Ventures',\n",
       " 'Black Turtle',\n",
       " 'torcai digital media',\n",
       " 'Meon Technologies',\n",
       " 'Alliance Recruitment Agency',\n",
       " 'RCPC',\n",
       " 'TeamPlus Staffing Solution Pvt Ltd',\n",
       " 'Razor Group GmbH']"
      ]
     },
     "execution_count": 52,
     "metadata": {},
     "output_type": "execute_result"
    }
   ],
   "source": [
    "# Let's extract all web elements having company name using relative xpath\n",
    "company_name = []\n",
    "company_tags = driver.find_elements(By.XPATH,'//a[@class=\"subTitle ellipsis fleft\"]')\n",
    "for i in company_tags[0:10]:\n",
    "    company_name.append(i.text)\n",
    "company_name    "
   ]
  },
  {
   "cell_type": "code",
   "execution_count": 53,
   "id": "bdb91166",
   "metadata": {},
   "outputs": [
    {
     "data": {
      "text/plain": [
       "['4-9 Yrs',\n",
       " '2-5 Yrs',\n",
       " '0-4 Yrs',\n",
       " '4-8 Yrs',\n",
       " '2-7 Yrs',\n",
       " '2-5 Yrs',\n",
       " '3-4 Yrs',\n",
       " '4-6 Yrs',\n",
       " '3-6 Yrs',\n",
       " '2-3 Yrs']"
      ]
     },
     "execution_count": 53,
     "metadata": {},
     "output_type": "execute_result"
    }
   ],
   "source": [
    "# Let's extract all web elements having experience\n",
    "experience = []\n",
    "exp_tags = driver.find_elements(By.XPATH,'//span[@class=\"ellipsis fleft fs12 lh16 expwdth\"]')\n",
    "for i in exp_tags[0:10]:\n",
    "    experience.append(i.text)\n",
    "experience    "
   ]
  },
  {
   "cell_type": "code",
   "execution_count": 54,
   "id": "cab6c8a7",
   "metadata": {},
   "outputs": [
    {
     "data": {
      "text/html": [
       "<div>\n",
       "<style scoped>\n",
       "    .dataframe tbody tr th:only-of-type {\n",
       "        vertical-align: middle;\n",
       "    }\n",
       "\n",
       "    .dataframe tbody tr th {\n",
       "        vertical-align: top;\n",
       "    }\n",
       "\n",
       "    .dataframe thead th {\n",
       "        text-align: right;\n",
       "    }\n",
       "</style>\n",
       "<table border=\"1\" class=\"dataframe\">\n",
       "  <thead>\n",
       "    <tr style=\"text-align: right;\">\n",
       "      <th></th>\n",
       "      <th>Job Title</th>\n",
       "      <th>Job Location</th>\n",
       "      <th>Company Name</th>\n",
       "      <th>Experience</th>\n",
       "    </tr>\n",
       "  </thead>\n",
       "  <tbody>\n",
       "    <tr>\n",
       "      <th>0</th>\n",
       "      <td>Data Scientist</td>\n",
       "      <td>Noida, Hyderabad/Secunderabad, Chennai, Bangal...</td>\n",
       "      <td>HCLTech</td>\n",
       "      <td>4-9 Yrs</td>\n",
       "    </tr>\n",
       "    <tr>\n",
       "      <th>1</th>\n",
       "      <td>DigitalBCG GAMMA Data Scientist</td>\n",
       "      <td>New Delhi, Bangalore/Bengaluru</td>\n",
       "      <td>Boston Consulting Group</td>\n",
       "      <td>2-5 Yrs</td>\n",
       "    </tr>\n",
       "    <tr>\n",
       "      <th>2</th>\n",
       "      <td>Urgent hiring For Data Scientist (PHD Must Have)</td>\n",
       "      <td>Temp. WFH - Noida, Pune</td>\n",
       "      <td>NGI Ventures</td>\n",
       "      <td>0-4 Yrs</td>\n",
       "    </tr>\n",
       "    <tr>\n",
       "      <th>3</th>\n",
       "      <td>Manager - Data Science - Banking&amp;Financial Ser...</td>\n",
       "      <td>Delhi / NCR, Bangalore/Bengaluru</td>\n",
       "      <td>Black Turtle</td>\n",
       "      <td>4-8 Yrs</td>\n",
       "    </tr>\n",
       "    <tr>\n",
       "      <th>4</th>\n",
       "      <td>Data Scientist</td>\n",
       "      <td>Dehradun, Hyderabad/Secunderabad, Gurgaon/Guru...</td>\n",
       "      <td>torcai digital media</td>\n",
       "      <td>2-7 Yrs</td>\n",
       "    </tr>\n",
       "    <tr>\n",
       "      <th>5</th>\n",
       "      <td>Data Scientist</td>\n",
       "      <td>Noida</td>\n",
       "      <td>Meon Technologies</td>\n",
       "      <td>2-5 Yrs</td>\n",
       "    </tr>\n",
       "    <tr>\n",
       "      <th>6</th>\n",
       "      <td>Data Scientist</td>\n",
       "      <td>Noida</td>\n",
       "      <td>Alliance Recruitment Agency</td>\n",
       "      <td>3-4 Yrs</td>\n",
       "    </tr>\n",
       "    <tr>\n",
       "      <th>7</th>\n",
       "      <td>Data Specialist</td>\n",
       "      <td>Noida</td>\n",
       "      <td>RCPC</td>\n",
       "      <td>4-6 Yrs</td>\n",
       "    </tr>\n",
       "    <tr>\n",
       "      <th>8</th>\n",
       "      <td>Data scientist- Python</td>\n",
       "      <td>Gurgaon/Gurugram</td>\n",
       "      <td>TeamPlus Staffing Solution Pvt Ltd</td>\n",
       "      <td>3-6 Yrs</td>\n",
       "    </tr>\n",
       "    <tr>\n",
       "      <th>9</th>\n",
       "      <td>Data Scientist</td>\n",
       "      <td>New Delhi</td>\n",
       "      <td>Razor Group GmbH</td>\n",
       "      <td>2-3 Yrs</td>\n",
       "    </tr>\n",
       "  </tbody>\n",
       "</table>\n",
       "</div>"
      ],
      "text/plain": [
       "                                           Job Title  \\\n",
       "0                                     Data Scientist   \n",
       "1                    DigitalBCG GAMMA Data Scientist   \n",
       "2   Urgent hiring For Data Scientist (PHD Must Have)   \n",
       "3  Manager - Data Science - Banking&Financial Ser...   \n",
       "4                                     Data Scientist   \n",
       "5                                     Data Scientist   \n",
       "6                                     Data Scientist   \n",
       "7                                    Data Specialist   \n",
       "8                             Data scientist- Python   \n",
       "9                                     Data Scientist   \n",
       "\n",
       "                                        Job Location  \\\n",
       "0  Noida, Hyderabad/Secunderabad, Chennai, Bangal...   \n",
       "1                     New Delhi, Bangalore/Bengaluru   \n",
       "2                            Temp. WFH - Noida, Pune   \n",
       "3                   Delhi / NCR, Bangalore/Bengaluru   \n",
       "4  Dehradun, Hyderabad/Secunderabad, Gurgaon/Guru...   \n",
       "5                                              Noida   \n",
       "6                                              Noida   \n",
       "7                                              Noida   \n",
       "8                                   Gurgaon/Gurugram   \n",
       "9                                          New Delhi   \n",
       "\n",
       "                         Company Name Experience  \n",
       "0                             HCLTech    4-9 Yrs  \n",
       "1             Boston Consulting Group    2-5 Yrs  \n",
       "2                        NGI Ventures    0-4 Yrs  \n",
       "3                        Black Turtle    4-8 Yrs  \n",
       "4                torcai digital media    2-7 Yrs  \n",
       "5                   Meon Technologies    2-5 Yrs  \n",
       "6         Alliance Recruitment Agency    3-4 Yrs  \n",
       "7                                RCPC    4-6 Yrs  \n",
       "8  TeamPlus Staffing Solution Pvt Ltd    3-6 Yrs  \n",
       "9                    Razor Group GmbH    2-3 Yrs  "
      ]
     },
     "execution_count": 54,
     "metadata": {},
     "output_type": "execute_result"
    }
   ],
   "source": [
    "# create data frame\n",
    "df = pd.DataFrame({'Job Title':job_title,'Job Location':job_location,'Company Name':company_name,'Experience':experience})\n",
    "df"
   ]
  },
  {
   "cell_type": "code",
   "execution_count": 55,
   "id": "abbfa378",
   "metadata": {},
   "outputs": [],
   "source": [
    "driver.close()"
   ]
  },
  {
   "cell_type": "markdown",
   "id": "dcfd2613",
   "metadata": {},
   "source": [
    "### Q4: Scrape data of first 100 sunglasses listings on flipkart.com. You have to scrape four attributes:\n",
    "###        1. Brand\n",
    "###        2. Product Description\n",
    "###        3. Price\n",
    "###        4. Discount\n",
    "###        The attributes which you have to scrape is ticked marked in the below image.\n"
   ]
  },
  {
   "cell_type": "code",
   "execution_count": 56,
   "id": "ffb9a824",
   "metadata": {},
   "outputs": [],
   "source": [
    "# Let's first connect to webdriver\n",
    "driver = webdriver.Chrome('chromedriver.exe')"
   ]
  },
  {
   "cell_type": "code",
   "execution_count": 57,
   "id": "b8e71270",
   "metadata": {},
   "outputs": [],
   "source": [
    "#opening up Flipkart website on automated chrome window\n",
    "url = driver.get('https://www.flipkart.com/')"
   ]
  },
  {
   "cell_type": "code",
   "execution_count": 45,
   "id": "b13c49b5",
   "metadata": {},
   "outputs": [],
   "source": [
    "# let's maximize the automated chrome window\n",
    "driver.maximize_window()"
   ]
  },
  {
   "cell_type": "code",
   "execution_count": 46,
   "id": "99175066",
   "metadata": {},
   "outputs": [],
   "source": [
    "# finding web element for sunglasses\n",
    "search_sngls = driver.find_element(By.CLASS_NAME,'_3704LK')\n",
    "search_sngls.send_keys('sunglasses')"
   ]
  },
  {
   "cell_type": "code",
   "execution_count": 47,
   "id": "bc2bc445",
   "metadata": {},
   "outputs": [],
   "source": [
    "# clicking the search button\n",
    "search_btn = driver.find_element(By.CLASS_NAME,'L0Z3Pu')\n",
    "search_btn.click()"
   ]
  },
  {
   "cell_type": "markdown",
   "id": "f58f6093",
   "metadata": {},
   "source": [
    "###  Extracting brand"
   ]
  },
  {
   "cell_type": "code",
   "execution_count": 77,
   "id": "ebbde99e",
   "metadata": {},
   "outputs": [
    {
     "data": {
      "text/plain": [
       "100"
      ]
     },
     "execution_count": 77,
     "metadata": {},
     "output_type": "execute_result"
    }
   ],
   "source": [
    "# Let's extract all web elements having brands using relative xpath\n",
    "brand = []\n",
    "\n",
    "for page in range(1,4,1):\n",
    "    \n",
    "    brand_tag = driver.find_elements(By.XPATH,'//div[@class=\"_2WkVRV\"]')\n",
    "    for i in brand_tag:\n",
    "        brand.append(i.text)\n",
    "next_btn = driver.find_element(By.XPATH,'//a[@class=\"_1LKTO3\"]//span')\n",
    "next_btn.click()\n",
    "time.sleep(3)\n",
    "brand_index = brand[0:100]\n",
    "len(brand_index)\n",
    "    "
   ]
  },
  {
   "cell_type": "markdown",
   "id": "af1297f7",
   "metadata": {},
   "source": [
    "###  Extracting product description"
   ]
  },
  {
   "cell_type": "code",
   "execution_count": 78,
   "id": "30593e11",
   "metadata": {},
   "outputs": [
    {
     "data": {
      "text/plain": [
       "100"
      ]
     },
     "execution_count": 78,
     "metadata": {},
     "output_type": "execute_result"
    }
   ],
   "source": [
    "# Let's extract all web elements having product description using relative xpath\n",
    "product_dec = []\n",
    "\n",
    "for page in range(1,4,1):\n",
    "    \n",
    "    product_tag = driver.find_elements(By.XPATH,'//a[@class=\"IRpwTa\"]')\n",
    "    for i in product_tag:\n",
    "        product_dec.append(i.text)\n",
    "next_btn = driver.find_element(By.XPATH,'//a[@class=\"_1LKTO3\"]//span')\n",
    "next_btn.click()\n",
    "time.sleep(3)\n",
    "product_dec_index= product_dec[0:100]\n",
    "len(product_dec_index)\n"
   ]
  },
  {
   "cell_type": "markdown",
   "id": "7a350868",
   "metadata": {},
   "source": [
    "### Extracting Price"
   ]
  },
  {
   "cell_type": "code",
   "execution_count": 79,
   "id": "e47cce56",
   "metadata": {},
   "outputs": [
    {
     "data": {
      "text/plain": [
       "100"
      ]
     },
     "execution_count": 79,
     "metadata": {},
     "output_type": "execute_result"
    }
   ],
   "source": [
    "# Let's extract all web elements having price using relative xpath\n",
    "price= []\n",
    "\n",
    "for page in range(1,4,1):\n",
    "    \n",
    "    price_tag = driver.find_elements(By.XPATH,'//div[@class=\"_30jeq3\"]')\n",
    "    for i in price_tag:\n",
    "        price.append(i.text)\n",
    "next_btn = driver.find_element(By.XPATH,'//a[@class=\"_1LKTO3\"]//span')\n",
    "next_btn.click()\n",
    "time.sleep(3)\n",
    "price_index=price[0:100]\n",
    "len(price_index)\n"
   ]
  },
  {
   "cell_type": "markdown",
   "id": "ce8dd69c",
   "metadata": {},
   "source": [
    "###  Extracting discount"
   ]
  },
  {
   "cell_type": "code",
   "execution_count": 76,
   "id": "f787ae28",
   "metadata": {},
   "outputs": [
    {
     "data": {
      "text/plain": [
       "100"
      ]
     },
     "execution_count": 76,
     "metadata": {},
     "output_type": "execute_result"
    }
   ],
   "source": [
    "# Let's extract all web elements having discount using relative xpath\n",
    "discount= []\n",
    "\n",
    "for page in range(1,4,1):\n",
    "    \n",
    "    discount_tag = driver.find_elements(By.XPATH,'//div[@class=\"_3Ay6Sb\"]//span')\n",
    "    for i in discount_tag:\n",
    "        discount.append(i.text)\n",
    "next_btn = driver.find_element(By.XPATH,'//a[@class=\"_1LKTO3\"]//span')\n",
    "next_btn.click()\n",
    "time.sleep(3)\n",
    "discount_index = discount[0:100]\n",
    "len(discount_index)\n"
   ]
  },
  {
   "cell_type": "code",
   "execution_count": 81,
   "id": "ddff6776",
   "metadata": {},
   "outputs": [
    {
     "data": {
      "text/html": [
       "<div>\n",
       "<style scoped>\n",
       "    .dataframe tbody tr th:only-of-type {\n",
       "        vertical-align: middle;\n",
       "    }\n",
       "\n",
       "    .dataframe tbody tr th {\n",
       "        vertical-align: top;\n",
       "    }\n",
       "\n",
       "    .dataframe thead th {\n",
       "        text-align: right;\n",
       "    }\n",
       "</style>\n",
       "<table border=\"1\" class=\"dataframe\">\n",
       "  <thead>\n",
       "    <tr style=\"text-align: right;\">\n",
       "      <th></th>\n",
       "      <th>Brand</th>\n",
       "      <th>Product Description</th>\n",
       "      <th>Price</th>\n",
       "      <th>Discount</th>\n",
       "    </tr>\n",
       "  </thead>\n",
       "  <tbody>\n",
       "    <tr>\n",
       "      <th>0</th>\n",
       "      <td>Fastrack</td>\n",
       "      <td>UV Protection Rectangular Sunglasses (52)</td>\n",
       "      <td>₹854</td>\n",
       "      <td>87% off</td>\n",
       "    </tr>\n",
       "    <tr>\n",
       "      <th>1</th>\n",
       "      <td>Urbanic</td>\n",
       "      <td>UV Protection Wayfarer Sunglasses (Free Size)</td>\n",
       "      <td>₹524</td>\n",
       "      <td>20% off</td>\n",
       "    </tr>\n",
       "    <tr>\n",
       "      <th>2</th>\n",
       "      <td>ROYAL SON</td>\n",
       "      <td>UV Protection Rectangular Sunglasses (Free Size)</td>\n",
       "      <td>₹474</td>\n",
       "      <td>90% off</td>\n",
       "    </tr>\n",
       "    <tr>\n",
       "      <th>3</th>\n",
       "      <td>PHENOMENAL</td>\n",
       "      <td>UV Protection, Polarized Wayfarer Sunglasses (...</td>\n",
       "      <td>₹199</td>\n",
       "      <td>78% off</td>\n",
       "    </tr>\n",
       "    <tr>\n",
       "      <th>4</th>\n",
       "      <td>Fastrack</td>\n",
       "      <td>UV Protection Aviator Sunglasses (54)</td>\n",
       "      <td>₹683</td>\n",
       "      <td>84% off</td>\n",
       "    </tr>\n",
       "    <tr>\n",
       "      <th>...</th>\n",
       "      <td>...</td>\n",
       "      <td>...</td>\n",
       "      <td>...</td>\n",
       "      <td>...</td>\n",
       "    </tr>\n",
       "    <tr>\n",
       "      <th>95</th>\n",
       "      <td>PIRASO</td>\n",
       "      <td>UV Protection Rectangular Sunglasses (55)</td>\n",
       "      <td>₹379</td>\n",
       "      <td>85% off</td>\n",
       "    </tr>\n",
       "    <tr>\n",
       "      <th>96</th>\n",
       "      <td>VINCENT CHASE</td>\n",
       "      <td>UV Protection Aviator Sunglasses (58)</td>\n",
       "      <td>₹699</td>\n",
       "      <td>87% off</td>\n",
       "    </tr>\n",
       "    <tr>\n",
       "      <th>97</th>\n",
       "      <td>VINCENT CHASE</td>\n",
       "      <td>Polarized, UV Protection, Gradient, Riding Gla...</td>\n",
       "      <td>₹999</td>\n",
       "      <td>77% off</td>\n",
       "    </tr>\n",
       "    <tr>\n",
       "      <th>98</th>\n",
       "      <td>VINCENT CHASE</td>\n",
       "      <td>UV Protection Aviator Sunglasses (54)</td>\n",
       "      <td>₹699</td>\n",
       "      <td>84% off</td>\n",
       "    </tr>\n",
       "    <tr>\n",
       "      <th>99</th>\n",
       "      <td>ROZZETTA CRAFT</td>\n",
       "      <td>UV Protection, Gradient Rectangular Sunglasses...</td>\n",
       "      <td>₹379</td>\n",
       "      <td>81% off</td>\n",
       "    </tr>\n",
       "  </tbody>\n",
       "</table>\n",
       "<p>100 rows × 4 columns</p>\n",
       "</div>"
      ],
      "text/plain": [
       "             Brand                                Product Description Price  \\\n",
       "0         Fastrack          UV Protection Rectangular Sunglasses (52)  ₹854   \n",
       "1          Urbanic      UV Protection Wayfarer Sunglasses (Free Size)  ₹524   \n",
       "2        ROYAL SON   UV Protection Rectangular Sunglasses (Free Size)  ₹474   \n",
       "3       PHENOMENAL  UV Protection, Polarized Wayfarer Sunglasses (...  ₹199   \n",
       "4         Fastrack              UV Protection Aviator Sunglasses (54)  ₹683   \n",
       "..             ...                                                ...   ...   \n",
       "95          PIRASO          UV Protection Rectangular Sunglasses (55)  ₹379   \n",
       "96   VINCENT CHASE              UV Protection Aviator Sunglasses (58)  ₹699   \n",
       "97   VINCENT CHASE  Polarized, UV Protection, Gradient, Riding Gla...  ₹999   \n",
       "98   VINCENT CHASE              UV Protection Aviator Sunglasses (54)  ₹699   \n",
       "99  ROZZETTA CRAFT  UV Protection, Gradient Rectangular Sunglasses...  ₹379   \n",
       "\n",
       "   Discount  \n",
       "0   87% off  \n",
       "1   20% off  \n",
       "2   90% off  \n",
       "3   78% off  \n",
       "4   84% off  \n",
       "..      ...  \n",
       "95  85% off  \n",
       "96  87% off  \n",
       "97  77% off  \n",
       "98  84% off  \n",
       "99  81% off  \n",
       "\n",
       "[100 rows x 4 columns]"
      ]
     },
     "execution_count": 81,
     "metadata": {},
     "output_type": "execute_result"
    }
   ],
   "source": [
    "# create the dataframe\n",
    "df = pd.DataFrame({'Brand':brand_index,'Product Description':product_dec_index,'Price':price_index,'Discount':discount_index})\n",
    "df"
   ]
  },
  {
   "cell_type": "code",
   "execution_count": 58,
   "id": "ddc63e97",
   "metadata": {},
   "outputs": [],
   "source": [
    "driver.close()"
   ]
  },
  {
   "cell_type": "markdown",
   "id": "deb5e89d",
   "metadata": {},
   "source": [
    "###  Q5: Scrape 100 reviews data from flipkart.com for iphone11 phone. You have to go the link:\n",
    "###  As shown in the above page you have to scrape the tick marked attributes.These are:\n",
    "### 1. Rating\n",
    "### 2. Review summary\n",
    "### 3. Full review\n",
    "### 4. You have to scrape this data for first 100 reviews.\n"
   ]
  },
  {
   "cell_type": "code",
   "execution_count": 41,
   "id": "8ed030bf",
   "metadata": {},
   "outputs": [],
   "source": [
    "# Let's import all necessary libraries\n",
    "import selenium\n",
    "from selenium import webdriver\n",
    "import pandas as pd\n",
    "from selenium.webdriver.common.by import By\n",
    "import warnings\n",
    "warnings.filterwarnings('ignore')\n",
    "import time"
   ]
  },
  {
   "cell_type": "code",
   "execution_count": 57,
   "id": "f07c15fa",
   "metadata": {},
   "outputs": [],
   "source": [
    "# Let's first connect to webdriver\n",
    "driver = webdriver.Chrome('chromedriver.exe')"
   ]
  },
  {
   "cell_type": "code",
   "execution_count": 58,
   "id": "7e8bc1e5",
   "metadata": {},
   "outputs": [],
   "source": [
    "#opening up Flipkart website on automated chrome window\n",
    "url = driver.get('https://www.flipkart.com/apple-iphone-11-black-64-gb/product-reviews/itm4e5041ba101fd?pid=MOBFWQ6BXGJCEYNY&lid=LSTMOBFWQ6BXGJCEYNYZXSHRJ&marketplace=FLIPKART')"
   ]
  },
  {
   "cell_type": "code",
   "execution_count": 59,
   "id": "9dfe5ca8",
   "metadata": {},
   "outputs": [],
   "source": [
    "# Let's maximize the automated chrome window\n",
    "driver.maximize_window()"
   ]
  },
  {
   "cell_type": "code",
   "execution_count": 60,
   "id": "7e91a609",
   "metadata": {},
   "outputs": [
    {
     "data": {
      "text/plain": [
       "100"
      ]
     },
     "execution_count": 60,
     "metadata": {},
     "output_type": "execute_result"
    }
   ],
   "source": [
    "Review=[]\n",
    "for i in range(1,11,1):\n",
    "    scrapped_review= driver.find_elements(By.XPATH,'//p[@class=\"_2-N8zT\"]')\n",
    "    for i in scrapped_review:\n",
    "        Review.append(i.text)\n",
    "len(Review)     "
   ]
  },
  {
   "cell_type": "code",
   "execution_count": 61,
   "id": "9c779b2d",
   "metadata": {},
   "outputs": [
    {
     "data": {
      "text/plain": [
       "120"
      ]
     },
     "execution_count": 61,
     "metadata": {},
     "output_type": "execute_result"
    }
   ],
   "source": [
    "Ratings=[]\n",
    "for i in range(1,13,1):\n",
    "    scrapped_rating = driver.find_elements(By.XPATH,'//div[@class=\"_3LWZlK _1BLPMq\"]')\n",
    "    for i in scrapped_rating:\n",
    "        Ratings.append(i.text)\n",
    "        \n",
    "len(Ratings)        "
   ]
  },
  {
   "cell_type": "code",
   "execution_count": 62,
   "id": "d4403b6b",
   "metadata": {},
   "outputs": [
    {
     "data": {
      "text/plain": [
       "120"
      ]
     },
     "execution_count": 62,
     "metadata": {},
     "output_type": "execute_result"
    }
   ],
   "source": [
    "Full_review=[]\n",
    "for i in range(1,13,1):\n",
    "    scrapped_FR=driver.find_elements(By.XPATH,'//div[@class=\"t-ZTKy\"]')\n",
    "    for i in scrapped_FR:\n",
    "        Full_review.append(i.text)\n",
    "        \n",
    "len(Full_review)        "
   ]
  },
  {
   "cell_type": "code",
   "execution_count": 63,
   "id": "e6620518",
   "metadata": {},
   "outputs": [
    {
     "data": {
      "text/html": [
       "<div>\n",
       "<style scoped>\n",
       "    .dataframe tbody tr th:only-of-type {\n",
       "        vertical-align: middle;\n",
       "    }\n",
       "\n",
       "    .dataframe tbody tr th {\n",
       "        vertical-align: top;\n",
       "    }\n",
       "\n",
       "    .dataframe thead th {\n",
       "        text-align: right;\n",
       "    }\n",
       "</style>\n",
       "<table border=\"1\" class=\"dataframe\">\n",
       "  <thead>\n",
       "    <tr style=\"text-align: right;\">\n",
       "      <th></th>\n",
       "      <th>Review</th>\n",
       "      <th>Ratings</th>\n",
       "      <th>Full_Review</th>\n",
       "    </tr>\n",
       "  </thead>\n",
       "  <tbody>\n",
       "    <tr>\n",
       "      <th>0</th>\n",
       "      <td>Simply awesome</td>\n",
       "      <td>5</td>\n",
       "      <td>Really satisfied with the Product I received.....</td>\n",
       "    </tr>\n",
       "    <tr>\n",
       "      <th>1</th>\n",
       "      <td>Value-for-money</td>\n",
       "      <td>4</td>\n",
       "      <td>I'm Really happy with the product\\nDelivery wa...</td>\n",
       "    </tr>\n",
       "    <tr>\n",
       "      <th>2</th>\n",
       "      <td>Perfect product!</td>\n",
       "      <td>5</td>\n",
       "      <td>Amazing phone with great cameras and better ba...</td>\n",
       "    </tr>\n",
       "    <tr>\n",
       "      <th>3</th>\n",
       "      <td>Best in the market!</td>\n",
       "      <td>5</td>\n",
       "      <td>Great iPhone very snappy experience as apple k...</td>\n",
       "    </tr>\n",
       "    <tr>\n",
       "      <th>4</th>\n",
       "      <td>Highly recommended</td>\n",
       "      <td>5</td>\n",
       "      <td>It's my first time to use iOS phone and I am l...</td>\n",
       "    </tr>\n",
       "    <tr>\n",
       "      <th>...</th>\n",
       "      <td>...</td>\n",
       "      <td>...</td>\n",
       "      <td>...</td>\n",
       "    </tr>\n",
       "    <tr>\n",
       "      <th>95</th>\n",
       "      <td>Worth every penny</td>\n",
       "      <td>5</td>\n",
       "      <td>Previously I was using one plus 3t it was a gr...</td>\n",
       "    </tr>\n",
       "    <tr>\n",
       "      <th>96</th>\n",
       "      <td>Highly recommended</td>\n",
       "      <td>5</td>\n",
       "      <td>What a camera .....just awesome ..you can feel...</td>\n",
       "    </tr>\n",
       "    <tr>\n",
       "      <th>97</th>\n",
       "      <td>Perfect product!</td>\n",
       "      <td>5</td>\n",
       "      <td>Value for money\\n5 star rating\\nExcellent came...</td>\n",
       "    </tr>\n",
       "    <tr>\n",
       "      <th>98</th>\n",
       "      <td>Great product</td>\n",
       "      <td>5</td>\n",
       "      <td>Amazing Powerful and Durable Gadget.\\n\\nI’m am...</td>\n",
       "    </tr>\n",
       "    <tr>\n",
       "      <th>99</th>\n",
       "      <td>Fabulous!</td>\n",
       "      <td>5</td>\n",
       "      <td>This is my first iOS phone. I am very happy wi...</td>\n",
       "    </tr>\n",
       "  </tbody>\n",
       "</table>\n",
       "<p>100 rows × 3 columns</p>\n",
       "</div>"
      ],
      "text/plain": [
       "                 Review Ratings  \\\n",
       "0        Simply awesome       5   \n",
       "1       Value-for-money       4   \n",
       "2      Perfect product!       5   \n",
       "3   Best in the market!       5   \n",
       "4    Highly recommended       5   \n",
       "..                  ...     ...   \n",
       "95    Worth every penny       5   \n",
       "96   Highly recommended       5   \n",
       "97     Perfect product!       5   \n",
       "98        Great product       5   \n",
       "99            Fabulous!       5   \n",
       "\n",
       "                                          Full_Review  \n",
       "0   Really satisfied with the Product I received.....  \n",
       "1   I'm Really happy with the product\\nDelivery wa...  \n",
       "2   Amazing phone with great cameras and better ba...  \n",
       "3   Great iPhone very snappy experience as apple k...  \n",
       "4   It's my first time to use iOS phone and I am l...  \n",
       "..                                                ...  \n",
       "95  Previously I was using one plus 3t it was a gr...  \n",
       "96  What a camera .....just awesome ..you can feel...  \n",
       "97  Value for money\\n5 star rating\\nExcellent came...  \n",
       "98  Amazing Powerful and Durable Gadget.\\n\\nI’m am...  \n",
       "99  This is my first iOS phone. I am very happy wi...  \n",
       "\n",
       "[100 rows x 3 columns]"
      ]
     },
     "execution_count": 63,
     "metadata": {},
     "output_type": "execute_result"
    }
   ],
   "source": [
    "####Indexing######\n",
    "indexed_review= Review\n",
    "indexed_ratings=Ratings[:100]\n",
    "indexed_FR= Full_review[:100]\n",
    "\n",
    "####DataFrame####\n",
    "df = pd.DataFrame({'Review':indexed_review,'Ratings':indexed_ratings,'Full_Review':indexed_FR})\n",
    "df"
   ]
  },
  {
   "cell_type": "code",
   "execution_count": 64,
   "id": "735ac1c9",
   "metadata": {},
   "outputs": [],
   "source": [
    "driver.close()"
   ]
  },
  {
   "cell_type": "markdown",
   "id": "6e100feb",
   "metadata": {},
   "source": [
    "### Q6: Scrape data for first 100 sneakers you find when you visit flipkart.com and search for “sneakers” in the\n",
    "###  search field.\n",
    "###  You have to scrape 4 attributes of each sneaker:\n",
    "###  1. Brand\n",
    "###   2. Product Description\n",
    "###   3. Price\n",
    "###   4. Discount"
   ]
  },
  {
   "cell_type": "code",
   "execution_count": null,
   "id": "52f115a3",
   "metadata": {},
   "outputs": [],
   "source": [
    "# Let's first connect to webdriver\n",
    "driver = webdriver.Chrome('chromedriver.exe')"
   ]
  },
  {
   "cell_type": "code",
   "execution_count": 92,
   "id": "0e51c11e",
   "metadata": {},
   "outputs": [],
   "source": [
    "#opening up Flipkart website on automated chrome window\n",
    "url = driver.get('https://www.flipkart.com/')"
   ]
  },
  {
   "cell_type": "code",
   "execution_count": 93,
   "id": "897a6578",
   "metadata": {},
   "outputs": [],
   "source": [
    "# Let's maximize the automated chrome window\n",
    "driver.maximize_window()"
   ]
  },
  {
   "cell_type": "code",
   "execution_count": 94,
   "id": "e5d0ff86",
   "metadata": {},
   "outputs": [],
   "source": [
    "# let's finding web element for searching sneakers\n",
    "search_snkr = driver.find_element(By.CLASS_NAME,'_3704LK')\n",
    "search_snkr.send_keys('sneakers')"
   ]
  },
  {
   "cell_type": "code",
   "execution_count": 95,
   "id": "2e35f861",
   "metadata": {},
   "outputs": [],
   "source": [
    "# click the search button\n",
    "search_btn = driver.find_element(By.CLASS_NAME,'_34RNph')\n",
    "search_btn.click()"
   ]
  },
  {
   "cell_type": "code",
   "execution_count": 101,
   "id": "5ea22b69",
   "metadata": {},
   "outputs": [
    {
     "name": "stdout",
     "output_type": "stream",
     "text": [
      "100 100 100 100\n"
     ]
    }
   ],
   "source": [
    "# let's extract all web elements having brand,product description,price,discount\n",
    "brand = []\n",
    "product_dec = []\n",
    "price = []\n",
    "discount= []\n",
    "# range for next page\n",
    "for page in range(1,4,1):\n",
    "# extracting brand\n",
    "    brand_tag = driver.find_elements(By.XPATH,'//div[@class=\"_2WkVRV\"]')\n",
    "    for i in brand_tag:\n",
    "        brand.append(i.text)\n",
    "# extracting product description        \n",
    "    product_dec_tag = driver.find_elements(By.XPATH,'//a[@class=\"IRpwTa\"]')\n",
    "    for j in product_dec_tag:\n",
    "        product_dec.append(j.text)\n",
    "# extracting price       \n",
    "    price_tag = driver.find_elements(By.XPATH,'//div[@class=\"_30jeq3\"]')\n",
    "    for k in price_tag:\n",
    "        price.append(k.text)\n",
    "# extracting discount        \n",
    "    discount_tag = driver.find_elements(By.XPATH,'//div[@class=\"_3Ay6Sb\"]//span')\n",
    "    for l in discount_tag:\n",
    "        discount.append(l.text)\n",
    "# path for next button        \n",
    "next_btn = driver.find_element(By.XPATH,'//a[@class=\"_1LKTO3\"]//span')\n",
    "next_btn.click()\n",
    "time.sleep(3)\n",
    "brand_index = brand[0:100]\n",
    "product_dec_index=product_dec[0:100]\n",
    "price_index = price[0:100]\n",
    "discount_index = discount[0:100]\n",
    "print(len(product_dec_index),len(brand_index),len(price_index),len(discount_index))\n"
   ]
  },
  {
   "cell_type": "code",
   "execution_count": 102,
   "id": "adee60de",
   "metadata": {},
   "outputs": [
    {
     "data": {
      "text/html": [
       "<div>\n",
       "<style scoped>\n",
       "    .dataframe tbody tr th:only-of-type {\n",
       "        vertical-align: middle;\n",
       "    }\n",
       "\n",
       "    .dataframe tbody tr th {\n",
       "        vertical-align: top;\n",
       "    }\n",
       "\n",
       "    .dataframe thead th {\n",
       "        text-align: right;\n",
       "    }\n",
       "</style>\n",
       "<table border=\"1\" class=\"dataframe\">\n",
       "  <thead>\n",
       "    <tr style=\"text-align: right;\">\n",
       "      <th></th>\n",
       "      <th>Brand</th>\n",
       "      <th>Product Description</th>\n",
       "      <th>Price</th>\n",
       "      <th>Discount</th>\n",
       "    </tr>\n",
       "  </thead>\n",
       "  <tbody>\n",
       "    <tr>\n",
       "      <th>0</th>\n",
       "      <td>BRUTON</td>\n",
       "      <td>2 Combo Sneaker Shoes Sneakers For Men</td>\n",
       "      <td>₹684</td>\n",
       "      <td>72% off</td>\n",
       "    </tr>\n",
       "    <tr>\n",
       "      <th>1</th>\n",
       "      <td>GVR</td>\n",
       "      <td>Sneakers For Men</td>\n",
       "      <td>₹649</td>\n",
       "      <td>35% off</td>\n",
       "    </tr>\n",
       "    <tr>\n",
       "      <th>2</th>\n",
       "      <td>World Wear Footwear</td>\n",
       "      <td>Exclusive Affordable Collection of Trendy &amp; St...</td>\n",
       "      <td>₹367</td>\n",
       "      <td>66% off</td>\n",
       "    </tr>\n",
       "    <tr>\n",
       "      <th>3</th>\n",
       "      <td>SCATCHITE</td>\n",
       "      <td>Sneakers Sneakers For Men</td>\n",
       "      <td>₹360</td>\n",
       "      <td>63% off</td>\n",
       "    </tr>\n",
       "    <tr>\n",
       "      <th>4</th>\n",
       "      <td>ASTEROID</td>\n",
       "      <td>Luxury Branded Fashionable Men's Casual Walkin...</td>\n",
       "      <td>₹499</td>\n",
       "      <td>75% off</td>\n",
       "    </tr>\n",
       "    <tr>\n",
       "      <th>...</th>\n",
       "      <td>...</td>\n",
       "      <td>...</td>\n",
       "      <td>...</td>\n",
       "      <td>...</td>\n",
       "    </tr>\n",
       "    <tr>\n",
       "      <th>95</th>\n",
       "      <td>BRUTON</td>\n",
       "      <td>Anzarun Lite Sneakers For Men</td>\n",
       "      <td>₹389</td>\n",
       "      <td>70% off</td>\n",
       "    </tr>\n",
       "    <tr>\n",
       "      <th>96</th>\n",
       "      <td>PUMA</td>\n",
       "      <td>Sneakers For Men</td>\n",
       "      <td>₹1,817</td>\n",
       "      <td>59% off</td>\n",
       "    </tr>\n",
       "    <tr>\n",
       "      <th>97</th>\n",
       "      <td>PUMA</td>\n",
       "      <td>Sneakers For Women</td>\n",
       "      <td>₹2,549</td>\n",
       "      <td>15% off</td>\n",
       "    </tr>\n",
       "    <tr>\n",
       "      <th>98</th>\n",
       "      <td>RED TAPE</td>\n",
       "      <td>shoe Sneakers For Men</td>\n",
       "      <td>₹1,079</td>\n",
       "      <td>80% off</td>\n",
       "    </tr>\n",
       "    <tr>\n",
       "      <th>99</th>\n",
       "      <td>Deals4you</td>\n",
       "      <td>Sneakers For Men</td>\n",
       "      <td>₹359</td>\n",
       "      <td>64% off</td>\n",
       "    </tr>\n",
       "  </tbody>\n",
       "</table>\n",
       "<p>100 rows × 4 columns</p>\n",
       "</div>"
      ],
      "text/plain": [
       "                  Brand                                Product Description  \\\n",
       "0                BRUTON             2 Combo Sneaker Shoes Sneakers For Men   \n",
       "1                   GVR                                   Sneakers For Men   \n",
       "2   World Wear Footwear  Exclusive Affordable Collection of Trendy & St...   \n",
       "3             SCATCHITE                          Sneakers Sneakers For Men   \n",
       "4              ASTEROID  Luxury Branded Fashionable Men's Casual Walkin...   \n",
       "..                  ...                                                ...   \n",
       "95               BRUTON                      Anzarun Lite Sneakers For Men   \n",
       "96                 PUMA                                   Sneakers For Men   \n",
       "97                 PUMA                                 Sneakers For Women   \n",
       "98             RED TAPE                              shoe Sneakers For Men   \n",
       "99            Deals4you                                   Sneakers For Men   \n",
       "\n",
       "     Price Discount  \n",
       "0     ₹684  72% off  \n",
       "1     ₹649  35% off  \n",
       "2     ₹367  66% off  \n",
       "3     ₹360  63% off  \n",
       "4     ₹499  75% off  \n",
       "..     ...      ...  \n",
       "95    ₹389  70% off  \n",
       "96  ₹1,817  59% off  \n",
       "97  ₹2,549  15% off  \n",
       "98  ₹1,079  80% off  \n",
       "99    ₹359  64% off  \n",
       "\n",
       "[100 rows x 4 columns]"
      ]
     },
     "execution_count": 102,
     "metadata": {},
     "output_type": "execute_result"
    }
   ],
   "source": [
    "# create data frame\n",
    "df = pd.DataFrame({'Brand':brand_index,'Product Description':product_dec_index,'Price':price_index,'Discount':discount_index})\n",
    "df"
   ]
  },
  {
   "cell_type": "code",
   "execution_count": null,
   "id": "289e1515",
   "metadata": {},
   "outputs": [],
   "source": [
    "#driver.close() "
   ]
  },
  {
   "cell_type": "markdown",
   "id": "c9ae25e4",
   "metadata": {},
   "source": [
    "###  Q7: Go to the link - https://www.myntra.com/shoes\n",
    "### Set second Price filter and Color filter to “Black”, as shown in the below image.\n",
    "### And then scrape First 100 shoes data you get. The data should include “Brand” of the shoes , Short Shoe\n",
    "### description, price of the shoe as shown in the below image."
   ]
  },
  {
   "cell_type": "code",
   "execution_count": 105,
   "id": "990ff0a2",
   "metadata": {},
   "outputs": [],
   "source": [
    "# let's first connect to web driver\n",
    "driver = webdriver.Chrome('chromedriver.exe')\n",
    "# opening up myntra website on automated chrome window\n",
    "url = driver.get('https://www.myntra.com/shoes')\n",
    "# let's maximize the automated chrome window\n",
    "driver.maximize_window()"
   ]
  },
  {
   "cell_type": "code",
   "execution_count": 108,
   "id": "801729f5",
   "metadata": {},
   "outputs": [],
   "source": [
    "# let's find the web element for search shoes\n",
    "search_shoes = driver.find_element(By.CLASS_NAME,'desktop-searchBar')\n",
    "search_shoes.send_keys('shoes')\n",
    "# Let's find the web element for search button\n",
    "search_btn = driver.find_element(By.CLASS_NAME,'desktop-submit')\n",
    "search_btn.click()"
   ]
  },
  {
   "cell_type": "code",
   "execution_count": 112,
   "id": "67707d60",
   "metadata": {},
   "outputs": [],
   "source": [
    "# set second price filter and colour filter black\n",
    "price_filter = driver.find_element(By.XPATH,'/html/body/div[2]/div/main/div[3]/div[1]/section/div/div[5]/ul/li[2]/label')\n",
    "price_filter.click()\n",
    "color_filter = driver.find_element(By.XPATH,'/html/body/div[2]/div/main/div[3]/div[1]/section/div/div[6]/ul/li[1]/label')\n",
    "color_filter.click()"
   ]
  },
  {
   "cell_type": "code",
   "execution_count": 114,
   "id": "4a24ca7c",
   "metadata": {},
   "outputs": [
    {
     "name": "stdout",
     "output_type": "stream",
     "text": [
      "100 100 100\n"
     ]
    }
   ],
   "source": [
    "# Let's extracting all web elements having brand,shoes description,price\n",
    "brand = []\n",
    "shoes_dec=[]\n",
    "price = []\n",
    "for page in range(1,3,1):\n",
    "    brand_tag = driver.find_elements(By.XPATH,'//h3[@class=\"product-brand\"]')\n",
    "    for b in brand_tag:\n",
    "        brand.append(b.text)\n",
    "    shoes_dec_tag = driver.find_elements(By.XPATH,'//h4[@class=\"product-product\"]')\n",
    "    for s in shoes_dec_tag:\n",
    "        shoes_dec.append(s.text)\n",
    "    price_tag = driver.find_elements(By.XPATH,'//div[@class=\"product-price\"]')\n",
    "    for p in price_tag:\n",
    "        price.append(p.text)\n",
    "next_btn = driver.find_element(By.XPATH,'//li[@class=\"pagination-next\"]')\n",
    "next_btn.click()\n",
    "brand_index = brand[0:100]\n",
    "shoes_dec_index = shoes_dec[0:100]\n",
    "price_index = price[0:100]\n",
    "print(len(brand_index),len(shoes_dec_index),len(price_index))"
   ]
  },
  {
   "cell_type": "code",
   "execution_count": 116,
   "id": "06dd9442",
   "metadata": {},
   "outputs": [
    {
     "data": {
      "text/html": [
       "<div>\n",
       "<style scoped>\n",
       "    .dataframe tbody tr th:only-of-type {\n",
       "        vertical-align: middle;\n",
       "    }\n",
       "\n",
       "    .dataframe tbody tr th {\n",
       "        vertical-align: top;\n",
       "    }\n",
       "\n",
       "    .dataframe thead th {\n",
       "        text-align: right;\n",
       "    }\n",
       "</style>\n",
       "<table border=\"1\" class=\"dataframe\">\n",
       "  <thead>\n",
       "    <tr style=\"text-align: right;\">\n",
       "      <th></th>\n",
       "      <th>Brand</th>\n",
       "      <th>Shoes Description</th>\n",
       "      <th>Price</th>\n",
       "    </tr>\n",
       "  </thead>\n",
       "  <tbody>\n",
       "    <tr>\n",
       "      <th>0</th>\n",
       "      <td>PUMA Motorsport</td>\n",
       "      <td>Unisex MAPF1 Drift Sneakers</td>\n",
       "      <td>Rs. 7199Rs. 8999(20% OFF)</td>\n",
       "    </tr>\n",
       "    <tr>\n",
       "      <th>1</th>\n",
       "      <td>Puma</td>\n",
       "      <td>Eternity Nitro Running Shoes</td>\n",
       "      <td>Rs. 11049Rs. 12999(15% OFF)</td>\n",
       "    </tr>\n",
       "    <tr>\n",
       "      <th>2</th>\n",
       "      <td>Nike</td>\n",
       "      <td>JORDAN MAX AURA 4 Shoes</td>\n",
       "      <td>Rs. 10165Rs. 11295(10% OFF)</td>\n",
       "    </tr>\n",
       "    <tr>\n",
       "      <th>3</th>\n",
       "      <td>ADIDAS</td>\n",
       "      <td>Men Runner Fl Running Shoes</td>\n",
       "      <td>Rs. 12749Rs. 14999(15% OFF)</td>\n",
       "    </tr>\n",
       "    <tr>\n",
       "      <th>4</th>\n",
       "      <td>Nike</td>\n",
       "      <td>Men Vomero 16 Running Shoes</td>\n",
       "      <td>Rs. 12145Rs. 13495(10% OFF)</td>\n",
       "    </tr>\n",
       "    <tr>\n",
       "      <th>...</th>\n",
       "      <td>...</td>\n",
       "      <td>...</td>\n",
       "      <td>...</td>\n",
       "    </tr>\n",
       "    <tr>\n",
       "      <th>95</th>\n",
       "      <td>ADIDAS Originals</td>\n",
       "      <td>Men ZX 22 BOOST Sneakers</td>\n",
       "      <td>Rs. 8399Rs. 11999(30% OFF)</td>\n",
       "    </tr>\n",
       "    <tr>\n",
       "      <th>96</th>\n",
       "      <td>Xtep</td>\n",
       "      <td>Men Basketball Shoes</td>\n",
       "      <td>Rs. 7199Rs. 7999(10% OFF)</td>\n",
       "    </tr>\n",
       "    <tr>\n",
       "      <th>97</th>\n",
       "      <td>Saint G</td>\n",
       "      <td>Block Heeled Boots</td>\n",
       "      <td>Rs. 7560Rs. 8400(10% OFF)</td>\n",
       "    </tr>\n",
       "    <tr>\n",
       "      <th>98</th>\n",
       "      <td>Nike</td>\n",
       "      <td>Men Jordan Delta 3 Basketball</td>\n",
       "      <td>Rs. 11515Rs. 12795(10% OFF)</td>\n",
       "    </tr>\n",
       "    <tr>\n",
       "      <th>99</th>\n",
       "      <td>Puma</td>\n",
       "      <td>Fusion Evo Extra Wide Golf Shoes</td>\n",
       "      <td>Rs. 7649Rs. 8999(15% OFF)</td>\n",
       "    </tr>\n",
       "  </tbody>\n",
       "</table>\n",
       "<p>100 rows × 3 columns</p>\n",
       "</div>"
      ],
      "text/plain": [
       "               Brand                 Shoes Description  \\\n",
       "0    PUMA Motorsport       Unisex MAPF1 Drift Sneakers   \n",
       "1               Puma      Eternity Nitro Running Shoes   \n",
       "2               Nike           JORDAN MAX AURA 4 Shoes   \n",
       "3             ADIDAS       Men Runner Fl Running Shoes   \n",
       "4               Nike       Men Vomero 16 Running Shoes   \n",
       "..               ...                               ...   \n",
       "95  ADIDAS Originals          Men ZX 22 BOOST Sneakers   \n",
       "96              Xtep              Men Basketball Shoes   \n",
       "97           Saint G                Block Heeled Boots   \n",
       "98              Nike     Men Jordan Delta 3 Basketball   \n",
       "99              Puma  Fusion Evo Extra Wide Golf Shoes   \n",
       "\n",
       "                          Price  \n",
       "0     Rs. 7199Rs. 8999(20% OFF)  \n",
       "1   Rs. 11049Rs. 12999(15% OFF)  \n",
       "2   Rs. 10165Rs. 11295(10% OFF)  \n",
       "3   Rs. 12749Rs. 14999(15% OFF)  \n",
       "4   Rs. 12145Rs. 13495(10% OFF)  \n",
       "..                          ...  \n",
       "95   Rs. 8399Rs. 11999(30% OFF)  \n",
       "96    Rs. 7199Rs. 7999(10% OFF)  \n",
       "97    Rs. 7560Rs. 8400(10% OFF)  \n",
       "98  Rs. 11515Rs. 12795(10% OFF)  \n",
       "99    Rs. 7649Rs. 8999(15% OFF)  \n",
       "\n",
       "[100 rows x 3 columns]"
      ]
     },
     "execution_count": 116,
     "metadata": {},
     "output_type": "execute_result"
    }
   ],
   "source": [
    "# create data frame\n",
    "df = pd.DataFrame({'Brand':brand_index,'Shoes Description':shoes_dec_index,'Price':price_index})\n",
    "df"
   ]
  },
  {
   "cell_type": "code",
   "execution_count": 117,
   "id": "dfcb0d90",
   "metadata": {},
   "outputs": [],
   "source": [
    "driver.close()"
   ]
  },
  {
   "cell_type": "markdown",
   "id": "3e64b3f7",
   "metadata": {},
   "source": [
    "###  Q8: Go to webpage https://www.amazon.in/\n",
    "### Enter “Laptop” in the search field and then click the search icon.\n",
    "### Then set CPU Type filter to “Intel Core i7” as shown in the below image:\n",
    "### After setting the filters scrape first 10 laptops data. You have to scrape 3 attributesfor each laptop:\n",
    "###  1. Title\n",
    "###  2. Ratings\n",
    "###  3. Price"
   ]
  },
  {
   "cell_type": "code",
   "execution_count": 67,
   "id": "1d323751",
   "metadata": {},
   "outputs": [],
   "source": [
    "# Let's import all necessary libraries\n",
    "import selenium\n",
    "from selenium import webdriver\n",
    "import pandas as pd\n",
    "from selenium.webdriver.common.by import By\n",
    "import warnings\n",
    "warnings.filterwarnings('ignore')\n",
    "import time\n",
    "import traceback"
   ]
  },
  {
   "cell_type": "code",
   "execution_count": 68,
   "id": "250241a7",
   "metadata": {},
   "outputs": [],
   "source": [
    "# first connect to web driver\n",
    "driver = webdriver.Chrome('chromedriver.exe')\n",
    "# opening up amazon website on automated chrome window\n",
    "url = driver.get('https://www.amazon.in/')\n",
    "# let's maximize the window\n",
    "driver.maximize_window()"
   ]
  },
  {
   "cell_type": "code",
   "execution_count": 69,
   "id": "0e956618",
   "metadata": {},
   "outputs": [],
   "source": [
    "# find the web element for searching laptop\n",
    "search_laptop = driver.find_element(By.XPATH,'/html/body/div[1]/header/div/div[1]/div[2]/div/form/div[2]/div[1]/input')\n",
    "search_laptop.send_keys('Laptop')\n",
    "#find web element for search button\n",
    "search_btn = driver.find_element(By.XPATH,'/html/body/div[1]/header/div/div[1]/div[2]/div/form/div[3]/div/span/input')\n",
    "search_btn.click()"
   ]
  },
  {
   "cell_type": "code",
   "execution_count": 70,
   "id": "18824815",
   "metadata": {},
   "outputs": [],
   "source": [
    "# set CPU type filter to 'intel Core i7'\n",
    "cpu_filter = driver.find_element(By.XPATH,'/html/body/div[1]/div[2]/div[1]/div[2]/div/div[3]/span/div[1]/div/div/div[6]/ul[5]/li[12]')\n",
    "cpu_filter.click()"
   ]
  },
  {
   "cell_type": "code",
   "execution_count": 71,
   "id": "94f84d7a",
   "metadata": {},
   "outputs": [
    {
     "name": "stdout",
     "output_type": "stream",
     "text": [
      "10 10 10\n"
     ]
    }
   ],
   "source": [
    "# let's find all web elements having title,rating,price\n",
    "title = []\n",
    "rating= []\n",
    "price = []\n",
    "# extracting title using relative xpath\n",
    "title_tag = driver.find_elements(By.XPATH,'//a[@class=\"a-link-normal s-underline-text s-underline-link-text s-link-style a-text-normal\"]')\n",
    "for t in title_tag[0:10]:\n",
    "    title.append(t.text)\n",
    "# extracting rating using relative xpath\n",
    "try:\n",
    "    \n",
    "    rating_tag = driver.find_elements(By.CSS_SELECTOR,'span.a-icon-alt')\n",
    "    for r in rating_tag[0:10]:\n",
    "        rating.append(r.text)\n",
    "except:\n",
    "    print(traceback.format_exc())\n",
    "# extracting price using relative xpath\n",
    "price_tag = driver.find_elements(By.XPATH,'//span[@class=\"a-price-whole\"]')\n",
    "for p in price_tag[0:10]:\n",
    "    price.append(p.text)\n",
    "print(len(title),len(rating),len(price))  "
   ]
  },
  {
   "cell_type": "code",
   "execution_count": 72,
   "id": "dc9d3386",
   "metadata": {},
   "outputs": [
    {
     "data": {
      "text/html": [
       "<div>\n",
       "<style scoped>\n",
       "    .dataframe tbody tr th:only-of-type {\n",
       "        vertical-align: middle;\n",
       "    }\n",
       "\n",
       "    .dataframe tbody tr th {\n",
       "        vertical-align: top;\n",
       "    }\n",
       "\n",
       "    .dataframe thead th {\n",
       "        text-align: right;\n",
       "    }\n",
       "</style>\n",
       "<table border=\"1\" class=\"dataframe\">\n",
       "  <thead>\n",
       "    <tr style=\"text-align: right;\">\n",
       "      <th></th>\n",
       "      <th>Title</th>\n",
       "      <th>Rating</th>\n",
       "      <th>Price</th>\n",
       "    </tr>\n",
       "  </thead>\n",
       "  <tbody>\n",
       "    <tr>\n",
       "      <th>0</th>\n",
       "      <td>Samsung Galaxy Book2 360 Intel 12th Gen i7 Evo...</td>\n",
       "      <td></td>\n",
       "      <td>97,990</td>\n",
       "    </tr>\n",
       "    <tr>\n",
       "      <th>1</th>\n",
       "      <td>Samsung Galaxy Book2 Pro Intel 12th Gen i7 Evo...</td>\n",
       "      <td></td>\n",
       "      <td>1,03,490</td>\n",
       "    </tr>\n",
       "    <tr>\n",
       "      <th>2</th>\n",
       "      <td>Lenovo IdeaPad Slim 5 12th Gen Intel Core i7 1...</td>\n",
       "      <td></td>\n",
       "      <td>83,990</td>\n",
       "    </tr>\n",
       "    <tr>\n",
       "      <th>3</th>\n",
       "      <td>HP Pavilion x360 11th Gen Intel Core i7 14 inc...</td>\n",
       "      <td></td>\n",
       "      <td>80,490</td>\n",
       "    </tr>\n",
       "    <tr>\n",
       "      <th>4</th>\n",
       "      <td>Lenovo ThinkBook 15 Intel 11th Gen Core i7 15....</td>\n",
       "      <td></td>\n",
       "      <td>77,990</td>\n",
       "    </tr>\n",
       "    <tr>\n",
       "      <th>5</th>\n",
       "      <td>Acer Nitro 5 Gaming Laptop/12th Gen Intel Core...</td>\n",
       "      <td></td>\n",
       "      <td>1,04,819</td>\n",
       "    </tr>\n",
       "    <tr>\n",
       "      <th>6</th>\n",
       "      <td>ASUS Vivobook 15, 15.6-inch (39.62 cms) FHD, I...</td>\n",
       "      <td></td>\n",
       "      <td>81,490</td>\n",
       "    </tr>\n",
       "    <tr>\n",
       "      <th>7</th>\n",
       "      <td>Fujitsu UH-X 11th Gen Intel Core i7 13.3” FHD ...</td>\n",
       "      <td></td>\n",
       "      <td>97,990</td>\n",
       "    </tr>\n",
       "    <tr>\n",
       "      <th>8</th>\n",
       "      <td>Samsung Galaxy Book2 360 Intel 12th Gen i7 Evo...</td>\n",
       "      <td></td>\n",
       "      <td>93,999</td>\n",
       "    </tr>\n",
       "    <tr>\n",
       "      <th>9</th>\n",
       "      <td>Dell Inspiron 5320 Laptop, i7-1260P, 16GB LPDD...</td>\n",
       "      <td></td>\n",
       "      <td>45,990</td>\n",
       "    </tr>\n",
       "  </tbody>\n",
       "</table>\n",
       "</div>"
      ],
      "text/plain": [
       "                                               Title Rating     Price\n",
       "0  Samsung Galaxy Book2 360 Intel 12th Gen i7 Evo...           97,990\n",
       "1  Samsung Galaxy Book2 Pro Intel 12th Gen i7 Evo...         1,03,490\n",
       "2  Lenovo IdeaPad Slim 5 12th Gen Intel Core i7 1...           83,990\n",
       "3  HP Pavilion x360 11th Gen Intel Core i7 14 inc...           80,490\n",
       "4  Lenovo ThinkBook 15 Intel 11th Gen Core i7 15....           77,990\n",
       "5  Acer Nitro 5 Gaming Laptop/12th Gen Intel Core...         1,04,819\n",
       "6  ASUS Vivobook 15, 15.6-inch (39.62 cms) FHD, I...           81,490\n",
       "7  Fujitsu UH-X 11th Gen Intel Core i7 13.3” FHD ...           97,990\n",
       "8  Samsung Galaxy Book2 360 Intel 12th Gen i7 Evo...           93,999\n",
       "9  Dell Inspiron 5320 Laptop, i7-1260P, 16GB LPDD...           45,990"
      ]
     },
     "execution_count": 72,
     "metadata": {},
     "output_type": "execute_result"
    }
   ],
   "source": [
    "# create data frame\n",
    "df = pd.DataFrame({'Title':title,'Rating':rating,'Price':price})\n",
    "df\n"
   ]
  },
  {
   "cell_type": "code",
   "execution_count": 1,
   "id": "b517a80b",
   "metadata": {},
   "outputs": [],
   "source": [
    " # as per discussion to SME ,i am skipping the rating part               "
   ]
  },
  {
   "cell_type": "code",
   "execution_count": 151,
   "id": "cac46fa6",
   "metadata": {},
   "outputs": [],
   "source": [
    "driver.close()"
   ]
  },
  {
   "cell_type": "markdown",
   "id": "870ee1c4",
   "metadata": {},
   "source": [
    "### Q9: Write a python program to scrape data for Top 1000 Quotes of All Time.\n",
    "### The above task will be done in following steps:\n",
    "### 1.First get the webpage https://www.azquotes.com/\n",
    "### 2. Click on Top Quotes\n",
    "### 3. Than scrap a) Quote b) Author c) Type Of Quote"
   ]
  },
  {
   "cell_type": "code",
   "execution_count": 154,
   "id": "3629694e",
   "metadata": {},
   "outputs": [],
   "source": [
    "# first connect to web driver\n",
    "driver = webdriver.Chrome('chromedriver.exe')\n",
    "# opening up amazon website on automated chrome window\n",
    "url = driver.get('https://www.azquotes.com/')\n",
    "# let's maximize the window\n",
    "driver.maximize_window()"
   ]
  },
  {
   "cell_type": "code",
   "execution_count": 155,
   "id": "0a63b10a",
   "metadata": {},
   "outputs": [],
   "source": [
    "# click on top quotes\n",
    "top_quotes = driver.find_element(By.XPATH,'/html/body/div[1]/div[1]/div[1]/div/div[3]/ul/li[5]/a')\n",
    "top_quotes.click()"
   ]
  },
  {
   "cell_type": "code",
   "execution_count": 157,
   "id": "35d763b1",
   "metadata": {},
   "outputs": [
    {
     "name": "stdout",
     "output_type": "stream",
     "text": [
      "1000 1000 1000\n"
     ]
    }
   ],
   "source": [
    "# scrap quote,author,type of quote\n",
    "quote = []\n",
    "author= []\n",
    "typ = []\n",
    "for page in range(1,11,1):\n",
    "    \n",
    "# extracting quote using relative xpath\n",
    "    quote_tag = driver.find_elements(By.XPATH,'//a[@class=\"title\"]')\n",
    "    for t in quote_tag:\n",
    "        quote.append(t.text)\n",
    "# extracting author using relative xpath    \n",
    "    author_tag = driver.find_elements(By.XPATH,'//div[@class=\"author\"]//a')\n",
    "    for r in author_tag:\n",
    "        author.append(r.text)\n",
    "# extracting typeof quote using relative xpath\n",
    "    typ_tag = driver.find_elements(By.XPATH,'//div[@class=\"tags\"]')\n",
    "    for p in typ_tag:\n",
    "        typ.append(p.text)\n",
    "next_btn = driver.find_element(By.XPATH,'/html/body/div[1]/div[2]/div/div/div/div[1]/div/div[3]/li[12]/a')\n",
    "next_btn.click()\n",
    "print(len(quote),len(author),len(typ))    "
   ]
  },
  {
   "cell_type": "code",
   "execution_count": 158,
   "id": "d0fa98dd",
   "metadata": {},
   "outputs": [
    {
     "data": {
      "text/html": [
       "<div>\n",
       "<style scoped>\n",
       "    .dataframe tbody tr th:only-of-type {\n",
       "        vertical-align: middle;\n",
       "    }\n",
       "\n",
       "    .dataframe tbody tr th {\n",
       "        vertical-align: top;\n",
       "    }\n",
       "\n",
       "    .dataframe thead th {\n",
       "        text-align: right;\n",
       "    }\n",
       "</style>\n",
       "<table border=\"1\" class=\"dataframe\">\n",
       "  <thead>\n",
       "    <tr style=\"text-align: right;\">\n",
       "      <th></th>\n",
       "      <th>Quote</th>\n",
       "      <th>Author</th>\n",
       "      <th>Type of Quote</th>\n",
       "    </tr>\n",
       "  </thead>\n",
       "  <tbody>\n",
       "    <tr>\n",
       "      <th>0</th>\n",
       "      <td>The essence of strategy is choosing what not t...</td>\n",
       "      <td>Michael Porter</td>\n",
       "      <td>Essence, Deep Thought, Transcendentalism</td>\n",
       "    </tr>\n",
       "    <tr>\n",
       "      <th>1</th>\n",
       "      <td>One cannot and must not try to erase the past ...</td>\n",
       "      <td>Golda Meir</td>\n",
       "      <td>Inspiration, Past, Trying</td>\n",
       "    </tr>\n",
       "    <tr>\n",
       "      <th>2</th>\n",
       "      <td>Patriotism means to stand by the country. It d...</td>\n",
       "      <td>Theodore Roosevelt</td>\n",
       "      <td>Country, Peace, War</td>\n",
       "    </tr>\n",
       "    <tr>\n",
       "      <th>3</th>\n",
       "      <td>Death is something inevitable. When a man has ...</td>\n",
       "      <td>Nelson Mandela</td>\n",
       "      <td>Inspirational, Motivational, Death</td>\n",
       "    </tr>\n",
       "    <tr>\n",
       "      <th>4</th>\n",
       "      <td>You have to love a nation that celebrates its ...</td>\n",
       "      <td>Erma Bombeck</td>\n",
       "      <td>4th Of July, Food, Patriotic</td>\n",
       "    </tr>\n",
       "    <tr>\n",
       "      <th>...</th>\n",
       "      <td>...</td>\n",
       "      <td>...</td>\n",
       "      <td>...</td>\n",
       "    </tr>\n",
       "    <tr>\n",
       "      <th>995</th>\n",
       "      <td>When the going gets weird, the weird turn pro.</td>\n",
       "      <td>Hunter S. Thompson</td>\n",
       "      <td>Music, Sports, Hunting</td>\n",
       "    </tr>\n",
       "    <tr>\n",
       "      <th>996</th>\n",
       "      <td>When a train goes through a tunnel and it gets...</td>\n",
       "      <td>Corrie Ten Boom</td>\n",
       "      <td>Trust, Encouraging, Uplifting</td>\n",
       "    </tr>\n",
       "    <tr>\n",
       "      <th>997</th>\n",
       "      <td>God doesn't require us to succeed, he only req...</td>\n",
       "      <td>Mother Teresa</td>\n",
       "      <td>Success, God, Mother</td>\n",
       "    </tr>\n",
       "    <tr>\n",
       "      <th>998</th>\n",
       "      <td>If you think you are too small to make a diffe...</td>\n",
       "      <td>Dalai Lama</td>\n",
       "      <td>Inspirational, Funny, Change</td>\n",
       "    </tr>\n",
       "    <tr>\n",
       "      <th>999</th>\n",
       "      <td>Change your thoughts and you change your world.</td>\n",
       "      <td>Norman Vincent Peale</td>\n",
       "      <td>Inspirational, Motivational, Change</td>\n",
       "    </tr>\n",
       "  </tbody>\n",
       "</table>\n",
       "<p>1000 rows × 3 columns</p>\n",
       "</div>"
      ],
      "text/plain": [
       "                                                 Quote                Author  \\\n",
       "0    The essence of strategy is choosing what not t...        Michael Porter   \n",
       "1    One cannot and must not try to erase the past ...            Golda Meir   \n",
       "2    Patriotism means to stand by the country. It d...    Theodore Roosevelt   \n",
       "3    Death is something inevitable. When a man has ...        Nelson Mandela   \n",
       "4    You have to love a nation that celebrates its ...          Erma Bombeck   \n",
       "..                                                 ...                   ...   \n",
       "995     When the going gets weird, the weird turn pro.    Hunter S. Thompson   \n",
       "996  When a train goes through a tunnel and it gets...       Corrie Ten Boom   \n",
       "997  God doesn't require us to succeed, he only req...         Mother Teresa   \n",
       "998  If you think you are too small to make a diffe...            Dalai Lama   \n",
       "999    Change your thoughts and you change your world.  Norman Vincent Peale   \n",
       "\n",
       "                                Type of Quote  \n",
       "0    Essence, Deep Thought, Transcendentalism  \n",
       "1                   Inspiration, Past, Trying  \n",
       "2                         Country, Peace, War  \n",
       "3          Inspirational, Motivational, Death  \n",
       "4                4th Of July, Food, Patriotic  \n",
       "..                                        ...  \n",
       "995                    Music, Sports, Hunting  \n",
       "996             Trust, Encouraging, Uplifting  \n",
       "997                      Success, God, Mother  \n",
       "998              Inspirational, Funny, Change  \n",
       "999       Inspirational, Motivational, Change  \n",
       "\n",
       "[1000 rows x 3 columns]"
      ]
     },
     "execution_count": 158,
     "metadata": {},
     "output_type": "execute_result"
    }
   ],
   "source": [
    "df=pd.DataFrame({'Quote':quote,'Author':author,'Type of Quote':typ})\n",
    "df"
   ]
  },
  {
   "cell_type": "code",
   "execution_count": 159,
   "id": "7430ca8b",
   "metadata": {},
   "outputs": [],
   "source": [
    "driver.close()"
   ]
  },
  {
   "cell_type": "markdown",
   "id": "3504d73e",
   "metadata": {},
   "source": [
    "### Q10: Write s python program to display list of respected former Prime Ministers of India(i.e. Name, Born-Dead, Term of office, Remarks) from https://www.jagranjosh.com/.\n",
    "###  This task will be done in following steps:\n",
    "### 1. First get the webpage https://www.jagranjosh.com/\n",
    "###  2. Then You have to click on the GK option\n",
    "### 3. Then click on the List of all Prime Ministers of India\n",
    "### 4. Then scrap the mentioned data and make the DataFrame.\n",
    "\n"
   ]
  },
  {
   "cell_type": "code",
   "execution_count": 34,
   "id": "c9a4d4a2",
   "metadata": {},
   "outputs": [],
   "source": [
    "# first connect to web driver\n",
    "driver = webdriver.Chrome('chromedriver.exe')\n",
    "# opening up amazon website on automated chrome window\n",
    "url = driver.get('https://www.jagranjosh.com/')\n",
    "# let's maximize the window\n",
    "driver.maximize_window()"
   ]
  },
  {
   "cell_type": "code",
   "execution_count": 35,
   "id": "e4109af9",
   "metadata": {},
   "outputs": [],
   "source": [
    "# click on GK\n",
    "gk = driver.find_element(By.XPATH,'/html/body/div/div[1]/div/div[1]/div/div[6]/div/div[1]/header/div[3]/ul/li[9]/a')\n",
    "gk.click()"
   ]
  },
  {
   "cell_type": "code",
   "execution_count": 36,
   "id": "32fb5f65",
   "metadata": {},
   "outputs": [],
   "source": [
    "pm = driver.find_element(By.XPATH,'/html/body/div[1]/div/div/div[2]/div/div[10]/div/div/ul/li[2]/a')\n",
    "pm.click()\n"
   ]
  },
  {
   "cell_type": "code",
   "execution_count": 60,
   "id": "d448177d",
   "metadata": {},
   "outputs": [
    {
     "data": {
      "text/plain": [
       "['1.',\n",
       " 'Jawahar Lal Nehru',\n",
       " '(1889–1964)',\n",
       " '15 August 1947 to 27 May 1964',\n",
       " '16 years, 286 days',\n",
       " 'The first prime minister of India and the longest-serving PM of India, the first to die in office.',\n",
       " '2.',\n",
       " 'Gulzarilal Nanda (Acting)',\n",
       " '(1898-1998)',\n",
       " '27 May 1964 to 9 June 1964,',\n",
       " '13 days',\n",
       " 'First acting PM of India',\n",
       " '3.',\n",
       " 'Lal Bahadur Shastri',\n",
       " '(1904–1966)',\n",
       " '9 June 1964 to 11 January 1966',\n",
       " '1 year, 216 days',\n",
       " \"He has given the slogan of 'Jai Jawan Jai Kisan' during the Indo-Pak war of 1965\",\n",
       " '4. ',\n",
       " 'Gulzari Lal Nanda  (Acting)',\n",
       " '(1898-1998)',\n",
       " '11 January 1966 to 24 January 1966',\n",
       " '13 days',\n",
       " '-',\n",
       " '5.',\n",
       " 'Indira Gandhi',\n",
       " '(1917–1984)',\n",
       " '24 January 1966 to 24 March 1977',\n",
       " '11 years, 59 days',\n",
       " 'First female Prime Minister of India',\n",
       " '6.',\n",
       " 'Morarji Desai',\n",
       " '(1896–1995)',\n",
       " '24 March 1977 to  28 July 1979 ',\n",
       " '2 year, 126 days',\n",
       " 'Oldest to become PM (81 years old) and first to resign from office',\n",
       " '7.',\n",
       " 'Charan Singh',\n",
       " '(1902–1987)',\n",
       " '28 July 1979 to 14 January 1980',\n",
       " '170 days',\n",
       " 'Only PM who did not face the Parliament',\n",
       " '8.',\n",
       " 'Indira Gandhi',\n",
       " '(1917–1984)',\n",
       " '14 January 1980 to 31 October 1984',\n",
       " '4 years, 291 days',\n",
       " 'The first lady who served as PM for the second term',\n",
       " '9.',\n",
       " 'Rajiv Gandhi',\n",
       " '(1944–1991)',\n",
       " '31 October 1984 to 2 December 1989',\n",
       " '5 years, 32 days',\n",
       " 'Youngest to become PM (40 years old)',\n",
       " '10.',\n",
       " 'V. P. Singh',\n",
       " '(1931–2008)',\n",
       " '2 December 1989 to 10 November 1990',\n",
       " '343 days',\n",
       " 'First PM to step down after a vote of no confidence',\n",
       " '11.',\n",
       " 'Chandra Shekhar',\n",
       " '(1927–2007)',\n",
       " '10 November 1990 to 21 June 1991',\n",
       " '223 days',\n",
       " 'He belongs to  Samajwadi Janata Party',\n",
       " '12.',\n",
       " 'P. V. Narasimha Rao',\n",
       " '(1921–2004)',\n",
       " '21 June 1991 to 16 May 1996',\n",
       " '4 years, 330 days',\n",
       " 'First PM from south India',\n",
       " '13.',\n",
       " 'Atal Bihari Vajpayee',\n",
       " '(1924- 2018)',\n",
       " '16 May 1996 to 1 June 1996',\n",
       " '16 days',\n",
       " 'PM for shortest tenure',\n",
       " '14.',\n",
       " 'H. D. Deve Gowda',\n",
       " '(born 1933)',\n",
       " '1 June 1996 to 21 April 1997',\n",
       " '324 days',\n",
       " 'He belongs to  Janata Dal',\n",
       " '15.',\n",
       " 'Inder Kumar Gujral',\n",
       " '(1919–2012)',\n",
       " '21 April 1997 to 19 March 1998 ',\n",
       " '332 days',\n",
       " '------',\n",
       " '16.',\n",
       " 'Atal Bihari Vajpayee',\n",
       " '(1924-2018)',\n",
       " '19 March 1998 to 22 May 2004 ',\n",
       " '6 years, 64 days',\n",
       " ' The first non-congress PM who completed a full term as PM',\n",
       " '17.',\n",
       " 'Manmohan Singh',\n",
       " '(born 1932)',\n",
       " '22 May 2004 to 26 May 2014   ',\n",
       " '10 years, 4 days',\n",
       " ' First Sikh PM',\n",
       " '18.',\n",
       " 'Narendra Modi',\n",
       " '(born 1950)',\n",
       " '26 May 2014 - Present',\n",
       " '4th Prime Minister of India who served two consecutive tenures']"
      ]
     },
     "execution_count": 60,
     "metadata": {},
     "output_type": "execute_result"
    }
   ],
   "source": [
    "# scrap the data\n",
    "list_of_all_prime_ministers = []\n",
    "list_tag= driver.find_elements(By.XPATH,'//div[@class=\"ls-row body-fx\"]//td//p')\n",
    "for i in list_tag:\n",
    "    list_of_all_prime_ministers.append(i.text)\n",
    "list_of_all_prime_ministers    "
   ]
  },
  {
   "cell_type": "code",
   "execution_count": 49,
   "id": "ee6f4fc9",
   "metadata": {},
   "outputs": [
    {
     "data": {
      "text/plain": [
       "['(1889–1964)',\n",
       " '(1898-1998)',\n",
       " '(1904–1966)',\n",
       " '(1898-1998)',\n",
       " '(1917–1984)',\n",
       " '(1896–1995)',\n",
       " '(1902–1987)',\n",
       " '(1917–1984)',\n",
       " '(1944–1991)',\n",
       " '(1931–2008)',\n",
       " '(1927–2007)',\n",
       " '(1921–2004)',\n",
       " '(1924- 2018)',\n",
       " '(born 1933)',\n",
       " '(1919–2012)',\n",
       " '(1924-2018)',\n",
       " '(born 1932)',\n",
       " '(born 1950)']"
      ]
     },
     "execution_count": 49,
     "metadata": {},
     "output_type": "execute_result"
    }
   ],
   "source": [
    "born_dead = list[2:106:6]\n",
    "born_dead\n"
   ]
  },
  {
   "cell_type": "code",
   "execution_count": 50,
   "id": "60b1d383",
   "metadata": {},
   "outputs": [
    {
     "data": {
      "text/plain": [
       "['Jawahar Lal Nehru',\n",
       " 'Gulzarilal Nanda (Acting)',\n",
       " 'Lal Bahadur Shastri',\n",
       " 'Gulzari Lal Nanda  (Acting)',\n",
       " 'Indira Gandhi',\n",
       " 'Morarji Desai',\n",
       " 'Charan Singh',\n",
       " 'Indira Gandhi',\n",
       " 'Rajiv Gandhi',\n",
       " 'V. P. Singh',\n",
       " 'Chandra Shekhar',\n",
       " 'P. V. Narasimha Rao',\n",
       " 'Atal Bihari Vajpayee',\n",
       " 'H. D. Deve Gowda',\n",
       " 'Inder Kumar Gujral',\n",
       " 'Atal Bihari Vajpayee',\n",
       " 'Manmohan Singh',\n",
       " 'Narendra Modi']"
      ]
     },
     "execution_count": 50,
     "metadata": {},
     "output_type": "execute_result"
    }
   ],
   "source": [
    "names = list[1:106:6]\n",
    "names"
   ]
  },
  {
   "cell_type": "code",
   "execution_count": 51,
   "id": "0bdcf5fe",
   "metadata": {},
   "outputs": [
    {
     "data": {
      "text/plain": [
       "['15 August 1947 to 27 May 1964',\n",
       " '27 May 1964 to 9 June 1964,',\n",
       " '9 June 1964 to 11 January 1966',\n",
       " '11 January 1966 to 24 January 1966',\n",
       " '24 January 1966 to 24 March 1977',\n",
       " '24 March 1977 to  28 July 1979 ',\n",
       " '28 July 1979 to 14 January 1980',\n",
       " '14 January 1980 to 31 October 1984',\n",
       " '31 October 1984 to 2 December 1989',\n",
       " '2 December 1989 to 10 November 1990',\n",
       " '10 November 1990 to 21 June 1991',\n",
       " '21 June 1991 to 16 May 1996',\n",
       " '16 May 1996 to 1 June 1996',\n",
       " '1 June 1996 to 21 April 1997',\n",
       " '21 April 1997 to 19 March 1998 ',\n",
       " '19 March 1998 to 22 May 2004 ',\n",
       " '22 May 2004 to 26 May 2014   ',\n",
       " '26 May 2014 - Present']"
      ]
     },
     "execution_count": 51,
     "metadata": {},
     "output_type": "execute_result"
    }
   ],
   "source": [
    "terms_of_office=list[3:106:6]\n",
    "terms_of_office"
   ]
  },
  {
   "cell_type": "code",
   "execution_count": 58,
   "id": "d5fad01b",
   "metadata": {},
   "outputs": [
    {
     "data": {
      "text/plain": [
       "['The first prime minister of India and the longest-serving PM of India, the first to die in office.',\n",
       " 'First acting PM of India',\n",
       " \"He has given the slogan of 'Jai Jawan Jai Kisan' during the Indo-Pak war of 1965\",\n",
       " '-',\n",
       " 'First female Prime Minister of India',\n",
       " 'Oldest to become PM (81 years old) and first to resign from office',\n",
       " 'Only PM who did not face the Parliament',\n",
       " 'The first lady who served as PM for the second term',\n",
       " 'Youngest to become PM (40 years old)',\n",
       " 'First PM to step down after a vote of no confidence',\n",
       " 'He belongs to  Samajwadi Janata Party',\n",
       " 'First PM from south India',\n",
       " 'PM for shortest tenure',\n",
       " 'He belongs to  Janata Dal',\n",
       " '------',\n",
       " ' The first non-congress PM who completed a full term as PM',\n",
       " ' First Sikh PM',\n",
       " '4th Prime Minister of India who served two consecutive tenures']"
      ]
     },
     "execution_count": 58,
     "metadata": {},
     "output_type": "execute_result"
    }
   ],
   "source": [
    "remarks =list[5:106:6]\n",
    "remarks.append( '4th Prime Minister of India who served two consecutive tenures')\n",
    "remarks"
   ]
  },
  {
   "cell_type": "code",
   "execution_count": 59,
   "id": "5fe8a624",
   "metadata": {},
   "outputs": [
    {
     "data": {
      "text/html": [
       "<div>\n",
       "<style scoped>\n",
       "    .dataframe tbody tr th:only-of-type {\n",
       "        vertical-align: middle;\n",
       "    }\n",
       "\n",
       "    .dataframe tbody tr th {\n",
       "        vertical-align: top;\n",
       "    }\n",
       "\n",
       "    .dataframe thead th {\n",
       "        text-align: right;\n",
       "    }\n",
       "</style>\n",
       "<table border=\"1\" class=\"dataframe\">\n",
       "  <thead>\n",
       "    <tr style=\"text-align: right;\">\n",
       "      <th></th>\n",
       "      <th>Name</th>\n",
       "      <th>Born-Dead</th>\n",
       "      <th>Terms Of Office</th>\n",
       "      <th>Remark</th>\n",
       "    </tr>\n",
       "  </thead>\n",
       "  <tbody>\n",
       "    <tr>\n",
       "      <th>0</th>\n",
       "      <td>Jawahar Lal Nehru</td>\n",
       "      <td>(1889–1964)</td>\n",
       "      <td>15 August 1947 to 27 May 1964</td>\n",
       "      <td>The first prime minister of India and the long...</td>\n",
       "    </tr>\n",
       "    <tr>\n",
       "      <th>1</th>\n",
       "      <td>Gulzarilal Nanda (Acting)</td>\n",
       "      <td>(1898-1998)</td>\n",
       "      <td>27 May 1964 to 9 June 1964,</td>\n",
       "      <td>First acting PM of India</td>\n",
       "    </tr>\n",
       "    <tr>\n",
       "      <th>2</th>\n",
       "      <td>Lal Bahadur Shastri</td>\n",
       "      <td>(1904–1966)</td>\n",
       "      <td>9 June 1964 to 11 January 1966</td>\n",
       "      <td>He has given the slogan of 'Jai Jawan Jai Kisa...</td>\n",
       "    </tr>\n",
       "    <tr>\n",
       "      <th>3</th>\n",
       "      <td>Gulzari Lal Nanda  (Acting)</td>\n",
       "      <td>(1898-1998)</td>\n",
       "      <td>11 January 1966 to 24 January 1966</td>\n",
       "      <td>-</td>\n",
       "    </tr>\n",
       "    <tr>\n",
       "      <th>4</th>\n",
       "      <td>Indira Gandhi</td>\n",
       "      <td>(1917–1984)</td>\n",
       "      <td>24 January 1966 to 24 March 1977</td>\n",
       "      <td>First female Prime Minister of India</td>\n",
       "    </tr>\n",
       "    <tr>\n",
       "      <th>5</th>\n",
       "      <td>Morarji Desai</td>\n",
       "      <td>(1896–1995)</td>\n",
       "      <td>24 March 1977 to  28 July 1979</td>\n",
       "      <td>Oldest to become PM (81 years old) and first t...</td>\n",
       "    </tr>\n",
       "    <tr>\n",
       "      <th>6</th>\n",
       "      <td>Charan Singh</td>\n",
       "      <td>(1902–1987)</td>\n",
       "      <td>28 July 1979 to 14 January 1980</td>\n",
       "      <td>Only PM who did not face the Parliament</td>\n",
       "    </tr>\n",
       "    <tr>\n",
       "      <th>7</th>\n",
       "      <td>Indira Gandhi</td>\n",
       "      <td>(1917–1984)</td>\n",
       "      <td>14 January 1980 to 31 October 1984</td>\n",
       "      <td>The first lady who served as PM for the second...</td>\n",
       "    </tr>\n",
       "    <tr>\n",
       "      <th>8</th>\n",
       "      <td>Rajiv Gandhi</td>\n",
       "      <td>(1944–1991)</td>\n",
       "      <td>31 October 1984 to 2 December 1989</td>\n",
       "      <td>Youngest to become PM (40 years old)</td>\n",
       "    </tr>\n",
       "    <tr>\n",
       "      <th>9</th>\n",
       "      <td>V. P. Singh</td>\n",
       "      <td>(1931–2008)</td>\n",
       "      <td>2 December 1989 to 10 November 1990</td>\n",
       "      <td>First PM to step down after a vote of no confi...</td>\n",
       "    </tr>\n",
       "    <tr>\n",
       "      <th>10</th>\n",
       "      <td>Chandra Shekhar</td>\n",
       "      <td>(1927–2007)</td>\n",
       "      <td>10 November 1990 to 21 June 1991</td>\n",
       "      <td>He belongs to  Samajwadi Janata Party</td>\n",
       "    </tr>\n",
       "    <tr>\n",
       "      <th>11</th>\n",
       "      <td>P. V. Narasimha Rao</td>\n",
       "      <td>(1921–2004)</td>\n",
       "      <td>21 June 1991 to 16 May 1996</td>\n",
       "      <td>First PM from south India</td>\n",
       "    </tr>\n",
       "    <tr>\n",
       "      <th>12</th>\n",
       "      <td>Atal Bihari Vajpayee</td>\n",
       "      <td>(1924- 2018)</td>\n",
       "      <td>16 May 1996 to 1 June 1996</td>\n",
       "      <td>PM for shortest tenure</td>\n",
       "    </tr>\n",
       "    <tr>\n",
       "      <th>13</th>\n",
       "      <td>H. D. Deve Gowda</td>\n",
       "      <td>(born 1933)</td>\n",
       "      <td>1 June 1996 to 21 April 1997</td>\n",
       "      <td>He belongs to  Janata Dal</td>\n",
       "    </tr>\n",
       "    <tr>\n",
       "      <th>14</th>\n",
       "      <td>Inder Kumar Gujral</td>\n",
       "      <td>(1919–2012)</td>\n",
       "      <td>21 April 1997 to 19 March 1998</td>\n",
       "      <td>------</td>\n",
       "    </tr>\n",
       "    <tr>\n",
       "      <th>15</th>\n",
       "      <td>Atal Bihari Vajpayee</td>\n",
       "      <td>(1924-2018)</td>\n",
       "      <td>19 March 1998 to 22 May 2004</td>\n",
       "      <td>The first non-congress PM who completed a ful...</td>\n",
       "    </tr>\n",
       "    <tr>\n",
       "      <th>16</th>\n",
       "      <td>Manmohan Singh</td>\n",
       "      <td>(born 1932)</td>\n",
       "      <td>22 May 2004 to 26 May 2014</td>\n",
       "      <td>First Sikh PM</td>\n",
       "    </tr>\n",
       "    <tr>\n",
       "      <th>17</th>\n",
       "      <td>Narendra Modi</td>\n",
       "      <td>(born 1950)</td>\n",
       "      <td>26 May 2014 - Present</td>\n",
       "      <td>4th Prime Minister of India who served two con...</td>\n",
       "    </tr>\n",
       "  </tbody>\n",
       "</table>\n",
       "</div>"
      ],
      "text/plain": [
       "                           Name     Born-Dead  \\\n",
       "0             Jawahar Lal Nehru   (1889–1964)   \n",
       "1     Gulzarilal Nanda (Acting)   (1898-1998)   \n",
       "2           Lal Bahadur Shastri   (1904–1966)   \n",
       "3   Gulzari Lal Nanda  (Acting)   (1898-1998)   \n",
       "4                 Indira Gandhi   (1917–1984)   \n",
       "5                 Morarji Desai   (1896–1995)   \n",
       "6                  Charan Singh   (1902–1987)   \n",
       "7                 Indira Gandhi   (1917–1984)   \n",
       "8                  Rajiv Gandhi   (1944–1991)   \n",
       "9                   V. P. Singh   (1931–2008)   \n",
       "10              Chandra Shekhar   (1927–2007)   \n",
       "11          P. V. Narasimha Rao   (1921–2004)   \n",
       "12         Atal Bihari Vajpayee  (1924- 2018)   \n",
       "13             H. D. Deve Gowda   (born 1933)   \n",
       "14           Inder Kumar Gujral   (1919–2012)   \n",
       "15         Atal Bihari Vajpayee   (1924-2018)   \n",
       "16               Manmohan Singh   (born 1932)   \n",
       "17                Narendra Modi   (born 1950)   \n",
       "\n",
       "                        Terms Of Office  \\\n",
       "0         15 August 1947 to 27 May 1964   \n",
       "1           27 May 1964 to 9 June 1964,   \n",
       "2        9 June 1964 to 11 January 1966   \n",
       "3    11 January 1966 to 24 January 1966   \n",
       "4      24 January 1966 to 24 March 1977   \n",
       "5       24 March 1977 to  28 July 1979    \n",
       "6       28 July 1979 to 14 January 1980   \n",
       "7    14 January 1980 to 31 October 1984   \n",
       "8    31 October 1984 to 2 December 1989   \n",
       "9   2 December 1989 to 10 November 1990   \n",
       "10     10 November 1990 to 21 June 1991   \n",
       "11          21 June 1991 to 16 May 1996   \n",
       "12           16 May 1996 to 1 June 1996   \n",
       "13         1 June 1996 to 21 April 1997   \n",
       "14      21 April 1997 to 19 March 1998    \n",
       "15        19 March 1998 to 22 May 2004    \n",
       "16        22 May 2004 to 26 May 2014      \n",
       "17                26 May 2014 - Present   \n",
       "\n",
       "                                               Remark  \n",
       "0   The first prime minister of India and the long...  \n",
       "1                            First acting PM of India  \n",
       "2   He has given the slogan of 'Jai Jawan Jai Kisa...  \n",
       "3                                                   -  \n",
       "4                First female Prime Minister of India  \n",
       "5   Oldest to become PM (81 years old) and first t...  \n",
       "6             Only PM who did not face the Parliament  \n",
       "7   The first lady who served as PM for the second...  \n",
       "8                Youngest to become PM (40 years old)  \n",
       "9   First PM to step down after a vote of no confi...  \n",
       "10              He belongs to  Samajwadi Janata Party  \n",
       "11                          First PM from south India  \n",
       "12                             PM for shortest tenure  \n",
       "13                          He belongs to  Janata Dal  \n",
       "14                                             ------  \n",
       "15   The first non-congress PM who completed a ful...  \n",
       "16                                      First Sikh PM  \n",
       "17  4th Prime Minister of India who served two con...  "
      ]
     },
     "execution_count": 59,
     "metadata": {},
     "output_type": "execute_result"
    }
   ],
   "source": [
    "df = pd.DataFrame({'Name':names,'Born-Dead':born_dead,'Terms Of Office':terms_of_office,'Remark':remarks})\n",
    "df"
   ]
  },
  {
   "cell_type": "code",
   "execution_count": 17,
   "id": "575ee344",
   "metadata": {},
   "outputs": [],
   "source": [
    "driver.close()"
   ]
  },
  {
   "cell_type": "markdown",
   "id": "256cff35",
   "metadata": {},
   "source": [
    "###  Q11: Write s python program to display list of 50 Most expensive cars in the world (i.e. Company name, Model name and Price) from https://www.motor1.com/\n",
    "###  This task will be done in following steps:\n",
    "###  1. First get the webpage https://www.motor1.com/\n",
    "###  2. Then You have to click on the List option from Dropdown menu on left side.\n",
    "###  3. Then click on 50 most expensive cars in the world..\n",
    "###  4. Then scrap the mentioned data and make the\n"
   ]
  },
  {
   "cell_type": "code",
   "execution_count": 64,
   "id": "c67439b9",
   "metadata": {},
   "outputs": [],
   "source": [
    "# first connect to web driver\n",
    "driver = webdriver.Chrome('chromedriver.exe')\n",
    "# opening up amazon website on automated chrome window\n",
    "url = driver.get('https://www.motor1.com/')\n",
    "# let's maximize the window\n",
    "driver.maximize_window()"
   ]
  },
  {
   "cell_type": "code",
   "execution_count": 65,
   "id": "cd35329e",
   "metadata": {},
   "outputs": [],
   "source": [
    "# click the main menu\n",
    "main_menu = driver.find_element(By.XPATH,'//div[@class=\"m1-hamburger-button\"]')\n",
    "main_menu.click()\n"
   ]
  },
  {
   "cell_type": "code",
   "execution_count": 66,
   "id": "7d3de6b4",
   "metadata": {},
   "outputs": [],
   "source": [
    "# then click the lists\n",
    "list = driver.find_element(By.XPATH,'/html/body/div[3]/div[1]/div[3]/ul/li[4]/a')\n",
    "list.click()"
   ]
  },
  {
   "cell_type": "code",
   "execution_count": 67,
   "id": "2a14d5c0",
   "metadata": {},
   "outputs": [],
   "source": [
    "# then click 50 most expensive cars\n",
    "cars = driver.find_element(By.XPATH,'/html/body/div[2]/div[9]/div[1]/div[1]/div/div/div[1]/div/div[1]/h3/a')\n",
    "cars.click()"
   ]
  },
  {
   "cell_type": "code",
   "execution_count": 68,
   "id": "09725fdb",
   "metadata": {},
   "outputs": [
    {
     "data": {
      "text/plain": [
       "['Drako GTE',\n",
       " 'De Tomaso P72',\n",
       " 'Ferrari LaFerrari',\n",
       " 'Pagani Huayra',\n",
       " 'McLaren Elva',\n",
       " 'Czinger 21C',\n",
       " 'Ferrari Monza',\n",
       " 'Gordon Murray T.33',\n",
       " 'Koenigsegg Gemera',\n",
       " 'Zenvo TSR-S',\n",
       " 'Hennessey Venom F5',\n",
       " 'Bentley Bacalar',\n",
       " 'Hispano Suiza Carmen Boulogne',\n",
       " 'Bentley Mulliner Batur',\n",
       " 'Deus Vayanne',\n",
       " 'SSC Tuatara',\n",
       " 'Lotus Evija',\n",
       " 'Aston Martin Vulcan',\n",
       " 'Delage D12',\n",
       " 'McLaren Speedtail',\n",
       " 'Rimac Nevera',\n",
       " 'Pagani Utopia',\n",
       " 'Pininfarina Battista',\n",
       " 'Ferrari FXX K Evo',\n",
       " 'Gordon Murray T.50',\n",
       " 'Lamborghini Countach',\n",
       " 'Mercedes-AMG Project One',\n",
       " 'Aston Martin Victor',\n",
       " 'Hennessey Venom F5 Roadster',\n",
       " 'Koenigsegg Jesko',\n",
       " 'Aston Martin Valkyrie',\n",
       " 'W Motors Lykan Hypersport',\n",
       " 'McLaren Solus',\n",
       " 'Pagani Huayra Roadster BC',\n",
       " 'Bugatti Chiron Pur Sport',\n",
       " 'Lamborghini Sian',\n",
       " 'Koenigsegg CC850',\n",
       " 'Bugatti Chiron Super Sport 300+',\n",
       " 'Lamborghini Veneno',\n",
       " 'Bugatti Bolide',\n",
       " 'Bugatti Mistral',\n",
       " 'Pagani Huayra Imola',\n",
       " 'Bugatti Divo',\n",
       " 'SP Automotive Chaos',\n",
       " 'Pagani Codalunga',\n",
       " 'Mercedes-Maybach Exelero',\n",
       " 'Bugatti Centodieci',\n",
       " 'Rolls-Royce Sweptail',\n",
       " 'Bugatti La Voiture Noire',\n",
       " 'Rolls-Royce Boat Tail*']"
      ]
     },
     "execution_count": 68,
     "metadata": {},
     "output_type": "execute_result"
    }
   ],
   "source": [
    "# let's find all web elements having company name,model name,price\n",
    "company_name = []\n",
    "#model_name =[]\n",
    "#price = []\n",
    "#extract the company name\n",
    "company_tag = driver.find_elements(By.XPATH,'//h3[@class=\"subheader\"]')\n",
    "for c in company_tag[0:50]:\n",
    "    company_name.append(c.text)\n",
    "company_name"
   ]
  },
  {
   "cell_type": "code",
   "execution_count": 76,
   "id": "2ce81b08",
   "metadata": {
    "scrolled": true
   },
   "outputs": [
    {
     "data": {
      "text/plain": [
       "['Price: $1.2 Million',\n",
       " 'Price: $1.3 Million',\n",
       " 'Price: $1.4 Million',\n",
       " 'Price: $1.4 Million',\n",
       " '',\n",
       " 'Price: $1.7 Million',\n",
       " 'Price: $1.7 Million',\n",
       " 'Price: $1.7 Million',\n",
       " 'Price: $1.7 Million',\n",
       " 'Price: $1.7 Million',\n",
       " 'Price: $1.7 Million',\n",
       " 'Price: $1.8 Million',\n",
       " 'Price: $1.9 Million',\n",
       " 'Price: $1.9 Million',\n",
       " 'Price: $2.0 Million',\n",
       " 'Price: $2.0 Million',\n",
       " 'Price: $2.0 Million*',\n",
       " 'Price: $2.1 Million',\n",
       " 'Price: $2.3 Million',\n",
       " 'Price: $2.3 Million',\n",
       " 'Price: $2.3 Million',\n",
       " 'Price: $2.4 Million',\n",
       " 'Price: $2.5 Million',\n",
       " 'Price: $2.5 Million',\n",
       " 'Price: $2.6 Million',\n",
       " 'Price: $2.6 Million',\n",
       " 'Price: $2.6 Million',\n",
       " 'Price: $2.7 Million',\n",
       " 'Price: $3.0 Million',\n",
       " '$3.0 Million',\n",
       " 'Price: $3.0 Million',\n",
       " 'Price: $3.2 Million',\n",
       " 'Price: $3.4 Million',\n",
       " '$3.5 Million',\n",
       " 'Price: $3.5 Million',\n",
       " 'Price: $3.6 Million',\n",
       " 'Price: $3.6 million',\n",
       " 'Price: $3.7 Million',\n",
       " 'Price: $3.9 Million',\n",
       " 'Price: $4.5 Million',\n",
       " 'Price: $4.7 Million',\n",
       " 'Price: $5.0 Million',\n",
       " 'Price: $5.4 Million',\n",
       " 'Price: $5.8 Million',\n",
       " 'Price: $6.4 Million',\n",
       " 'Price: $7.4 Million',\n",
       " 'Price: $8.0 Million',\n",
       " 'Price: $9.0 Million',\n",
       " 'Price: $12.8 Million',\n",
       " 'Price: $13.4 Million']"
      ]
     },
     "execution_count": 76,
     "metadata": {},
     "output_type": "execute_result"
    }
   ],
   "source": [
    "price = []\n",
    "price_tag = driver.find_elements(By.XPATH,'//div[@class=\"pre-center padding b-padding-skin pre-center-feature\"]//p//strong')\n",
    "for m in price_tag[0:50]:\n",
    "    price.append(m.text)\n",
    "price    \n"
   ]
  },
  {
   "cell_type": "code",
   "execution_count": 77,
   "id": "761d0595",
   "metadata": {},
   "outputs": [
    {
     "data": {
      "text/html": [
       "<div>\n",
       "<style scoped>\n",
       "    .dataframe tbody tr th:only-of-type {\n",
       "        vertical-align: middle;\n",
       "    }\n",
       "\n",
       "    .dataframe tbody tr th {\n",
       "        vertical-align: top;\n",
       "    }\n",
       "\n",
       "    .dataframe thead th {\n",
       "        text-align: right;\n",
       "    }\n",
       "</style>\n",
       "<table border=\"1\" class=\"dataframe\">\n",
       "  <thead>\n",
       "    <tr style=\"text-align: right;\">\n",
       "      <th></th>\n",
       "      <th>Cars and Comp. name</th>\n",
       "      <th>Price</th>\n",
       "    </tr>\n",
       "  </thead>\n",
       "  <tbody>\n",
       "    <tr>\n",
       "      <th>0</th>\n",
       "      <td>Drako GTE</td>\n",
       "      <td>Price: $1.2 Million</td>\n",
       "    </tr>\n",
       "    <tr>\n",
       "      <th>1</th>\n",
       "      <td>De Tomaso P72</td>\n",
       "      <td>Price: $1.3 Million</td>\n",
       "    </tr>\n",
       "    <tr>\n",
       "      <th>2</th>\n",
       "      <td>Ferrari LaFerrari</td>\n",
       "      <td>Price: $1.4 Million</td>\n",
       "    </tr>\n",
       "    <tr>\n",
       "      <th>3</th>\n",
       "      <td>Pagani Huayra</td>\n",
       "      <td>Price: $1.4 Million</td>\n",
       "    </tr>\n",
       "    <tr>\n",
       "      <th>4</th>\n",
       "      <td>McLaren Elva</td>\n",
       "      <td></td>\n",
       "    </tr>\n",
       "    <tr>\n",
       "      <th>5</th>\n",
       "      <td>Czinger 21C</td>\n",
       "      <td>Price: $1.7 Million</td>\n",
       "    </tr>\n",
       "    <tr>\n",
       "      <th>6</th>\n",
       "      <td>Ferrari Monza</td>\n",
       "      <td>Price: $1.7 Million</td>\n",
       "    </tr>\n",
       "    <tr>\n",
       "      <th>7</th>\n",
       "      <td>Gordon Murray T.33</td>\n",
       "      <td>Price: $1.7 Million</td>\n",
       "    </tr>\n",
       "    <tr>\n",
       "      <th>8</th>\n",
       "      <td>Koenigsegg Gemera</td>\n",
       "      <td>Price: $1.7 Million</td>\n",
       "    </tr>\n",
       "    <tr>\n",
       "      <th>9</th>\n",
       "      <td>Zenvo TSR-S</td>\n",
       "      <td>Price: $1.7 Million</td>\n",
       "    </tr>\n",
       "    <tr>\n",
       "      <th>10</th>\n",
       "      <td>Hennessey Venom F5</td>\n",
       "      <td>Price: $1.7 Million</td>\n",
       "    </tr>\n",
       "    <tr>\n",
       "      <th>11</th>\n",
       "      <td>Bentley Bacalar</td>\n",
       "      <td>Price: $1.8 Million</td>\n",
       "    </tr>\n",
       "    <tr>\n",
       "      <th>12</th>\n",
       "      <td>Hispano Suiza Carmen Boulogne</td>\n",
       "      <td>Price: $1.9 Million</td>\n",
       "    </tr>\n",
       "    <tr>\n",
       "      <th>13</th>\n",
       "      <td>Bentley Mulliner Batur</td>\n",
       "      <td>Price: $1.9 Million</td>\n",
       "    </tr>\n",
       "    <tr>\n",
       "      <th>14</th>\n",
       "      <td>Deus Vayanne</td>\n",
       "      <td>Price: $2.0 Million</td>\n",
       "    </tr>\n",
       "    <tr>\n",
       "      <th>15</th>\n",
       "      <td>SSC Tuatara</td>\n",
       "      <td>Price: $2.0 Million</td>\n",
       "    </tr>\n",
       "    <tr>\n",
       "      <th>16</th>\n",
       "      <td>Lotus Evija</td>\n",
       "      <td>Price: $2.0 Million*</td>\n",
       "    </tr>\n",
       "    <tr>\n",
       "      <th>17</th>\n",
       "      <td>Aston Martin Vulcan</td>\n",
       "      <td>Price: $2.1 Million</td>\n",
       "    </tr>\n",
       "    <tr>\n",
       "      <th>18</th>\n",
       "      <td>Delage D12</td>\n",
       "      <td>Price: $2.3 Million</td>\n",
       "    </tr>\n",
       "    <tr>\n",
       "      <th>19</th>\n",
       "      <td>McLaren Speedtail</td>\n",
       "      <td>Price: $2.3 Million</td>\n",
       "    </tr>\n",
       "    <tr>\n",
       "      <th>20</th>\n",
       "      <td>Rimac Nevera</td>\n",
       "      <td>Price: $2.3 Million</td>\n",
       "    </tr>\n",
       "    <tr>\n",
       "      <th>21</th>\n",
       "      <td>Pagani Utopia</td>\n",
       "      <td>Price: $2.4 Million</td>\n",
       "    </tr>\n",
       "    <tr>\n",
       "      <th>22</th>\n",
       "      <td>Pininfarina Battista</td>\n",
       "      <td>Price: $2.5 Million</td>\n",
       "    </tr>\n",
       "    <tr>\n",
       "      <th>23</th>\n",
       "      <td>Ferrari FXX K Evo</td>\n",
       "      <td>Price: $2.5 Million</td>\n",
       "    </tr>\n",
       "    <tr>\n",
       "      <th>24</th>\n",
       "      <td>Gordon Murray T.50</td>\n",
       "      <td>Price: $2.6 Million</td>\n",
       "    </tr>\n",
       "    <tr>\n",
       "      <th>25</th>\n",
       "      <td>Lamborghini Countach</td>\n",
       "      <td>Price: $2.6 Million</td>\n",
       "    </tr>\n",
       "    <tr>\n",
       "      <th>26</th>\n",
       "      <td>Mercedes-AMG Project One</td>\n",
       "      <td>Price: $2.6 Million</td>\n",
       "    </tr>\n",
       "    <tr>\n",
       "      <th>27</th>\n",
       "      <td>Aston Martin Victor</td>\n",
       "      <td>Price: $2.7 Million</td>\n",
       "    </tr>\n",
       "    <tr>\n",
       "      <th>28</th>\n",
       "      <td>Hennessey Venom F5 Roadster</td>\n",
       "      <td>Price: $3.0 Million</td>\n",
       "    </tr>\n",
       "    <tr>\n",
       "      <th>29</th>\n",
       "      <td>Koenigsegg Jesko</td>\n",
       "      <td>$3.0 Million</td>\n",
       "    </tr>\n",
       "    <tr>\n",
       "      <th>30</th>\n",
       "      <td>Aston Martin Valkyrie</td>\n",
       "      <td>Price: $3.0 Million</td>\n",
       "    </tr>\n",
       "    <tr>\n",
       "      <th>31</th>\n",
       "      <td>W Motors Lykan Hypersport</td>\n",
       "      <td>Price: $3.2 Million</td>\n",
       "    </tr>\n",
       "    <tr>\n",
       "      <th>32</th>\n",
       "      <td>McLaren Solus</td>\n",
       "      <td>Price: $3.4 Million</td>\n",
       "    </tr>\n",
       "    <tr>\n",
       "      <th>33</th>\n",
       "      <td>Pagani Huayra Roadster BC</td>\n",
       "      <td>$3.5 Million</td>\n",
       "    </tr>\n",
       "    <tr>\n",
       "      <th>34</th>\n",
       "      <td>Bugatti Chiron Pur Sport</td>\n",
       "      <td>Price: $3.5 Million</td>\n",
       "    </tr>\n",
       "    <tr>\n",
       "      <th>35</th>\n",
       "      <td>Lamborghini Sian</td>\n",
       "      <td>Price: $3.6 Million</td>\n",
       "    </tr>\n",
       "    <tr>\n",
       "      <th>36</th>\n",
       "      <td>Koenigsegg CC850</td>\n",
       "      <td>Price: $3.6 million</td>\n",
       "    </tr>\n",
       "    <tr>\n",
       "      <th>37</th>\n",
       "      <td>Bugatti Chiron Super Sport 300+</td>\n",
       "      <td>Price: $3.7 Million</td>\n",
       "    </tr>\n",
       "    <tr>\n",
       "      <th>38</th>\n",
       "      <td>Lamborghini Veneno</td>\n",
       "      <td>Price: $3.9 Million</td>\n",
       "    </tr>\n",
       "    <tr>\n",
       "      <th>39</th>\n",
       "      <td>Bugatti Bolide</td>\n",
       "      <td>Price: $4.5 Million</td>\n",
       "    </tr>\n",
       "    <tr>\n",
       "      <th>40</th>\n",
       "      <td>Bugatti Mistral</td>\n",
       "      <td>Price: $4.7 Million</td>\n",
       "    </tr>\n",
       "    <tr>\n",
       "      <th>41</th>\n",
       "      <td>Pagani Huayra Imola</td>\n",
       "      <td>Price: $5.0 Million</td>\n",
       "    </tr>\n",
       "    <tr>\n",
       "      <th>42</th>\n",
       "      <td>Bugatti Divo</td>\n",
       "      <td>Price: $5.4 Million</td>\n",
       "    </tr>\n",
       "    <tr>\n",
       "      <th>43</th>\n",
       "      <td>SP Automotive Chaos</td>\n",
       "      <td>Price: $5.8 Million</td>\n",
       "    </tr>\n",
       "    <tr>\n",
       "      <th>44</th>\n",
       "      <td>Pagani Codalunga</td>\n",
       "      <td>Price: $6.4 Million</td>\n",
       "    </tr>\n",
       "    <tr>\n",
       "      <th>45</th>\n",
       "      <td>Mercedes-Maybach Exelero</td>\n",
       "      <td>Price: $7.4 Million</td>\n",
       "    </tr>\n",
       "    <tr>\n",
       "      <th>46</th>\n",
       "      <td>Bugatti Centodieci</td>\n",
       "      <td>Price: $8.0 Million</td>\n",
       "    </tr>\n",
       "    <tr>\n",
       "      <th>47</th>\n",
       "      <td>Rolls-Royce Sweptail</td>\n",
       "      <td>Price: $9.0 Million</td>\n",
       "    </tr>\n",
       "    <tr>\n",
       "      <th>48</th>\n",
       "      <td>Bugatti La Voiture Noire</td>\n",
       "      <td>Price: $12.8 Million</td>\n",
       "    </tr>\n",
       "    <tr>\n",
       "      <th>49</th>\n",
       "      <td>Rolls-Royce Boat Tail*</td>\n",
       "      <td>Price: $13.4 Million</td>\n",
       "    </tr>\n",
       "  </tbody>\n",
       "</table>\n",
       "</div>"
      ],
      "text/plain": [
       "                Cars and Comp. name                 Price\n",
       "0                         Drako GTE   Price: $1.2 Million\n",
       "1                     De Tomaso P72   Price: $1.3 Million\n",
       "2                 Ferrari LaFerrari   Price: $1.4 Million\n",
       "3                     Pagani Huayra   Price: $1.4 Million\n",
       "4                      McLaren Elva                      \n",
       "5                       Czinger 21C   Price: $1.7 Million\n",
       "6                     Ferrari Monza   Price: $1.7 Million\n",
       "7                Gordon Murray T.33   Price: $1.7 Million\n",
       "8                 Koenigsegg Gemera   Price: $1.7 Million\n",
       "9                       Zenvo TSR-S   Price: $1.7 Million\n",
       "10               Hennessey Venom F5   Price: $1.7 Million\n",
       "11                  Bentley Bacalar   Price: $1.8 Million\n",
       "12    Hispano Suiza Carmen Boulogne   Price: $1.9 Million\n",
       "13           Bentley Mulliner Batur   Price: $1.9 Million\n",
       "14                     Deus Vayanne   Price: $2.0 Million\n",
       "15                      SSC Tuatara   Price: $2.0 Million\n",
       "16                      Lotus Evija  Price: $2.0 Million*\n",
       "17              Aston Martin Vulcan   Price: $2.1 Million\n",
       "18                       Delage D12   Price: $2.3 Million\n",
       "19                McLaren Speedtail   Price: $2.3 Million\n",
       "20                     Rimac Nevera   Price: $2.3 Million\n",
       "21                    Pagani Utopia   Price: $2.4 Million\n",
       "22             Pininfarina Battista   Price: $2.5 Million\n",
       "23                Ferrari FXX K Evo   Price: $2.5 Million\n",
       "24               Gordon Murray T.50   Price: $2.6 Million\n",
       "25             Lamborghini Countach   Price: $2.6 Million\n",
       "26         Mercedes-AMG Project One   Price: $2.6 Million\n",
       "27              Aston Martin Victor   Price: $2.7 Million\n",
       "28      Hennessey Venom F5 Roadster   Price: $3.0 Million\n",
       "29                 Koenigsegg Jesko          $3.0 Million\n",
       "30            Aston Martin Valkyrie   Price: $3.0 Million\n",
       "31        W Motors Lykan Hypersport   Price: $3.2 Million\n",
       "32                    McLaren Solus   Price: $3.4 Million\n",
       "33        Pagani Huayra Roadster BC          $3.5 Million\n",
       "34         Bugatti Chiron Pur Sport   Price: $3.5 Million\n",
       "35                 Lamborghini Sian   Price: $3.6 Million\n",
       "36                 Koenigsegg CC850   Price: $3.6 million\n",
       "37  Bugatti Chiron Super Sport 300+   Price: $3.7 Million\n",
       "38               Lamborghini Veneno   Price: $3.9 Million\n",
       "39                   Bugatti Bolide   Price: $4.5 Million\n",
       "40                  Bugatti Mistral   Price: $4.7 Million\n",
       "41              Pagani Huayra Imola   Price: $5.0 Million\n",
       "42                     Bugatti Divo   Price: $5.4 Million\n",
       "43              SP Automotive Chaos   Price: $5.8 Million\n",
       "44                 Pagani Codalunga   Price: $6.4 Million\n",
       "45         Mercedes-Maybach Exelero   Price: $7.4 Million\n",
       "46               Bugatti Centodieci   Price: $8.0 Million\n",
       "47             Rolls-Royce Sweptail   Price: $9.0 Million\n",
       "48         Bugatti La Voiture Noire  Price: $12.8 Million\n",
       "49           Rolls-Royce Boat Tail*  Price: $13.4 Million"
      ]
     },
     "execution_count": 77,
     "metadata": {},
     "output_type": "execute_result"
    }
   ],
   "source": [
    "df = pd.DataFrame({'Cars and Comp. name':company_name,'Price':price})\n",
    "df"
   ]
  },
  {
   "cell_type": "code",
   "execution_count": 78,
   "id": "7f17025f",
   "metadata": {},
   "outputs": [],
   "source": [
    "driver.close()"
   ]
  },
  {
   "cell_type": "code",
   "execution_count": null,
   "id": "38017a77",
   "metadata": {},
   "outputs": [],
   "source": []
  }
 ],
 "metadata": {
  "kernelspec": {
   "display_name": "Python 3 (ipykernel)",
   "language": "python",
   "name": "python3"
  },
  "language_info": {
   "codemirror_mode": {
    "name": "ipython",
    "version": 3
   },
   "file_extension": ".py",
   "mimetype": "text/x-python",
   "name": "python",
   "nbconvert_exporter": "python",
   "pygments_lexer": "ipython3",
   "version": "3.9.12"
  }
 },
 "nbformat": 4,
 "nbformat_minor": 5
}
