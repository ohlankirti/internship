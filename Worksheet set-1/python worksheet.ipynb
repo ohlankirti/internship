{
 "cells": [
  {
   "cell_type": "markdown",
   "id": "46fa0eba",
   "metadata": {},
   "source": [
    "# 11. Write a python program to find the factorial of a number"
   ]
  },
  {
   "cell_type": "code",
   "execution_count": 1,
   "id": "0726f7a1",
   "metadata": {},
   "outputs": [
    {
     "name": "stdout",
     "output_type": "stream",
     "text": [
      "enter a number:  6\n",
      "The factorial of 6 is 720\n"
     ]
    }
   ],
   "source": [
    "number = int(input(\"enter a number:  \"))\n",
    "factorial = 1\n",
    "if number > 0:\n",
    "    for i in range(1,number+1):\n",
    "        factorial = factorial*i\n",
    "    print(\"The factorial of\",number,\"is\",factorial)\n",
    "elif number == 0:\n",
    "    print(\"The factorial of 0 is 1\")\n",
    "else:\n",
    "    print(\"Sorry,factorial does not exist for negative numbers\")"
   ]
  },
  {
   "cell_type": "markdown",
   "id": "ad209919",
   "metadata": {},
   "source": [
    "# 12. Write a python program to find whether a number prime or composite"
   ]
  },
  {
   "cell_type": "code",
   "execution_count": 6,
   "id": "ed98589d",
   "metadata": {},
   "outputs": [
    {
     "name": "stdout",
     "output_type": "stream",
     "text": [
      "enter any number:  7\n",
      "7 is a prime number\n"
     ]
    }
   ],
   "source": [
    "num = int(input(\"enter any number:  \"))\n",
    "if num > 1:\n",
    "    for i in range(2,num):\n",
    "        if (num % i) == 0:\n",
    "            print(num,\"is not a prime number\")\n",
    "            break\n",
    "    else:\n",
    "        print(num,\"is a prime number\")\n",
    "elif num == (0 or 1):\n",
    "    print(num,\"is neither prime nor composite\")\n",
    "else:\n",
    "    print(num,\"is a composite number\")"
   ]
  },
  {
   "cell_type": "markdown",
   "id": "2fa2a923",
   "metadata": {},
   "source": [
    "# 13.Write a python program to find whether a given string is palindrome or not"
   ]
  },
  {
   "cell_type": "code",
   "execution_count": 9,
   "id": "9aa5987b",
   "metadata": {},
   "outputs": [
    {
     "name": "stdout",
     "output_type": "stream",
     "text": [
      "enter any string:  nitin\n",
      "This string is a palindrome\n"
     ]
    }
   ],
   "source": [
    "str = input(\"enter any string:  \")\n",
    "if str == (str[::-1]):\n",
    "    print(\"This string is a palindrome\")\n",
    "else:\n",
    "    print(\"This string is not palindrome\")"
   ]
  },
  {
   "cell_type": "markdown",
   "id": "fb17e8f5",
   "metadata": {},
   "source": [
    "# 14. Write a python program to get third side of right angled triangle from two given sides"
   ]
  },
  {
   "cell_type": "code",
   "execution_count": 12,
   "id": "8d3e89e0",
   "metadata": {},
   "outputs": [
    {
     "name": "stdout",
     "output_type": "stream",
     "text": [
      "length of side a is:  2.4\n",
      "length of side b is:  3.4\n",
      "The length of side c is 4.161730409336962\n"
     ]
    }
   ],
   "source": [
    "import math\n",
    "a = float(input(\"length of side a is:  \"))\n",
    "b = float(input(\"length of side b is:  \"))\n",
    "c= math.sqrt(a**2 + b**2)\n",
    "print(\"The length of side c is\",c)"
   ]
  },
  {
   "cell_type": "markdown",
   "id": "0592f1e0",
   "metadata": {},
   "source": [
    "# 15. Write a python program to print the frequency of each characters present in a given string"
   ]
  },
  {
   "cell_type": "code",
   "execution_count": 15,
   "id": "dde4c56f",
   "metadata": {},
   "outputs": [
    {
     "name": "stdout",
     "output_type": "stream",
     "text": [
      "enter any string:  ayaan\n",
      "Frequency of each character is:   {'a': 3, 'y': 1, 'n': 1}\n"
     ]
    }
   ],
   "source": [
    "from collections import Counter\n",
    "str = input(\"enter any string:  \")\n",
    "result = {}\n",
    "for i in str:\n",
    "    result[i]= result.get(i,0)+1\n",
    "print(\"Frequency of each character is:  \",result)    "
   ]
  },
  {
   "cell_type": "code",
   "execution_count": null,
   "id": "e58ba2c2",
   "metadata": {},
   "outputs": [],
   "source": []
  }
 ],
 "metadata": {
  "kernelspec": {
   "display_name": "Python 3 (ipykernel)",
   "language": "python",
   "name": "python3"
  },
  "language_info": {
   "codemirror_mode": {
    "name": "ipython",
    "version": 3
   },
   "file_extension": ".py",
   "mimetype": "text/x-python",
   "name": "python",
   "nbconvert_exporter": "python",
   "pygments_lexer": "ipython3",
   "version": "3.9.12"
  }
 },
 "nbformat": 4,
 "nbformat_minor": 5
}
